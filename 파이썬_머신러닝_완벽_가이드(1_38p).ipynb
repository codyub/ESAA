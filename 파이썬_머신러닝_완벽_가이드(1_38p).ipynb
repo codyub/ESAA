{
  "nbformat": 4,
  "nbformat_minor": 0,
  "metadata": {
    "colab": {
      "provenance": [],
      "collapsed_sections": [],
      "authorship_tag": "ABX9TyNU5IKDHXjKGP+d8UDhFxuq",
      "include_colab_link": true
    },
    "kernelspec": {
      "name": "python3",
      "display_name": "Python 3"
    },
    "language_info": {
      "name": "python"
    }
  },
  "cells": [
    {
      "cell_type": "markdown",
      "metadata": {
        "id": "view-in-github",
        "colab_type": "text"
      },
      "source": [
        "<a href=\"https://colab.research.google.com/github/codyub/ESAA_0905-Mon-_1/blob/main/%ED%8C%8C%EC%9D%B4%EC%8D%AC_%EB%A8%B8%EC%8B%A0%EB%9F%AC%EB%8B%9D_%EC%99%84%EB%B2%BD_%EA%B0%80%EC%9D%B4%EB%93%9C(1_38p).ipynb\" target=\"_parent\"><img src=\"https://colab.research.google.com/assets/colab-badge.svg\" alt=\"Open In Colab\"/></a>"
      ]
    },
    {
      "cell_type": "markdown",
      "source": [
        "파이썬 기반의 머신러닝과 생태계 이해"
      ],
      "metadata": {
        "id": "AjAK16OsRECr"
      }
    },
    {
      "cell_type": "markdown",
      "source": [
        "# **1.\t머신러닝의 개념**\n",
        "일반적으로 애플리케이션을 수정하지 않고도 데이터를 기반으로 패턴을 학습하고 결과를 예측하는 알고리즘 기법을 통칭. 머신러닝 알고리즘은 데이터를 기반으로 통계적인 신뢰도를 강화하고 예측 오류를 최소화하기 위한 다양한 수학적 기법을 적용해 데이터 내의 패턴을 스스로 인지하고 신뢰도 있는 예측 결과를 도출한다. \n"
      ],
      "metadata": {
        "id": "-gn5hCvqRHMx"
      }
    },
    {
      "cell_type": "markdown",
      "source": [
        "# **-\t머신러닝의 분류**\n",
        "1)\t지도학습: 예) 분류, 회귀, 추천시스템, 시각/음성 감지/인지, 텍스트 분석, NLP\n",
        "\n",
        "2)\t비지도학습: 예) 클러스터링, 차원축소, 강화학습 ->\t강화학습은 비지도 학습의 한 종류!\n",
        "\n",
        "-\t데이터 전쟁\n",
        "머신러닝에서 알고리즘보다는 데이터가 중요하다고 볼 수 있음. = 머신러닝의 단점(데이터에 매우 의존적임) = 좋은 품질의 데이터가 아니면 머신러닝의 수행 결과도 좋지 않다. \n",
        "좋은 모델을 위해서는 최적의 알고리즘 모델과 파라미터 구축 능력만이 아닌, 데이터를 이해하고 효율적으로 가공, 처리, 추출해 최적 데이터 기반으로 알고리즘을 구동할 수 있도록 준비해야 함. \n",
        "\n",
        "-\t파이썬과 R 기반의 머신러닝 비교\n",
        "R: 통계 전용 프로그램 언어\n",
        "Python: 개발 전문 프로그램 언어, 딥러닝 프레임 워크인 텐서플로, 케라스, 파이토치 등 지원. \n"
      ],
      "metadata": {
        "id": "9HQqISVCRHPX"
      }
    },
    {
      "cell_type": "markdown",
      "source": [
        "# **2.\t파이썬 머신러닝 생태계를 구성하는 주요 패키지**\n",
        "\n",
        "- 머신러닝 패키지: 데이터 마이닝 기반(**사이킷런**), 비정형데이터(**텐서플로, 케라스**) \n",
        "\n",
        "- 행렬/선형대수/통계 패키지: 머신러닝의 이론적인 백그라운드 역할, **선형대수(넘파이)**, **자연과학과 통계(사이파이)** -> 사이킷런의 기반이 됨\n",
        "\n",
        "- 데이터 핸들링: 대표적인 데이터 처리 패키지(판다스), 2차원 데이터 처리에 특화됨, **matplotlib **호출로 쉽게 시각화 가능\n",
        "\n",
        "- 시각화: matplotlib이 대표적 -> 보완: **seaborn(판다스와 쉬운 연동, 함축적인 api, 분석을 위한 다양한 그래프/차트 제공)**\n",
        "\n",
        "- 주피터 노트북: 대화형 파이썬 툴, 전체 프로그램에서 특정 코드 영역별로 개별 수행 지원, 영역별 코드 이해 명확\n",
        "\n",
        "-\t파이썬 머신러닝을 위한 S/W 설치\n"
      ],
      "metadata": {
        "id": "gf5_9_7_RHSz"
      }
    },
    {
      "cell_type": "markdown",
      "source": [
        "# **3.\t넘파이(13p)**\n",
        "Numerical python을 의미하며, 파이썬에서 선형대수 기반의 프로그램을 쉽게 만들 수 있도록 지원하는 대표적인 패키지. 많은 머신러닝 알고리즘이 넘파이 기반으로 작성됨.\n"
      ],
      "metadata": {
        "id": "B5lTamt_RHst"
      }
    },
    {
      "cell_type": "markdown",
      "source": [
        "# **-\t넘파이 ndarray 개요**"
      ],
      "metadata": {
        "id": "aq_c2boQRH2T"
      }
    },
    {
      "cell_type": "code",
      "source": [
        "import numpy as np"
      ],
      "metadata": {
        "id": "GH1q0OZ7RIVw"
      },
      "execution_count": null,
      "outputs": []
    },
    {
      "cell_type": "code",
      "source": [
        "array1 = np.array([1,2,3]) # ndarray 형태로 반환\n",
        "print(\"array1 type : \", type(array1))\n",
        "print(\"array1 shape : \", array1.shape) # 1차원이므로, (열,) 로 결과가 나옴"
      ],
      "metadata": {
        "colab": {
          "base_uri": "https://localhost:8080/"
        },
        "id": "c6PApCuyRuGg",
        "outputId": "d87deae9-b0a6-4a56-8f94-ea7493e312b3"
      },
      "execution_count": null,
      "outputs": [
        {
          "output_type": "stream",
          "name": "stdout",
          "text": [
            "array1 type :  <class 'numpy.ndarray'>\n",
            "array1 shape :  (3,)\n"
          ]
        }
      ]
    },
    {
      "cell_type": "code",
      "source": [
        "array2 = np.array([[1,2,3],[4,5,6]])\n",
        "print(array2 )\n",
        "print(\"array2 type : \", type(array2))\n",
        "print(\"array2 shape : \", array2.shape) # 2차원 이므로, (행, 열) 순서로 shape을 알려줌"
      ],
      "metadata": {
        "colab": {
          "base_uri": "https://localhost:8080/"
        },
        "id": "m9-IuEGmSAzi",
        "outputId": "4c2ad6f9-0af0-4a3e-c940-be80d8ed5c06"
      },
      "execution_count": null,
      "outputs": [
        {
          "output_type": "stream",
          "name": "stdout",
          "text": [
            "[[1 2 3]\n",
            " [4 5 6]]\n",
            "array2 type :  <class 'numpy.ndarray'>\n",
            "array2 shape :  (2, 3)\n"
          ]
        }
      ]
    },
    {
      "cell_type": "code",
      "source": [
        "array3 = np.array([[[1,2,3],[4,5,6]],[[1,2,3],[4,5,6]]])\n",
        "print(array3)\n",
        "print(\"array3 type : \", type(array3))\n",
        "print(\"array3 shape : \", array3.shape) # 3차원 이므로"
      ],
      "metadata": {
        "colab": {
          "base_uri": "https://localhost:8080/"
        },
        "id": "_cojBBiwWhqw",
        "outputId": "f3f5df34-fb35-4850-fdc8-166edf4783a9"
      },
      "execution_count": null,
      "outputs": [
        {
          "output_type": "stream",
          "name": "stdout",
          "text": [
            "[[[1 2 3]\n",
            "  [4 5 6]]\n",
            "\n",
            " [[1 2 3]\n",
            "  [4 5 6]]]\n",
            "array3 type :  <class 'numpy.ndarray'>\n",
            "array3 shape :  (2, 2, 3)\n"
          ]
        }
      ]
    },
    {
      "cell_type": "markdown",
      "source": [
        "# **-\tNdarray의 데이터 타입**"
      ],
      "metadata": {
        "id": "IYooKNCyWy-t"
      }
    },
    {
      "cell_type": "markdown",
      "source": [
        "숫자 값, 문자 값, 불 값 등 모두 가능, ndarray내의 데이터 타입은 그 연산의 특성상 같은 데이터 타입만 가능함. Ndarray 내의 데이터 타입은 dtype 속성으로 확인할 수 있음. "
      ],
      "metadata": {
        "id": "xPSe6iL7W3ft"
      }
    },
    {
      "cell_type": "code",
      "source": [
        "list1 = [1,2,3,4]\n",
        "print(type(list1))\n",
        "array1 = np.array(list1) # list는 쉽게 ndarray 형태로 바꿀 수 있다. \n",
        "print(type(array1))\n",
        "print(array1, array1.dtype)"
      ],
      "metadata": {
        "colab": {
          "base_uri": "https://localhost:8080/"
        },
        "id": "4b0_zHIpWzfq",
        "outputId": "dd16ba23-5e85-4a45-873a-97c89284f1f1"
      },
      "execution_count": null,
      "outputs": [
        {
          "output_type": "stream",
          "name": "stdout",
          "text": [
            "<class 'list'>\n",
            "<class 'numpy.ndarray'>\n",
            "[1 2 3 4] int64\n"
          ]
        }
      ]
    },
    {
      "cell_type": "code",
      "source": [
        "list2 = [1,2,3,4, 'aa']\n",
        "print(type(list2))\n",
        "array2 = np.array(list2) # 다른 데이터 타입으로 구성된 값을 넣으면 데이터 크기가 더 큰 데이터 타입으로 형 변환을 일괄 적용한다.\n",
        "print(type(array2))\n",
        "print(array2, array2.dtype)"
      ],
      "metadata": {
        "colab": {
          "base_uri": "https://localhost:8080/"
        },
        "id": "CqVhabccXf_1",
        "outputId": "16be1c3c-7f4d-416a-ce91-b12501497509"
      },
      "execution_count": null,
      "outputs": [
        {
          "output_type": "stream",
          "name": "stdout",
          "text": [
            "<class 'list'>\n",
            "<class 'numpy.ndarray'>\n",
            "['1' '2' '3' '4' 'aa'] <U21\n"
          ]
        }
      ]
    },
    {
      "cell_type": "code",
      "source": [
        "# ndarray 내의 데이터 타입 변경 : astype()\n",
        "array_int = np.array([1,2,3,4])\n",
        "array_float = array_int.astype('float64')\n",
        "print(array_float, array_float.dtype)\n",
        "\n",
        "array_int1 = array_float.astype('int64')\n",
        "print(array_float, array_int1.dtype)"
      ],
      "metadata": {
        "colab": {
          "base_uri": "https://localhost:8080/"
        },
        "id": "0fVXFQa3X053",
        "outputId": "658d6d84-561b-4c46-f8c8-47dbad51b618"
      },
      "execution_count": null,
      "outputs": [
        {
          "output_type": "stream",
          "name": "stdout",
          "text": [
            "[1. 2. 3. 4.] float64\n",
            "[1. 2. 3. 4.] int64\n"
          ]
        }
      ]
    },
    {
      "cell_type": "markdown",
      "source": [
        "\n",
        "# - ndarray 편리하게 생성하기 **굵은 텍스트**"
      ],
      "metadata": {
        "id": "23Ln0K_0b0TB"
      }
    },
    {
      "cell_type": "code",
      "source": [
        "# ndarray를 연속값이나 0 또는 1로 초기화해 쉽게 생성해야 할 필요가 있는 경우\n",
        "# ndarray 편리하게 생성하기:1) arange()\n",
        "s_array = np.arange(2,10) # range() 함수와 비슷한 규칙을 갖고 있다고 생각하면 됨. 초기값을 설정하지 않으면 defalt로 0\n",
        "print(s_array)\n",
        "print(s_array.dtype,s_array.shape)\n",
        "\n",
        "# ndarray 편리하게 생성하기:2) zeros()\n",
        "z_array = np.zeros((3,2), dtype='int64') # 2차원의 3행 2열인 0으로 이뤄진 행렬을 생성\n",
        "print(z_array)\n",
        "print(z_array.dtype,z_array.shape)\n",
        "\n",
        "# ndarray 편리하게 생성하기:3) ones()\n",
        "o_array = np.ones((3,2)) # 2차원의 3행 2열인 1로 이뤄진 행렬을 생성\n",
        "print(o_array)\n",
        "print(o_array.dtype,o_array.shape)"
      ],
      "metadata": {
        "colab": {
          "base_uri": "https://localhost:8080/"
        },
        "id": "QKQ6hO4YZ7Nj",
        "outputId": "d544f6df-78b8-4304-e489-8f0d1b96a61f"
      },
      "execution_count": null,
      "outputs": [
        {
          "output_type": "stream",
          "name": "stdout",
          "text": [
            "[2 3 4 5 6 7 8 9]\n",
            "int64 (8,)\n",
            "[[0 0]\n",
            " [0 0]\n",
            " [0 0]]\n",
            "int64 (3, 2)\n",
            "[[1. 1.]\n",
            " [1. 1.]\n",
            " [1. 1.]]\n",
            "float64 (3, 2)\n"
          ]
        }
      ]
    },
    {
      "cell_type": "markdown",
      "source": [
        "-\tNdarray의 차원과 크기를 변경하는 reshape()\n",
        "\n",
        "- 지정된 사이즈로 변경이 불가능하면 오류가 발생한다."
      ],
      "metadata": {
        "id": "BOVi_AHnb5lb"
      }
    },
    {
      "cell_type": "code",
      "source": [
        "array1 = np.arange(10)\n",
        "print(\"array1: \\n\", array1)\n",
        "\n",
        "array2 = array1.reshape(2,5)\n",
        "print(\"array2: \\n\", array2)\n",
        "\n",
        "array3 = array1.reshape(5,2)\n",
        "print(\"array3: \\n\", array3)"
      ],
      "metadata": {
        "colab": {
          "base_uri": "https://localhost:8080/"
        },
        "id": "P6DZ6FHgb5OI",
        "outputId": "480411c9-5be1-4e68-ebc5-d3f67704fb3d"
      },
      "execution_count": null,
      "outputs": [
        {
          "output_type": "stream",
          "name": "stdout",
          "text": [
            "array1: \n",
            " [0 1 2 3 4 5 6 7 8 9]\n",
            "array2: \n",
            " [[0 1 2 3 4]\n",
            " [5 6 7 8 9]]\n",
            "array3: \n",
            " [[0 1]\n",
            " [2 3]\n",
            " [4 5]\n",
            " [6 7]\n",
            " [8 9]]\n"
          ]
        }
      ]
    },
    {
      "cell_type": "code",
      "source": [
        "array1 = np.arange(10)\n",
        "print(array1)\n",
        "\n",
        "array2 = array1.reshape(-1,5) # 호환될 수 있는 2차원 array로 변환하되, 고정된 5개의 칼럼에 맞는 로우를 자동으로 새롭게 생성해 변환하라 의미\n",
        "print(\"array2 shape: \", array2.shape)\n",
        "\n",
        "array3 = array1.reshape(5, -1)\n",
        "print(\"array3 shape: \", array3.shape)"
      ],
      "metadata": {
        "colab": {
          "base_uri": "https://localhost:8080/"
        },
        "id": "jv-9MPAef_yZ",
        "outputId": "9f25f63c-2267-449f-a1c3-a9edb80deb9d"
      },
      "execution_count": null,
      "outputs": [
        {
          "output_type": "stream",
          "name": "stdout",
          "text": [
            "[0 1 2 3 4 5 6 7 8 9]\n",
            "array2 shape:  (2, 5)\n",
            "array3 shape:  (5, 2)\n"
          ]
        }
      ]
    },
    {
      "cell_type": "code",
      "source": [
        "array1 = np.arange(8)\n",
        "array3d = array1.reshape((2,2,2))\n",
        "print(\"array3d:\\n\", array3d.tolist())\n",
        "\n",
        "# 3차원 ndarray를 2차원 ndarray로 변환\n",
        "array5 = array3d.reshape(-1,1)\n",
        "print(\"array5:\\n\", array5.tolist())\n",
        "print(\"array5 shape: \", array5.shape)\n",
        "\n",
        "# 1차원 ndarray를 2차원 ndarray로 변환\n",
        "array6 = array1.reshape(-1,1)\n",
        "print(\"array6:\\n\", array6.tolist())\n",
        "print(\"array6 shape: \", array6.shape)"
      ],
      "metadata": {
        "colab": {
          "base_uri": "https://localhost:8080/"
        },
        "id": "yBEWXcP-gkmJ",
        "outputId": "ce9bf6a2-6c12-4246-f11a-d02e640d5e50"
      },
      "execution_count": null,
      "outputs": [
        {
          "output_type": "stream",
          "name": "stdout",
          "text": [
            "array3d:\n",
            " [[[0, 1], [2, 3]], [[4, 5], [6, 7]]]\n",
            "array5:\n",
            " [[0], [1], [2], [3], [4], [5], [6], [7]]\n",
            "array5 shape:  (8, 1)\n",
            "array6:\n",
            " [[0], [1], [2], [3], [4], [5], [6], [7]]\n",
            "array6 shape:  (8, 1)\n"
          ]
        }
      ]
    },
    {
      "cell_type": "markdown",
      "source": [
        "# **-\t넘파이의 ndarray의 데이터 세트 선택하기 – 인덱싱**"
      ],
      "metadata": {
        "id": "I5pxn599b71L"
      }
    },
    {
      "cell_type": "markdown",
      "source": [
        "1)\t특정한 데이터만 추출\n",
        "\n",
        "2)\t슬라이싱\n",
        "\n",
        "3)\t팬시 인덱싱: 일정한 인덱싱 집합을 리스트 또는 ndarray 형태로 지정해 해당 위치에 있는 데이터의 ndarray를 반환. \n",
        "\n",
        "4)\t불린 인덱싱: 특정 조건에 해당하는지 여부인 True/False 값 인덱싱 집합을 기반으로 True 에 해당하는 인덱스 위치에 있는 데이터의 ndarray를 반환.\n",
        "\n",
        "슬라이싱, 팽시 인덱싱, 불린 인섹싱으로 추출한 데이터들은 모두 ndarray 타입"
      ],
      "metadata": {
        "id": "OKUETX4YmOlg"
      }
    },
    {
      "cell_type": "code",
      "source": [
        "# 단일 값 추출\n",
        "\n",
        "# 1부터 9까지의 1차원 ndarray 생성\n",
        "array1 = np.arange(1,10)\n",
        "print('array1: ', array1)\n",
        "\n",
        "value = array1[2]\n",
        "print('value : ', value)\n",
        "print(type(value)) # ndarray 타입이 아닌, ndarray 내의 데이터 값을 의미함. "
      ],
      "metadata": {
        "colab": {
          "base_uri": "https://localhost:8080/"
        },
        "id": "qgtHC1fOcB3K",
        "outputId": "b8c3c114-6218-4988-fd13-384982727d80"
      },
      "execution_count": null,
      "outputs": [
        {
          "output_type": "stream",
          "name": "stdout",
          "text": [
            "array1:  [1 2 3 4 5 6 7 8 9]\n",
            "value :  3\n",
            "<class 'numpy.int64'>\n"
          ]
        }
      ]
    },
    {
      "cell_type": "code",
      "source": [
        "# 데이터 값 수정도 가능\n",
        "array1[0] = 9\n",
        "array1[8] = 0\n",
        "print('array1: ', array1)"
      ],
      "metadata": {
        "colab": {
          "base_uri": "https://localhost:8080/"
        },
        "id": "jNZGbSI0nKsd",
        "outputId": "d78e82db-6cf3-4bcf-ff00-9f99fbf2835e"
      },
      "execution_count": null,
      "outputs": [
        {
          "output_type": "stream",
          "name": "stdout",
          "text": [
            "array1:  [9 2 3 4 5 6 7 8 0]\n"
          ]
        }
      ]
    },
    {
      "cell_type": "code",
      "source": [
        "# 다차원 ndarray에서 단일 값 추출\n",
        "array1d = np.arange(1,10)\n",
        "array2d = array1d.reshape(3,3)\n",
        "print(array2d)\n",
        "\n",
        "print(\"(row=0, col=0) index 가리키는 값: \", array2d[0,0]) # axis0 = row, axis1 = col\n",
        "print(\"(row=0, col=1) index 가리키는 값: \", array2d[0,1])\n",
        "print(\"(row=1, col=0) index 가리키는 값: \", array2d[1,0])\n",
        "print(\"(row=2, col=2) index 가리키는 값: \", array2d[2,2])"
      ],
      "metadata": {
        "colab": {
          "base_uri": "https://localhost:8080/"
        },
        "id": "p4A0_RQxnVI4",
        "outputId": "b75c3053-2eef-404a-f93e-4de18359f2aa"
      },
      "execution_count": null,
      "outputs": [
        {
          "output_type": "stream",
          "name": "stdout",
          "text": [
            "[[1 2 3]\n",
            " [4 5 6]\n",
            " [7 8 9]]\n",
            "(row=0, col=0) index 가리키는 값:  1\n",
            "(row=0, col=1) index 가리키는 값:  2\n",
            "(row=1, col=0) index 가리키는 값:  4\n",
            "(row=2, col=2) index 가리키는 값:  9\n"
          ]
        }
      ]
    },
    {
      "cell_type": "code",
      "source": [
        "# 슬라이싱 : 시작 인덱스 ~ 종료인덱스 -1 위치까지 잘라냄\n",
        "array1 = np.arange(1,10)\n",
        "array3 = array1[0:3]\n",
        "print(array3)\n",
        "print(type(array3))"
      ],
      "metadata": {
        "colab": {
          "base_uri": "https://localhost:8080/"
        },
        "id": "Oycno4oYo2L7",
        "outputId": "d43b56a4-667f-4c78-a8d3-66c916e47ca3"
      },
      "execution_count": null,
      "outputs": [
        {
          "output_type": "stream",
          "name": "stdout",
          "text": [
            "[1 2 3]\n",
            "<class 'numpy.ndarray'>\n"
          ]
        }
      ]
    },
    {
      "cell_type": "code",
      "source": [
        "array1d = np.arange(1,10)\n",
        "array2d = array1d.reshape(3,3)\n",
        "print(\"array2d:\\n\",array2d)\n",
        "\n",
        "print('array2d[0:2,0:2] \\n',array2d[0:2,0:2])\n",
        "print('array2d[:2,0] \\n',array2d[:2,0])"
      ],
      "metadata": {
        "colab": {
          "base_uri": "https://localhost:8080/"
        },
        "id": "jK1gkjoCxedj",
        "outputId": "23b9820e-e3d3-4b4d-9cb6-2e140c4ca8d6"
      },
      "execution_count": null,
      "outputs": [
        {
          "output_type": "stream",
          "name": "stdout",
          "text": [
            "array2d:\n",
            " [[1 2 3]\n",
            " [4 5 6]\n",
            " [7 8 9]]\n",
            "array2d[0:2,0:2] \n",
            " [[1 2]\n",
            " [4 5]]\n",
            "array2d[:2,0] \n",
            " [1 4]\n"
          ]
        }
      ]
    },
    {
      "cell_type": "code",
      "source": [
        "print(array2d[0])\n",
        "print(array2d[1])\n",
        "print('print(array2d[0]) shape: ', array2d[0].shape, 'print(array2d[1]) shape: ', array2d[1].shape)"
      ],
      "metadata": {
        "colab": {
          "base_uri": "https://localhost:8080/"
        },
        "id": "OMYIfZKxx_rz",
        "outputId": "67e515b0-2aa0-418c-c825-f18c426ec0b2"
      },
      "execution_count": null,
      "outputs": [
        {
          "output_type": "stream",
          "name": "stdout",
          "text": [
            "[1 2 3]\n",
            "[4 5 6]\n",
            "print(array2d[0]) shape:  (3,) print(array2d[1]) shape:  (3,)\n"
          ]
        }
      ]
    },
    {
      "cell_type": "code",
      "source": [
        "# 팬시 인덱싱\n",
        "array1d = np.arange(1,10)\n",
        "array2d = array1d.reshape(3,3)\n",
        "\n",
        "array3 = array2d[[0,1],2] # (0,2)와 (1,2)가 나온 것\n",
        "print(\"array2d[[0,1],2] -> \", array3.tolist())\n",
        "\n",
        "array4 = array2d[[0,1],:2] # (0,0:2),(1,0:2)이 나온 것\n",
        "print(\"array2d[[0,1],:2] -> \", array4.tolist())\n",
        "\n",
        "array5 = array2d[[0,1]] #  (0,:), (1,:)이 나온 것\n",
        "print(\"array2d[[0,1]] -> \", array5.tolist())"
      ],
      "metadata": {
        "colab": {
          "base_uri": "https://localhost:8080/"
        },
        "id": "ATy-xFElyPMY",
        "outputId": "7db14a35-d359-4c8c-805e-5d7ccd925a02"
      },
      "execution_count": null,
      "outputs": [
        {
          "output_type": "stream",
          "name": "stdout",
          "text": [
            "array2d[[0,1],2] ->  [3, 6]\n",
            "array2d[[0,1],:2] ->  [[1, 2], [4, 5]]\n",
            "array2d[[0,1]] ->  [[1, 2, 3], [4, 5, 6]]\n"
          ]
        }
      ]
    },
    {
      "cell_type": "code",
      "source": [
        "# 불린 인덱싱: 조건 필터링과 검색을 동시에 할 수 있음. \n",
        "array1d = np.arange(1,10)\n",
        "\n",
        "array3 = array1d[array1d>5]\n",
        "print(\"array1d>5 불린 인덱싱 결과 값 : \", array3)"
      ],
      "metadata": {
        "colab": {
          "base_uri": "https://localhost:8080/"
        },
        "id": "VDAdTqSVzxgH",
        "outputId": "e5949939-5213-438a-f1d5-264babeacbe7"
      },
      "execution_count": null,
      "outputs": [
        {
          "output_type": "stream",
          "name": "stdout",
          "text": [
            "array1d>5 불린 인덱싱 결과 값 :  [6 7 8 9]\n"
          ]
        }
      ]
    },
    {
      "cell_type": "code",
      "source": [
        "array1d>5"
      ],
      "metadata": {
        "colab": {
          "base_uri": "https://localhost:8080/"
        },
        "id": "szKpmEYj1Rrg",
        "outputId": "9716c90f-a72f-4ff0-c879-592f1f23b405"
      },
      "execution_count": null,
      "outputs": [
        {
          "output_type": "execute_result",
          "data": {
            "text/plain": [
              "array([False, False, False, False, False,  True,  True,  True,  True])"
            ]
          },
          "metadata": {},
          "execution_count": 22
        }
      ]
    },
    {
      "cell_type": "code",
      "source": [
        "boolen_index = np.array([False, False, False, False, False,  True,  True,  True,  True])\n",
        "array3 = array1d[boolen_index]\n",
        "print(array3)"
      ],
      "metadata": {
        "colab": {
          "base_uri": "https://localhost:8080/"
        },
        "id": "v8gbt9mX1TiJ",
        "outputId": "448eb091-b5ed-4710-9e6a-c05340772350"
      },
      "execution_count": null,
      "outputs": [
        {
          "output_type": "stream",
          "name": "stdout",
          "text": [
            "[6 7 8 9]\n"
          ]
        }
      ]
    },
    {
      "cell_type": "markdown",
      "source": [
        "# **-\t행렬의 정렬 – sort()와 argsort()**"
      ],
      "metadata": {
        "id": "gFcpY1wycCF7"
      }
    },
    {
      "cell_type": "markdown",
      "source": [
        "np.sort() : 원 행렬은 유지한 채 원 행렬의 정렬된 행렬을 반환\n",
        "\n",
        "ndarray.sort() : 원 행렬 자체를 정렬한 형태로 반환하며, 반환 값은 None임\n",
        "\n",
        "argsort() : 정렬된 행렬의 인덱스를 반환 **굵은 텍스트**"
      ],
      "metadata": {
        "id": "lJtS4OEp156-"
      }
    },
    {
      "cell_type": "code",
      "source": [
        "org_array = np.array([3,1,9,5])\n",
        "print('원본행렬: ', org_array)\n",
        "\n",
        "#np.sort()로 정렬\n",
        "sort_array1 = np.sort(org_array) # 원본 행렬 변경 않고 정렬된 형태로 반환\n",
        "print('np.sort() 호출 후 반환된 정렬 행렬 : ', sort_array1)\n",
        "print('np.sort() 호출 후 원본 행렬 : ', org_array)\n",
        "\n",
        "# ndarray.sort()로 정렬\n",
        "sort_array2 = org_array.sort() # 원본 행렬 자체를 정리된 값으로 변환\n",
        "print('org_array,sort() 호출 후 반환된 행렬: ', sort_array2)\n",
        "print('org_array.sort() 호출 후 원본 행렬: ', org_array)\n",
        "\n",
        "# 내림차순 적용 방법\n",
        "sort_array1_desc = np.sort(org_array)[::-1]\n",
        "print(sort_array1_desc)"
      ],
      "metadata": {
        "colab": {
          "base_uri": "https://localhost:8080/"
        },
        "id": "ACBjsP5ScDsC",
        "outputId": "5a75eb70-ca46-4d32-c97e-42910bc41257"
      },
      "execution_count": null,
      "outputs": [
        {
          "output_type": "stream",
          "name": "stdout",
          "text": [
            "원본행렬:  [3 1 9 5]\n",
            "np.sort() 호출 후 반환된 정렬 행렬 :  [1 3 5 9]\n",
            "np.sort() 호출 후 원본 행렬 :  [3 1 9 5]\n",
            "org_array,sort() 호출 후 반환된 행렬:  None\n",
            "org_array.sort() 호출 후 원본 행렬:  [1 3 5 9]\n",
            "[9 5 3 1]\n"
          ]
        }
      ]
    },
    {
      "cell_type": "code",
      "source": [
        "# 2치원 이상의 경우는, axis 축 값 설정을 통해 열방향 또는 행 방향으로 정렬을 수행할 수 있다.\n",
        "array2d = np.array([[8,12],[7,1]])\n",
        "\n",
        "print(array2d)\n",
        "\n",
        "sort_array2d_axis0 = np.sort(array2d, axis = 0)\n",
        "print('row 방향 정렬: \\n', sort_array2d_axis0)\n",
        "\n",
        "sort_array2d_axis1 = np.sort(array2d, axis = 1)\n",
        "print('col 방향 정렬: \\n', sort_array2d_axis1)"
      ],
      "metadata": {
        "colab": {
          "base_uri": "https://localhost:8080/"
        },
        "id": "7zKOQlk-5spD",
        "outputId": "020e91b0-558b-4dbe-fda7-9d0ba35891fc"
      },
      "execution_count": null,
      "outputs": [
        {
          "output_type": "stream",
          "name": "stdout",
          "text": [
            "[[ 8 12]\n",
            " [ 7  1]]\n",
            "row 방향 정렬: \n",
            " [[ 7  1]\n",
            " [ 8 12]]\n",
            "col 방향 정렬: \n",
            " [[ 8 12]\n",
            " [ 1  7]]\n"
          ]
        }
      ]
    },
    {
      "cell_type": "code",
      "source": [
        "# 정렬된 행렬의 인덱스를 반환하기\n",
        "org_array = np.array([3,1,9,5])\n",
        "sort_indices = np.argsort(org_array)\n",
        "print(type(sort_indices))\n",
        "print('행렬 정렬 시 원본 행렬의 인덱스 : ', sort_indices)\n",
        "\n",
        "# 내림차순 정렬된 행렬의 인덱스 구하기\n",
        "org_array = np.array([3,1,9,5])\n",
        "sort_indices_desc = np.argsort(org_array)[::-1]\n",
        "print(type(sort_indices))\n",
        "print('행렬 정렬 시 원본 행렬의 인덱스 : ', sort_indices_desc)"
      ],
      "metadata": {
        "colab": {
          "base_uri": "https://localhost:8080/"
        },
        "id": "upp29VNU4nH7",
        "outputId": "a34b2b61-9c6c-47dd-b4a0-f619e00c407d"
      },
      "execution_count": null,
      "outputs": [
        {
          "output_type": "stream",
          "name": "stdout",
          "text": [
            "<class 'numpy.ndarray'>\n",
            "행렬 정렬 시 원본 행렬의 인덱스 :  [1 0 3 2]\n",
            "<class 'numpy.ndarray'>\n",
            "행렬 정렬 시 원본 행렬의 인덱스 :  [2 3 0 1]\n"
          ]
        }
      ]
    },
    {
      "cell_type": "markdown",
      "source": [
        "# **선형대수 연산 – 행렬 내적과 전치행렬 구하기**"
      ],
      "metadata": {
        "id": "aTp3uJTZcEIm"
      }
    },
    {
      "cell_type": "markdown",
      "source": [
        "행력 내적(행렬곱): 두 행렬 A와 B의 내적 계산 = np.dot()\n",
        "(일반적으로 행렬을 곱한다고 했을때 계산하는 값이 결과)"
      ],
      "metadata": {
        "id": "Y9FuRV1xIDZH"
      }
    },
    {
      "cell_type": "code",
      "source": [
        "A = np.array([[1,2,3],[4,5,6]])\n",
        "B = np.array([[7,8],[9,10],[11,12]])\n",
        "dot_product = np.dot(A,B)\n",
        "print('행렬 내적 결과: \\n', dot_product)"
      ],
      "metadata": {
        "colab": {
          "base_uri": "https://localhost:8080/"
        },
        "id": "Qw1CpVo1cI-J",
        "outputId": "dff5cb13-8a7f-4ef6-f54b-77be581e1b20"
      },
      "execution_count": null,
      "outputs": [
        {
          "output_type": "stream",
          "name": "stdout",
          "text": [
            "행렬 내적 결과: \n",
            " [[ 58  64]\n",
            " [139 154]]\n"
          ]
        }
      ]
    },
    {
      "cell_type": "markdown",
      "source": [
        "전치행렬: 원 행렬에서 행과 열 위치를 교환한 원소로 구성한 행렬 = np.transpose()"
      ],
      "metadata": {
        "id": "CQGe3gKeIvYp"
      }
    },
    {
      "cell_type": "code",
      "source": [
        "A = np.array([[1,2,3],[4,5,6]])\n",
        "transpose_mat = np.transpose(A)\n",
        "print('A의 전치 행렬: \\n', transpose_mat)"
      ],
      "metadata": {
        "colab": {
          "base_uri": "https://localhost:8080/"
        },
        "id": "Zi7u1EvEI4l9",
        "outputId": "3ffcc6b2-19bc-41c4-82c2-41fc00d8d041"
      },
      "execution_count": null,
      "outputs": [
        {
          "output_type": "stream",
          "name": "stdout",
          "text": [
            "A의 전치 행렬: \n",
            " [[1 4]\n",
            " [2 5]\n",
            " [3 6]]\n"
          ]
        }
      ]
    }
  ]
}