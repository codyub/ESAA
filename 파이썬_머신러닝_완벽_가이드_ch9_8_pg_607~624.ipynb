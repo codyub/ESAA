{
  "nbformat": 4,
  "nbformat_minor": 0,
  "metadata": {
    "colab": {
      "provenance": [],
      "authorship_tag": "ABX9TyMPeHtnjNlKFBa7npK6tFGE",
      "include_colab_link": true
    },
    "kernelspec": {
      "name": "python3",
      "display_name": "Python 3"
    },
    "language_info": {
      "name": "python"
    }
  },
  "cells": [
    {
      "cell_type": "markdown",
      "metadata": {
        "id": "view-in-github",
        "colab_type": "text"
      },
      "source": [
        "<a href=\"https://colab.research.google.com/github/codyub/ESAA/blob/main/%ED%8C%8C%EC%9D%B4%EC%8D%AC_%EB%A8%B8%EC%8B%A0%EB%9F%AC%EB%8B%9D_%EC%99%84%EB%B2%BD_%EA%B0%80%EC%9D%B4%EB%93%9C_ch9_8_pg_607~624.ipynb\" target=\"_parent\"><img src=\"https://colab.research.google.com/assets/colab-badge.svg\" alt=\"Open In Colab\"/></a>"
      ]
    },
    {
      "cell_type": "markdown",
      "source": [
        "# 08 파이썬 추천 시스템 패키지 - Surprise\n",
        "\n",
        "# Surprise 패키지 소개\n",
        "- 앞에서 다룬 예제 코드는 최적화나 수행 속도 측면에서 좀 더 보완이 필요\n",
        "- 다양한 추천 알고리즘 (사용자 또는 아이템 기반 최근접 이웃 협업 필터링, SVD, SVD++, NMF 기반의 잠재 요인 협업 필터링)을 쉽게 적용해 추천 시스템 구축\n",
        "- 사이킷런의 핵심 API와 유사한 API명으로 작성: fit, predict(), train_test_split, cross_validate, gridsearchcv 등의 클래스를 통해 추천 시스템을 위한 모델 셀렉션 평가, 하이퍼 파라미터 튜닝 등의 기능 제공."
      ],
      "metadata": {
        "id": "xlyVpvKS5Oan"
      }
    },
    {
      "cell_type": "code",
      "execution_count": 1,
      "metadata": {
        "colab": {
          "base_uri": "https://localhost:8080/"
        },
        "id": "V2f4o2TR5I5I",
        "outputId": "34d1d3b8-7075-49d5-c493-0e15660ddffc"
      },
      "outputs": [
        {
          "output_type": "stream",
          "name": "stdout",
          "text": [
            "Looking in indexes: https://pypi.org/simple, https://us-python.pkg.dev/colab-wheels/public/simple/\n",
            "Collecting surprise\n",
            "  Downloading surprise-0.1-py2.py3-none-any.whl (1.8 kB)\n",
            "Collecting scikit-surprise (from surprise)\n",
            "  Downloading scikit-surprise-1.1.3.tar.gz (771 kB)\n",
            "\u001b[2K     \u001b[90m━━━━━━━━━━━━━━━━━━━━━━━━━━━━━━━━━━━━━━\u001b[0m \u001b[32m772.0/772.0 kB\u001b[0m \u001b[31m15.5 MB/s\u001b[0m eta \u001b[36m0:00:00\u001b[0m\n",
            "\u001b[?25h  Preparing metadata (setup.py) ... \u001b[?25l\u001b[?25hdone\n",
            "Requirement already satisfied: joblib>=1.0.0 in /usr/local/lib/python3.10/dist-packages (from scikit-surprise->surprise) (1.2.0)\n",
            "Requirement already satisfied: numpy>=1.17.3 in /usr/local/lib/python3.10/dist-packages (from scikit-surprise->surprise) (1.22.4)\n",
            "Requirement already satisfied: scipy>=1.3.2 in /usr/local/lib/python3.10/dist-packages (from scikit-surprise->surprise) (1.10.1)\n",
            "Building wheels for collected packages: scikit-surprise\n",
            "  Building wheel for scikit-surprise (setup.py) ... \u001b[?25l\u001b[?25hdone\n",
            "  Created wheel for scikit-surprise: filename=scikit_surprise-1.1.3-cp310-cp310-linux_x86_64.whl size=3095437 sha256=5edf321f73e030dd060484fd7ab5686efe759704d803b88597aaa817237ee1a5\n",
            "  Stored in directory: /root/.cache/pip/wheels/a5/ca/a8/4e28def53797fdc4363ca4af740db15a9c2f1595ebc51fb445\n",
            "Successfully built scikit-surprise\n",
            "Installing collected packages: scikit-surprise, surprise\n",
            "Successfully installed scikit-surprise-1.1.3 surprise-0.1\n"
          ]
        }
      ],
      "source": [
        "!pip install surprise"
      ]
    },
    {
      "cell_type": "markdown",
      "source": [
        "# Surprise를 이용한 추천 시스템 구축\n",
        "- 예제는 추천 데이터를 학습용과 테스트용 데이터 세트로 분리한 뒤 SVD 행렬 분해를 통한 잠재 요인 협업 필터링 수행"
      ],
      "metadata": {
        "id": "GailUPw-5eCD"
      }
    },
    {
      "cell_type": "code",
      "source": [
        "from surprise import SVD\n",
        "from surprise import Dataset\n",
        "from surprise import accuracy\n",
        "from surprise.model_selection import train_test_split"
      ],
      "metadata": {
        "id": "lZ4cIcNO5gpV"
      },
      "execution_count": 5,
      "outputs": []
    },
    {
      "cell_type": "markdown",
      "source": [
        "# 추천을 위한 데이터 세트 로딩\n",
        "- 사용자-영화 평점 데이터 포맷과 같이 주요 데이터가 row 레벨 형태로 돼있는 포맷의 데이터만 처리함\n",
        "- 과거 버전의 데이터, 최근 영화에 대한 평점 없다.\n",
        "- 테스트와 트레인 데이터셋으로 분리\n",
        "- 탭으로 구분되어 있음"
      ],
      "metadata": {
        "id": "HpTqgzml5jwz"
      }
    },
    {
      "cell_type": "code",
      "source": [
        "data=Dataset.load_builtin('ml-100k')\n",
        "#수행시마다 동일하게 데이터를 분할하기 위해 random_state 값 부여\n",
        "trainset, testset=train_test_split(data,test_size=.25, random_state=0)"
      ],
      "metadata": {
        "colab": {
          "base_uri": "https://localhost:8080/"
        },
        "id": "HSf8Ddt15kIL",
        "outputId": "cf456215-ee63-4c4e-ca5d-76e9e717417a"
      },
      "execution_count": 3,
      "outputs": [
        {
          "output_type": "stream",
          "name": "stdout",
          "text": [
            "Dataset ml-100k could not be found. Do you want to download it? [Y/n] Y\n",
            "Trying to download dataset from https://files.grouplens.org/datasets/movielens/ml-100k.zip...\n",
            "Done! Dataset ml-100k has been saved to /root/.surprise_data/ml-100k\n"
          ]
        }
      ]
    },
    {
      "cell_type": "markdown",
      "source": [
        "# SVD로 잠재요인 협업 필터링 수행"
      ],
      "metadata": {
        "id": "OPcpER0e5kr8"
      }
    },
    {
      "cell_type": "code",
      "source": [
        "algo=SVD() #알고리즘 객체 생성\n",
        "algo.fit(trainset) # 이 알고리즘에 fit을 수행해 학습 데이터 세트 기반으로 추천 알고리즘을 학습"
      ],
      "metadata": {
        "colab": {
          "base_uri": "https://localhost:8080/"
        },
        "id": "r7D6TWFw5k7J",
        "outputId": "1bbc17fa-4d34-49df-e33c-a000c520b3f7"
      },
      "execution_count": 4,
      "outputs": [
        {
          "output_type": "execute_result",
          "data": {
            "text/plain": [
              "<surprise.prediction_algorithms.matrix_factorization.SVD at 0x7f312818f0d0>"
            ]
          },
          "metadata": {},
          "execution_count": 4
        }
      ]
    },
    {
      "cell_type": "markdown",
      "source": [
        "- 학습된 추천 알고리즘을 기반으로 테스트 데이터 세트에 대해 추천 수행\n",
        "- test / predict : 추천을 예측하는 메서드 -> 입력된 데이터 세트에 대하 추천 데이터 세트를 만들어줌\n",
        "- preduct: 개별 사용자와 영화에 대하 추천 평점을 반환"
      ],
      "metadata": {
        "id": "6DoyytLW5mDL"
      }
    },
    {
      "cell_type": "code",
      "source": [
        "# test(): 테스트 데이터 세트 전체에 대해 추천 영화 평점 데이터를 생성한 뒤 최초 5개만 추출하는 예제\n",
        "predictions=algo.test(testset)\n",
        "print('predictions type :', type(predictions), 'size :', len(predictions))\n",
        "print('prediction 결과의 최초 5개 추출')\n",
        "predictions[:5]"
      ],
      "metadata": {
        "colab": {
          "base_uri": "https://localhost:8080/"
        },
        "id": "x3A7caxl5mPF",
        "outputId": "30398941-b8e1-43da-9abb-638b98e160bc"
      },
      "execution_count": 5,
      "outputs": [
        {
          "output_type": "stream",
          "name": "stdout",
          "text": [
            "predictions type : <class 'list'> size : 25000\n",
            "prediction 결과의 최초 5개 추출\n"
          ]
        },
        {
          "output_type": "execute_result",
          "data": {
            "text/plain": [
              "[Prediction(uid='120', iid='282', r_ui=4.0, est=3.5168541619891633, details={'was_impossible': False}),\n",
              " Prediction(uid='882', iid='291', r_ui=4.0, est=3.7279216574141842, details={'was_impossible': False}),\n",
              " Prediction(uid='535', iid='507', r_ui=5.0, est=4.191149974330706, details={'was_impossible': False}),\n",
              " Prediction(uid='697', iid='244', r_ui=5.0, est=3.260332330422432, details={'was_impossible': False}),\n",
              " Prediction(uid='751', iid='385', r_ui=4.0, est=3.2528737010663606, details={'was_impossible': False})]"
            ]
          },
          "metadata": {},
          "execution_count": 5
        }
      ]
    },
    {
      "cell_type": "markdown",
      "source": [
        "- 호출 결과는 파이썬 리스트이며, 크기는 입력 인자 데이터 세트의 크기와 같은 prediction 객체를 내부에 갖고 있다\n",
        "- Prediction 객체는 Surprise 패키지에서 제공하는 데이터 타입: 개별 사용자 아이디, 영화 아이디, 실제 평점 정보에 기반해 Surprise의 추천 예측 평점 데이터를 튜플 형태로 갖고 있음\n",
        "- Prediction 객체 detail 속성은 내부 처리 시 추천 예측을 할 수 없는 경우에 로그용으로 데이터를 남기는 데 사용\n",
        "- was_impossible이 True이면, 예측값을 생성할 수 없는 데이터\n"
      ],
      "metadata": {
        "id": "TgufY2Ie5nwA"
      }
    },
    {
      "cell_type": "markdown",
      "source": [
        "#리스트 객체에 내포된 Prediction 객체의 userid, itemid, est 등의 속성에 접근"
      ],
      "metadata": {
        "id": "7DtsvQciDPM_"
      }
    },
    {
      "cell_type": "code",
      "source": [
        "[(pred.uid, pred.iid, pred.est) for pred in predictions[:3]]"
      ],
      "metadata": {
        "colab": {
          "base_uri": "https://localhost:8080/"
        },
        "id": "uX52Yf_b5qEN",
        "outputId": "58a9ea42-3d27-4eea-d265-0f8912da0e56"
      },
      "execution_count": 7,
      "outputs": [
        {
          "output_type": "execute_result",
          "data": {
            "text/plain": [
              "[('120', '282', 3.5168541619891633),\n",
              " ('882', '291', 3.7279216574141842),\n",
              " ('535', '507', 4.191149974330706)]"
            ]
          },
          "metadata": {},
          "execution_count": 7
        }
      ]
    },
    {
      "cell_type": "markdown",
      "source": [
        "# predict()를 이용한 추천 예측\n",
        "- 개별 사용자의 아이템에 대한 추천 평점을 예측\n",
        "- 인자로 개별 사용자 아이디, 아이템 아이디 입력 -> 추천 예측 평점을 포함한 정보 반환"
      ],
      "metadata": {
        "id": "WkBOzu1B5pT7"
      }
    },
    {
      "cell_type": "code",
      "source": [
        "#사용자 아이디, 아이템 아이디는 문자열로 입력해야함.\n",
        "uid=str(196)\n",
        "iid=str(302)\n",
        "pred=algo.predict(uid, iid)\n",
        "print(pred)"
      ],
      "metadata": {
        "colab": {
          "base_uri": "https://localhost:8080/"
        },
        "id": "ZR6AXRZJ5qkL",
        "outputId": "7e1dfb49-1f8c-49c4-ffaf-992baa320fef"
      },
      "execution_count": 8,
      "outputs": [
        {
          "output_type": "stream",
          "name": "stdout",
          "text": [
            "user: 196        item: 302        r_ui = None   est = 4.29   {'was_impossible': False}\n"
          ]
        }
      ]
    },
    {
      "cell_type": "markdown",
      "source": [
        "- 개별 사용자와 아이템 정보를 입력하면 추천 예측 평점을 est로 반환\n",
        "- test() 메서드는 입력 데이터 세트의 모든 사용자와 아이템 아이디에 대해서 predict()를 반복적으로 수행한 결과"
      ],
      "metadata": {
        "id": "iW3dD07y5tKA"
      }
    },
    {
      "cell_type": "markdown",
      "source": [
        "# 테스트 데이터 세트를 이용한 추천 예측 평점과 실제 평점 차이 평가"
      ],
      "metadata": {
        "id": "t6VYibRYD78W"
      }
    },
    {
      "cell_type": "code",
      "source": [
        "accuracy.rmse(predictions)"
      ],
      "metadata": {
        "colab": {
          "base_uri": "https://localhost:8080/"
        },
        "id": "92sW9oKE5tYk",
        "outputId": "24ccaf1e-e328-46ad-9ba9-bffc25a4ed38"
      },
      "execution_count": 9,
      "outputs": [
        {
          "output_type": "stream",
          "name": "stdout",
          "text": [
            "RMSE: 0.9476\n"
          ]
        },
        {
          "output_type": "execute_result",
          "data": {
            "text/plain": [
              "0.9475908416166936"
            ]
          },
          "metadata": {},
          "execution_count": 9
        }
      ]
    },
    {
      "cell_type": "markdown",
      "source": [
        "# Surprise 주요 모듈 소개"
      ],
      "metadata": {
        "id": "1GKZJjBD5vfu"
      }
    },
    {
      "cell_type": "markdown",
      "source": [
        "Dataset\n",
        "\n",
        "- 로우 레벨로된 데이터 세트만 적용 가능하므로, 네번째 칼럼부터는 아예 로딩을 수행하지 않음 \n",
        "- 따라서 데이터 세트의 칼럼 순서가 반드시 사용자 아이디, 아이템 아이디, 평점 순으로 되어 있어야 한다.\n",
        "\n",
        "# OS 파일 데이터를 Surprise 데이터 세트로 로딩\n",
        "- 로딩 되는 데이터 파일에 칼럼명을 가지는 헤더 문자열이 있으면 안됨 \n",
        "- ratings 파일에 있으므로 to_csv() 함수로 헤더를 삭제하자."
      ],
      "metadata": {
        "id": "wKwN7hztEW1J"
      }
    },
    {
      "cell_type": "code",
      "source": [
        "import pandas as pd\n",
        "import numpy as np\n",
        "import warnings\n",
        "warnings.filterwarnings('ignore')"
      ],
      "metadata": {
        "id": "URe4Qb8EEEVO"
      },
      "execution_count": 2,
      "outputs": []
    },
    {
      "cell_type": "code",
      "source": [
        "from google.colab import drive\n",
        "drive.mount('/content/drive')\n",
        "\n",
        "import os\n",
        "os.chdir(\"/content/drive/MyDrive/ESAA/2023-1/필사/data/grouplens/\") # working directory를 설정함."
      ],
      "metadata": {
        "colab": {
          "base_uri": "https://localhost:8080/"
        },
        "id": "LKALAnEOEGDi",
        "outputId": "95103c18-6c33-4710-e479-4b4330e03dcf"
      },
      "execution_count": 3,
      "outputs": [
        {
          "output_type": "stream",
          "name": "stdout",
          "text": [
            "Drive already mounted at /content/drive; to attempt to forcibly remount, call drive.mount(\"/content/drive\", force_remount=True).\n"
          ]
        }
      ]
    },
    {
      "cell_type": "code",
      "source": [
        "import pandas as pd\n",
        "\n",
        "ratings=pd.read_csv('ratings.csv')\n",
        "#ratings_noh.csv 파일로 언로드 시 인덱스와 헤더를 모두 제거한 새로운 파일 생성.\n",
        "ratings.to_csv('ratings_noh.csv', index=False, header=False)"
      ],
      "metadata": {
        "id": "uRUSFC3c5yCa"
      },
      "execution_count": 13,
      "outputs": []
    },
    {
      "cell_type": "markdown",
      "source": [
        "# 데이터 파일의 파싱 포맷 정의\n",
        "- reader 객체 생성 시 line_foramt 인자로 user, item, rating, timestamp의 4개 칼럼으로 데이터가 구성되어 있음을 명시. \n",
        "- 각 칼럼의 분리 문자는 콤마, 평점 단위는 0.5, 최대 평점은 5로 설정. \n",
        "- reader 설정을 완료하면 이를 기반으로 데이터를 파싱하며 로딩."
      ],
      "metadata": {
        "id": "PRyNobH151jK"
      }
    },
    {
      "cell_type": "code",
      "source": [
        "from surprise import Reader\n",
        "\n",
        "reader=Reader(line_format='user item rating timestamp', sep=',', rating_scale=(0.5, 5))\n",
        "data=Dataset.load_from_file('ratings_noh.csv', reader=reader)"
      ],
      "metadata": {
        "id": "Jm8Yl8YD51yY"
      },
      "execution_count": 14,
      "outputs": []
    },
    {
      "cell_type": "markdown",
      "source": [
        "- surprise 데이터 세트는 기본적으로 무비렌즈 데이터 형식을 따르므로 무비렌즈 데이터 형식이 아닌 다른 OS 파일의 경우 Reader 클래스를 먼저 설정해야 함\n",
        "- Reader 클래스의 주요 생성 파라미터는 다음과 같다\n",
        "\n",
        "1. line_format(string) : 칼럼을 순서대로 나열. 입력된 문자열을 공백으로 분리해 칼럼으로 인식.\n",
        "2. sep(char): 칼럼을 분리하는 분리자, 디폴트는  탭\n",
        "3. rating_scale(tuple, optional): 평점 값의 최소~최대 평점을 설정, 디폴트는 (1,5) 이지만, 우리 파일이 경우 최대 최소가 위와 같으므로 위와 같이 설정\n"
      ],
      "metadata": {
        "id": "lWws_9Wt52zl"
      }
    },
    {
      "cell_type": "markdown",
      "source": [
        "#  SVD 행렬 분해 기법을 이용해 추천을 예측"
      ],
      "metadata": {
        "id": "GfkPlRPDGfb2"
      }
    },
    {
      "cell_type": "code",
      "source": [
        "trainset, testset=train_test_split(data, test_size=0.25, random_state=0)\n",
        "\n",
        "#수행시마다 동일한 결과를 도출하기 위해 random_state 설정\n",
        "algo=SVD(n_factors=50, random_state=0)\n",
        "\n",
        "#학습 데이터 세트로 학습하고 테스트 데이터 세트로 평점 예측 후 rmse 평가\n",
        "algo.fit(trainset)\n",
        "predictions=algo.test(testset)\n",
        "accuracy.rmse(predictions)"
      ],
      "metadata": {
        "id": "2An0D8eN53CC"
      },
      "execution_count": null,
      "outputs": []
    },
    {
      "cell_type": "markdown",
      "source": [
        "- 얘 때문에 내 램이 다운됨"
      ],
      "metadata": {
        "id": "DBacbkb0HQvy"
      }
    },
    {
      "cell_type": "markdown",
      "source": [
        "# 판다스 DF에서 Surprise 데이터 세트로 로딩\n",
        "- 주의할 점: 사용자 아이디, 아이템 아이디, 평점 칼럼 순서로 되어 있어야 함"
      ],
      "metadata": {
        "id": "gpCZBuWM55XC"
      }
    },
    {
      "cell_type": "code",
      "source": [
        "import pandas as pd\n",
        "from surprise import Reader, Dataset\n",
        "\n",
        "ratings=pd.read_csv('ratings.csv')\n",
        "reader=Reader(rating_scale=(0.5, 5.0))\n",
        "\n",
        "#ratings df에서 칼럼은 사용자 아이디, 아이템 아이디, 평점 순서\n",
        "data=Dataset.load_from_df(ratings[['userId', 'movieId', 'rating']], reader)\n",
        "trainset, testset=train_test_split(data, test_size=0.25, random_state=0)\n",
        "\n",
        "algo=SVD(n_factors=50, random_state=0)\n",
        "algo.fit(trainset)\n",
        "predictions=algo.test(testset)\n",
        "accuracy.rmse(predictions)"
      ],
      "metadata": {
        "colab": {
          "base_uri": "https://localhost:8080/"
        },
        "id": "LPBj_j25556F",
        "outputId": "0e9c54a5-ea59-4ace-abbc-317f31084c99"
      },
      "execution_count": 6,
      "outputs": [
        {
          "output_type": "stream",
          "name": "stdout",
          "text": [
            "RMSE: 0.7820\n"
          ]
        },
        {
          "output_type": "execute_result",
          "data": {
            "text/plain": [
              "0.7819971825709526"
            ]
          },
          "metadata": {},
          "execution_count": 6
        }
      ]
    },
    {
      "cell_type": "markdown",
      "source": [
        "# Surprise 추천 알고리즘 클래스"
      ],
      "metadata": {
        "id": "rFDxgbZX59PK"
      }
    },
    {
      "cell_type": "markdown",
      "source": [
        "- 추천 예측을 위해 자주 사용되는 추천 알고리즘 클래스: SVD, KNNBasic, BaselineOnly\n",
        "- surprise SVD의 비용 함수는 사용자 베이스라인 편향성을 감안한 평점 예측에 regularization을 적용\n",
        "- SVD 클래스의 입력 파라미터: n_factors와 n_epochs의 값을 변경해 튜닝할 수 있으나 튜닝 효과는 크지 않다.\n",
        "- 추천 알고리즘 예측 성능 벤치마크 결과: SVD++ 알고리즘의 성적이 가장 좋지만, 시간이 오래 걸린다. SVD++을 제외하면 SVD, k-NN baseline이 가장 성적이 좋다."
      ],
      "metadata": {
        "id": "SOPQC-nr5-t7"
      }
    },
    {
      "cell_type": "markdown",
      "source": [
        "# 베이스라인 평점\n",
        "- 개인의 성형을 반영해 아이템 평가에 편향성 요소를 반영하여 평점을 부과하는 것\n",
        "- 평균 평점 + 사용자 편향 점수 + 아이템 편향 점수 공식으로 계산\n",
        "- 사용자 편향 점수=사용자별 아이템 평점 평균 값 - 전체 평균 평점\n",
        "- 아이템 편향 점수=아이템별 평점 평균 값 - 전체 평균 평점"
      ],
      "metadata": {
        "id": "wS8rCH_YICRb"
      }
    },
    {
      "cell_type": "markdown",
      "source": [
        "# 교차 검증과 하이퍼 파라미터 튜닝\n",
        "- cross_validate()\n",
        "- gridsearchcv()"
      ],
      "metadata": {
        "id": "oN7QiQPV5-89"
      }
    },
    {
      "cell_type": "markdown",
      "source": [
        "# cross_validate"
      ],
      "metadata": {
        "id": "gDVyh5N1JUPG"
      }
    },
    {
      "cell_type": "code",
      "source": [
        "from surprise.model_selection import cross_validate\n",
        "\n",
        "#판다스 df에서 surprise 데이터 세트로 데이터 로딩\n",
        "ratings=pd.read_csv('ratings.csv')\n",
        "reader=Reader(rating_scale=(0.5, 5.0))\n",
        "data=Dataset.load_from_df(ratings[['userId', 'movieId', 'rating']], reader)\n",
        "\n",
        "algo=SVD(random_state=0)\n",
        "cross_validate(algo, data, measures=['RMSE', 'MAE'], cv=5, verbose=True)"
      ],
      "metadata": {
        "id": "18LL9JNd6AyZ"
      },
      "execution_count": null,
      "outputs": []
    },
    {
      "cell_type": "markdown",
      "source": [
        "- cross_validate(): 폴드별 성능 평가 수치와 전체 폴드의 평균 성능 평가 수치를 함께 보여줌"
      ],
      "metadata": {
        "id": "GJzljSai6DTd"
      }
    },
    {
      "cell_type": "markdown",
      "source": [
        "#gridsearchcv"
      ],
      "metadata": {
        "id": "SdYyJpbJJS68"
      }
    },
    {
      "cell_type": "code",
      "source": [
        "from surprise.model_selection import GridSearchCV\n",
        "\n",
        "#최적화할 파라미터를 딕셔너리 형태로 지정.\n",
        "param_grid={'n_epochs':[20, 40, 60],\n",
        "            'n_factors':[50, 100, 200]}\n",
        "\n",
        "#CV를 3개 폴드 세트로 지정, 성능 평가를 rmse, mse로 수행하도록 gridsearchcv 구성\n",
        "gs=GridSearchCV(SVD, param_grid, measures=['rmse', 'mae'], cv=3)\n",
        "gs.fit(data)\n",
        "\n",
        "#최고 RMSE evaluation 점수와 그때의 하이퍼 파라미터\n",
        "print(gs.best_score['rmse'])\n",
        "print(gs.best_params['rmse'])"
      ],
      "metadata": {
        "id": "znnEwJOD6Dm-"
      },
      "execution_count": null,
      "outputs": []
    },
    {
      "cell_type": "markdown",
      "source": [
        "# Surprise를 이용한 개인화 영화 추천 시스템 구축\n",
        "- surprise 패키지로 학습된 추천 알고리즘을 기반으로 특정 사용자가 아직 평점을 매기지 않은 영화 중에서 개인 취향에 가장 적절한 영화를 추천 \n",
        "-> ratings 데이터를 분리하지 않고 전체를 학습 데이터로 사용\n",
        "\n",
        "- surprise는 데이터 세트를 split()을 이용해 내부에서 사용하는 trainset 클래스 객체로 변환하지 않으면 fit으로 학습할 수가 없어, DatasetAutoFolds이용"
      ],
      "metadata": {
        "id": "1F8Kri4p6EIN"
      }
    },
    {
      "cell_type": "code",
      "source": [
        "# 이 코드는 오류 발생\n",
        "\n",
        "#data=Dataset.load_from_df(ratings[['userId', 'movieId', 'rating']], reader)\n",
        "#algo=SVD(n_factors=50, random_state=0)\n",
        "#algo.fit(data)"
      ],
      "metadata": {
        "id": "H1p617cZ6EeH"
      },
      "execution_count": null,
      "outputs": []
    },
    {
      "cell_type": "markdown",
      "source": [
        "# DatasetAutoFolds"
      ],
      "metadata": {
        "id": "DxZf1Xpq6JFh"
      }
    },
    {
      "cell_type": "code",
      "source": [
        "from surprise.dataset import DatasetAutoFolds\n",
        "\n",
        "reader=Reader(line_format='user item rating timestamp', sep=',', rating_scale=(0.5, 5))\n",
        "#datasetaufofolds 클래스를 ratings_noh.csv 기반으로 생성\n",
        "data_folds=DatasetAutoFolds(ratings_file='ratings_noh.csv', reader=reader)\n",
        "\n",
        "#전체 데이터를 학습 데이터로 생성\n",
        "trainset=data_folds.build_full_trainset()"
      ],
      "metadata": {
        "id": "PACRdYOp6JTf"
      },
      "execution_count": null,
      "outputs": []
    },
    {
      "cell_type": "markdown",
      "source": [
        "#build_full_trainset을 이용해 생성된 학습 데이터를 기반으로 학습 수행"
      ],
      "metadata": {
        "id": "-jMFEClWJ0NA"
      }
    },
    {
      "cell_type": "markdown",
      "source": [
        "- SVD"
      ],
      "metadata": {
        "id": "Pk3VQqjZJ2gg"
      }
    },
    {
      "cell_type": "code",
      "source": [
        "algo=SVD(n_epochs=20, n_factors=50, random_state=0)\n",
        "algo.fit(trainset)"
      ],
      "metadata": {
        "id": "Jucyb-Ql6NLy"
      },
      "execution_count": null,
      "outputs": []
    },
    {
      "cell_type": "markdown",
      "source": [
        "- userID =9인 사용자를 지정해 아직 평점을 주지 않은 영화 movieID 42로 선정한 뒤 평점을 계산"
      ],
      "metadata": {
        "id": "q6qbPbVC6OC6"
      }
    },
    {
      "cell_type": "code",
      "source": [
        "#영화에 대한 상세 속성 정보 df 로딩\n",
        "movies=pd.read_csv('movies.csv')\n",
        "\n",
        "#userId=9의 movieId 데이터를 추출해 movieId=42 데이터가 있는지 확인\n",
        "movieIds=ratings[ratings['userId']==9]['movieId']\n",
        "\n",
        "if movieIds[movieIds==42].count()==0:\n",
        "  print('사용자 아이디 9는 영화 아이디 42의 평점 없음')\n",
        "\n",
        "print(movies[movies['movieId']==42])"
      ],
      "metadata": {
        "id": "a0ba8B1i6Oab"
      },
      "execution_count": null,
      "outputs": []
    },
    {
      "cell_type": "markdown",
      "source": [
        "# predict() 이용해 예측"
      ],
      "metadata": {
        "id": "su-dIGeTKLFE"
      }
    },
    {
      "cell_type": "code",
      "source": [
        "uid=str(9)\n",
        "iid=str(42)\n",
        "\n",
        "pred=algo.predict(uid, iid, verbose=True)"
      ],
      "metadata": {
        "id": "iDdc8T9z6Q5x"
      },
      "execution_count": null,
      "outputs": []
    },
    {
      "cell_type": "markdown",
      "source": [
        "- 사용자가 평점을 매기지 않은 전체 영화를 추출 -> 예측 평점 순으로 영화 추천"
      ],
      "metadata": {
        "id": "OXfIxU5O6R4T"
      }
    },
    {
      "cell_type": "markdown",
      "source": [
        "# 아직 평점을 매기지 않은 영화 정보 반환: get_unseen_surprise()"
      ],
      "metadata": {
        "id": "07mVWw7xKb9w"
      }
    },
    {
      "cell_type": "code",
      "source": [
        "def get_unseen_surprise(ratings, movies, userId):\n",
        "  #입력값으로 들어온 userId에 해당하는 사용자가 평점을 매긴 모든 영화를 리스트로 생성\n",
        "  seen_movies=ratings[ratings['userId']==userId]['movieId'].tolist()\n",
        "\n",
        "  #모든 영화의 movieId를 리스트로 생성\n",
        "  total_movies=movies['movieId'].tolist()\n",
        "\n",
        "  #모든 영화의 movieId 중 이미 평점을 매긴 영화의 movieId를 제외한 후 리스트로 생성\n",
        "  unseen_movies=[movie for movie in total_movies if movie not in seen_movies]\n",
        "  print('평점 매긴 영화 수:', len(seen_movies), '추천 대상 영화 수:', len(unseen_movies), '전체 영화 수:', len(total_movies))\n",
        "\n",
        "  return unseen_movies\n",
        "\n",
        "unseen_movies=get_unseen_surprise(ratings, movies, 9)"
      ],
      "metadata": {
        "id": "D52pZ_Qj6STq"
      },
      "execution_count": null,
      "outputs": []
    },
    {
      "cell_type": "markdown",
      "source": [
        "# 학습된 추천 알고리즘 클래스인 SVD를 이용해 높은 예측 평점을 가진 순으로 영화를 추천"
      ],
      "metadata": {
        "id": "q7vQISUr6ToL"
      }
    },
    {
      "cell_type": "code",
      "source": [
        "def recomm_movie_by_surprise(algo, userId, unseen_movies, top_n=10):\n",
        "  #알고리즘 객체의 predict() 메서드를 평점이 없는 영화에 반복 수행한 후 결과를 list로 저장\n",
        "  predictions=[algo.predict(str(userId), str(movieId)) for movieId in unseen_movies]\n",
        "\n",
        "  #predictions list 객체는 surprise의 predictions 객체를 원소로 갖고 있다.\n",
        "  # [Prediction(uid='9', iid='1', est=3.69), Predictions(uid='9', iid='2', est=2.98),,,]\n",
        "\n",
        "  #이를 est 값으로 정렬하기 위해 아리애 sortkey_est 함수 정의\n",
        "  #sortdey_est 함수는 list 객체의 sort() 함수의 키 값으로 사용되어 정렬 수행\n",
        "  def sortkey_est(pred):\n",
        "    return pred.est\n",
        "\n",
        "  #sortkey_est() 반환값의 내림차순으로 정렬 수행하고 top_n개의 최상위 값 추출\n",
        "  predictions.sort(key=sortkey_est, reverse=True)\n",
        "  top_predictions=predictions[:top_n]\n",
        "\n",
        "  #top_n 으로 추출된 영화의 정보 추출. 영화 아이디, 추천 예상 평점, 제목 추출\n",
        "  top_movie_ids=[int(pred.iid) for pred in top_predictions]\n",
        "  top_movie_rating=[pred.est for pred in top_predictions]\n",
        "  top_movie_titles=movies[movies.movieId.isin(top_movie_ids)]['title']\n",
        "  top_movie_preds=[ (id, title, rating) for id, title, rating in zip(top_movie_ids, top_movie_titles, top_movie_rating)]\n",
        "\n",
        "  return top_movie_preds\n",
        "\n",
        "unseen_movies=get_unseen_surprise(ratings, movies, 9)\n",
        "top_movie_preds=recomm_movie_by_surprise(algo, 9, unseen_movies, top_n=10)\n",
        "\n",
        "print('### top-10 추천 영화 리스트 ###')\n",
        "for top_movie in top_movie_preds:\n",
        "  print(top_movie[1], ':', top_movie[2])"
      ],
      "metadata": {
        "id": "POOSUad96T3g"
      },
      "execution_count": null,
      "outputs": []
    }
  ]
}