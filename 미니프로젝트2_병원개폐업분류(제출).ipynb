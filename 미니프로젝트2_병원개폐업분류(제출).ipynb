{
  "nbformat": 4,
  "nbformat_minor": 0,
  "metadata": {
    "colab": {
      "provenance": [],
      "include_colab_link": true
    },
    "kernelspec": {
      "name": "python3",
      "display_name": "Python 3"
    },
    "language_info": {
      "name": "python"
    }
  },
  "cells": [
    {
      "cell_type": "markdown",
      "metadata": {
        "id": "view-in-github",
        "colab_type": "text"
      },
      "source": [
        "<a href=\"https://colab.research.google.com/github/codyub/ESAA/blob/main/%EB%AF%B8%EB%8B%88%ED%94%84%EB%A1%9C%EC%A0%9D%ED%8A%B82_%EB%B3%91%EC%9B%90%EA%B0%9C%ED%8F%90%EC%97%85%EB%B6%84%EB%A5%98(%EC%A0%9C%EC%B6%9C).ipynb\" target=\"_parent\"><img src=\"https://colab.research.google.com/assets/colab-badge.svg\" alt=\"Open In Colab\"/></a>"
      ]
    },
    {
      "cell_type": "markdown",
      "source": [
        "## 필요한 모듈과 데이터 로딩"
      ],
      "metadata": {
        "id": "9QVkBejEMuHf"
      }
    },
    {
      "cell_type": "code",
      "execution_count": 80,
      "metadata": {
        "colab": {
          "base_uri": "https://localhost:8080/"
        },
        "id": "Z1M0l2KiWiEF",
        "outputId": "50b3c073-fd0a-4741-e174-365f55312b03"
      },
      "outputs": [
        {
          "output_type": "stream",
          "name": "stdout",
          "text": [
            "Drive already mounted at /content/drive; to attempt to forcibly remount, call drive.mount(\"/content/drive\", force_remount=True).\n"
          ]
        }
      ],
      "source": [
        "#기본 모듈 불러오기\n",
        "import os\n",
        "import numpy as np\n",
        "import pandas as pd\n",
        "import seaborn as sns\n",
        "import matplotlib.pyplot as plt\n",
        "\n",
        "from google.colab import drive\n",
        "drive.mount('/content/drive')\n",
        "\n",
        "os.chdir(\"/content/drive/MyDrive/ESAA/프로젝트2_병원개폐업_분류예측/9565_hospital_data/\")"
      ]
    },
    {
      "cell_type": "code",
      "source": [
        "#Reading the train and test files\n",
        "train = pd.read_csv('train.csv')\n",
        "test = pd.read_csv('test.csv')\n",
        "submission_sample= pd.read_csv('submission_sample.csv')"
      ],
      "metadata": {
        "id": "jSoxOhSbWpVR"
      },
      "execution_count": 81,
      "outputs": []
    },
    {
      "cell_type": "markdown",
      "source": [
        "## 데이터 전처리"
      ],
      "metadata": {
        "id": "eyoEBZr-MyU6"
      }
    },
    {
      "cell_type": "markdown",
      "source": [
        "### 영향을 미치는 중요한 변수 추출"
      ],
      "metadata": {
        "id": "Fb9F83oXj6S0"
      }
    },
    {
      "cell_type": "code",
      "source": [
        "train = train[['OC','revenue1','profit1','receivableS1','debt1','longLoan1','surplus1','employee1','employee2']]\n",
        "train.head()"
      ],
      "metadata": {
        "colab": {
          "base_uri": "https://localhost:8080/",
          "height": 206
        },
        "id": "7StrZCCphfMp",
        "outputId": "6d5365c2-fd8d-4b5e-c007-7ff3fc47934f"
      },
      "execution_count": 82,
      "outputs": [
        {
          "output_type": "execute_result",
          "data": {
            "text/plain": [
              "     OC      revenue1      profit1  receivableS1         debt1     longLoan1  \\\n",
              "0  open  4.217530e+09  225169678.0  4.700557e+08  6.828260e+08  3.510000e+08   \n",
              "1  open           NaN          NaN           NaN           NaN           NaN   \n",
              "2  open  1.004522e+09   41864754.0  8.095950e+06  9.241434e+07  0.000000e+00   \n",
              "3  open  7.250734e+10  902830288.0  0.000000e+00  4.236380e+10  7.253040e+09   \n",
              "4  open  4.904354e+10   80749696.0  4.099320e+09  4.989811e+10  1.350000e+10   \n",
              "\n",
              "       surplus1  employee1  employee2  \n",
              "0  1.496394e+09       62.0       64.0  \n",
              "1           NaN      801.0      813.0  \n",
              "2  0.000000e+00      234.0        1.0  \n",
              "3  8.643659e+09      663.0      663.0  \n",
              "4  9.025550e+09      206.0      197.0  "
            ],
            "text/html": [
              "\n",
              "  <div id=\"df-b41c99aa-0478-46b8-ab31-7dec5ea31b1a\">\n",
              "    <div class=\"colab-df-container\">\n",
              "      <div>\n",
              "<style scoped>\n",
              "    .dataframe tbody tr th:only-of-type {\n",
              "        vertical-align: middle;\n",
              "    }\n",
              "\n",
              "    .dataframe tbody tr th {\n",
              "        vertical-align: top;\n",
              "    }\n",
              "\n",
              "    .dataframe thead th {\n",
              "        text-align: right;\n",
              "    }\n",
              "</style>\n",
              "<table border=\"1\" class=\"dataframe\">\n",
              "  <thead>\n",
              "    <tr style=\"text-align: right;\">\n",
              "      <th></th>\n",
              "      <th>OC</th>\n",
              "      <th>revenue1</th>\n",
              "      <th>profit1</th>\n",
              "      <th>receivableS1</th>\n",
              "      <th>debt1</th>\n",
              "      <th>longLoan1</th>\n",
              "      <th>surplus1</th>\n",
              "      <th>employee1</th>\n",
              "      <th>employee2</th>\n",
              "    </tr>\n",
              "  </thead>\n",
              "  <tbody>\n",
              "    <tr>\n",
              "      <th>0</th>\n",
              "      <td>open</td>\n",
              "      <td>4.217530e+09</td>\n",
              "      <td>225169678.0</td>\n",
              "      <td>4.700557e+08</td>\n",
              "      <td>6.828260e+08</td>\n",
              "      <td>3.510000e+08</td>\n",
              "      <td>1.496394e+09</td>\n",
              "      <td>62.0</td>\n",
              "      <td>64.0</td>\n",
              "    </tr>\n",
              "    <tr>\n",
              "      <th>1</th>\n",
              "      <td>open</td>\n",
              "      <td>NaN</td>\n",
              "      <td>NaN</td>\n",
              "      <td>NaN</td>\n",
              "      <td>NaN</td>\n",
              "      <td>NaN</td>\n",
              "      <td>NaN</td>\n",
              "      <td>801.0</td>\n",
              "      <td>813.0</td>\n",
              "    </tr>\n",
              "    <tr>\n",
              "      <th>2</th>\n",
              "      <td>open</td>\n",
              "      <td>1.004522e+09</td>\n",
              "      <td>41864754.0</td>\n",
              "      <td>8.095950e+06</td>\n",
              "      <td>9.241434e+07</td>\n",
              "      <td>0.000000e+00</td>\n",
              "      <td>0.000000e+00</td>\n",
              "      <td>234.0</td>\n",
              "      <td>1.0</td>\n",
              "    </tr>\n",
              "    <tr>\n",
              "      <th>3</th>\n",
              "      <td>open</td>\n",
              "      <td>7.250734e+10</td>\n",
              "      <td>902830288.0</td>\n",
              "      <td>0.000000e+00</td>\n",
              "      <td>4.236380e+10</td>\n",
              "      <td>7.253040e+09</td>\n",
              "      <td>8.643659e+09</td>\n",
              "      <td>663.0</td>\n",
              "      <td>663.0</td>\n",
              "    </tr>\n",
              "    <tr>\n",
              "      <th>4</th>\n",
              "      <td>open</td>\n",
              "      <td>4.904354e+10</td>\n",
              "      <td>80749696.0</td>\n",
              "      <td>4.099320e+09</td>\n",
              "      <td>4.989811e+10</td>\n",
              "      <td>1.350000e+10</td>\n",
              "      <td>9.025550e+09</td>\n",
              "      <td>206.0</td>\n",
              "      <td>197.0</td>\n",
              "    </tr>\n",
              "  </tbody>\n",
              "</table>\n",
              "</div>\n",
              "      <button class=\"colab-df-convert\" onclick=\"convertToInteractive('df-b41c99aa-0478-46b8-ab31-7dec5ea31b1a')\"\n",
              "              title=\"Convert this dataframe to an interactive table.\"\n",
              "              style=\"display:none;\">\n",
              "        \n",
              "  <svg xmlns=\"http://www.w3.org/2000/svg\" height=\"24px\"viewBox=\"0 0 24 24\"\n",
              "       width=\"24px\">\n",
              "    <path d=\"M0 0h24v24H0V0z\" fill=\"none\"/>\n",
              "    <path d=\"M18.56 5.44l.94 2.06.94-2.06 2.06-.94-2.06-.94-.94-2.06-.94 2.06-2.06.94zm-11 1L8.5 8.5l.94-2.06 2.06-.94-2.06-.94L8.5 2.5l-.94 2.06-2.06.94zm10 10l.94 2.06.94-2.06 2.06-.94-2.06-.94-.94-2.06-.94 2.06-2.06.94z\"/><path d=\"M17.41 7.96l-1.37-1.37c-.4-.4-.92-.59-1.43-.59-.52 0-1.04.2-1.43.59L10.3 9.45l-7.72 7.72c-.78.78-.78 2.05 0 2.83L4 21.41c.39.39.9.59 1.41.59.51 0 1.02-.2 1.41-.59l7.78-7.78 2.81-2.81c.8-.78.8-2.07 0-2.86zM5.41 20L4 18.59l7.72-7.72 1.47 1.35L5.41 20z\"/>\n",
              "  </svg>\n",
              "      </button>\n",
              "      \n",
              "  <style>\n",
              "    .colab-df-container {\n",
              "      display:flex;\n",
              "      flex-wrap:wrap;\n",
              "      gap: 12px;\n",
              "    }\n",
              "\n",
              "    .colab-df-convert {\n",
              "      background-color: #E8F0FE;\n",
              "      border: none;\n",
              "      border-radius: 50%;\n",
              "      cursor: pointer;\n",
              "      display: none;\n",
              "      fill: #1967D2;\n",
              "      height: 32px;\n",
              "      padding: 0 0 0 0;\n",
              "      width: 32px;\n",
              "    }\n",
              "\n",
              "    .colab-df-convert:hover {\n",
              "      background-color: #E2EBFA;\n",
              "      box-shadow: 0px 1px 2px rgba(60, 64, 67, 0.3), 0px 1px 3px 1px rgba(60, 64, 67, 0.15);\n",
              "      fill: #174EA6;\n",
              "    }\n",
              "\n",
              "    [theme=dark] .colab-df-convert {\n",
              "      background-color: #3B4455;\n",
              "      fill: #D2E3FC;\n",
              "    }\n",
              "\n",
              "    [theme=dark] .colab-df-convert:hover {\n",
              "      background-color: #434B5C;\n",
              "      box-shadow: 0px 1px 3px 1px rgba(0, 0, 0, 0.15);\n",
              "      filter: drop-shadow(0px 1px 2px rgba(0, 0, 0, 0.3));\n",
              "      fill: #FFFFFF;\n",
              "    }\n",
              "  </style>\n",
              "\n",
              "      <script>\n",
              "        const buttonEl =\n",
              "          document.querySelector('#df-b41c99aa-0478-46b8-ab31-7dec5ea31b1a button.colab-df-convert');\n",
              "        buttonEl.style.display =\n",
              "          google.colab.kernel.accessAllowed ? 'block' : 'none';\n",
              "\n",
              "        async function convertToInteractive(key) {\n",
              "          const element = document.querySelector('#df-b41c99aa-0478-46b8-ab31-7dec5ea31b1a');\n",
              "          const dataTable =\n",
              "            await google.colab.kernel.invokeFunction('convertToInteractive',\n",
              "                                                     [key], {});\n",
              "          if (!dataTable) return;\n",
              "\n",
              "          const docLinkHtml = 'Like what you see? Visit the ' +\n",
              "            '<a target=\"_blank\" href=https://colab.research.google.com/notebooks/data_table.ipynb>data table notebook</a>'\n",
              "            + ' to learn more about interactive tables.';\n",
              "          element.innerHTML = '';\n",
              "          dataTable['output_type'] = 'display_data';\n",
              "          await google.colab.output.renderOutput(dataTable, element);\n",
              "          const docLink = document.createElement('div');\n",
              "          docLink.innerHTML = docLinkHtml;\n",
              "          element.appendChild(docLink);\n",
              "        }\n",
              "      </script>\n",
              "    </div>\n",
              "  </div>\n",
              "  "
            ]
          },
          "metadata": {},
          "execution_count": 82
        }
      ]
    },
    {
      "cell_type": "code",
      "source": [
        "test = test[['revenue1','profit1','receivableS1','debt1','longLoan1','surplus1','employee1','employee2']]\n",
        "test.head()"
      ],
      "metadata": {
        "colab": {
          "base_uri": "https://localhost:8080/",
          "height": 206
        },
        "id": "Dijlvx8RjzxP",
        "outputId": "0044dc56-9f79-4ddc-88d3-6eb28d3e646b"
      },
      "execution_count": 83,
      "outputs": [
        {
          "output_type": "execute_result",
          "data": {
            "text/plain": [
              "       revenue1       profit1  receivableS1         debt1     longLoan1  \\\n",
              "0  6.682486e+10  5.036692e+08  7.242580e+08  6.769090e+10  6.319097e+09   \n",
              "1  3.495758e+10  4.525557e+08  6.610290e+08  6.626737e+10  1.720000e+10   \n",
              "2  2.326031e+10 -2.148749e+09  7.337107e+09  0.000000e+00  0.000000e+00   \n",
              "3  0.000000e+00  2.789663e+09  0.000000e+00  2.891880e+10  0.000000e+00   \n",
              "4  5.037025e+10  3.346675e+09  1.104000e+08  4.921637e+10  9.976421e+09   \n",
              "\n",
              "       surplus1 employee1 employee2  \n",
              "0  8.944587e+09       693       693  \n",
              "1  1.046277e+10       379       371  \n",
              "2  1.638540e+10       NaN       NaN  \n",
              "3  0.000000e+00       760       760  \n",
              "4  1.492691e+10       437       385  "
            ],
            "text/html": [
              "\n",
              "  <div id=\"df-2be76335-f5af-4622-b662-7ab3d12f8ff0\">\n",
              "    <div class=\"colab-df-container\">\n",
              "      <div>\n",
              "<style scoped>\n",
              "    .dataframe tbody tr th:only-of-type {\n",
              "        vertical-align: middle;\n",
              "    }\n",
              "\n",
              "    .dataframe tbody tr th {\n",
              "        vertical-align: top;\n",
              "    }\n",
              "\n",
              "    .dataframe thead th {\n",
              "        text-align: right;\n",
              "    }\n",
              "</style>\n",
              "<table border=\"1\" class=\"dataframe\">\n",
              "  <thead>\n",
              "    <tr style=\"text-align: right;\">\n",
              "      <th></th>\n",
              "      <th>revenue1</th>\n",
              "      <th>profit1</th>\n",
              "      <th>receivableS1</th>\n",
              "      <th>debt1</th>\n",
              "      <th>longLoan1</th>\n",
              "      <th>surplus1</th>\n",
              "      <th>employee1</th>\n",
              "      <th>employee2</th>\n",
              "    </tr>\n",
              "  </thead>\n",
              "  <tbody>\n",
              "    <tr>\n",
              "      <th>0</th>\n",
              "      <td>6.682486e+10</td>\n",
              "      <td>5.036692e+08</td>\n",
              "      <td>7.242580e+08</td>\n",
              "      <td>6.769090e+10</td>\n",
              "      <td>6.319097e+09</td>\n",
              "      <td>8.944587e+09</td>\n",
              "      <td>693</td>\n",
              "      <td>693</td>\n",
              "    </tr>\n",
              "    <tr>\n",
              "      <th>1</th>\n",
              "      <td>3.495758e+10</td>\n",
              "      <td>4.525557e+08</td>\n",
              "      <td>6.610290e+08</td>\n",
              "      <td>6.626737e+10</td>\n",
              "      <td>1.720000e+10</td>\n",
              "      <td>1.046277e+10</td>\n",
              "      <td>379</td>\n",
              "      <td>371</td>\n",
              "    </tr>\n",
              "    <tr>\n",
              "      <th>2</th>\n",
              "      <td>2.326031e+10</td>\n",
              "      <td>-2.148749e+09</td>\n",
              "      <td>7.337107e+09</td>\n",
              "      <td>0.000000e+00</td>\n",
              "      <td>0.000000e+00</td>\n",
              "      <td>1.638540e+10</td>\n",
              "      <td>NaN</td>\n",
              "      <td>NaN</td>\n",
              "    </tr>\n",
              "    <tr>\n",
              "      <th>3</th>\n",
              "      <td>0.000000e+00</td>\n",
              "      <td>2.789663e+09</td>\n",
              "      <td>0.000000e+00</td>\n",
              "      <td>2.891880e+10</td>\n",
              "      <td>0.000000e+00</td>\n",
              "      <td>0.000000e+00</td>\n",
              "      <td>760</td>\n",
              "      <td>760</td>\n",
              "    </tr>\n",
              "    <tr>\n",
              "      <th>4</th>\n",
              "      <td>5.037025e+10</td>\n",
              "      <td>3.346675e+09</td>\n",
              "      <td>1.104000e+08</td>\n",
              "      <td>4.921637e+10</td>\n",
              "      <td>9.976421e+09</td>\n",
              "      <td>1.492691e+10</td>\n",
              "      <td>437</td>\n",
              "      <td>385</td>\n",
              "    </tr>\n",
              "  </tbody>\n",
              "</table>\n",
              "</div>\n",
              "      <button class=\"colab-df-convert\" onclick=\"convertToInteractive('df-2be76335-f5af-4622-b662-7ab3d12f8ff0')\"\n",
              "              title=\"Convert this dataframe to an interactive table.\"\n",
              "              style=\"display:none;\">\n",
              "        \n",
              "  <svg xmlns=\"http://www.w3.org/2000/svg\" height=\"24px\"viewBox=\"0 0 24 24\"\n",
              "       width=\"24px\">\n",
              "    <path d=\"M0 0h24v24H0V0z\" fill=\"none\"/>\n",
              "    <path d=\"M18.56 5.44l.94 2.06.94-2.06 2.06-.94-2.06-.94-.94-2.06-.94 2.06-2.06.94zm-11 1L8.5 8.5l.94-2.06 2.06-.94-2.06-.94L8.5 2.5l-.94 2.06-2.06.94zm10 10l.94 2.06.94-2.06 2.06-.94-2.06-.94-.94-2.06-.94 2.06-2.06.94z\"/><path d=\"M17.41 7.96l-1.37-1.37c-.4-.4-.92-.59-1.43-.59-.52 0-1.04.2-1.43.59L10.3 9.45l-7.72 7.72c-.78.78-.78 2.05 0 2.83L4 21.41c.39.39.9.59 1.41.59.51 0 1.02-.2 1.41-.59l7.78-7.78 2.81-2.81c.8-.78.8-2.07 0-2.86zM5.41 20L4 18.59l7.72-7.72 1.47 1.35L5.41 20z\"/>\n",
              "  </svg>\n",
              "      </button>\n",
              "      \n",
              "  <style>\n",
              "    .colab-df-container {\n",
              "      display:flex;\n",
              "      flex-wrap:wrap;\n",
              "      gap: 12px;\n",
              "    }\n",
              "\n",
              "    .colab-df-convert {\n",
              "      background-color: #E8F0FE;\n",
              "      border: none;\n",
              "      border-radius: 50%;\n",
              "      cursor: pointer;\n",
              "      display: none;\n",
              "      fill: #1967D2;\n",
              "      height: 32px;\n",
              "      padding: 0 0 0 0;\n",
              "      width: 32px;\n",
              "    }\n",
              "\n",
              "    .colab-df-convert:hover {\n",
              "      background-color: #E2EBFA;\n",
              "      box-shadow: 0px 1px 2px rgba(60, 64, 67, 0.3), 0px 1px 3px 1px rgba(60, 64, 67, 0.15);\n",
              "      fill: #174EA6;\n",
              "    }\n",
              "\n",
              "    [theme=dark] .colab-df-convert {\n",
              "      background-color: #3B4455;\n",
              "      fill: #D2E3FC;\n",
              "    }\n",
              "\n",
              "    [theme=dark] .colab-df-convert:hover {\n",
              "      background-color: #434B5C;\n",
              "      box-shadow: 0px 1px 3px 1px rgba(0, 0, 0, 0.15);\n",
              "      filter: drop-shadow(0px 1px 2px rgba(0, 0, 0, 0.3));\n",
              "      fill: #FFFFFF;\n",
              "    }\n",
              "  </style>\n",
              "\n",
              "      <script>\n",
              "        const buttonEl =\n",
              "          document.querySelector('#df-2be76335-f5af-4622-b662-7ab3d12f8ff0 button.colab-df-convert');\n",
              "        buttonEl.style.display =\n",
              "          google.colab.kernel.accessAllowed ? 'block' : 'none';\n",
              "\n",
              "        async function convertToInteractive(key) {\n",
              "          const element = document.querySelector('#df-2be76335-f5af-4622-b662-7ab3d12f8ff0');\n",
              "          const dataTable =\n",
              "            await google.colab.kernel.invokeFunction('convertToInteractive',\n",
              "                                                     [key], {});\n",
              "          if (!dataTable) return;\n",
              "\n",
              "          const docLinkHtml = 'Like what you see? Visit the ' +\n",
              "            '<a target=\"_blank\" href=https://colab.research.google.com/notebooks/data_table.ipynb>data table notebook</a>'\n",
              "            + ' to learn more about interactive tables.';\n",
              "          element.innerHTML = '';\n",
              "          dataTable['output_type'] = 'display_data';\n",
              "          await google.colab.output.renderOutput(dataTable, element);\n",
              "          const docLink = document.createElement('div');\n",
              "          docLink.innerHTML = docLinkHtml;\n",
              "          element.appendChild(docLink);\n",
              "        }\n",
              "      </script>\n",
              "    </div>\n",
              "  </div>\n",
              "  "
            ]
          },
          "metadata": {},
          "execution_count": 83
        }
      ]
    },
    {
      "cell_type": "markdown",
      "source": [
        "### 데이터 기본 정보 확인"
      ],
      "metadata": {
        "id": "Vel8i7Wnjx3y"
      }
    },
    {
      "cell_type": "code",
      "source": [
        "train.shape # 301개의 instance와 10개의 피처가 있음. "
      ],
      "metadata": {
        "colab": {
          "base_uri": "https://localhost:8080/"
        },
        "id": "V5aZerKWj9dz",
        "outputId": "0a283c33-e7fc-444b-d6ed-43899dd37bb9"
      },
      "execution_count": 84,
      "outputs": [
        {
          "output_type": "execute_result",
          "data": {
            "text/plain": [
              "(301, 9)"
            ]
          },
          "metadata": {},
          "execution_count": 84
        }
      ]
    },
    {
      "cell_type": "code",
      "source": [
        "train.info()   # 피처의 타입과 Null 값 알아보기"
      ],
      "metadata": {
        "colab": {
          "base_uri": "https://localhost:8080/"
        },
        "id": "WhLXiu2ekF_m",
        "outputId": "ec5893d8-ca91-404f-982c-0a098fa87d38"
      },
      "execution_count": 85,
      "outputs": [
        {
          "output_type": "stream",
          "name": "stdout",
          "text": [
            "<class 'pandas.core.frame.DataFrame'>\n",
            "RangeIndex: 301 entries, 0 to 300\n",
            "Data columns (total 9 columns):\n",
            " #   Column        Non-Null Count  Dtype  \n",
            "---  ------        --------------  -----  \n",
            " 0   OC            301 non-null    object \n",
            " 1   revenue1      293 non-null    float64\n",
            " 2   profit1       293 non-null    float64\n",
            " 3   receivableS1  293 non-null    float64\n",
            " 4   debt1         293 non-null    float64\n",
            " 5   longLoan1     293 non-null    float64\n",
            " 6   surplus1      293 non-null    float64\n",
            " 7   employee1     291 non-null    float64\n",
            " 8   employee2     288 non-null    float64\n",
            "dtypes: float64(8), object(1)\n",
            "memory usage: 21.3+ KB\n"
          ]
        }
      ]
    },
    {
      "cell_type": "code",
      "source": [
        "train['OC'].value_counts() # 불균형 데이터임을 확인할 수 있다"
      ],
      "metadata": {
        "colab": {
          "base_uri": "https://localhost:8080/"
        },
        "id": "rVSTVCAwkNjK",
        "outputId": "4d79282d-28f8-4f07-c476-ad31e8c8c0b5"
      },
      "execution_count": 86,
      "outputs": [
        {
          "output_type": "execute_result",
          "data": {
            "text/plain": [
              "open      286\n",
              " close     15\n",
              "Name: OC, dtype: int64"
            ]
          },
          "metadata": {},
          "execution_count": 86
        }
      ]
    },
    {
      "cell_type": "code",
      "source": [
        "train.describe()      # 각 피처의 값 분포 간단히 확인"
      ],
      "metadata": {
        "colab": {
          "base_uri": "https://localhost:8080/",
          "height": 300
        },
        "id": "PDzLkPpCkVEy",
        "outputId": "0baf6438-5ef7-4561-f842-0d20b9162f04"
      },
      "execution_count": 87,
      "outputs": [
        {
          "output_type": "execute_result",
          "data": {
            "text/plain": [
              "           revenue1       profit1  receivableS1         debt1     longLoan1  \\\n",
              "count  2.930000e+02  2.930000e+02  2.930000e+02  2.930000e+02  2.930000e+02   \n",
              "mean   1.288175e+10  2.101700e+08  6.975862e+08  8.765310e+09  2.646564e+09   \n",
              "std    2.043543e+10  1.134673e+09  1.455332e+09  1.286112e+10  4.697523e+09   \n",
              "min    0.000000e+00 -4.696701e+09  0.000000e+00  0.000000e+00  0.000000e+00   \n",
              "25%    3.252112e+09 -2.168279e+06  0.000000e+00  1.953077e+09  0.000000e+00   \n",
              "50%    5.524218e+09  8.130751e+07  2.158564e+08  4.457667e+09  1.136776e+09   \n",
              "75%    1.274839e+10  2.930329e+08  6.940605e+08  9.437917e+09  3.327098e+09   \n",
              "max    1.510000e+11  7.475427e+09  1.409257e+10  8.669725e+10  4.112490e+10   \n",
              "\n",
              "           surplus1    employee1    employee2  \n",
              "count  2.930000e+02   291.000000   288.000000  \n",
              "mean   1.265935e+09   142.546392   134.326389  \n",
              "std    8.248321e+09   160.191073   151.061786  \n",
              "min   -2.914970e+09     0.000000     0.000000  \n",
              "25%    0.000000e+00    53.500000    53.750000  \n",
              "50%    0.000000e+00    80.000000    79.000000  \n",
              "75%    1.261600e+08   181.500000   170.000000  \n",
              "max    1.340000e+11  1200.000000  1200.000000  "
            ],
            "text/html": [
              "\n",
              "  <div id=\"df-4d312bc7-849e-4af8-9275-f63e645397e7\">\n",
              "    <div class=\"colab-df-container\">\n",
              "      <div>\n",
              "<style scoped>\n",
              "    .dataframe tbody tr th:only-of-type {\n",
              "        vertical-align: middle;\n",
              "    }\n",
              "\n",
              "    .dataframe tbody tr th {\n",
              "        vertical-align: top;\n",
              "    }\n",
              "\n",
              "    .dataframe thead th {\n",
              "        text-align: right;\n",
              "    }\n",
              "</style>\n",
              "<table border=\"1\" class=\"dataframe\">\n",
              "  <thead>\n",
              "    <tr style=\"text-align: right;\">\n",
              "      <th></th>\n",
              "      <th>revenue1</th>\n",
              "      <th>profit1</th>\n",
              "      <th>receivableS1</th>\n",
              "      <th>debt1</th>\n",
              "      <th>longLoan1</th>\n",
              "      <th>surplus1</th>\n",
              "      <th>employee1</th>\n",
              "      <th>employee2</th>\n",
              "    </tr>\n",
              "  </thead>\n",
              "  <tbody>\n",
              "    <tr>\n",
              "      <th>count</th>\n",
              "      <td>2.930000e+02</td>\n",
              "      <td>2.930000e+02</td>\n",
              "      <td>2.930000e+02</td>\n",
              "      <td>2.930000e+02</td>\n",
              "      <td>2.930000e+02</td>\n",
              "      <td>2.930000e+02</td>\n",
              "      <td>291.000000</td>\n",
              "      <td>288.000000</td>\n",
              "    </tr>\n",
              "    <tr>\n",
              "      <th>mean</th>\n",
              "      <td>1.288175e+10</td>\n",
              "      <td>2.101700e+08</td>\n",
              "      <td>6.975862e+08</td>\n",
              "      <td>8.765310e+09</td>\n",
              "      <td>2.646564e+09</td>\n",
              "      <td>1.265935e+09</td>\n",
              "      <td>142.546392</td>\n",
              "      <td>134.326389</td>\n",
              "    </tr>\n",
              "    <tr>\n",
              "      <th>std</th>\n",
              "      <td>2.043543e+10</td>\n",
              "      <td>1.134673e+09</td>\n",
              "      <td>1.455332e+09</td>\n",
              "      <td>1.286112e+10</td>\n",
              "      <td>4.697523e+09</td>\n",
              "      <td>8.248321e+09</td>\n",
              "      <td>160.191073</td>\n",
              "      <td>151.061786</td>\n",
              "    </tr>\n",
              "    <tr>\n",
              "      <th>min</th>\n",
              "      <td>0.000000e+00</td>\n",
              "      <td>-4.696701e+09</td>\n",
              "      <td>0.000000e+00</td>\n",
              "      <td>0.000000e+00</td>\n",
              "      <td>0.000000e+00</td>\n",
              "      <td>-2.914970e+09</td>\n",
              "      <td>0.000000</td>\n",
              "      <td>0.000000</td>\n",
              "    </tr>\n",
              "    <tr>\n",
              "      <th>25%</th>\n",
              "      <td>3.252112e+09</td>\n",
              "      <td>-2.168279e+06</td>\n",
              "      <td>0.000000e+00</td>\n",
              "      <td>1.953077e+09</td>\n",
              "      <td>0.000000e+00</td>\n",
              "      <td>0.000000e+00</td>\n",
              "      <td>53.500000</td>\n",
              "      <td>53.750000</td>\n",
              "    </tr>\n",
              "    <tr>\n",
              "      <th>50%</th>\n",
              "      <td>5.524218e+09</td>\n",
              "      <td>8.130751e+07</td>\n",
              "      <td>2.158564e+08</td>\n",
              "      <td>4.457667e+09</td>\n",
              "      <td>1.136776e+09</td>\n",
              "      <td>0.000000e+00</td>\n",
              "      <td>80.000000</td>\n",
              "      <td>79.000000</td>\n",
              "    </tr>\n",
              "    <tr>\n",
              "      <th>75%</th>\n",
              "      <td>1.274839e+10</td>\n",
              "      <td>2.930329e+08</td>\n",
              "      <td>6.940605e+08</td>\n",
              "      <td>9.437917e+09</td>\n",
              "      <td>3.327098e+09</td>\n",
              "      <td>1.261600e+08</td>\n",
              "      <td>181.500000</td>\n",
              "      <td>170.000000</td>\n",
              "    </tr>\n",
              "    <tr>\n",
              "      <th>max</th>\n",
              "      <td>1.510000e+11</td>\n",
              "      <td>7.475427e+09</td>\n",
              "      <td>1.409257e+10</td>\n",
              "      <td>8.669725e+10</td>\n",
              "      <td>4.112490e+10</td>\n",
              "      <td>1.340000e+11</td>\n",
              "      <td>1200.000000</td>\n",
              "      <td>1200.000000</td>\n",
              "    </tr>\n",
              "  </tbody>\n",
              "</table>\n",
              "</div>\n",
              "      <button class=\"colab-df-convert\" onclick=\"convertToInteractive('df-4d312bc7-849e-4af8-9275-f63e645397e7')\"\n",
              "              title=\"Convert this dataframe to an interactive table.\"\n",
              "              style=\"display:none;\">\n",
              "        \n",
              "  <svg xmlns=\"http://www.w3.org/2000/svg\" height=\"24px\"viewBox=\"0 0 24 24\"\n",
              "       width=\"24px\">\n",
              "    <path d=\"M0 0h24v24H0V0z\" fill=\"none\"/>\n",
              "    <path d=\"M18.56 5.44l.94 2.06.94-2.06 2.06-.94-2.06-.94-.94-2.06-.94 2.06-2.06.94zm-11 1L8.5 8.5l.94-2.06 2.06-.94-2.06-.94L8.5 2.5l-.94 2.06-2.06.94zm10 10l.94 2.06.94-2.06 2.06-.94-2.06-.94-.94-2.06-.94 2.06-2.06.94z\"/><path d=\"M17.41 7.96l-1.37-1.37c-.4-.4-.92-.59-1.43-.59-.52 0-1.04.2-1.43.59L10.3 9.45l-7.72 7.72c-.78.78-.78 2.05 0 2.83L4 21.41c.39.39.9.59 1.41.59.51 0 1.02-.2 1.41-.59l7.78-7.78 2.81-2.81c.8-.78.8-2.07 0-2.86zM5.41 20L4 18.59l7.72-7.72 1.47 1.35L5.41 20z\"/>\n",
              "  </svg>\n",
              "      </button>\n",
              "      \n",
              "  <style>\n",
              "    .colab-df-container {\n",
              "      display:flex;\n",
              "      flex-wrap:wrap;\n",
              "      gap: 12px;\n",
              "    }\n",
              "\n",
              "    .colab-df-convert {\n",
              "      background-color: #E8F0FE;\n",
              "      border: none;\n",
              "      border-radius: 50%;\n",
              "      cursor: pointer;\n",
              "      display: none;\n",
              "      fill: #1967D2;\n",
              "      height: 32px;\n",
              "      padding: 0 0 0 0;\n",
              "      width: 32px;\n",
              "    }\n",
              "\n",
              "    .colab-df-convert:hover {\n",
              "      background-color: #E2EBFA;\n",
              "      box-shadow: 0px 1px 2px rgba(60, 64, 67, 0.3), 0px 1px 3px 1px rgba(60, 64, 67, 0.15);\n",
              "      fill: #174EA6;\n",
              "    }\n",
              "\n",
              "    [theme=dark] .colab-df-convert {\n",
              "      background-color: #3B4455;\n",
              "      fill: #D2E3FC;\n",
              "    }\n",
              "\n",
              "    [theme=dark] .colab-df-convert:hover {\n",
              "      background-color: #434B5C;\n",
              "      box-shadow: 0px 1px 3px 1px rgba(0, 0, 0, 0.15);\n",
              "      filter: drop-shadow(0px 1px 2px rgba(0, 0, 0, 0.3));\n",
              "      fill: #FFFFFF;\n",
              "    }\n",
              "  </style>\n",
              "\n",
              "      <script>\n",
              "        const buttonEl =\n",
              "          document.querySelector('#df-4d312bc7-849e-4af8-9275-f63e645397e7 button.colab-df-convert');\n",
              "        buttonEl.style.display =\n",
              "          google.colab.kernel.accessAllowed ? 'block' : 'none';\n",
              "\n",
              "        async function convertToInteractive(key) {\n",
              "          const element = document.querySelector('#df-4d312bc7-849e-4af8-9275-f63e645397e7');\n",
              "          const dataTable =\n",
              "            await google.colab.kernel.invokeFunction('convertToInteractive',\n",
              "                                                     [key], {});\n",
              "          if (!dataTable) return;\n",
              "\n",
              "          const docLinkHtml = 'Like what you see? Visit the ' +\n",
              "            '<a target=\"_blank\" href=https://colab.research.google.com/notebooks/data_table.ipynb>data table notebook</a>'\n",
              "            + ' to learn more about interactive tables.';\n",
              "          element.innerHTML = '';\n",
              "          dataTable['output_type'] = 'display_data';\n",
              "          await google.colab.output.renderOutput(dataTable, element);\n",
              "          const docLink = document.createElement('div');\n",
              "          docLink.innerHTML = docLinkHtml;\n",
              "          element.appendChild(docLink);\n",
              "        }\n",
              "      </script>\n",
              "    </div>\n",
              "  </div>\n",
              "  "
            ]
          },
          "metadata": {},
          "execution_count": 87
        }
      ]
    },
    {
      "cell_type": "markdown",
      "source": [
        "> 문제점: 직원의 min값이 0 /revenue가 0\n",
        "--> 해결책: NAN 값인 것으로 추정하여 변환했을 것."
      ],
      "metadata": {
        "id": "pi8rCetmkiSK"
      }
    },
    {
      "cell_type": "code",
      "source": [
        "train.isna().sum()     # NaN 값 있는지 확인"
      ],
      "metadata": {
        "colab": {
          "base_uri": "https://localhost:8080/"
        },
        "id": "l7O6KCT0k94l",
        "outputId": "0dc16668-d98b-42e8-8141-b072b606c5b6"
      },
      "execution_count": 88,
      "outputs": [
        {
          "output_type": "execute_result",
          "data": {
            "text/plain": [
              "OC               0\n",
              "revenue1         8\n",
              "profit1          8\n",
              "receivableS1     8\n",
              "debt1            8\n",
              "longLoan1        8\n",
              "surplus1         8\n",
              "employee1       10\n",
              "employee2       13\n",
              "dtype: int64"
            ]
          },
          "metadata": {},
          "execution_count": 88
        }
      ]
    },
    {
      "cell_type": "markdown",
      "source": [
        "### train 데이터 결측치 처리"
      ],
      "metadata": {
        "id": "2boVB2Wzk7Cu"
      }
    },
    {
      "cell_type": "code",
      "source": [
        "for i in ['revenue1','profit1','receivableS1','debt1','longLoan1','surplus1','employee1','employee2']:\n",
        "  train[i] = train[i].fillna(train[i].mean())\n",
        "\n",
        "train.head()"
      ],
      "metadata": {
        "colab": {
          "base_uri": "https://localhost:8080/",
          "height": 206
        },
        "id": "9ugxd372lvHd",
        "outputId": "7dceeecd-e30e-4240-dce4-69286b0a8ab6"
      },
      "execution_count": 89,
      "outputs": [
        {
          "output_type": "execute_result",
          "data": {
            "text/plain": [
              "     OC      revenue1       profit1  receivableS1         debt1     longLoan1  \\\n",
              "0  open  4.217530e+09  2.251697e+08  4.700557e+08  6.828260e+08  3.510000e+08   \n",
              "1  open  1.288175e+10  2.101700e+08  6.975862e+08  8.765310e+09  2.646564e+09   \n",
              "2  open  1.004522e+09  4.186475e+07  8.095950e+06  9.241434e+07  0.000000e+00   \n",
              "3  open  7.250734e+10  9.028303e+08  0.000000e+00  4.236380e+10  7.253040e+09   \n",
              "4  open  4.904354e+10  8.074970e+07  4.099320e+09  4.989811e+10  1.350000e+10   \n",
              "\n",
              "       surplus1  employee1  employee2  \n",
              "0  1.496394e+09       62.0       64.0  \n",
              "1  1.265935e+09      801.0      813.0  \n",
              "2  0.000000e+00      234.0        1.0  \n",
              "3  8.643659e+09      663.0      663.0  \n",
              "4  9.025550e+09      206.0      197.0  "
            ],
            "text/html": [
              "\n",
              "  <div id=\"df-80ecb2b1-89f9-4e41-ae8c-0a5c4d44b1cf\">\n",
              "    <div class=\"colab-df-container\">\n",
              "      <div>\n",
              "<style scoped>\n",
              "    .dataframe tbody tr th:only-of-type {\n",
              "        vertical-align: middle;\n",
              "    }\n",
              "\n",
              "    .dataframe tbody tr th {\n",
              "        vertical-align: top;\n",
              "    }\n",
              "\n",
              "    .dataframe thead th {\n",
              "        text-align: right;\n",
              "    }\n",
              "</style>\n",
              "<table border=\"1\" class=\"dataframe\">\n",
              "  <thead>\n",
              "    <tr style=\"text-align: right;\">\n",
              "      <th></th>\n",
              "      <th>OC</th>\n",
              "      <th>revenue1</th>\n",
              "      <th>profit1</th>\n",
              "      <th>receivableS1</th>\n",
              "      <th>debt1</th>\n",
              "      <th>longLoan1</th>\n",
              "      <th>surplus1</th>\n",
              "      <th>employee1</th>\n",
              "      <th>employee2</th>\n",
              "    </tr>\n",
              "  </thead>\n",
              "  <tbody>\n",
              "    <tr>\n",
              "      <th>0</th>\n",
              "      <td>open</td>\n",
              "      <td>4.217530e+09</td>\n",
              "      <td>2.251697e+08</td>\n",
              "      <td>4.700557e+08</td>\n",
              "      <td>6.828260e+08</td>\n",
              "      <td>3.510000e+08</td>\n",
              "      <td>1.496394e+09</td>\n",
              "      <td>62.0</td>\n",
              "      <td>64.0</td>\n",
              "    </tr>\n",
              "    <tr>\n",
              "      <th>1</th>\n",
              "      <td>open</td>\n",
              "      <td>1.288175e+10</td>\n",
              "      <td>2.101700e+08</td>\n",
              "      <td>6.975862e+08</td>\n",
              "      <td>8.765310e+09</td>\n",
              "      <td>2.646564e+09</td>\n",
              "      <td>1.265935e+09</td>\n",
              "      <td>801.0</td>\n",
              "      <td>813.0</td>\n",
              "    </tr>\n",
              "    <tr>\n",
              "      <th>2</th>\n",
              "      <td>open</td>\n",
              "      <td>1.004522e+09</td>\n",
              "      <td>4.186475e+07</td>\n",
              "      <td>8.095950e+06</td>\n",
              "      <td>9.241434e+07</td>\n",
              "      <td>0.000000e+00</td>\n",
              "      <td>0.000000e+00</td>\n",
              "      <td>234.0</td>\n",
              "      <td>1.0</td>\n",
              "    </tr>\n",
              "    <tr>\n",
              "      <th>3</th>\n",
              "      <td>open</td>\n",
              "      <td>7.250734e+10</td>\n",
              "      <td>9.028303e+08</td>\n",
              "      <td>0.000000e+00</td>\n",
              "      <td>4.236380e+10</td>\n",
              "      <td>7.253040e+09</td>\n",
              "      <td>8.643659e+09</td>\n",
              "      <td>663.0</td>\n",
              "      <td>663.0</td>\n",
              "    </tr>\n",
              "    <tr>\n",
              "      <th>4</th>\n",
              "      <td>open</td>\n",
              "      <td>4.904354e+10</td>\n",
              "      <td>8.074970e+07</td>\n",
              "      <td>4.099320e+09</td>\n",
              "      <td>4.989811e+10</td>\n",
              "      <td>1.350000e+10</td>\n",
              "      <td>9.025550e+09</td>\n",
              "      <td>206.0</td>\n",
              "      <td>197.0</td>\n",
              "    </tr>\n",
              "  </tbody>\n",
              "</table>\n",
              "</div>\n",
              "      <button class=\"colab-df-convert\" onclick=\"convertToInteractive('df-80ecb2b1-89f9-4e41-ae8c-0a5c4d44b1cf')\"\n",
              "              title=\"Convert this dataframe to an interactive table.\"\n",
              "              style=\"display:none;\">\n",
              "        \n",
              "  <svg xmlns=\"http://www.w3.org/2000/svg\" height=\"24px\"viewBox=\"0 0 24 24\"\n",
              "       width=\"24px\">\n",
              "    <path d=\"M0 0h24v24H0V0z\" fill=\"none\"/>\n",
              "    <path d=\"M18.56 5.44l.94 2.06.94-2.06 2.06-.94-2.06-.94-.94-2.06-.94 2.06-2.06.94zm-11 1L8.5 8.5l.94-2.06 2.06-.94-2.06-.94L8.5 2.5l-.94 2.06-2.06.94zm10 10l.94 2.06.94-2.06 2.06-.94-2.06-.94-.94-2.06-.94 2.06-2.06.94z\"/><path d=\"M17.41 7.96l-1.37-1.37c-.4-.4-.92-.59-1.43-.59-.52 0-1.04.2-1.43.59L10.3 9.45l-7.72 7.72c-.78.78-.78 2.05 0 2.83L4 21.41c.39.39.9.59 1.41.59.51 0 1.02-.2 1.41-.59l7.78-7.78 2.81-2.81c.8-.78.8-2.07 0-2.86zM5.41 20L4 18.59l7.72-7.72 1.47 1.35L5.41 20z\"/>\n",
              "  </svg>\n",
              "      </button>\n",
              "      \n",
              "  <style>\n",
              "    .colab-df-container {\n",
              "      display:flex;\n",
              "      flex-wrap:wrap;\n",
              "      gap: 12px;\n",
              "    }\n",
              "\n",
              "    .colab-df-convert {\n",
              "      background-color: #E8F0FE;\n",
              "      border: none;\n",
              "      border-radius: 50%;\n",
              "      cursor: pointer;\n",
              "      display: none;\n",
              "      fill: #1967D2;\n",
              "      height: 32px;\n",
              "      padding: 0 0 0 0;\n",
              "      width: 32px;\n",
              "    }\n",
              "\n",
              "    .colab-df-convert:hover {\n",
              "      background-color: #E2EBFA;\n",
              "      box-shadow: 0px 1px 2px rgba(60, 64, 67, 0.3), 0px 1px 3px 1px rgba(60, 64, 67, 0.15);\n",
              "      fill: #174EA6;\n",
              "    }\n",
              "\n",
              "    [theme=dark] .colab-df-convert {\n",
              "      background-color: #3B4455;\n",
              "      fill: #D2E3FC;\n",
              "    }\n",
              "\n",
              "    [theme=dark] .colab-df-convert:hover {\n",
              "      background-color: #434B5C;\n",
              "      box-shadow: 0px 1px 3px 1px rgba(0, 0, 0, 0.15);\n",
              "      filter: drop-shadow(0px 1px 2px rgba(0, 0, 0, 0.3));\n",
              "      fill: #FFFFFF;\n",
              "    }\n",
              "  </style>\n",
              "\n",
              "      <script>\n",
              "        const buttonEl =\n",
              "          document.querySelector('#df-80ecb2b1-89f9-4e41-ae8c-0a5c4d44b1cf button.colab-df-convert');\n",
              "        buttonEl.style.display =\n",
              "          google.colab.kernel.accessAllowed ? 'block' : 'none';\n",
              "\n",
              "        async function convertToInteractive(key) {\n",
              "          const element = document.querySelector('#df-80ecb2b1-89f9-4e41-ae8c-0a5c4d44b1cf');\n",
              "          const dataTable =\n",
              "            await google.colab.kernel.invokeFunction('convertToInteractive',\n",
              "                                                     [key], {});\n",
              "          if (!dataTable) return;\n",
              "\n",
              "          const docLinkHtml = 'Like what you see? Visit the ' +\n",
              "            '<a target=\"_blank\" href=https://colab.research.google.com/notebooks/data_table.ipynb>data table notebook</a>'\n",
              "            + ' to learn more about interactive tables.';\n",
              "          element.innerHTML = '';\n",
              "          dataTable['output_type'] = 'display_data';\n",
              "          await google.colab.output.renderOutput(dataTable, element);\n",
              "          const docLink = document.createElement('div');\n",
              "          docLink.innerHTML = docLinkHtml;\n",
              "          element.appendChild(docLink);\n",
              "        }\n",
              "      </script>\n",
              "    </div>\n",
              "  </div>\n",
              "  "
            ]
          },
          "metadata": {},
          "execution_count": 89
        }
      ]
    },
    {
      "cell_type": "code",
      "source": [
        "train.isna().sum()      # NaN 값이 사라졌음을 확인"
      ],
      "metadata": {
        "colab": {
          "base_uri": "https://localhost:8080/"
        },
        "id": "ju-pT17Smdrs",
        "outputId": "ac410e07-d1fc-4bd2-b4ab-0d7eb66985bc"
      },
      "execution_count": 90,
      "outputs": [
        {
          "output_type": "execute_result",
          "data": {
            "text/plain": [
              "OC              0\n",
              "revenue1        0\n",
              "profit1         0\n",
              "receivableS1    0\n",
              "debt1           0\n",
              "longLoan1       0\n",
              "surplus1        0\n",
              "employee1       0\n",
              "employee2       0\n",
              "dtype: int64"
            ]
          },
          "metadata": {},
          "execution_count": 90
        }
      ]
    },
    {
      "cell_type": "code",
      "source": [
        "train.describe()    # 결측치 처리 후에도 min 값에 여전히 0이 존재해"
      ],
      "metadata": {
        "colab": {
          "base_uri": "https://localhost:8080/",
          "height": 300
        },
        "id": "nP_Dt4v-nCNL",
        "outputId": "ca7dc1b3-734a-491a-c965-48f64fe1b36e"
      },
      "execution_count": 91,
      "outputs": [
        {
          "output_type": "execute_result",
          "data": {
            "text/plain": [
              "           revenue1       profit1  receivableS1         debt1     longLoan1  \\\n",
              "count  3.010000e+02  3.010000e+02  3.010000e+02  3.010000e+02  3.010000e+02   \n",
              "mean   1.288175e+10  2.101700e+08  6.975862e+08  8.765310e+09  2.646564e+09   \n",
              "std    2.016112e+10  1.119442e+09  1.435796e+09  1.268848e+10  4.634466e+09   \n",
              "min    0.000000e+00 -4.696701e+09  0.000000e+00  0.000000e+00  0.000000e+00   \n",
              "25%    3.279139e+09  0.000000e+00  7.203600e+04  2.029170e+09  0.000000e+00   \n",
              "50%    5.676235e+09  9.353360e+07  2.401758e+08  4.719856e+09  1.390000e+09   \n",
              "75%    1.288175e+10  2.882976e+08  6.975862e+08  9.265154e+09  3.242405e+09   \n",
              "max    1.510000e+11  7.475427e+09  1.409257e+10  8.669725e+10  4.112490e+10   \n",
              "\n",
              "           surplus1    employee1    employee2  \n",
              "count  3.010000e+02   301.000000   301.000000  \n",
              "mean   1.265935e+09   142.546392   134.326389  \n",
              "std    8.137600e+09   157.498594   147.752533  \n",
              "min   -2.914970e+09     0.000000     0.000000  \n",
              "25%    0.000000e+00    54.000000    56.000000  \n",
              "50%    0.000000e+00    84.000000    80.000000  \n",
              "75%    2.209221e+08   177.000000   161.000000  \n",
              "max    1.340000e+11  1200.000000  1200.000000  "
            ],
            "text/html": [
              "\n",
              "  <div id=\"df-ff545c78-22c8-4938-a926-e58ad38a3c99\">\n",
              "    <div class=\"colab-df-container\">\n",
              "      <div>\n",
              "<style scoped>\n",
              "    .dataframe tbody tr th:only-of-type {\n",
              "        vertical-align: middle;\n",
              "    }\n",
              "\n",
              "    .dataframe tbody tr th {\n",
              "        vertical-align: top;\n",
              "    }\n",
              "\n",
              "    .dataframe thead th {\n",
              "        text-align: right;\n",
              "    }\n",
              "</style>\n",
              "<table border=\"1\" class=\"dataframe\">\n",
              "  <thead>\n",
              "    <tr style=\"text-align: right;\">\n",
              "      <th></th>\n",
              "      <th>revenue1</th>\n",
              "      <th>profit1</th>\n",
              "      <th>receivableS1</th>\n",
              "      <th>debt1</th>\n",
              "      <th>longLoan1</th>\n",
              "      <th>surplus1</th>\n",
              "      <th>employee1</th>\n",
              "      <th>employee2</th>\n",
              "    </tr>\n",
              "  </thead>\n",
              "  <tbody>\n",
              "    <tr>\n",
              "      <th>count</th>\n",
              "      <td>3.010000e+02</td>\n",
              "      <td>3.010000e+02</td>\n",
              "      <td>3.010000e+02</td>\n",
              "      <td>3.010000e+02</td>\n",
              "      <td>3.010000e+02</td>\n",
              "      <td>3.010000e+02</td>\n",
              "      <td>301.000000</td>\n",
              "      <td>301.000000</td>\n",
              "    </tr>\n",
              "    <tr>\n",
              "      <th>mean</th>\n",
              "      <td>1.288175e+10</td>\n",
              "      <td>2.101700e+08</td>\n",
              "      <td>6.975862e+08</td>\n",
              "      <td>8.765310e+09</td>\n",
              "      <td>2.646564e+09</td>\n",
              "      <td>1.265935e+09</td>\n",
              "      <td>142.546392</td>\n",
              "      <td>134.326389</td>\n",
              "    </tr>\n",
              "    <tr>\n",
              "      <th>std</th>\n",
              "      <td>2.016112e+10</td>\n",
              "      <td>1.119442e+09</td>\n",
              "      <td>1.435796e+09</td>\n",
              "      <td>1.268848e+10</td>\n",
              "      <td>4.634466e+09</td>\n",
              "      <td>8.137600e+09</td>\n",
              "      <td>157.498594</td>\n",
              "      <td>147.752533</td>\n",
              "    </tr>\n",
              "    <tr>\n",
              "      <th>min</th>\n",
              "      <td>0.000000e+00</td>\n",
              "      <td>-4.696701e+09</td>\n",
              "      <td>0.000000e+00</td>\n",
              "      <td>0.000000e+00</td>\n",
              "      <td>0.000000e+00</td>\n",
              "      <td>-2.914970e+09</td>\n",
              "      <td>0.000000</td>\n",
              "      <td>0.000000</td>\n",
              "    </tr>\n",
              "    <tr>\n",
              "      <th>25%</th>\n",
              "      <td>3.279139e+09</td>\n",
              "      <td>0.000000e+00</td>\n",
              "      <td>7.203600e+04</td>\n",
              "      <td>2.029170e+09</td>\n",
              "      <td>0.000000e+00</td>\n",
              "      <td>0.000000e+00</td>\n",
              "      <td>54.000000</td>\n",
              "      <td>56.000000</td>\n",
              "    </tr>\n",
              "    <tr>\n",
              "      <th>50%</th>\n",
              "      <td>5.676235e+09</td>\n",
              "      <td>9.353360e+07</td>\n",
              "      <td>2.401758e+08</td>\n",
              "      <td>4.719856e+09</td>\n",
              "      <td>1.390000e+09</td>\n",
              "      <td>0.000000e+00</td>\n",
              "      <td>84.000000</td>\n",
              "      <td>80.000000</td>\n",
              "    </tr>\n",
              "    <tr>\n",
              "      <th>75%</th>\n",
              "      <td>1.288175e+10</td>\n",
              "      <td>2.882976e+08</td>\n",
              "      <td>6.975862e+08</td>\n",
              "      <td>9.265154e+09</td>\n",
              "      <td>3.242405e+09</td>\n",
              "      <td>2.209221e+08</td>\n",
              "      <td>177.000000</td>\n",
              "      <td>161.000000</td>\n",
              "    </tr>\n",
              "    <tr>\n",
              "      <th>max</th>\n",
              "      <td>1.510000e+11</td>\n",
              "      <td>7.475427e+09</td>\n",
              "      <td>1.409257e+10</td>\n",
              "      <td>8.669725e+10</td>\n",
              "      <td>4.112490e+10</td>\n",
              "      <td>1.340000e+11</td>\n",
              "      <td>1200.000000</td>\n",
              "      <td>1200.000000</td>\n",
              "    </tr>\n",
              "  </tbody>\n",
              "</table>\n",
              "</div>\n",
              "      <button class=\"colab-df-convert\" onclick=\"convertToInteractive('df-ff545c78-22c8-4938-a926-e58ad38a3c99')\"\n",
              "              title=\"Convert this dataframe to an interactive table.\"\n",
              "              style=\"display:none;\">\n",
              "        \n",
              "  <svg xmlns=\"http://www.w3.org/2000/svg\" height=\"24px\"viewBox=\"0 0 24 24\"\n",
              "       width=\"24px\">\n",
              "    <path d=\"M0 0h24v24H0V0z\" fill=\"none\"/>\n",
              "    <path d=\"M18.56 5.44l.94 2.06.94-2.06 2.06-.94-2.06-.94-.94-2.06-.94 2.06-2.06.94zm-11 1L8.5 8.5l.94-2.06 2.06-.94-2.06-.94L8.5 2.5l-.94 2.06-2.06.94zm10 10l.94 2.06.94-2.06 2.06-.94-2.06-.94-.94-2.06-.94 2.06-2.06.94z\"/><path d=\"M17.41 7.96l-1.37-1.37c-.4-.4-.92-.59-1.43-.59-.52 0-1.04.2-1.43.59L10.3 9.45l-7.72 7.72c-.78.78-.78 2.05 0 2.83L4 21.41c.39.39.9.59 1.41.59.51 0 1.02-.2 1.41-.59l7.78-7.78 2.81-2.81c.8-.78.8-2.07 0-2.86zM5.41 20L4 18.59l7.72-7.72 1.47 1.35L5.41 20z\"/>\n",
              "  </svg>\n",
              "      </button>\n",
              "      \n",
              "  <style>\n",
              "    .colab-df-container {\n",
              "      display:flex;\n",
              "      flex-wrap:wrap;\n",
              "      gap: 12px;\n",
              "    }\n",
              "\n",
              "    .colab-df-convert {\n",
              "      background-color: #E8F0FE;\n",
              "      border: none;\n",
              "      border-radius: 50%;\n",
              "      cursor: pointer;\n",
              "      display: none;\n",
              "      fill: #1967D2;\n",
              "      height: 32px;\n",
              "      padding: 0 0 0 0;\n",
              "      width: 32px;\n",
              "    }\n",
              "\n",
              "    .colab-df-convert:hover {\n",
              "      background-color: #E2EBFA;\n",
              "      box-shadow: 0px 1px 2px rgba(60, 64, 67, 0.3), 0px 1px 3px 1px rgba(60, 64, 67, 0.15);\n",
              "      fill: #174EA6;\n",
              "    }\n",
              "\n",
              "    [theme=dark] .colab-df-convert {\n",
              "      background-color: #3B4455;\n",
              "      fill: #D2E3FC;\n",
              "    }\n",
              "\n",
              "    [theme=dark] .colab-df-convert:hover {\n",
              "      background-color: #434B5C;\n",
              "      box-shadow: 0px 1px 3px 1px rgba(0, 0, 0, 0.15);\n",
              "      filter: drop-shadow(0px 1px 2px rgba(0, 0, 0, 0.3));\n",
              "      fill: #FFFFFF;\n",
              "    }\n",
              "  </style>\n",
              "\n",
              "      <script>\n",
              "        const buttonEl =\n",
              "          document.querySelector('#df-ff545c78-22c8-4938-a926-e58ad38a3c99 button.colab-df-convert');\n",
              "        buttonEl.style.display =\n",
              "          google.colab.kernel.accessAllowed ? 'block' : 'none';\n",
              "\n",
              "        async function convertToInteractive(key) {\n",
              "          const element = document.querySelector('#df-ff545c78-22c8-4938-a926-e58ad38a3c99');\n",
              "          const dataTable =\n",
              "            await google.colab.kernel.invokeFunction('convertToInteractive',\n",
              "                                                     [key], {});\n",
              "          if (!dataTable) return;\n",
              "\n",
              "          const docLinkHtml = 'Like what you see? Visit the ' +\n",
              "            '<a target=\"_blank\" href=https://colab.research.google.com/notebooks/data_table.ipynb>data table notebook</a>'\n",
              "            + ' to learn more about interactive tables.';\n",
              "          element.innerHTML = '';\n",
              "          dataTable['output_type'] = 'display_data';\n",
              "          await google.colab.output.renderOutput(dataTable, element);\n",
              "          const docLink = document.createElement('div');\n",
              "          docLink.innerHTML = docLinkHtml;\n",
              "          element.appendChild(docLink);\n",
              "        }\n",
              "      </script>\n",
              "    </div>\n",
              "  </div>\n",
              "  "
            ]
          },
          "metadata": {},
          "execution_count": 91
        }
      ]
    },
    {
      "cell_type": "code",
      "source": [
        "train[train['employee1']==0].count() # 직원이 0명인 병원 존재 확인"
      ],
      "metadata": {
        "colab": {
          "base_uri": "https://localhost:8080/"
        },
        "id": "7BzC9wJKntuY",
        "outputId": "a0d6b263-330c-480c-8391-766db82ae99d"
      },
      "execution_count": 92,
      "outputs": [
        {
          "output_type": "execute_result",
          "data": {
            "text/plain": [
              "OC              1\n",
              "revenue1        1\n",
              "profit1         1\n",
              "receivableS1    1\n",
              "debt1           1\n",
              "longLoan1       1\n",
              "surplus1        1\n",
              "employee1       1\n",
              "employee2       1\n",
              "dtype: int64"
            ]
          },
          "metadata": {},
          "execution_count": 92
        }
      ]
    },
    {
      "cell_type": "code",
      "source": [
        "train[train['employee2']==0].count() # 직원이 0명인 병원 존재 확인"
      ],
      "metadata": {
        "colab": {
          "base_uri": "https://localhost:8080/"
        },
        "id": "M8aaWHCsn9yU",
        "outputId": "075e9b77-b510-46f6-919f-63405449e251"
      },
      "execution_count": 93,
      "outputs": [
        {
          "output_type": "execute_result",
          "data": {
            "text/plain": [
              "OC              2\n",
              "revenue1        2\n",
              "profit1         2\n",
              "receivableS1    2\n",
              "debt1           2\n",
              "longLoan1       2\n",
              "surplus1        2\n",
              "employee1       2\n",
              "employee2       2\n",
              "dtype: int64"
            ]
          },
          "metadata": {},
          "execution_count": 93
        }
      ]
    },
    {
      "cell_type": "markdown",
      "source": [
        "### test 데이터 결측치 처리"
      ],
      "metadata": {
        "id": "C7TuMMxdpiwD"
      }
    },
    {
      "cell_type": "markdown",
      "source": [
        "#### test 안 1000 이상의 숫자에는 쉼표 존재하니 대체 후 숫자형으로 변환"
      ],
      "metadata": {
        "id": "JNgFY2aurDSe"
      }
    },
    {
      "cell_type": "code",
      "source": [
        "test.employee1 = test.employee1.astype('str').str.replace(\",\", \"\").astype('float')\n",
        "test.employee2 = test.employee2.astype('str').str.replace(\",\", \"\").astype('float')"
      ],
      "metadata": {
        "id": "db1op-XnrBsc"
      },
      "execution_count": 94,
      "outputs": []
    },
    {
      "cell_type": "code",
      "source": [
        "for i in ['revenue1','profit1','receivableS1','debt1','longLoan1','surplus1','employee1','employee2']:\n",
        "  test[i] = test[i].fillna(test[i].mean())\n",
        "\n",
        "test.head()"
      ],
      "metadata": {
        "colab": {
          "base_uri": "https://localhost:8080/",
          "height": 0
        },
        "id": "fbh8ixCDpsYr",
        "outputId": "28504b0f-45f2-40f5-ed41-2ace6406a596"
      },
      "execution_count": 95,
      "outputs": [
        {
          "output_type": "execute_result",
          "data": {
            "text/plain": [
              "       revenue1       profit1  receivableS1         debt1     longLoan1  \\\n",
              "0  6.682486e+10  5.036692e+08  7.242580e+08  6.769090e+10  6.319097e+09   \n",
              "1  3.495758e+10  4.525557e+08  6.610290e+08  6.626737e+10  1.720000e+10   \n",
              "2  2.326031e+10 -2.148749e+09  7.337107e+09  0.000000e+00  0.000000e+00   \n",
              "3  0.000000e+00  2.789663e+09  0.000000e+00  2.891880e+10  0.000000e+00   \n",
              "4  5.037025e+10  3.346675e+09  1.104000e+08  4.921637e+10  9.976421e+09   \n",
              "\n",
              "       surplus1   employee1   employee2  \n",
              "0  8.944587e+09  693.000000  693.000000  \n",
              "1  1.046277e+10  379.000000  371.000000  \n",
              "2  1.638540e+10  204.252101  189.223214  \n",
              "3  0.000000e+00  760.000000  760.000000  \n",
              "4  1.492691e+10  437.000000  385.000000  "
            ],
            "text/html": [
              "\n",
              "  <div id=\"df-2c9f4721-2685-4f12-8eb4-3f5f6d1d4e0e\">\n",
              "    <div class=\"colab-df-container\">\n",
              "      <div>\n",
              "<style scoped>\n",
              "    .dataframe tbody tr th:only-of-type {\n",
              "        vertical-align: middle;\n",
              "    }\n",
              "\n",
              "    .dataframe tbody tr th {\n",
              "        vertical-align: top;\n",
              "    }\n",
              "\n",
              "    .dataframe thead th {\n",
              "        text-align: right;\n",
              "    }\n",
              "</style>\n",
              "<table border=\"1\" class=\"dataframe\">\n",
              "  <thead>\n",
              "    <tr style=\"text-align: right;\">\n",
              "      <th></th>\n",
              "      <th>revenue1</th>\n",
              "      <th>profit1</th>\n",
              "      <th>receivableS1</th>\n",
              "      <th>debt1</th>\n",
              "      <th>longLoan1</th>\n",
              "      <th>surplus1</th>\n",
              "      <th>employee1</th>\n",
              "      <th>employee2</th>\n",
              "    </tr>\n",
              "  </thead>\n",
              "  <tbody>\n",
              "    <tr>\n",
              "      <th>0</th>\n",
              "      <td>6.682486e+10</td>\n",
              "      <td>5.036692e+08</td>\n",
              "      <td>7.242580e+08</td>\n",
              "      <td>6.769090e+10</td>\n",
              "      <td>6.319097e+09</td>\n",
              "      <td>8.944587e+09</td>\n",
              "      <td>693.000000</td>\n",
              "      <td>693.000000</td>\n",
              "    </tr>\n",
              "    <tr>\n",
              "      <th>1</th>\n",
              "      <td>3.495758e+10</td>\n",
              "      <td>4.525557e+08</td>\n",
              "      <td>6.610290e+08</td>\n",
              "      <td>6.626737e+10</td>\n",
              "      <td>1.720000e+10</td>\n",
              "      <td>1.046277e+10</td>\n",
              "      <td>379.000000</td>\n",
              "      <td>371.000000</td>\n",
              "    </tr>\n",
              "    <tr>\n",
              "      <th>2</th>\n",
              "      <td>2.326031e+10</td>\n",
              "      <td>-2.148749e+09</td>\n",
              "      <td>7.337107e+09</td>\n",
              "      <td>0.000000e+00</td>\n",
              "      <td>0.000000e+00</td>\n",
              "      <td>1.638540e+10</td>\n",
              "      <td>204.252101</td>\n",
              "      <td>189.223214</td>\n",
              "    </tr>\n",
              "    <tr>\n",
              "      <th>3</th>\n",
              "      <td>0.000000e+00</td>\n",
              "      <td>2.789663e+09</td>\n",
              "      <td>0.000000e+00</td>\n",
              "      <td>2.891880e+10</td>\n",
              "      <td>0.000000e+00</td>\n",
              "      <td>0.000000e+00</td>\n",
              "      <td>760.000000</td>\n",
              "      <td>760.000000</td>\n",
              "    </tr>\n",
              "    <tr>\n",
              "      <th>4</th>\n",
              "      <td>5.037025e+10</td>\n",
              "      <td>3.346675e+09</td>\n",
              "      <td>1.104000e+08</td>\n",
              "      <td>4.921637e+10</td>\n",
              "      <td>9.976421e+09</td>\n",
              "      <td>1.492691e+10</td>\n",
              "      <td>437.000000</td>\n",
              "      <td>385.000000</td>\n",
              "    </tr>\n",
              "  </tbody>\n",
              "</table>\n",
              "</div>\n",
              "      <button class=\"colab-df-convert\" onclick=\"convertToInteractive('df-2c9f4721-2685-4f12-8eb4-3f5f6d1d4e0e')\"\n",
              "              title=\"Convert this dataframe to an interactive table.\"\n",
              "              style=\"display:none;\">\n",
              "        \n",
              "  <svg xmlns=\"http://www.w3.org/2000/svg\" height=\"24px\"viewBox=\"0 0 24 24\"\n",
              "       width=\"24px\">\n",
              "    <path d=\"M0 0h24v24H0V0z\" fill=\"none\"/>\n",
              "    <path d=\"M18.56 5.44l.94 2.06.94-2.06 2.06-.94-2.06-.94-.94-2.06-.94 2.06-2.06.94zm-11 1L8.5 8.5l.94-2.06 2.06-.94-2.06-.94L8.5 2.5l-.94 2.06-2.06.94zm10 10l.94 2.06.94-2.06 2.06-.94-2.06-.94-.94-2.06-.94 2.06-2.06.94z\"/><path d=\"M17.41 7.96l-1.37-1.37c-.4-.4-.92-.59-1.43-.59-.52 0-1.04.2-1.43.59L10.3 9.45l-7.72 7.72c-.78.78-.78 2.05 0 2.83L4 21.41c.39.39.9.59 1.41.59.51 0 1.02-.2 1.41-.59l7.78-7.78 2.81-2.81c.8-.78.8-2.07 0-2.86zM5.41 20L4 18.59l7.72-7.72 1.47 1.35L5.41 20z\"/>\n",
              "  </svg>\n",
              "      </button>\n",
              "      \n",
              "  <style>\n",
              "    .colab-df-container {\n",
              "      display:flex;\n",
              "      flex-wrap:wrap;\n",
              "      gap: 12px;\n",
              "    }\n",
              "\n",
              "    .colab-df-convert {\n",
              "      background-color: #E8F0FE;\n",
              "      border: none;\n",
              "      border-radius: 50%;\n",
              "      cursor: pointer;\n",
              "      display: none;\n",
              "      fill: #1967D2;\n",
              "      height: 32px;\n",
              "      padding: 0 0 0 0;\n",
              "      width: 32px;\n",
              "    }\n",
              "\n",
              "    .colab-df-convert:hover {\n",
              "      background-color: #E2EBFA;\n",
              "      box-shadow: 0px 1px 2px rgba(60, 64, 67, 0.3), 0px 1px 3px 1px rgba(60, 64, 67, 0.15);\n",
              "      fill: #174EA6;\n",
              "    }\n",
              "\n",
              "    [theme=dark] .colab-df-convert {\n",
              "      background-color: #3B4455;\n",
              "      fill: #D2E3FC;\n",
              "    }\n",
              "\n",
              "    [theme=dark] .colab-df-convert:hover {\n",
              "      background-color: #434B5C;\n",
              "      box-shadow: 0px 1px 3px 1px rgba(0, 0, 0, 0.15);\n",
              "      filter: drop-shadow(0px 1px 2px rgba(0, 0, 0, 0.3));\n",
              "      fill: #FFFFFF;\n",
              "    }\n",
              "  </style>\n",
              "\n",
              "      <script>\n",
              "        const buttonEl =\n",
              "          document.querySelector('#df-2c9f4721-2685-4f12-8eb4-3f5f6d1d4e0e button.colab-df-convert');\n",
              "        buttonEl.style.display =\n",
              "          google.colab.kernel.accessAllowed ? 'block' : 'none';\n",
              "\n",
              "        async function convertToInteractive(key) {\n",
              "          const element = document.querySelector('#df-2c9f4721-2685-4f12-8eb4-3f5f6d1d4e0e');\n",
              "          const dataTable =\n",
              "            await google.colab.kernel.invokeFunction('convertToInteractive',\n",
              "                                                     [key], {});\n",
              "          if (!dataTable) return;\n",
              "\n",
              "          const docLinkHtml = 'Like what you see? Visit the ' +\n",
              "            '<a target=\"_blank\" href=https://colab.research.google.com/notebooks/data_table.ipynb>data table notebook</a>'\n",
              "            + ' to learn more about interactive tables.';\n",
              "          element.innerHTML = '';\n",
              "          dataTable['output_type'] = 'display_data';\n",
              "          await google.colab.output.renderOutput(dataTable, element);\n",
              "          const docLink = document.createElement('div');\n",
              "          docLink.innerHTML = docLinkHtml;\n",
              "          element.appendChild(docLink);\n",
              "        }\n",
              "      </script>\n",
              "    </div>\n",
              "  </div>\n",
              "  "
            ]
          },
          "metadata": {},
          "execution_count": 95
        }
      ]
    },
    {
      "cell_type": "code",
      "source": [
        "test.isna().sum()"
      ],
      "metadata": {
        "colab": {
          "base_uri": "https://localhost:8080/"
        },
        "id": "Di_dpeRYqtdH",
        "outputId": "00cf286c-495b-436b-f502-5892460cb1cb"
      },
      "execution_count": 96,
      "outputs": [
        {
          "output_type": "execute_result",
          "data": {
            "text/plain": [
              "revenue1        0\n",
              "profit1         0\n",
              "receivableS1    0\n",
              "debt1           0\n",
              "longLoan1       0\n",
              "surplus1        0\n",
              "employee1       0\n",
              "employee2       0\n",
              "dtype: int64"
            ]
          },
          "metadata": {},
          "execution_count": 96
        }
      ]
    },
    {
      "cell_type": "code",
      "source": [
        "test.describe()"
      ],
      "metadata": {
        "colab": {
          "base_uri": "https://localhost:8080/",
          "height": 0
        },
        "id": "3P6mVwagq6qI",
        "outputId": "8fb2c21b-d45b-4132-e875-56bdf6353389"
      },
      "execution_count": 97,
      "outputs": [
        {
          "output_type": "execute_result",
          "data": {
            "text/plain": [
              "           revenue1       profit1  receivableS1         debt1     longLoan1  \\\n",
              "count  1.270000e+02  1.270000e+02  1.270000e+02  1.270000e+02  1.270000e+02   \n",
              "mean   1.824446e+10  3.940712e+08  8.704763e+08  1.337752e+10  4.204390e+09   \n",
              "std    3.108561e+10  1.799012e+09  2.209799e+09  2.000473e+10  5.842779e+09   \n",
              "min    0.000000e+00 -5.734451e+09  0.000000e+00  0.000000e+00  0.000000e+00   \n",
              "25%    3.240799e+09  1.060223e+07  1.562800e+06  2.180943e+09  4.075000e+08   \n",
              "50%    7.076517e+09  1.476913e+08  2.219080e+08  5.326224e+09  2.046971e+09   \n",
              "75%    1.761396e+10  4.502115e+08  9.557822e+08  1.476248e+10  5.022411e+09   \n",
              "max    1.810000e+11  1.120816e+10  2.144183e+10  1.290000e+11  2.642532e+10   \n",
              "\n",
              "           surplus1    employee1    employee2  \n",
              "count  1.270000e+02   127.000000   127.000000  \n",
              "mean   1.985867e+09   204.252101   189.223214  \n",
              "std    5.525423e+09   268.358154   228.108604  \n",
              "min   -8.636718e+09    16.000000     0.000000  \n",
              "25%    0.000000e+00    62.000000    61.000000  \n",
              "50%    0.000000e+00   111.000000   117.000000  \n",
              "75%    1.332249e+09   216.000000   190.500000  \n",
              "max    3.411471e+10  1816.000000  1547.000000  "
            ],
            "text/html": [
              "\n",
              "  <div id=\"df-b211dfd1-ab67-425d-bdd7-cfae9cf02ae9\">\n",
              "    <div class=\"colab-df-container\">\n",
              "      <div>\n",
              "<style scoped>\n",
              "    .dataframe tbody tr th:only-of-type {\n",
              "        vertical-align: middle;\n",
              "    }\n",
              "\n",
              "    .dataframe tbody tr th {\n",
              "        vertical-align: top;\n",
              "    }\n",
              "\n",
              "    .dataframe thead th {\n",
              "        text-align: right;\n",
              "    }\n",
              "</style>\n",
              "<table border=\"1\" class=\"dataframe\">\n",
              "  <thead>\n",
              "    <tr style=\"text-align: right;\">\n",
              "      <th></th>\n",
              "      <th>revenue1</th>\n",
              "      <th>profit1</th>\n",
              "      <th>receivableS1</th>\n",
              "      <th>debt1</th>\n",
              "      <th>longLoan1</th>\n",
              "      <th>surplus1</th>\n",
              "      <th>employee1</th>\n",
              "      <th>employee2</th>\n",
              "    </tr>\n",
              "  </thead>\n",
              "  <tbody>\n",
              "    <tr>\n",
              "      <th>count</th>\n",
              "      <td>1.270000e+02</td>\n",
              "      <td>1.270000e+02</td>\n",
              "      <td>1.270000e+02</td>\n",
              "      <td>1.270000e+02</td>\n",
              "      <td>1.270000e+02</td>\n",
              "      <td>1.270000e+02</td>\n",
              "      <td>127.000000</td>\n",
              "      <td>127.000000</td>\n",
              "    </tr>\n",
              "    <tr>\n",
              "      <th>mean</th>\n",
              "      <td>1.824446e+10</td>\n",
              "      <td>3.940712e+08</td>\n",
              "      <td>8.704763e+08</td>\n",
              "      <td>1.337752e+10</td>\n",
              "      <td>4.204390e+09</td>\n",
              "      <td>1.985867e+09</td>\n",
              "      <td>204.252101</td>\n",
              "      <td>189.223214</td>\n",
              "    </tr>\n",
              "    <tr>\n",
              "      <th>std</th>\n",
              "      <td>3.108561e+10</td>\n",
              "      <td>1.799012e+09</td>\n",
              "      <td>2.209799e+09</td>\n",
              "      <td>2.000473e+10</td>\n",
              "      <td>5.842779e+09</td>\n",
              "      <td>5.525423e+09</td>\n",
              "      <td>268.358154</td>\n",
              "      <td>228.108604</td>\n",
              "    </tr>\n",
              "    <tr>\n",
              "      <th>min</th>\n",
              "      <td>0.000000e+00</td>\n",
              "      <td>-5.734451e+09</td>\n",
              "      <td>0.000000e+00</td>\n",
              "      <td>0.000000e+00</td>\n",
              "      <td>0.000000e+00</td>\n",
              "      <td>-8.636718e+09</td>\n",
              "      <td>16.000000</td>\n",
              "      <td>0.000000</td>\n",
              "    </tr>\n",
              "    <tr>\n",
              "      <th>25%</th>\n",
              "      <td>3.240799e+09</td>\n",
              "      <td>1.060223e+07</td>\n",
              "      <td>1.562800e+06</td>\n",
              "      <td>2.180943e+09</td>\n",
              "      <td>4.075000e+08</td>\n",
              "      <td>0.000000e+00</td>\n",
              "      <td>62.000000</td>\n",
              "      <td>61.000000</td>\n",
              "    </tr>\n",
              "    <tr>\n",
              "      <th>50%</th>\n",
              "      <td>7.076517e+09</td>\n",
              "      <td>1.476913e+08</td>\n",
              "      <td>2.219080e+08</td>\n",
              "      <td>5.326224e+09</td>\n",
              "      <td>2.046971e+09</td>\n",
              "      <td>0.000000e+00</td>\n",
              "      <td>111.000000</td>\n",
              "      <td>117.000000</td>\n",
              "    </tr>\n",
              "    <tr>\n",
              "      <th>75%</th>\n",
              "      <td>1.761396e+10</td>\n",
              "      <td>4.502115e+08</td>\n",
              "      <td>9.557822e+08</td>\n",
              "      <td>1.476248e+10</td>\n",
              "      <td>5.022411e+09</td>\n",
              "      <td>1.332249e+09</td>\n",
              "      <td>216.000000</td>\n",
              "      <td>190.500000</td>\n",
              "    </tr>\n",
              "    <tr>\n",
              "      <th>max</th>\n",
              "      <td>1.810000e+11</td>\n",
              "      <td>1.120816e+10</td>\n",
              "      <td>2.144183e+10</td>\n",
              "      <td>1.290000e+11</td>\n",
              "      <td>2.642532e+10</td>\n",
              "      <td>3.411471e+10</td>\n",
              "      <td>1816.000000</td>\n",
              "      <td>1547.000000</td>\n",
              "    </tr>\n",
              "  </tbody>\n",
              "</table>\n",
              "</div>\n",
              "      <button class=\"colab-df-convert\" onclick=\"convertToInteractive('df-b211dfd1-ab67-425d-bdd7-cfae9cf02ae9')\"\n",
              "              title=\"Convert this dataframe to an interactive table.\"\n",
              "              style=\"display:none;\">\n",
              "        \n",
              "  <svg xmlns=\"http://www.w3.org/2000/svg\" height=\"24px\"viewBox=\"0 0 24 24\"\n",
              "       width=\"24px\">\n",
              "    <path d=\"M0 0h24v24H0V0z\" fill=\"none\"/>\n",
              "    <path d=\"M18.56 5.44l.94 2.06.94-2.06 2.06-.94-2.06-.94-.94-2.06-.94 2.06-2.06.94zm-11 1L8.5 8.5l.94-2.06 2.06-.94-2.06-.94L8.5 2.5l-.94 2.06-2.06.94zm10 10l.94 2.06.94-2.06 2.06-.94-2.06-.94-.94-2.06-.94 2.06-2.06.94z\"/><path d=\"M17.41 7.96l-1.37-1.37c-.4-.4-.92-.59-1.43-.59-.52 0-1.04.2-1.43.59L10.3 9.45l-7.72 7.72c-.78.78-.78 2.05 0 2.83L4 21.41c.39.39.9.59 1.41.59.51 0 1.02-.2 1.41-.59l7.78-7.78 2.81-2.81c.8-.78.8-2.07 0-2.86zM5.41 20L4 18.59l7.72-7.72 1.47 1.35L5.41 20z\"/>\n",
              "  </svg>\n",
              "      </button>\n",
              "      \n",
              "  <style>\n",
              "    .colab-df-container {\n",
              "      display:flex;\n",
              "      flex-wrap:wrap;\n",
              "      gap: 12px;\n",
              "    }\n",
              "\n",
              "    .colab-df-convert {\n",
              "      background-color: #E8F0FE;\n",
              "      border: none;\n",
              "      border-radius: 50%;\n",
              "      cursor: pointer;\n",
              "      display: none;\n",
              "      fill: #1967D2;\n",
              "      height: 32px;\n",
              "      padding: 0 0 0 0;\n",
              "      width: 32px;\n",
              "    }\n",
              "\n",
              "    .colab-df-convert:hover {\n",
              "      background-color: #E2EBFA;\n",
              "      box-shadow: 0px 1px 2px rgba(60, 64, 67, 0.3), 0px 1px 3px 1px rgba(60, 64, 67, 0.15);\n",
              "      fill: #174EA6;\n",
              "    }\n",
              "\n",
              "    [theme=dark] .colab-df-convert {\n",
              "      background-color: #3B4455;\n",
              "      fill: #D2E3FC;\n",
              "    }\n",
              "\n",
              "    [theme=dark] .colab-df-convert:hover {\n",
              "      background-color: #434B5C;\n",
              "      box-shadow: 0px 1px 3px 1px rgba(0, 0, 0, 0.15);\n",
              "      filter: drop-shadow(0px 1px 2px rgba(0, 0, 0, 0.3));\n",
              "      fill: #FFFFFF;\n",
              "    }\n",
              "  </style>\n",
              "\n",
              "      <script>\n",
              "        const buttonEl =\n",
              "          document.querySelector('#df-b211dfd1-ab67-425d-bdd7-cfae9cf02ae9 button.colab-df-convert');\n",
              "        buttonEl.style.display =\n",
              "          google.colab.kernel.accessAllowed ? 'block' : 'none';\n",
              "\n",
              "        async function convertToInteractive(key) {\n",
              "          const element = document.querySelector('#df-b211dfd1-ab67-425d-bdd7-cfae9cf02ae9');\n",
              "          const dataTable =\n",
              "            await google.colab.kernel.invokeFunction('convertToInteractive',\n",
              "                                                     [key], {});\n",
              "          if (!dataTable) return;\n",
              "\n",
              "          const docLinkHtml = 'Like what you see? Visit the ' +\n",
              "            '<a target=\"_blank\" href=https://colab.research.google.com/notebooks/data_table.ipynb>data table notebook</a>'\n",
              "            + ' to learn more about interactive tables.';\n",
              "          element.innerHTML = '';\n",
              "          dataTable['output_type'] = 'display_data';\n",
              "          await google.colab.output.renderOutput(dataTable, element);\n",
              "          const docLink = document.createElement('div');\n",
              "          docLink.innerHTML = docLinkHtml;\n",
              "          element.appendChild(docLink);\n",
              "        }\n",
              "      </script>\n",
              "    </div>\n",
              "  </div>\n",
              "  "
            ]
          },
          "metadata": {},
          "execution_count": 97
        }
      ]
    },
    {
      "cell_type": "markdown",
      "source": [
        "### 데이터 분포도 확인 및 시각화"
      ],
      "metadata": {
        "id": "1ym2LTPTriFb"
      }
    },
    {
      "cell_type": "code",
      "source": [
        "sns.displot(train['revenue1'])"
      ],
      "metadata": {
        "colab": {
          "base_uri": "https://localhost:8080/",
          "height": 0
        },
        "id": "lnSnIfJqvjl-",
        "outputId": "7094b64e-b0e2-4c6c-9fcb-e5cda1ca20c2"
      },
      "execution_count": 98,
      "outputs": [
        {
          "output_type": "execute_result",
          "data": {
            "text/plain": [
              "<seaborn.axisgrid.FacetGrid at 0x7f1774fa8790>"
            ]
          },
          "metadata": {},
          "execution_count": 98
        },
        {
          "output_type": "display_data",
          "data": {
            "text/plain": [
              "<Figure size 360x360 with 1 Axes>"
            ],
            "image/png": "[encoded data removed]"
          },
          "metadata": {
            "needs_background": "light"
          }
        }
      ]
    },
    {
      "cell_type": "code",
      "source": [
        "sns.displot(train['profit1'])"
      ],
      "metadata": {
        "colab": {
          "base_uri": "https://localhost:8080/",
          "height": 0
        },
        "id": "Rnqa_jO4vre1",
        "outputId": "8080cbc2-1396-4634-be58-00599486f80a"
      },
      "execution_count": 99,
      "outputs": [
        {
          "output_type": "execute_result",
          "data": {
            "text/plain": [
              "<seaborn.axisgrid.FacetGrid at 0x7f1774aa1a10>"
            ]
          },
          "metadata": {},
          "execution_count": 99
        },
        {
          "output_type": "display_data",
          "data": {
            "text/plain": [
              "<Figure size 360x360 with 1 Axes>"
            ],
            "image/png": "[encoded data removed]"
          },
          "metadata": {
            "needs_background": "light"
          }
        }
      ]
    },
    {
      "cell_type": "code",
      "source": [
        "sns.displot(train['receivableS1'])"
      ],
      "metadata": {
        "colab": {
          "base_uri": "https://localhost:8080/",
          "height": 0
        },
        "id": "8x5a4Oklvw_-",
        "outputId": "0185da62-b719-4f4a-cdc3-810346f80ae6"
      },
      "execution_count": 100,
      "outputs": [
        {
          "output_type": "execute_result",
          "data": {
            "text/plain": [
              "<seaborn.axisgrid.FacetGrid at 0x7f17748f5850>"
            ]
          },
          "metadata": {},
          "execution_count": 100
        },
        {
          "output_type": "display_data",
          "data": {
            "text/plain": [
              "<Figure size 360x360 with 1 Axes>"
            ],
            "image/png": "[encoded data removed]"
          },
          "metadata": {
            "needs_background": "light"
          }
        }
      ]
    },
    {
      "cell_type": "code",
      "source": [
        "sns.displot(train['debt1'])"
      ],
      "metadata": {
        "colab": {
          "base_uri": "https://localhost:8080/",
          "height": 0
        },
        "id": "9bSxIzjOwGWx",
        "outputId": "ae1671b5-8785-43b3-e3a3-3cc9cbfa75b2"
      },
      "execution_count": 101,
      "outputs": [
        {
          "output_type": "execute_result",
          "data": {
            "text/plain": [
              "<seaborn.axisgrid.FacetGrid at 0x7f177485c110>"
            ]
          },
          "metadata": {},
          "execution_count": 101
        },
        {
          "output_type": "display_data",
          "data": {
            "text/plain": [
              "<Figure size 360x360 with 1 Axes>"
            ],
            "image/png": "[encoded data removed]"
          },
          "metadata": {
            "needs_background": "light"
          }
        }
      ]
    },
    {
      "cell_type": "code",
      "source": [
        "sns.displot(train['longLoan1'])"
      ],
      "metadata": {
        "colab": {
          "base_uri": "https://localhost:8080/",
          "height": 0
        },
        "id": "7vlpSJmcwH2k",
        "outputId": "29ec4981-af2c-4e06-f099-fa667d7c4424"
      },
      "execution_count": 102,
      "outputs": [
        {
          "output_type": "execute_result",
          "data": {
            "text/plain": [
              "<seaborn.axisgrid.FacetGrid at 0x7f1774a0a1d0>"
            ]
          },
          "metadata": {},
          "execution_count": 102
        },
        {
          "output_type": "display_data",
          "data": {
            "text/plain": [
              "<Figure size 360x360 with 1 Axes>"
            ],
            "image/png": "[encoded data removed]"
          },
          "metadata": {
            "needs_background": "light"
          }
        }
      ]
    },
    {
      "cell_type": "code",
      "source": [
        "sns.displot(train['surplus1'])"
      ],
      "metadata": {
        "colab": {
          "base_uri": "https://localhost:8080/",
          "height": 0
        },
        "id": "ZiEXTQa_wINR",
        "outputId": "09ee2fc9-a3a5-44a7-d704-9adc536f692e"
      },
      "execution_count": 103,
      "outputs": [
        {
          "output_type": "execute_result",
          "data": {
            "text/plain": [
              "<seaborn.axisgrid.FacetGrid at 0x7f1788493dd0>"
            ]
          },
          "metadata": {},
          "execution_count": 103
        },
        {
          "output_type": "display_data",
          "data": {
            "text/plain": [
              "<Figure size 360x360 with 1 Axes>"
            ],
            "image/png": "[encoded data removed]"
          },
          "metadata": {
            "needs_background": "light"
          }
        }
      ]
    },
    {
      "cell_type": "code",
      "source": [
        "sns.displot(train['employee1'])"
      ],
      "metadata": {
        "colab": {
          "base_uri": "https://localhost:8080/",
          "height": 0
        },
        "id": "1piBiQWBwKz4",
        "outputId": "9b93b749-f0ba-429a-98a5-ff8151715fa4"
      },
      "execution_count": 104,
      "outputs": [
        {
          "output_type": "execute_result",
          "data": {
            "text/plain": [
              "<seaborn.axisgrid.FacetGrid at 0x7f1772dd8b50>"
            ]
          },
          "metadata": {},
          "execution_count": 104
        },
        {
          "output_type": "display_data",
          "data": {
            "text/plain": [
              "<Figure size 360x360 with 1 Axes>"
            ],
            "image/png": "[encoded data removed]"
          },
          "metadata": {
            "needs_background": "light"
          }
        }
      ]
    },
    {
      "cell_type": "code",
      "source": [
        "sns.distplot(train['employee2'])"
      ],
      "metadata": {
        "colab": {
          "base_uri": "https://localhost:8080/",
          "height": 0
        },
        "id": "FwRaPI8zwOH_",
        "outputId": "8d4a2851-126d-4e1d-f2b5-0dd080df98af"
      },
      "execution_count": 105,
      "outputs": [
        {
          "output_type": "stream",
          "name": "stderr",
          "text": [
            "/usr/local/lib/python3.7/dist-packages/seaborn/distributions.py:2619: FutureWarning: `distplot` is a deprecated function and will be removed in a future version. Please adapt your code to use either `displot` (a figure-level function with similar flexibility) or `histplot` (an axes-level function for histograms).\n",
            "  warnings.warn(msg, FutureWarning)\n"
          ]
        },
        {
          "output_type": "execute_result",
          "data": {
            "text/plain": [
              "<matplotlib.axes._subplots.AxesSubplot at 0x7f17738b67d0>"
            ]
          },
          "metadata": {},
          "execution_count": 105
        },
        {
          "output_type": "display_data",
          "data": {
            "text/plain": [
              "<Figure size 432x288 with 1 Axes>"
            ],
            "image/png": "[encoded data removed]"
          },
          "metadata": {
            "needs_background": "light"
          }
        }
      ]
    },
    {
      "cell_type": "markdown",
      "source": [
        "### 데이터의 분포가 불균형하여 로그변환"
      ],
      "metadata": {
        "id": "4b11QHwezy6Q"
      }
    },
    {
      "cell_type": "code",
      "source": [
        "for i in ['revenue1','receivableS1','debt1','longLoan1','employee1','employee2']:\n",
        "  train[i] = np.log1p(train[i])\n",
        "\n",
        "train.head()"
      ],
      "metadata": {
        "colab": {
          "base_uri": "https://localhost:8080/",
          "height": 0
        },
        "id": "auFFQ8dkz1Pm",
        "outputId": "bc3ca1a8-42e3-4c92-8d2c-07899519ee50"
      },
      "execution_count": 106,
      "outputs": [
        {
          "output_type": "execute_result",
          "data": {
            "text/plain": [
              "     OC   revenue1       profit1  receivableS1      debt1  longLoan1  \\\n",
              "0  open  22.162515  2.251697e+08     19.968362  20.341751  19.676297   \n",
              "1  open  23.279077  2.101700e+08     20.363137  22.894068  21.696528   \n",
              "2  open  20.727778  4.186475e+07     15.906875  18.341793   0.000000   \n",
              "3  open  25.006954  9.028303e+08      0.000000  24.469560  22.704687   \n",
              "4  open  24.615974  8.074970e+07     22.134087  24.633249  23.325956   \n",
              "\n",
              "       surplus1  employee1  employee2  \n",
              "0  1.496394e+09   4.143135   4.174387  \n",
              "1  1.265935e+09   6.687109   6.701960  \n",
              "2  0.000000e+00   5.459586   0.693147  \n",
              "3  8.643659e+09   6.498282   6.498282  \n",
              "4  9.025550e+09   5.332719   5.288267  "
            ],
            "text/html": [
              "\n",
              "  <div id=\"df-05091b2a-7c76-43dc-98ef-01adb93b26ab\">\n",
              "    <div class=\"colab-df-container\">\n",
              "      <div>\n",
              "<style scoped>\n",
              "    .dataframe tbody tr th:only-of-type {\n",
              "        vertical-align: middle;\n",
              "    }\n",
              "\n",
              "    .dataframe tbody tr th {\n",
              "        vertical-align: top;\n",
              "    }\n",
              "\n",
              "    .dataframe thead th {\n",
              "        text-align: right;\n",
              "    }\n",
              "</style>\n",
              "<table border=\"1\" class=\"dataframe\">\n",
              "  <thead>\n",
              "    <tr style=\"text-align: right;\">\n",
              "      <th></th>\n",
              "      <th>OC</th>\n",
              "      <th>revenue1</th>\n",
              "      <th>profit1</th>\n",
              "      <th>receivableS1</th>\n",
              "      <th>debt1</th>\n",
              "      <th>longLoan1</th>\n",
              "      <th>surplus1</th>\n",
              "      <th>employee1</th>\n",
              "      <th>employee2</th>\n",
              "    </tr>\n",
              "  </thead>\n",
              "  <tbody>\n",
              "    <tr>\n",
              "      <th>0</th>\n",
              "      <td>open</td>\n",
              "      <td>22.162515</td>\n",
              "      <td>2.251697e+08</td>\n",
              "      <td>19.968362</td>\n",
              "      <td>20.341751</td>\n",
              "      <td>19.676297</td>\n",
              "      <td>1.496394e+09</td>\n",
              "      <td>4.143135</td>\n",
              "      <td>4.174387</td>\n",
              "    </tr>\n",
              "    <tr>\n",
              "      <th>1</th>\n",
              "      <td>open</td>\n",
              "      <td>23.279077</td>\n",
              "      <td>2.101700e+08</td>\n",
              "      <td>20.363137</td>\n",
              "      <td>22.894068</td>\n",
              "      <td>21.696528</td>\n",
              "      <td>1.265935e+09</td>\n",
              "      <td>6.687109</td>\n",
              "      <td>6.701960</td>\n",
              "    </tr>\n",
              "    <tr>\n",
              "      <th>2</th>\n",
              "      <td>open</td>\n",
              "      <td>20.727778</td>\n",
              "      <td>4.186475e+07</td>\n",
              "      <td>15.906875</td>\n",
              "      <td>18.341793</td>\n",
              "      <td>0.000000</td>\n",
              "      <td>0.000000e+00</td>\n",
              "      <td>5.459586</td>\n",
              "      <td>0.693147</td>\n",
              "    </tr>\n",
              "    <tr>\n",
              "      <th>3</th>\n",
              "      <td>open</td>\n",
              "      <td>25.006954</td>\n",
              "      <td>9.028303e+08</td>\n",
              "      <td>0.000000</td>\n",
              "      <td>24.469560</td>\n",
              "      <td>22.704687</td>\n",
              "      <td>8.643659e+09</td>\n",
              "      <td>6.498282</td>\n",
              "      <td>6.498282</td>\n",
              "    </tr>\n",
              "    <tr>\n",
              "      <th>4</th>\n",
              "      <td>open</td>\n",
              "      <td>24.615974</td>\n",
              "      <td>8.074970e+07</td>\n",
              "      <td>22.134087</td>\n",
              "      <td>24.633249</td>\n",
              "      <td>23.325956</td>\n",
              "      <td>9.025550e+09</td>\n",
              "      <td>5.332719</td>\n",
              "      <td>5.288267</td>\n",
              "    </tr>\n",
              "  </tbody>\n",
              "</table>\n",
              "</div>\n",
              "      <button class=\"colab-df-convert\" onclick=\"convertToInteractive('df-05091b2a-7c76-43dc-98ef-01adb93b26ab')\"\n",
              "              title=\"Convert this dataframe to an interactive table.\"\n",
              "              style=\"display:none;\">\n",
              "        \n",
              "  <svg xmlns=\"http://www.w3.org/2000/svg\" height=\"24px\"viewBox=\"0 0 24 24\"\n",
              "       width=\"24px\">\n",
              "    <path d=\"M0 0h24v24H0V0z\" fill=\"none\"/>\n",
              "    <path d=\"M18.56 5.44l.94 2.06.94-2.06 2.06-.94-2.06-.94-.94-2.06-.94 2.06-2.06.94zm-11 1L8.5 8.5l.94-2.06 2.06-.94-2.06-.94L8.5 2.5l-.94 2.06-2.06.94zm10 10l.94 2.06.94-2.06 2.06-.94-2.06-.94-.94-2.06-.94 2.06-2.06.94z\"/><path d=\"M17.41 7.96l-1.37-1.37c-.4-.4-.92-.59-1.43-.59-.52 0-1.04.2-1.43.59L10.3 9.45l-7.72 7.72c-.78.78-.78 2.05 0 2.83L4 21.41c.39.39.9.59 1.41.59.51 0 1.02-.2 1.41-.59l7.78-7.78 2.81-2.81c.8-.78.8-2.07 0-2.86zM5.41 20L4 18.59l7.72-7.72 1.47 1.35L5.41 20z\"/>\n",
              "  </svg>\n",
              "      </button>\n",
              "      \n",
              "  <style>\n",
              "    .colab-df-container {\n",
              "      display:flex;\n",
              "      flex-wrap:wrap;\n",
              "      gap: 12px;\n",
              "    }\n",
              "\n",
              "    .colab-df-convert {\n",
              "      background-color: #E8F0FE;\n",
              "      border: none;\n",
              "      border-radius: 50%;\n",
              "      cursor: pointer;\n",
              "      display: none;\n",
              "      fill: #1967D2;\n",
              "      height: 32px;\n",
              "      padding: 0 0 0 0;\n",
              "      width: 32px;\n",
              "    }\n",
              "\n",
              "    .colab-df-convert:hover {\n",
              "      background-color: #E2EBFA;\n",
              "      box-shadow: 0px 1px 2px rgba(60, 64, 67, 0.3), 0px 1px 3px 1px rgba(60, 64, 67, 0.15);\n",
              "      fill: #174EA6;\n",
              "    }\n",
              "\n",
              "    [theme=dark] .colab-df-convert {\n",
              "      background-color: #3B4455;\n",
              "      fill: #D2E3FC;\n",
              "    }\n",
              "\n",
              "    [theme=dark] .colab-df-convert:hover {\n",
              "      background-color: #434B5C;\n",
              "      box-shadow: 0px 1px 3px 1px rgba(0, 0, 0, 0.15);\n",
              "      filter: drop-shadow(0px 1px 2px rgba(0, 0, 0, 0.3));\n",
              "      fill: #FFFFFF;\n",
              "    }\n",
              "  </style>\n",
              "\n",
              "      <script>\n",
              "        const buttonEl =\n",
              "          document.querySelector('#df-05091b2a-7c76-43dc-98ef-01adb93b26ab button.colab-df-convert');\n",
              "        buttonEl.style.display =\n",
              "          google.colab.kernel.accessAllowed ? 'block' : 'none';\n",
              "\n",
              "        async function convertToInteractive(key) {\n",
              "          const element = document.querySelector('#df-05091b2a-7c76-43dc-98ef-01adb93b26ab');\n",
              "          const dataTable =\n",
              "            await google.colab.kernel.invokeFunction('convertToInteractive',\n",
              "                                                     [key], {});\n",
              "          if (!dataTable) return;\n",
              "\n",
              "          const docLinkHtml = 'Like what you see? Visit the ' +\n",
              "            '<a target=\"_blank\" href=https://colab.research.google.com/notebooks/data_table.ipynb>data table notebook</a>'\n",
              "            + ' to learn more about interactive tables.';\n",
              "          element.innerHTML = '';\n",
              "          dataTable['output_type'] = 'display_data';\n",
              "          await google.colab.output.renderOutput(dataTable, element);\n",
              "          const docLink = document.createElement('div');\n",
              "          docLink.innerHTML = docLinkHtml;\n",
              "          element.appendChild(docLink);\n",
              "        }\n",
              "      </script>\n",
              "    </div>\n",
              "  </div>\n",
              "  "
            ]
          },
          "metadata": {},
          "execution_count": 106
        }
      ]
    },
    {
      "cell_type": "code",
      "source": [
        "for i in ['revenue1','receivableS1','debt1','longLoan1','employee1','employee2']:\n",
        "  test[i] = np.log1p(test[i])\n",
        "\n",
        "test.head()"
      ],
      "metadata": {
        "colab": {
          "base_uri": "https://localhost:8080/",
          "height": 0
        },
        "id": "Vc5anNop6otm",
        "outputId": "7cb1e051-6d09-4570-9966-17872491ffd4"
      },
      "execution_count": 107,
      "outputs": [
        {
          "output_type": "execute_result",
          "data": {
            "text/plain": [
              "    revenue1       profit1  receivableS1      debt1  longLoan1      surplus1  \\\n",
              "0  24.925341  5.036692e+08     20.400658  24.938218  22.566842  8.944587e+09   \n",
              "1  24.277401  4.525557e+08     20.309308  24.916963  23.568175  1.046277e+10   \n",
              "2  23.870014 -2.148749e+09     22.716210   0.000000   0.000000  1.638540e+10   \n",
              "3   0.000000  2.789663e+09      0.000000  24.087758   0.000000  0.000000e+00   \n",
              "4  24.642667  3.346675e+09     18.519621  24.619492  23.023490  1.492691e+10   \n",
              "\n",
              "   employee1  employee2  \n",
              "0   6.542472   6.542472  \n",
              "1   5.940171   5.918894  \n",
              "2   5.324239   5.248198  \n",
              "3   6.634633   6.634633  \n",
              "4   6.082219   5.955837  "
            ],
            "text/html": [
              "\n",
              "  <div id=\"df-877af280-caf6-4c5d-bf54-893e0ca1c76f\">\n",
              "    <div class=\"colab-df-container\">\n",
              "      <div>\n",
              "<style scoped>\n",
              "    .dataframe tbody tr th:only-of-type {\n",
              "        vertical-align: middle;\n",
              "    }\n",
              "\n",
              "    .dataframe tbody tr th {\n",
              "        vertical-align: top;\n",
              "    }\n",
              "\n",
              "    .dataframe thead th {\n",
              "        text-align: right;\n",
              "    }\n",
              "</style>\n",
              "<table border=\"1\" class=\"dataframe\">\n",
              "  <thead>\n",
              "    <tr style=\"text-align: right;\">\n",
              "      <th></th>\n",
              "      <th>revenue1</th>\n",
              "      <th>profit1</th>\n",
              "      <th>receivableS1</th>\n",
              "      <th>debt1</th>\n",
              "      <th>longLoan1</th>\n",
              "      <th>surplus1</th>\n",
              "      <th>employee1</th>\n",
              "      <th>employee2</th>\n",
              "    </tr>\n",
              "  </thead>\n",
              "  <tbody>\n",
              "    <tr>\n",
              "      <th>0</th>\n",
              "      <td>24.925341</td>\n",
              "      <td>5.036692e+08</td>\n",
              "      <td>20.400658</td>\n",
              "      <td>24.938218</td>\n",
              "      <td>22.566842</td>\n",
              "      <td>8.944587e+09</td>\n",
              "      <td>6.542472</td>\n",
              "      <td>6.542472</td>\n",
              "    </tr>\n",
              "    <tr>\n",
              "      <th>1</th>\n",
              "      <td>24.277401</td>\n",
              "      <td>4.525557e+08</td>\n",
              "      <td>20.309308</td>\n",
              "      <td>24.916963</td>\n",
              "      <td>23.568175</td>\n",
              "      <td>1.046277e+10</td>\n",
              "      <td>5.940171</td>\n",
              "      <td>5.918894</td>\n",
              "    </tr>\n",
              "    <tr>\n",
              "      <th>2</th>\n",
              "      <td>23.870014</td>\n",
              "      <td>-2.148749e+09</td>\n",
              "      <td>22.716210</td>\n",
              "      <td>0.000000</td>\n",
              "      <td>0.000000</td>\n",
              "      <td>1.638540e+10</td>\n",
              "      <td>5.324239</td>\n",
              "      <td>5.248198</td>\n",
              "    </tr>\n",
              "    <tr>\n",
              "      <th>3</th>\n",
              "      <td>0.000000</td>\n",
              "      <td>2.789663e+09</td>\n",
              "      <td>0.000000</td>\n",
              "      <td>24.087758</td>\n",
              "      <td>0.000000</td>\n",
              "      <td>0.000000e+00</td>\n",
              "      <td>6.634633</td>\n",
              "      <td>6.634633</td>\n",
              "    </tr>\n",
              "    <tr>\n",
              "      <th>4</th>\n",
              "      <td>24.642667</td>\n",
              "      <td>3.346675e+09</td>\n",
              "      <td>18.519621</td>\n",
              "      <td>24.619492</td>\n",
              "      <td>23.023490</td>\n",
              "      <td>1.492691e+10</td>\n",
              "      <td>6.082219</td>\n",
              "      <td>5.955837</td>\n",
              "    </tr>\n",
              "  </tbody>\n",
              "</table>\n",
              "</div>\n",
              "      <button class=\"colab-df-convert\" onclick=\"convertToInteractive('df-877af280-caf6-4c5d-bf54-893e0ca1c76f')\"\n",
              "              title=\"Convert this dataframe to an interactive table.\"\n",
              "              style=\"display:none;\">\n",
              "        \n",
              "  <svg xmlns=\"http://www.w3.org/2000/svg\" height=\"24px\"viewBox=\"0 0 24 24\"\n",
              "       width=\"24px\">\n",
              "    <path d=\"M0 0h24v24H0V0z\" fill=\"none\"/>\n",
              "    <path d=\"M18.56 5.44l.94 2.06.94-2.06 2.06-.94-2.06-.94-.94-2.06-.94 2.06-2.06.94zm-11 1L8.5 8.5l.94-2.06 2.06-.94-2.06-.94L8.5 2.5l-.94 2.06-2.06.94zm10 10l.94 2.06.94-2.06 2.06-.94-2.06-.94-.94-2.06-.94 2.06-2.06.94z\"/><path d=\"M17.41 7.96l-1.37-1.37c-.4-.4-.92-.59-1.43-.59-.52 0-1.04.2-1.43.59L10.3 9.45l-7.72 7.72c-.78.78-.78 2.05 0 2.83L4 21.41c.39.39.9.59 1.41.59.51 0 1.02-.2 1.41-.59l7.78-7.78 2.81-2.81c.8-.78.8-2.07 0-2.86zM5.41 20L4 18.59l7.72-7.72 1.47 1.35L5.41 20z\"/>\n",
              "  </svg>\n",
              "      </button>\n",
              "      \n",
              "  <style>\n",
              "    .colab-df-container {\n",
              "      display:flex;\n",
              "      flex-wrap:wrap;\n",
              "      gap: 12px;\n",
              "    }\n",
              "\n",
              "    .colab-df-convert {\n",
              "      background-color: #E8F0FE;\n",
              "      border: none;\n",
              "      border-radius: 50%;\n",
              "      cursor: pointer;\n",
              "      display: none;\n",
              "      fill: #1967D2;\n",
              "      height: 32px;\n",
              "      padding: 0 0 0 0;\n",
              "      width: 32px;\n",
              "    }\n",
              "\n",
              "    .colab-df-convert:hover {\n",
              "      background-color: #E2EBFA;\n",
              "      box-shadow: 0px 1px 2px rgba(60, 64, 67, 0.3), 0px 1px 3px 1px rgba(60, 64, 67, 0.15);\n",
              "      fill: #174EA6;\n",
              "    }\n",
              "\n",
              "    [theme=dark] .colab-df-convert {\n",
              "      background-color: #3B4455;\n",
              "      fill: #D2E3FC;\n",
              "    }\n",
              "\n",
              "    [theme=dark] .colab-df-convert:hover {\n",
              "      background-color: #434B5C;\n",
              "      box-shadow: 0px 1px 3px 1px rgba(0, 0, 0, 0.15);\n",
              "      filter: drop-shadow(0px 1px 2px rgba(0, 0, 0, 0.3));\n",
              "      fill: #FFFFFF;\n",
              "    }\n",
              "  </style>\n",
              "\n",
              "      <script>\n",
              "        const buttonEl =\n",
              "          document.querySelector('#df-877af280-caf6-4c5d-bf54-893e0ca1c76f button.colab-df-convert');\n",
              "        buttonEl.style.display =\n",
              "          google.colab.kernel.accessAllowed ? 'block' : 'none';\n",
              "\n",
              "        async function convertToInteractive(key) {\n",
              "          const element = document.querySelector('#df-877af280-caf6-4c5d-bf54-893e0ca1c76f');\n",
              "          const dataTable =\n",
              "            await google.colab.kernel.invokeFunction('convertToInteractive',\n",
              "                                                     [key], {});\n",
              "          if (!dataTable) return;\n",
              "\n",
              "          const docLinkHtml = 'Like what you see? Visit the ' +\n",
              "            '<a target=\"_blank\" href=https://colab.research.google.com/notebooks/data_table.ipynb>data table notebook</a>'\n",
              "            + ' to learn more about interactive tables.';\n",
              "          element.innerHTML = '';\n",
              "          dataTable['output_type'] = 'display_data';\n",
              "          await google.colab.output.renderOutput(dataTable, element);\n",
              "          const docLink = document.createElement('div');\n",
              "          docLink.innerHTML = docLinkHtml;\n",
              "          element.appendChild(docLink);\n",
              "        }\n",
              "      </script>\n",
              "    </div>\n",
              "  </div>\n",
              "  "
            ]
          },
          "metadata": {},
          "execution_count": 107
        }
      ]
    },
    {
      "cell_type": "markdown",
      "source": [
        "### train 데이터 레이블과 피처로 나누기"
      ],
      "metadata": {
        "id": "fXjTiapa2h5w"
      }
    },
    {
      "cell_type": "code",
      "source": [
        "y_train = train['OC']\n",
        "X_train = train.iloc[:,1:]"
      ],
      "metadata": {
        "id": "ULMTfdrx2hbX"
      },
      "execution_count": 108,
      "outputs": []
    },
    {
      "cell_type": "code",
      "source": [
        "X_train.head()"
      ],
      "metadata": {
        "colab": {
          "base_uri": "https://localhost:8080/",
          "height": 0
        },
        "id": "pYjnpGzQPBTQ",
        "outputId": "e3a874bf-acf3-4b06-f98f-dced11dababc"
      },
      "execution_count": 109,
      "outputs": [
        {
          "output_type": "execute_result",
          "data": {
            "text/plain": [
              "    revenue1       profit1  receivableS1      debt1  longLoan1      surplus1  \\\n",
              "0  22.162515  2.251697e+08     19.968362  20.341751  19.676297  1.496394e+09   \n",
              "1  23.279077  2.101700e+08     20.363137  22.894068  21.696528  1.265935e+09   \n",
              "2  20.727778  4.186475e+07     15.906875  18.341793   0.000000  0.000000e+00   \n",
              "3  25.006954  9.028303e+08      0.000000  24.469560  22.704687  8.643659e+09   \n",
              "4  24.615974  8.074970e+07     22.134087  24.633249  23.325956  9.025550e+09   \n",
              "\n",
              "   employee1  employee2  \n",
              "0   4.143135   4.174387  \n",
              "1   6.687109   6.701960  \n",
              "2   5.459586   0.693147  \n",
              "3   6.498282   6.498282  \n",
              "4   5.332719   5.288267  "
            ],
            "text/html": [
              "\n",
              "  <div id=\"df-7c7386aa-95a2-4440-b2e2-9c34d33d6714\">\n",
              "    <div class=\"colab-df-container\">\n",
              "      <div>\n",
              "<style scoped>\n",
              "    .dataframe tbody tr th:only-of-type {\n",
              "        vertical-align: middle;\n",
              "    }\n",
              "\n",
              "    .dataframe tbody tr th {\n",
              "        vertical-align: top;\n",
              "    }\n",
              "\n",
              "    .dataframe thead th {\n",
              "        text-align: right;\n",
              "    }\n",
              "</style>\n",
              "<table border=\"1\" class=\"dataframe\">\n",
              "  <thead>\n",
              "    <tr style=\"text-align: right;\">\n",
              "      <th></th>\n",
              "      <th>revenue1</th>\n",
              "      <th>profit1</th>\n",
              "      <th>receivableS1</th>\n",
              "      <th>debt1</th>\n",
              "      <th>longLoan1</th>\n",
              "      <th>surplus1</th>\n",
              "      <th>employee1</th>\n",
              "      <th>employee2</th>\n",
              "    </tr>\n",
              "  </thead>\n",
              "  <tbody>\n",
              "    <tr>\n",
              "      <th>0</th>\n",
              "      <td>22.162515</td>\n",
              "      <td>2.251697e+08</td>\n",
              "      <td>19.968362</td>\n",
              "      <td>20.341751</td>\n",
              "      <td>19.676297</td>\n",
              "      <td>1.496394e+09</td>\n",
              "      <td>4.143135</td>\n",
              "      <td>4.174387</td>\n",
              "    </tr>\n",
              "    <tr>\n",
              "      <th>1</th>\n",
              "      <td>23.279077</td>\n",
              "      <td>2.101700e+08</td>\n",
              "      <td>20.363137</td>\n",
              "      <td>22.894068</td>\n",
              "      <td>21.696528</td>\n",
              "      <td>1.265935e+09</td>\n",
              "      <td>6.687109</td>\n",
              "      <td>6.701960</td>\n",
              "    </tr>\n",
              "    <tr>\n",
              "      <th>2</th>\n",
              "      <td>20.727778</td>\n",
              "      <td>4.186475e+07</td>\n",
              "      <td>15.906875</td>\n",
              "      <td>18.341793</td>\n",
              "      <td>0.000000</td>\n",
              "      <td>0.000000e+00</td>\n",
              "      <td>5.459586</td>\n",
              "      <td>0.693147</td>\n",
              "    </tr>\n",
              "    <tr>\n",
              "      <th>3</th>\n",
              "      <td>25.006954</td>\n",
              "      <td>9.028303e+08</td>\n",
              "      <td>0.000000</td>\n",
              "      <td>24.469560</td>\n",
              "      <td>22.704687</td>\n",
              "      <td>8.643659e+09</td>\n",
              "      <td>6.498282</td>\n",
              "      <td>6.498282</td>\n",
              "    </tr>\n",
              "    <tr>\n",
              "      <th>4</th>\n",
              "      <td>24.615974</td>\n",
              "      <td>8.074970e+07</td>\n",
              "      <td>22.134087</td>\n",
              "      <td>24.633249</td>\n",
              "      <td>23.325956</td>\n",
              "      <td>9.025550e+09</td>\n",
              "      <td>5.332719</td>\n",
              "      <td>5.288267</td>\n",
              "    </tr>\n",
              "  </tbody>\n",
              "</table>\n",
              "</div>\n",
              "      <button class=\"colab-df-convert\" onclick=\"convertToInteractive('df-7c7386aa-95a2-4440-b2e2-9c34d33d6714')\"\n",
              "              title=\"Convert this dataframe to an interactive table.\"\n",
              "              style=\"display:none;\">\n",
              "        \n",
              "  <svg xmlns=\"http://www.w3.org/2000/svg\" height=\"24px\"viewBox=\"0 0 24 24\"\n",
              "       width=\"24px\">\n",
              "    <path d=\"M0 0h24v24H0V0z\" fill=\"none\"/>\n",
              "    <path d=\"M18.56 5.44l.94 2.06.94-2.06 2.06-.94-2.06-.94-.94-2.06-.94 2.06-2.06.94zm-11 1L8.5 8.5l.94-2.06 2.06-.94-2.06-.94L8.5 2.5l-.94 2.06-2.06.94zm10 10l.94 2.06.94-2.06 2.06-.94-2.06-.94-.94-2.06-.94 2.06-2.06.94z\"/><path d=\"M17.41 7.96l-1.37-1.37c-.4-.4-.92-.59-1.43-.59-.52 0-1.04.2-1.43.59L10.3 9.45l-7.72 7.72c-.78.78-.78 2.05 0 2.83L4 21.41c.39.39.9.59 1.41.59.51 0 1.02-.2 1.41-.59l7.78-7.78 2.81-2.81c.8-.78.8-2.07 0-2.86zM5.41 20L4 18.59l7.72-7.72 1.47 1.35L5.41 20z\"/>\n",
              "  </svg>\n",
              "      </button>\n",
              "      \n",
              "  <style>\n",
              "    .colab-df-container {\n",
              "      display:flex;\n",
              "      flex-wrap:wrap;\n",
              "      gap: 12px;\n",
              "    }\n",
              "\n",
              "    .colab-df-convert {\n",
              "      background-color: #E8F0FE;\n",
              "      border: none;\n",
              "      border-radius: 50%;\n",
              "      cursor: pointer;\n",
              "      display: none;\n",
              "      fill: #1967D2;\n",
              "      height: 32px;\n",
              "      padding: 0 0 0 0;\n",
              "      width: 32px;\n",
              "    }\n",
              "\n",
              "    .colab-df-convert:hover {\n",
              "      background-color: #E2EBFA;\n",
              "      box-shadow: 0px 1px 2px rgba(60, 64, 67, 0.3), 0px 1px 3px 1px rgba(60, 64, 67, 0.15);\n",
              "      fill: #174EA6;\n",
              "    }\n",
              "\n",
              "    [theme=dark] .colab-df-convert {\n",
              "      background-color: #3B4455;\n",
              "      fill: #D2E3FC;\n",
              "    }\n",
              "\n",
              "    [theme=dark] .colab-df-convert:hover {\n",
              "      background-color: #434B5C;\n",
              "      box-shadow: 0px 1px 3px 1px rgba(0, 0, 0, 0.15);\n",
              "      filter: drop-shadow(0px 1px 2px rgba(0, 0, 0, 0.3));\n",
              "      fill: #FFFFFF;\n",
              "    }\n",
              "  </style>\n",
              "\n",
              "      <script>\n",
              "        const buttonEl =\n",
              "          document.querySelector('#df-7c7386aa-95a2-4440-b2e2-9c34d33d6714 button.colab-df-convert');\n",
              "        buttonEl.style.display =\n",
              "          google.colab.kernel.accessAllowed ? 'block' : 'none';\n",
              "\n",
              "        async function convertToInteractive(key) {\n",
              "          const element = document.querySelector('#df-7c7386aa-95a2-4440-b2e2-9c34d33d6714');\n",
              "          const dataTable =\n",
              "            await google.colab.kernel.invokeFunction('convertToInteractive',\n",
              "                                                     [key], {});\n",
              "          if (!dataTable) return;\n",
              "\n",
              "          const docLinkHtml = 'Like what you see? Visit the ' +\n",
              "            '<a target=\"_blank\" href=https://colab.research.google.com/notebooks/data_table.ipynb>data table notebook</a>'\n",
              "            + ' to learn more about interactive tables.';\n",
              "          element.innerHTML = '';\n",
              "          dataTable['output_type'] = 'display_data';\n",
              "          await google.colab.output.renderOutput(dataTable, element);\n",
              "          const docLink = document.createElement('div');\n",
              "          docLink.innerHTML = docLinkHtml;\n",
              "          element.appendChild(docLink);\n",
              "        }\n",
              "      </script>\n",
              "    </div>\n",
              "  </div>\n",
              "  "
            ]
          },
          "metadata": {},
          "execution_count": 109
        }
      ]
    },
    {
      "cell_type": "code",
      "source": [
        "y_train.head()"
      ],
      "metadata": {
        "colab": {
          "base_uri": "https://localhost:8080/"
        },
        "id": "6mG1dTas2oN2",
        "outputId": "2018a6b3-aff4-47ab-9508-a626cfea62ba"
      },
      "execution_count": 110,
      "outputs": [
        {
          "output_type": "execute_result",
          "data": {
            "text/plain": [
              "0    open\n",
              "1    open\n",
              "2    open\n",
              "3    open\n",
              "4    open\n",
              "Name: OC, dtype: object"
            ]
          },
          "metadata": {},
          "execution_count": 110
        }
      ]
    },
    {
      "cell_type": "code",
      "source": [
        "y_train = pd.get_dummies(y_train)\n",
        "y_train = y_train.iloc[:,0]\n",
        "y_train.head()"
      ],
      "metadata": {
        "id": "7yZUA9yn3j_z",
        "colab": {
          "base_uri": "https://localhost:8080/"
        },
        "outputId": "fc8f2fbb-c47b-4262-85a9-5f4e5463d99d"
      },
      "execution_count": 111,
      "outputs": [
        {
          "output_type": "execute_result",
          "data": {
            "text/plain": [
              "0    0\n",
              "1    0\n",
              "2    0\n",
              "3    0\n",
              "4    0\n",
              "Name:  close, dtype: uint8"
            ]
          },
          "metadata": {},
          "execution_count": 111
        }
      ]
    },
    {
      "cell_type": "markdown",
      "source": [
        "## 분류 알고리즘 적용"
      ],
      "metadata": {
        "id": "-b9lEQetPGWu"
      }
    },
    {
      "cell_type": "markdown",
      "source": [
        "### 랜덤포레스트"
      ],
      "metadata": {
        "id": "3oDvQCMr62c_"
      }
    },
    {
      "cell_type": "code",
      "source": [
        "from sklearn.ensemble import RandomForestClassifier\n",
        "rf_clf = RandomForestClassifier()\n",
        "rf_clf.fit(X_train,y_train)\n",
        "rf_clf_pred = rf_clf.predict(test)\n",
        "rf_clf_pred"
      ],
      "metadata": {
        "colab": {
          "base_uri": "https://localhost:8080/"
        },
        "id": "1ubrcp_TPZ9M",
        "outputId": "1fbbad1f-b50b-4bc2-e356-21cf8289f039"
      },
      "execution_count": 112,
      "outputs": [
        {
          "output_type": "execute_result",
          "data": {
            "text/plain": [
              "array([0, 0, 0, 0, 0, 0, 0, 0, 0, 0, 0, 0, 0, 0, 0, 0, 0, 0, 0, 0, 0, 0,\n",
              "       0, 0, 0, 0, 0, 0, 0, 0, 0, 0, 0, 0, 0, 0, 0, 0, 0, 0, 0, 0, 0, 0,\n",
              "       0, 0, 0, 0, 0, 0, 0, 0, 1, 0, 0, 0, 0, 0, 0, 0, 0, 0, 0, 0, 0, 0,\n",
              "       0, 0, 0, 0, 0, 0, 0, 0, 0, 0, 0, 0, 0, 0, 0, 0, 0, 0, 0, 0, 0, 0,\n",
              "       0, 0, 0, 0, 0, 0, 0, 0, 0, 0, 0, 0, 0, 0, 0, 0, 0, 0, 0, 0, 0, 0,\n",
              "       0, 0, 0, 0, 0, 0, 0, 0, 0, 0, 0, 0, 0, 0, 0, 0, 0], dtype=uint8)"
            ]
          },
          "metadata": {},
          "execution_count": 112
        }
      ]
    },
    {
      "cell_type": "markdown",
      "source": [
        "### 결정트리"
      ],
      "metadata": {
        "id": "-5FUk5mpJUiD"
      }
    },
    {
      "cell_type": "code",
      "source": [
        "from sklearn.tree import DecisionTreeClassifier\n",
        "from sklearn.model_selection import GridSearchCV\n",
        "\n",
        "tree_clf = DecisionTreeClassifier(random_state=42)\n",
        "\n",
        "params = {'max_leaf_nodes' : list(range(2,100)),'min_samples_split' : [2,3,4]}\n",
        "\n",
        "grid_search_cv = GridSearchCV(tree_clf,param_grid=params,cv=3,n_jobs=-1,verbose=1)\n",
        "grid_search_cv.fit(X_train,y_train)\n",
        "y_pred = grid_search_cv.best_estimator_.predict(test)\n",
        "y_pred"
      ],
      "metadata": {
        "colab": {
          "base_uri": "https://localhost:8080/"
        },
        "id": "YvXLoIBg7Z9s",
        "outputId": "41ca0028-7bbd-4dfc-b86d-6e96878d77f9"
      },
      "execution_count": 113,
      "outputs": [
        {
          "output_type": "stream",
          "name": "stdout",
          "text": [
            "Fitting 3 folds for each of 294 candidates, totalling 882 fits\n"
          ]
        },
        {
          "output_type": "execute_result",
          "data": {
            "text/plain": [
              "array([0, 0, 0, 0, 0, 0, 0, 0, 0, 0, 0, 0, 0, 0, 0, 0, 0, 0, 0, 0, 0, 0,\n",
              "       0, 0, 0, 0, 0, 0, 0, 0, 0, 0, 0, 0, 0, 0, 0, 0, 0, 0, 0, 0, 0, 0,\n",
              "       0, 0, 0, 0, 0, 0, 0, 0, 0, 0, 0, 0, 0, 0, 0, 0, 0, 0, 0, 0, 0, 0,\n",
              "       0, 0, 0, 0, 0, 0, 0, 0, 0, 0, 0, 0, 0, 0, 0, 0, 0, 0, 0, 0, 0, 0,\n",
              "       0, 0, 0, 0, 0, 0, 0, 0, 0, 0, 0, 0, 0, 0, 0, 0, 0, 0, 0, 0, 0, 0,\n",
              "       0, 0, 0, 0, 0, 0, 0, 0, 0, 0, 0, 0, 0, 0, 0, 0, 0], dtype=uint8)"
            ]
          },
          "metadata": {},
          "execution_count": 113
        }
      ]
    },
    {
      "cell_type": "markdown",
      "source": [
        "### LightGBM"
      ],
      "metadata": {
        "id": "_ygVtHux65Hl"
      }
    },
    {
      "cell_type": "code",
      "source": [
        "from lightgbm import LGBMClassifier\n",
        "lgbm = LGBMClassifier()\n",
        "lgbm.fit(X_train,y_train)\n",
        "lgbm_pred = lgbm.predict(test)\n",
        "lgbm_pred"
      ],
      "metadata": {
        "colab": {
          "base_uri": "https://localhost:8080/"
        },
        "id": "dw8yL1US66Ow",
        "outputId": "96c9be62-7a92-4123-c8c2-bc4fd6600cad"
      },
      "execution_count": 114,
      "outputs": [
        {
          "output_type": "execute_result",
          "data": {
            "text/plain": [
              "array([0, 0, 0, 0, 0, 0, 0, 0, 0, 0, 0, 0, 0, 0, 0, 0, 0, 0, 0, 0, 0, 0,\n",
              "       0, 0, 0, 0, 0, 0, 0, 0, 0, 0, 0, 0, 0, 0, 0, 0, 0, 0, 0, 0, 0, 0,\n",
              "       0, 0, 0, 0, 0, 0, 0, 0, 1, 0, 0, 0, 0, 0, 0, 0, 0, 0, 0, 0, 0, 0,\n",
              "       0, 0, 0, 0, 0, 0, 0, 0, 0, 0, 0, 0, 0, 0, 0, 0, 0, 0, 0, 0, 0, 0,\n",
              "       0, 0, 0, 0, 0, 0, 0, 0, 0, 0, 0, 0, 0, 0, 0, 0, 0, 0, 0, 0, 0, 0,\n",
              "       0, 0, 0, 0, 0, 0, 0, 0, 0, 0, 0, 0, 0, 0, 0, 0, 0], dtype=uint8)"
            ]
          },
          "metadata": {},
          "execution_count": 114
        }
      ]
    },
    {
      "cell_type": "markdown",
      "source": [
        "### XGBClassifier"
      ],
      "metadata": {
        "id": "nzG4MYd66-e0"
      }
    },
    {
      "cell_type": "code",
      "source": [
        "from xgboost import XGBClassifier\n",
        "xgb = XGBClassifier()\n",
        "xgb.fit(X_train,y_train)\n",
        "xgb_pred = xgb.predict(test)\n",
        "xgb_pred"
      ],
      "metadata": {
        "colab": {
          "base_uri": "https://localhost:8080/"
        },
        "id": "vbC-EySW6_r_",
        "outputId": "3814a8a8-0e7c-454e-c85d-e022e02f0e5f"
      },
      "execution_count": 115,
      "outputs": [
        {
          "output_type": "execute_result",
          "data": {
            "text/plain": [
              "array([0, 0, 0, 0, 0, 0, 0, 0, 0, 0, 0, 0, 0, 0, 0, 0, 0, 0, 0, 0, 0, 0,\n",
              "       0, 0, 0, 0, 0, 0, 0, 0, 0, 0, 0, 0, 0, 0, 0, 0, 0, 0, 0, 0, 0, 0,\n",
              "       0, 0, 0, 0, 0, 0, 0, 0, 1, 0, 0, 0, 0, 0, 0, 0, 0, 0, 0, 0, 0, 0,\n",
              "       0, 0, 0, 0, 0, 0, 0, 0, 0, 0, 0, 0, 0, 0, 0, 0, 0, 1, 0, 0, 0, 0,\n",
              "       0, 0, 0, 0, 0, 0, 0, 0, 0, 0, 0, 0, 0, 0, 0, 0, 0, 0, 0, 0, 0, 0,\n",
              "       0, 0, 0, 0, 0, 0, 0, 0, 0, 0, 0, 0, 0, 0, 0, 0, 0], dtype=uint8)"
            ]
          },
          "metadata": {},
          "execution_count": 115
        }
      ]
    },
    {
      "cell_type": "markdown",
      "source": [
        "# 제출 데이터 뽑아내기"
      ],
      "metadata": {
        "id": "Z-Ar_ajEU7fM"
      }
    },
    {
      "cell_type": "code",
      "source": [
        "submission_sample['OC'] = list(xgb_pred)\n",
        "xgb_csv = submission_sample\n",
        "xgb_csv.head()\n",
        "xgb_csv.to_csv('xgb_csv_fin.csv', index=False, encoding=\"utf-8\")"
      ],
      "metadata": {
        "id": "4gdZvXrSXrGu"
      },
      "execution_count": 121,
      "outputs": []
    },
    {
      "cell_type": "code",
      "source": [
        "submission_sample['OC'] = list(lgbm_pred)\n",
        "lgbm_csv = submission_sample\n",
        "lgbm_csv.head()\n",
        "lgbm_csv.to_csv('lgbm_csv_fin.csv', index=False, encoding=\"utf-8\")"
      ],
      "metadata": {
        "id": "BfhKDe9HX0Z7"
      },
      "execution_count": 122,
      "outputs": []
    },
    {
      "cell_type": "code",
      "source": [
        "submission_sample['OC'] = list(rf_clf_pred)\n",
        "rf_csv = submission_sample\n",
        "rf_csv.head()\n",
        "rf_csv.to_csv('rf_csv_fin.csv', index=False, encoding=\"utf-8\")"
      ],
      "metadata": {
        "id": "Y2j9GxL4XybK"
      },
      "execution_count": 123,
      "outputs": []
    },
    {
      "cell_type": "code",
      "source": [
        "submission_sample['OC'] = list(y_pred)\n",
        "dt_csv = submission_sample\n",
        "dt_csv.head()\n",
        "dt_csv.to_csv('dt_csv_fin.csv', index=False, encoding=\"utf-8\")"
      ],
      "metadata": {
        "id": "YJw3gjUmaHpz"
      },
      "execution_count": 124,
      "outputs": []
    }
  ]
}