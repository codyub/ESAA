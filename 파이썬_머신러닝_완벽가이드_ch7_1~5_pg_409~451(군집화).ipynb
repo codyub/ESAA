{
  "nbformat": 4,
  "nbformat_minor": 0,
  "metadata": {
    "colab": {
      "provenance": [],
      "authorship_tag": "ABX9TyNzcfHifqLqrY5apamI3q5Z",
      "include_colab_link": true
    },
    "kernelspec": {
      "name": "python3",
      "display_name": "Python 3"
    },
    "language_info": {
      "name": "python"
    }
  },
  "cells": [
    {
      "cell_type": "markdown",
      "metadata": {
        "id": "view-in-github",
        "colab_type": "text"
      },
      "source": [
        "<a href=\"https://colab.research.google.com/github/codyub/ESAA/blob/main/%ED%8C%8C%EC%9D%B4%EC%8D%AC_%EB%A8%B8%EC%8B%A0%EB%9F%AC%EB%8B%9D_%EC%99%84%EB%B2%BD%EA%B0%80%EC%9D%B4%EB%93%9C_ch7_1~5_pg_409~451(%EA%B5%B0%EC%A7%91%ED%99%94).ipynb\" target=\"_parent\"><img src=\"https://colab.research.google.com/assets/colab-badge.svg\" alt=\"Open In Colab\"/></a>"
      ]
    },
    {
      "cell_type": "markdown",
      "source": [
        "# 07 군집화"
      ],
      "metadata": {
        "id": "SENFa9TV6vn0"
      }
    },
    {
      "cell_type": "markdown",
      "source": [
        "# 01 K- 평균 알고리즘 이해"
      ],
      "metadata": {
        "id": "GMczFFuJ6yQB"
      }
    },
    {
      "cell_type": "markdown",
      "source": [
        "- 군집 중심점(centroid)라는 특정한 임의의 지점을 선택해 해당 줌심에 가장 가까운 포인트들을 선택하는 군집화 기법\n",
        "- 군집 중심점은 선택된 포인트의 평균 지점으로 이동하고 이동된 중심점에서 다시 가까운 포인트를 선택, 다시 중심점을 평균 지점으로 이동하는 프로세스를 반복적으로 수행\n",
        "- 모든 데이터 포인트에서 더 이상 중심점의 이동이 없을 경우에 반복을 멈추고 해당 중심점에 속하는 데이터 포인트들을 군집화 하는 기법\n",
        "- 즉, 중심점을 이동해도 데이터들의 중심점 소속 변경이 없으면 군집화 완료\n"
      ],
      "metadata": {
        "id": "cNstQ4cA60eU"
      }
    },
    {
      "cell_type": "markdown",
      "source": [
        "## 장점\n",
        "- 일반적인 군집화에서 가장 많이 활용되는 알고리즘\n",
        "- 알고리즘이 쉽고 간결"
      ],
      "metadata": {
        "id": "ZlkYvCET8iyF"
      }
    },
    {
      "cell_type": "markdown",
      "source": [
        "## 단점\n",
        "- 거리 기반 알고리즘으로 속성의 개수가 매우 많을 경우, 군집화 정확도가 떨어짐(이를 위해 PCA로 차원 감소를 적용해야 할 수도 있음)\n",
        "- 반복을 수행하는데, 반복 횟수가 많을 경우 수행 시간이 매우 느려짐\n",
        "- 몇 개의 군집을 선택해야 할 지 가이드하기 어려움"
      ],
      "metadata": {
        "id": "SpMqxtgt8oq0"
      }
    },
    {
      "cell_type": "markdown",
      "source": [
        "# Sklearn KMeans 클래스 소개\n",
        "\n",
        "\n",
        "```\n",
        "class sklearn.cluster.KMeans(n_clusters=8, init='k-means++', n_init=10, max_iter=300, tol=0.0001, precompute_distances='auto', verbose=0, random_state=None, copy_x=True, n_jobs=1, algorithm='auto'\n",
        "```\n",
        "\n",
        ")"
      ],
      "metadata": {
        "id": "cbloVyByKgmt"
      }
    },
    {
      "cell_type": "markdown",
      "source": [
        "# 주요 파라미터\n",
        "- n_clusters : 군집중심점 개수\n",
        "- init : 초기 군집 중심점 좌표 설정 방식, 일반적으로 k-means++\n",
        "- max_iter : 최대 반복 횟수. 이 횟수 이전에 모든 데이터의 중심점 이동 없을 경우 종료\n",
        "\n",
        "# 주요 속성 정보\n",
        "- labels_ : 각 데이터 포인트가 속한 군집 중심점 레이블\n",
        "- cluster_centers_ : 각 군집 중심점 좌표. (shape는 [군집개수, 피처개수]). 군집 중심점 좌표 시각화에 사용"
      ],
      "metadata": {
        "id": "4wlWSInyK0rC"
      }
    },
    {
      "cell_type": "markdown",
      "source": [
        "# K-평균을 이용한 붓꽃 데이터 세트 군집화\n",
        "- 붓꽃의 꽃받침과 꽃잎 길이와 너비에 따른 품종을 분류하는 데이터 세트"
      ],
      "metadata": {
        "id": "efTUXgqELWIE"
      }
    },
    {
      "cell_type": "code",
      "source": [
        "from sklearn.preprocessing import scale\n",
        "from sklearn.datasets import load_iris\n",
        "from sklearn.cluster import KMeans\n",
        "import matplotlib.pyplot as plt\n",
        "import numpy as np\n",
        "import pandas as pd\n",
        "%matplotlib inline\n",
        "\n",
        "iris = load_iris()\n",
        "# 더 편리한 데이터 Handling을 위해 DataFrame으로 변환\n",
        "irisDF = pd.DataFrame(data=iris.data, columns=['sepal_length','sepal_width','petal_length','petal_width'])\n",
        "irisDF.head(3)"
      ],
      "metadata": {
        "colab": {
          "base_uri": "https://localhost:8080/",
          "height": 143
        },
        "id": "zUbEifU9KzbR",
        "outputId": "58ddd441-7871-4ac9-a73c-9710e93fae0e"
      },
      "execution_count": 2,
      "outputs": [
        {
          "output_type": "execute_result",
          "data": {
            "text/plain": [
              "   sepal_length  sepal_width  petal_length  petal_width\n",
              "0           5.1          3.5           1.4          0.2\n",
              "1           4.9          3.0           1.4          0.2\n",
              "2           4.7          3.2           1.3          0.2"
            ],
            "text/html": [
              "\n",
              "  <div id=\"df-a0fedf92-53e1-498e-b950-116cd175e91c\">\n",
              "    <div class=\"colab-df-container\">\n",
              "      <div>\n",
              "<style scoped>\n",
              "    .dataframe tbody tr th:only-of-type {\n",
              "        vertical-align: middle;\n",
              "    }\n",
              "\n",
              "    .dataframe tbody tr th {\n",
              "        vertical-align: top;\n",
              "    }\n",
              "\n",
              "    .dataframe thead th {\n",
              "        text-align: right;\n",
              "    }\n",
              "</style>\n",
              "<table border=\"1\" class=\"dataframe\">\n",
              "  <thead>\n",
              "    <tr style=\"text-align: right;\">\n",
              "      <th></th>\n",
              "      <th>sepal_length</th>\n",
              "      <th>sepal_width</th>\n",
              "      <th>petal_length</th>\n",
              "      <th>petal_width</th>\n",
              "    </tr>\n",
              "  </thead>\n",
              "  <tbody>\n",
              "    <tr>\n",
              "      <th>0</th>\n",
              "      <td>5.1</td>\n",
              "      <td>3.5</td>\n",
              "      <td>1.4</td>\n",
              "      <td>0.2</td>\n",
              "    </tr>\n",
              "    <tr>\n",
              "      <th>1</th>\n",
              "      <td>4.9</td>\n",
              "      <td>3.0</td>\n",
              "      <td>1.4</td>\n",
              "      <td>0.2</td>\n",
              "    </tr>\n",
              "    <tr>\n",
              "      <th>2</th>\n",
              "      <td>4.7</td>\n",
              "      <td>3.2</td>\n",
              "      <td>1.3</td>\n",
              "      <td>0.2</td>\n",
              "    </tr>\n",
              "  </tbody>\n",
              "</table>\n",
              "</div>\n",
              "      <button class=\"colab-df-convert\" onclick=\"convertToInteractive('df-a0fedf92-53e1-498e-b950-116cd175e91c')\"\n",
              "              title=\"Convert this dataframe to an interactive table.\"\n",
              "              style=\"display:none;\">\n",
              "        \n",
              "  <svg xmlns=\"http://www.w3.org/2000/svg\" height=\"24px\"viewBox=\"0 0 24 24\"\n",
              "       width=\"24px\">\n",
              "    <path d=\"M0 0h24v24H0V0z\" fill=\"none\"/>\n",
              "    <path d=\"M18.56 5.44l.94 2.06.94-2.06 2.06-.94-2.06-.94-.94-2.06-.94 2.06-2.06.94zm-11 1L8.5 8.5l.94-2.06 2.06-.94-2.06-.94L8.5 2.5l-.94 2.06-2.06.94zm10 10l.94 2.06.94-2.06 2.06-.94-2.06-.94-.94-2.06-.94 2.06-2.06.94z\"/><path d=\"M17.41 7.96l-1.37-1.37c-.4-.4-.92-.59-1.43-.59-.52 0-1.04.2-1.43.59L10.3 9.45l-7.72 7.72c-.78.78-.78 2.05 0 2.83L4 21.41c.39.39.9.59 1.41.59.51 0 1.02-.2 1.41-.59l7.78-7.78 2.81-2.81c.8-.78.8-2.07 0-2.86zM5.41 20L4 18.59l7.72-7.72 1.47 1.35L5.41 20z\"/>\n",
              "  </svg>\n",
              "      </button>\n",
              "      \n",
              "  <style>\n",
              "    .colab-df-container {\n",
              "      display:flex;\n",
              "      flex-wrap:wrap;\n",
              "      gap: 12px;\n",
              "    }\n",
              "\n",
              "    .colab-df-convert {\n",
              "      background-color: #E8F0FE;\n",
              "      border: none;\n",
              "      border-radius: 50%;\n",
              "      cursor: pointer;\n",
              "      display: none;\n",
              "      fill: #1967D2;\n",
              "      height: 32px;\n",
              "      padding: 0 0 0 0;\n",
              "      width: 32px;\n",
              "    }\n",
              "\n",
              "    .colab-df-convert:hover {\n",
              "      background-color: #E2EBFA;\n",
              "      box-shadow: 0px 1px 2px rgba(60, 64, 67, 0.3), 0px 1px 3px 1px rgba(60, 64, 67, 0.15);\n",
              "      fill: #174EA6;\n",
              "    }\n",
              "\n",
              "    [theme=dark] .colab-df-convert {\n",
              "      background-color: #3B4455;\n",
              "      fill: #D2E3FC;\n",
              "    }\n",
              "\n",
              "    [theme=dark] .colab-df-convert:hover {\n",
              "      background-color: #434B5C;\n",
              "      box-shadow: 0px 1px 3px 1px rgba(0, 0, 0, 0.15);\n",
              "      filter: drop-shadow(0px 1px 2px rgba(0, 0, 0, 0.3));\n",
              "      fill: #FFFFFF;\n",
              "    }\n",
              "  </style>\n",
              "\n",
              "      <script>\n",
              "        const buttonEl =\n",
              "          document.querySelector('#df-a0fedf92-53e1-498e-b950-116cd175e91c button.colab-df-convert');\n",
              "        buttonEl.style.display =\n",
              "          google.colab.kernel.accessAllowed ? 'block' : 'none';\n",
              "\n",
              "        async function convertToInteractive(key) {\n",
              "          const element = document.querySelector('#df-a0fedf92-53e1-498e-b950-116cd175e91c');\n",
              "          const dataTable =\n",
              "            await google.colab.kernel.invokeFunction('convertToInteractive',\n",
              "                                                     [key], {});\n",
              "          if (!dataTable) return;\n",
              "\n",
              "          const docLinkHtml = 'Like what you see? Visit the ' +\n",
              "            '<a target=\"_blank\" href=https://colab.research.google.com/notebooks/data_table.ipynb>data table notebook</a>'\n",
              "            + ' to learn more about interactive tables.';\n",
              "          element.innerHTML = '';\n",
              "          dataTable['output_type'] = 'display_data';\n",
              "          await google.colab.output.renderOutput(dataTable, element);\n",
              "          const docLink = document.createElement('div');\n",
              "          docLink.innerHTML = docLinkHtml;\n",
              "          element.appendChild(docLink);\n",
              "        }\n",
              "      </script>\n",
              "    </div>\n",
              "  </div>\n",
              "  "
            ]
          },
          "metadata": {},
          "execution_count": 2
        }
      ]
    },
    {
      "cell_type": "markdown",
      "source": [
        "# 3개 그룹으로 군집화 : n_cluster=3 , max_iter=300(디폴트)으로 설정"
      ],
      "metadata": {
        "id": "SwEmoB_qLk7I"
      }
    },
    {
      "cell_type": "code",
      "execution_count": 3,
      "metadata": {
        "id": "NZ1leNzLgSeg",
        "colab": {
          "base_uri": "https://localhost:8080/"
        },
        "outputId": "9283a1bf-1feb-408c-f9e0-b7a9441368f5"
      },
      "outputs": [
        {
          "output_type": "execute_result",
          "data": {
            "text/plain": [
              "KMeans(n_clusters=3, random_state=0)"
            ]
          },
          "metadata": {},
          "execution_count": 3
        }
      ],
      "source": [
        "kmeans = KMeans(n_clusters=3, init='k-means++', max_iter=300,random_state=0)\n",
        "kmeans.fit(irisDF)"
      ]
    },
    {
      "cell_type": "markdown",
      "source": [
        "# 데이터 소속 확인 : labels_ 출력"
      ],
      "metadata": {
        "id": "6VAIQ9BsL2hi"
      }
    },
    {
      "cell_type": "code",
      "source": [
        "print(kmeans.labels_)"
      ],
      "metadata": {
        "id": "-zyYOvSFL1QD",
        "colab": {
          "base_uri": "https://localhost:8080/"
        },
        "outputId": "e1f6c399-3267-42e3-e7b8-f2b07cbf7928"
      },
      "execution_count": 4,
      "outputs": [
        {
          "output_type": "stream",
          "name": "stdout",
          "text": [
            "[1 1 1 1 1 1 1 1 1 1 1 1 1 1 1 1 1 1 1 1 1 1 1 1 1 1 1 1 1 1 1 1 1 1 1 1 1\n",
            " 1 1 1 1 1 1 1 1 1 1 1 1 1 0 0 2 0 0 0 0 0 0 0 0 0 0 0 0 0 0 0 0 0 0 0 0 0\n",
            " 0 0 0 2 0 0 0 0 0 0 0 0 0 0 0 0 0 0 0 0 0 0 0 0 0 0 2 0 2 2 2 2 0 2 2 2 2\n",
            " 2 2 0 0 2 2 2 2 0 2 0 2 0 2 2 0 0 2 2 2 2 2 0 2 2 2 2 0 2 2 2 0 2 2 2 0 2\n",
            " 2 0]\n"
          ]
        }
      ]
    },
    {
      "cell_type": "markdown",
      "source": [
        "# 붓꽃 품종 분류 값과 실제로 얼마나 차이가 나는지(군집화 효과) 확인"
      ],
      "metadata": {
        "id": "1Eu74dxbL8Bq"
      }
    },
    {
      "cell_type": "code",
      "source": [
        "irisDF['target'] = iris.target\n",
        "irisDF['cluster']=kmeans.labels_\n",
        "iris_result = irisDF.groupby(['target','cluster'])['sepal_length'].count()\n",
        "print(iris_result)"
      ],
      "metadata": {
        "colab": {
          "base_uri": "https://localhost:8080/"
        },
        "id": "Wqn29mgrMB48",
        "outputId": "483871ca-7f29-44e0-de69-db5150639994"
      },
      "execution_count": 5,
      "outputs": [
        {
          "output_type": "stream",
          "name": "stdout",
          "text": [
            "target  cluster\n",
            "0       1          50\n",
            "1       0          48\n",
            "        2           2\n",
            "2       0          14\n",
            "        2          36\n",
            "Name: sepal_length, dtype: int64\n"
          ]
        }
      ]
    },
    {
      "cell_type": "markdown",
      "source": [
        "- 분류 타깃이 0인 데이터는 모두 1번 군집으로 잘 갔지만, 3번 군집으로 가야 할 데이터들이 분산됨"
      ],
      "metadata": {
        "id": "Luotrv29MHux"
      }
    },
    {
      "cell_type": "markdown",
      "source": [
        "# 붓꽃 데이터 세트 군집화 시각화\n",
        "- 붓꽃 데이터 세트 속성 4개이므로 PCA 통해 2개로 차원 축소"
      ],
      "metadata": {
        "id": "ScwqDY4hMPFC"
      }
    },
    {
      "cell_type": "code",
      "source": [
        "from sklearn.decomposition import PCA\n",
        "\n",
        "pca = PCA(n_components=2)\n",
        "pca_transformed = pca.fit_transform(iris.data)\n",
        "\n",
        "irisDF['pca_x'] = pca_transformed[:,0]\n",
        "irisDF['pca_y'] = pca_transformed[:,1]\n",
        "irisDF.head(3)"
      ],
      "metadata": {
        "colab": {
          "base_uri": "https://localhost:8080/",
          "height": 143
        },
        "id": "tKxCR-vVMSs0",
        "outputId": "ee1eb564-1a97-4ead-d87c-ddccb000510a"
      },
      "execution_count": 6,
      "outputs": [
        {
          "output_type": "execute_result",
          "data": {
            "text/plain": [
              "   sepal_length  sepal_width  petal_length  petal_width  target  cluster  \\\n",
              "0           5.1          3.5           1.4          0.2       0        1   \n",
              "1           4.9          3.0           1.4          0.2       0        1   \n",
              "2           4.7          3.2           1.3          0.2       0        1   \n",
              "\n",
              "      pca_x     pca_y  \n",
              "0 -2.684126  0.319397  \n",
              "1 -2.714142 -0.177001  \n",
              "2 -2.888991 -0.144949  "
            ],
            "text/html": [
              "\n",
              "  <div id=\"df-a5c837d2-5af3-4193-a178-0a56253b153f\">\n",
              "    <div class=\"colab-df-container\">\n",
              "      <div>\n",
              "<style scoped>\n",
              "    .dataframe tbody tr th:only-of-type {\n",
              "        vertical-align: middle;\n",
              "    }\n",
              "\n",
              "    .dataframe tbody tr th {\n",
              "        vertical-align: top;\n",
              "    }\n",
              "\n",
              "    .dataframe thead th {\n",
              "        text-align: right;\n",
              "    }\n",
              "</style>\n",
              "<table border=\"1\" class=\"dataframe\">\n",
              "  <thead>\n",
              "    <tr style=\"text-align: right;\">\n",
              "      <th></th>\n",
              "      <th>sepal_length</th>\n",
              "      <th>sepal_width</th>\n",
              "      <th>petal_length</th>\n",
              "      <th>petal_width</th>\n",
              "      <th>target</th>\n",
              "      <th>cluster</th>\n",
              "      <th>pca_x</th>\n",
              "      <th>pca_y</th>\n",
              "    </tr>\n",
              "  </thead>\n",
              "  <tbody>\n",
              "    <tr>\n",
              "      <th>0</th>\n",
              "      <td>5.1</td>\n",
              "      <td>3.5</td>\n",
              "      <td>1.4</td>\n",
              "      <td>0.2</td>\n",
              "      <td>0</td>\n",
              "      <td>1</td>\n",
              "      <td>-2.684126</td>\n",
              "      <td>0.319397</td>\n",
              "    </tr>\n",
              "    <tr>\n",
              "      <th>1</th>\n",
              "      <td>4.9</td>\n",
              "      <td>3.0</td>\n",
              "      <td>1.4</td>\n",
              "      <td>0.2</td>\n",
              "      <td>0</td>\n",
              "      <td>1</td>\n",
              "      <td>-2.714142</td>\n",
              "      <td>-0.177001</td>\n",
              "    </tr>\n",
              "    <tr>\n",
              "      <th>2</th>\n",
              "      <td>4.7</td>\n",
              "      <td>3.2</td>\n",
              "      <td>1.3</td>\n",
              "      <td>0.2</td>\n",
              "      <td>0</td>\n",
              "      <td>1</td>\n",
              "      <td>-2.888991</td>\n",
              "      <td>-0.144949</td>\n",
              "    </tr>\n",
              "  </tbody>\n",
              "</table>\n",
              "</div>\n",
              "      <button class=\"colab-df-convert\" onclick=\"convertToInteractive('df-a5c837d2-5af3-4193-a178-0a56253b153f')\"\n",
              "              title=\"Convert this dataframe to an interactive table.\"\n",
              "              style=\"display:none;\">\n",
              "        \n",
              "  <svg xmlns=\"http://www.w3.org/2000/svg\" height=\"24px\"viewBox=\"0 0 24 24\"\n",
              "       width=\"24px\">\n",
              "    <path d=\"M0 0h24v24H0V0z\" fill=\"none\"/>\n",
              "    <path d=\"M18.56 5.44l.94 2.06.94-2.06 2.06-.94-2.06-.94-.94-2.06-.94 2.06-2.06.94zm-11 1L8.5 8.5l.94-2.06 2.06-.94-2.06-.94L8.5 2.5l-.94 2.06-2.06.94zm10 10l.94 2.06.94-2.06 2.06-.94-2.06-.94-.94-2.06-.94 2.06-2.06.94z\"/><path d=\"M17.41 7.96l-1.37-1.37c-.4-.4-.92-.59-1.43-.59-.52 0-1.04.2-1.43.59L10.3 9.45l-7.72 7.72c-.78.78-.78 2.05 0 2.83L4 21.41c.39.39.9.59 1.41.59.51 0 1.02-.2 1.41-.59l7.78-7.78 2.81-2.81c.8-.78.8-2.07 0-2.86zM5.41 20L4 18.59l7.72-7.72 1.47 1.35L5.41 20z\"/>\n",
              "  </svg>\n",
              "      </button>\n",
              "      \n",
              "  <style>\n",
              "    .colab-df-container {\n",
              "      display:flex;\n",
              "      flex-wrap:wrap;\n",
              "      gap: 12px;\n",
              "    }\n",
              "\n",
              "    .colab-df-convert {\n",
              "      background-color: #E8F0FE;\n",
              "      border: none;\n",
              "      border-radius: 50%;\n",
              "      cursor: pointer;\n",
              "      display: none;\n",
              "      fill: #1967D2;\n",
              "      height: 32px;\n",
              "      padding: 0 0 0 0;\n",
              "      width: 32px;\n",
              "    }\n",
              "\n",
              "    .colab-df-convert:hover {\n",
              "      background-color: #E2EBFA;\n",
              "      box-shadow: 0px 1px 2px rgba(60, 64, 67, 0.3), 0px 1px 3px 1px rgba(60, 64, 67, 0.15);\n",
              "      fill: #174EA6;\n",
              "    }\n",
              "\n",
              "    [theme=dark] .colab-df-convert {\n",
              "      background-color: #3B4455;\n",
              "      fill: #D2E3FC;\n",
              "    }\n",
              "\n",
              "    [theme=dark] .colab-df-convert:hover {\n",
              "      background-color: #434B5C;\n",
              "      box-shadow: 0px 1px 3px 1px rgba(0, 0, 0, 0.15);\n",
              "      filter: drop-shadow(0px 1px 2px rgba(0, 0, 0, 0.3));\n",
              "      fill: #FFFFFF;\n",
              "    }\n",
              "  </style>\n",
              "\n",
              "      <script>\n",
              "        const buttonEl =\n",
              "          document.querySelector('#df-a5c837d2-5af3-4193-a178-0a56253b153f button.colab-df-convert');\n",
              "        buttonEl.style.display =\n",
              "          google.colab.kernel.accessAllowed ? 'block' : 'none';\n",
              "\n",
              "        async function convertToInteractive(key) {\n",
              "          const element = document.querySelector('#df-a5c837d2-5af3-4193-a178-0a56253b153f');\n",
              "          const dataTable =\n",
              "            await google.colab.kernel.invokeFunction('convertToInteractive',\n",
              "                                                     [key], {});\n",
              "          if (!dataTable) return;\n",
              "\n",
              "          const docLinkHtml = 'Like what you see? Visit the ' +\n",
              "            '<a target=\"_blank\" href=https://colab.research.google.com/notebooks/data_table.ipynb>data table notebook</a>'\n",
              "            + ' to learn more about interactive tables.';\n",
              "          element.innerHTML = '';\n",
              "          dataTable['output_type'] = 'display_data';\n",
              "          await google.colab.output.renderOutput(dataTable, element);\n",
              "          const docLink = document.createElement('div');\n",
              "          docLink.innerHTML = docLinkHtml;\n",
              "          element.appendChild(docLink);\n",
              "        }\n",
              "      </script>\n",
              "    </div>\n",
              "  </div>\n",
              "  "
            ]
          },
          "metadata": {},
          "execution_count": 6
        }
      ]
    },
    {
      "cell_type": "code",
      "source": [
        "# 군집 값이 0, 1, 2 인 경우마다 별도의 Index로 추출\n",
        "marker0_ind = irisDF[irisDF['cluster']==0].index\n",
        "marker1_ind = irisDF[irisDF['cluster']==1].index\n",
        "marker2_ind = irisDF[irisDF['cluster']==2].index\n",
        "\n",
        "# 군집 값 0, 1, 2에 해당하는 Index로 각 cluster 레벨의 pca_x, pca_y 값 추출. o, s, ^ 로 marker 표시\n",
        "plt.scatter(x=irisDF.loc[marker0_ind,'pca_x'], y=irisDF.loc[marker0_ind,'pca_y'], marker='o') \n",
        "plt.scatter(x=irisDF.loc[marker1_ind,'pca_x'], y=irisDF.loc[marker1_ind,'pca_y'], marker='s')\n",
        "plt.scatter(x=irisDF.loc[marker2_ind,'pca_x'], y=irisDF.loc[marker2_ind,'pca_y'], marker='^')\n",
        "\n",
        "plt.xlabel('PCA 1')\n",
        "plt.ylabel('PCA 2')\n",
        "plt.title('3 Clusters Visualization by 2 PCA Components')\n",
        "plt.show()"
      ],
      "metadata": {
        "colab": {
          "base_uri": "https://localhost:8080/",
          "height": 295
        },
        "id": "4pbh8FQ8MYNR",
        "outputId": "e51e03b3-b164-4003-8643-b77e648a14da"
      },
      "execution_count": 7,
      "outputs": [
        {
          "output_type": "display_data",
          "data": {
            "text/plain": [
              "<Figure size 432x288 with 1 Axes>"
            ],
            "image/png": "[encoded data removed]"
          },
          "metadata": {
            "needs_background": "light"
          }
        }
      ]
    },
    {
      "cell_type": "markdown",
      "source": [
        "- 속성 위치 자체가 명확히 분리되기 어려운 속성이 존재"
      ],
      "metadata": {
        "id": "gkfoWY9iMiJ9"
      }
    },
    {
      "cell_type": "markdown",
      "source": [
        "# 군집화 알고리즘 테스트를 위한 데이터 생성\n",
        "- 대표적인 군집화용 데이터 생성기 : make_blobs(), make_classification() API 등\n",
        "- 여러개의 클래스에 해당하는 데이터 세트를 만드는데, 하나의 클래스에 여러 개의 군집이 분포될 수 있게 데이터를 생성할 수 있음\n",
        "> make_classification(): 노이즈를 포함한 데이터를 만드는 데 유용\n",
        "> make_blobs(): 군집의 중심점과 표준 편차 제어 기능 존재 (사용법 아래)\n",
        ">> - 호출 시 피처 & 타깃 데이터 세트 튜플로 반환\n",
        ">>- n_samples : 생성할 총 데이터의 개수 (디폴트 : 100)\n",
        ">>- n_features : 데이터의 피처 개수. 시각화의 경우, 보통 첫 번째 피처가 x 좌표\n",
        ">>- centers : int로 설정 시 군집 개수, ndarray로 표현 시 개별 군집 중심점의 좌표\n",
        ">>- cluster_std : 생성될 군집 데이터의 표준 편차. 군집별 표준편차 다르게 설정시 리스트 이용"
      ],
      "metadata": {
        "id": "gAOdGuAZMmuR"
      }
    },
    {
      "cell_type": "markdown",
      "source": [
        "- 총 200개의 레코드와 2개의 피처가 3개의 군집화 기반 분포도를 가진 피처 데이터 세트 X와 동시에 3개의 군집화 값을 가진 타깃 데이터 세트 y가 반환"
      ],
      "metadata": {
        "id": "yF3hNXCSNk3E"
      }
    },
    {
      "cell_type": "code",
      "source": [
        "import numpy as np\n",
        "import matplotlib.pyplot as plt\n",
        "from sklearn.cluster import KMeans\n",
        "from sklearn.datasets import make_blobs\n",
        "%matplotlib inline\n",
        "\n",
        "X, y = make_blobs(n_samples=200, n_features=2, centers=3, cluster_std=0.8, random_state=0)\n",
        "print(X.shape, y.shape)\n",
        "\n",
        "# y target 값의 분포를 확인\n",
        "unique, counts = np.unique(y, return_counts=True)\n",
        "print(unique,counts)"
      ],
      "metadata": {
        "colab": {
          "base_uri": "https://localhost:8080/"
        },
        "id": "B-0jq7RGNkhE",
        "outputId": "da5e6ce7-3129-4ad8-cd9a-478615233bed"
      },
      "execution_count": 8,
      "outputs": [
        {
          "output_type": "stream",
          "name": "stdout",
          "text": [
            "(200, 2) (200,)\n",
            "[0 1 2] [67 67 66]\n"
          ]
        }
      ]
    },
    {
      "cell_type": "markdown",
      "source": [
        "# 데이터 프레임으로 변환"
      ],
      "metadata": {
        "id": "uz_yOlnBYk9a"
      }
    },
    {
      "cell_type": "code",
      "source": [
        "import pandas as pd\n",
        "\n",
        "clusterDF = pd.DataFrame(data=X, columns=['ftr1', 'ftr2'])\n",
        "clusterDF['target'] = y\n",
        "clusterDF.head(3)"
      ],
      "metadata": {
        "colab": {
          "base_uri": "https://localhost:8080/",
          "height": 143
        },
        "id": "aifdDc7oYmXW",
        "outputId": "f09c0398-2973-4776-d08e-832ea1365e98"
      },
      "execution_count": 9,
      "outputs": [
        {
          "output_type": "execute_result",
          "data": {
            "text/plain": [
              "       ftr1      ftr2  target\n",
              "0 -1.692427  3.622025       2\n",
              "1  0.697940  4.428867       0\n",
              "2  1.100228  4.606317       0"
            ],
            "text/html": [
              "\n",
              "  <div id=\"df-f5d073e5-a304-4c01-986d-028093e09dcc\">\n",
              "    <div class=\"colab-df-container\">\n",
              "      <div>\n",
              "<style scoped>\n",
              "    .dataframe tbody tr th:only-of-type {\n",
              "        vertical-align: middle;\n",
              "    }\n",
              "\n",
              "    .dataframe tbody tr th {\n",
              "        vertical-align: top;\n",
              "    }\n",
              "\n",
              "    .dataframe thead th {\n",
              "        text-align: right;\n",
              "    }\n",
              "</style>\n",
              "<table border=\"1\" class=\"dataframe\">\n",
              "  <thead>\n",
              "    <tr style=\"text-align: right;\">\n",
              "      <th></th>\n",
              "      <th>ftr1</th>\n",
              "      <th>ftr2</th>\n",
              "      <th>target</th>\n",
              "    </tr>\n",
              "  </thead>\n",
              "  <tbody>\n",
              "    <tr>\n",
              "      <th>0</th>\n",
              "      <td>-1.692427</td>\n",
              "      <td>3.622025</td>\n",
              "      <td>2</td>\n",
              "    </tr>\n",
              "    <tr>\n",
              "      <th>1</th>\n",
              "      <td>0.697940</td>\n",
              "      <td>4.428867</td>\n",
              "      <td>0</td>\n",
              "    </tr>\n",
              "    <tr>\n",
              "      <th>2</th>\n",
              "      <td>1.100228</td>\n",
              "      <td>4.606317</td>\n",
              "      <td>0</td>\n",
              "    </tr>\n",
              "  </tbody>\n",
              "</table>\n",
              "</div>\n",
              "      <button class=\"colab-df-convert\" onclick=\"convertToInteractive('df-f5d073e5-a304-4c01-986d-028093e09dcc')\"\n",
              "              title=\"Convert this dataframe to an interactive table.\"\n",
              "              style=\"display:none;\">\n",
              "        \n",
              "  <svg xmlns=\"http://www.w3.org/2000/svg\" height=\"24px\"viewBox=\"0 0 24 24\"\n",
              "       width=\"24px\">\n",
              "    <path d=\"M0 0h24v24H0V0z\" fill=\"none\"/>\n",
              "    <path d=\"M18.56 5.44l.94 2.06.94-2.06 2.06-.94-2.06-.94-.94-2.06-.94 2.06-2.06.94zm-11 1L8.5 8.5l.94-2.06 2.06-.94-2.06-.94L8.5 2.5l-.94 2.06-2.06.94zm10 10l.94 2.06.94-2.06 2.06-.94-2.06-.94-.94-2.06-.94 2.06-2.06.94z\"/><path d=\"M17.41 7.96l-1.37-1.37c-.4-.4-.92-.59-1.43-.59-.52 0-1.04.2-1.43.59L10.3 9.45l-7.72 7.72c-.78.78-.78 2.05 0 2.83L4 21.41c.39.39.9.59 1.41.59.51 0 1.02-.2 1.41-.59l7.78-7.78 2.81-2.81c.8-.78.8-2.07 0-2.86zM5.41 20L4 18.59l7.72-7.72 1.47 1.35L5.41 20z\"/>\n",
              "  </svg>\n",
              "      </button>\n",
              "      \n",
              "  <style>\n",
              "    .colab-df-container {\n",
              "      display:flex;\n",
              "      flex-wrap:wrap;\n",
              "      gap: 12px;\n",
              "    }\n",
              "\n",
              "    .colab-df-convert {\n",
              "      background-color: #E8F0FE;\n",
              "      border: none;\n",
              "      border-radius: 50%;\n",
              "      cursor: pointer;\n",
              "      display: none;\n",
              "      fill: #1967D2;\n",
              "      height: 32px;\n",
              "      padding: 0 0 0 0;\n",
              "      width: 32px;\n",
              "    }\n",
              "\n",
              "    .colab-df-convert:hover {\n",
              "      background-color: #E2EBFA;\n",
              "      box-shadow: 0px 1px 2px rgba(60, 64, 67, 0.3), 0px 1px 3px 1px rgba(60, 64, 67, 0.15);\n",
              "      fill: #174EA6;\n",
              "    }\n",
              "\n",
              "    [theme=dark] .colab-df-convert {\n",
              "      background-color: #3B4455;\n",
              "      fill: #D2E3FC;\n",
              "    }\n",
              "\n",
              "    [theme=dark] .colab-df-convert:hover {\n",
              "      background-color: #434B5C;\n",
              "      box-shadow: 0px 1px 3px 1px rgba(0, 0, 0, 0.15);\n",
              "      filter: drop-shadow(0px 1px 2px rgba(0, 0, 0, 0.3));\n",
              "      fill: #FFFFFF;\n",
              "    }\n",
              "  </style>\n",
              "\n",
              "      <script>\n",
              "        const buttonEl =\n",
              "          document.querySelector('#df-f5d073e5-a304-4c01-986d-028093e09dcc button.colab-df-convert');\n",
              "        buttonEl.style.display =\n",
              "          google.colab.kernel.accessAllowed ? 'block' : 'none';\n",
              "\n",
              "        async function convertToInteractive(key) {\n",
              "          const element = document.querySelector('#df-f5d073e5-a304-4c01-986d-028093e09dcc');\n",
              "          const dataTable =\n",
              "            await google.colab.kernel.invokeFunction('convertToInteractive',\n",
              "                                                     [key], {});\n",
              "          if (!dataTable) return;\n",
              "\n",
              "          const docLinkHtml = 'Like what you see? Visit the ' +\n",
              "            '<a target=\"_blank\" href=https://colab.research.google.com/notebooks/data_table.ipynb>data table notebook</a>'\n",
              "            + ' to learn more about interactive tables.';\n",
              "          element.innerHTML = '';\n",
              "          dataTable['output_type'] = 'display_data';\n",
              "          await google.colab.output.renderOutput(dataTable, element);\n",
              "          const docLink = document.createElement('div');\n",
              "          docLink.innerHTML = docLinkHtml;\n",
              "          element.appendChild(docLink);\n",
              "        }\n",
              "      </script>\n",
              "    </div>\n",
              "  </div>\n",
              "  "
            ]
          },
          "metadata": {},
          "execution_count": 9
        }
      ]
    },
    {
      "cell_type": "markdown",
      "source": [
        "# 군집화 분포 확인"
      ],
      "metadata": {
        "id": "RscNXv3gYqBJ"
      }
    },
    {
      "cell_type": "code",
      "source": [
        "target_list = np.unique(y)\n",
        "\n",
        "# 각 타깃별 산점도의 마커 값\n",
        "markers=['o', 's', '^', 'P','D','H','x']\n",
        "\n",
        "# 3개의 군집 영역으로 구분한 데이터 셋을 생성했으므로 target_list는 [0,1,2]\n",
        "# target==0, target==1, target==2 로 scatter plot을 marker별로 생성. \n",
        "for target in target_list:\n",
        "    target_cluster = clusterDF[clusterDF['target']==target]\n",
        "    plt.scatter(x=target_cluster['ftr1'], y=target_cluster['ftr2'], edgecolor='k', marker=markers[target] )\n",
        "plt.show()"
      ],
      "metadata": {
        "colab": {
          "base_uri": "https://localhost:8080/",
          "height": 265
        },
        "id": "7JAMctDKYt0N",
        "outputId": "7dd7d693-4795-4054-e94a-98f24e925ecf"
      },
      "execution_count": 10,
      "outputs": [
        {
          "output_type": "display_data",
          "data": {
            "text/plain": [
              "<Figure size 432x288 with 1 Axes>"
            ],
            "image/png": "[encoded data removed]"
          },
          "metadata": {
            "needs_background": "light"
          }
        }
      ]
    },
    {
      "cell_type": "markdown",
      "source": [
        "# 위 데이터 세트에 군집화 수행 후 군집별 시각화 "
      ],
      "metadata": {
        "id": "OOswQFVmY5Ts"
      }
    },
    {
      "cell_type": "code",
      "source": [
        "# KMeans 객체를 이용해 X 데이터를 K-Means 클러스터링 수행 \n",
        "kmeans = KMeans(n_clusters=3, init='k-means++', max_iter=200, random_state=0)\n",
        "cluster_labels = kmeans.fit_predict(X)\n",
        "clusterDF['kmeans_label']  = cluster_labels\n",
        "\n",
        "# cluster_centers_ 는 개별 클러스터의 중심 위치 좌표 시각화를 위해 추출\n",
        "centers = kmeans.cluster_centers_\n",
        "unique_labels = np.unique(cluster_labels)\n",
        "markers=['o', 's', '^', 'P','D','H','x']\n",
        "\n",
        "# 군집된 label 유형별로 iteration 하면서 marker 별로 scatter plot 수행. \n",
        "for label in unique_labels:\n",
        "    label_cluster = clusterDF[clusterDF['kmeans_label']==label]\n",
        "    center_x_y = centers[label]\n",
        "    plt.scatter(x=label_cluster['ftr1'], y=label_cluster['ftr2'], edgecolor='k', \n",
        "                marker=markers[label] )\n",
        "    \n",
        "    # 군집별 중심 위치 좌표 시각화 \n",
        "    plt.scatter(x=center_x_y[0], y=center_x_y[1], s=200, color='white',\n",
        "                alpha=0.9, edgecolor='k', marker=markers[label])\n",
        "    plt.scatter(x=center_x_y[0], y=center_x_y[1], s=70, color='k', edgecolor='k', \n",
        "                marker='' % label)\n",
        "\n",
        "plt.show()"
      ],
      "metadata": {
        "colab": {
          "base_uri": "https://localhost:8080/",
          "height": 265
        },
        "id": "DmFP6YkLY9Ed",
        "outputId": "55dcfc5f-7f55-4cb2-e3b9-87064210a574"
      },
      "execution_count": 11,
      "outputs": [
        {
          "output_type": "display_data",
          "data": {
            "text/plain": [
              "<Figure size 432x288 with 1 Axes>"
            ],
            "image/png": "[encoded data removed]"
          },
          "metadata": {
            "needs_background": "light"
          }
        }
      ]
    },
    {
      "cell_type": "markdown",
      "source": [
        "# 군집 결과 확인"
      ],
      "metadata": {
        "id": "hOajTrnLZMdK"
      }
    },
    {
      "cell_type": "code",
      "source": [
        "print(clusterDF.groupby('target')['kmeans_label'].value_counts())"
      ],
      "metadata": {
        "colab": {
          "base_uri": "https://localhost:8080/"
        },
        "id": "svlyHJDfZNkk",
        "outputId": "0c87d1af-c529-40a3-abe1-1fcfc3f367f1"
      },
      "execution_count": 12,
      "outputs": [
        {
          "output_type": "stream",
          "name": "stdout",
          "text": [
            "target  kmeans_label\n",
            "0       0               66\n",
            "        1                1\n",
            "1       2               67\n",
            "2       1               65\n",
            "        2                1\n",
            "Name: kmeans_label, dtype: int64\n"
          ]
        }
      ]
    },
    {
      "cell_type": "markdown",
      "source": [
        "- c.f : cluster_std가 작을수록 군집 중심에 데이터가 모여 있고, 클수록 데이터가 퍼짐"
      ],
      "metadata": {
        "id": "kkAo76cVZQd5"
      }
    },
    {
      "cell_type": "markdown",
      "source": [
        "# 군집 평가"
      ],
      "metadata": {
        "id": "auaUPUTBZbKF"
      }
    },
    {
      "cell_type": "markdown",
      "source": [
        "- 대부분의 군집화 데이터 세트는 비교할만한 타깃 레이블을 가지고 있지 않음 --> 실루엣 분석 사용"
      ],
      "metadata": {
        "id": "wyng9ioAZcOn"
      }
    },
    {
      "cell_type": "markdown",
      "source": [
        "# 실루엣 분석의 개요\n",
        "- 각 군집 간의 거리가 얼마나 효율적으로 분리돼 있는지를 나타냄\n",
        "- 효율적으로 잘 분리되었다. = 다른 군집과의 거리는 떨어져 있고, 동일 군집끼리의 데이터는 서로 가깝게 잘 뭉쳐 있다.\n",
        "- 군집화가 잘 될수록 개별 군집은 비슷한 정도의 여유공간을 가지고 떨어져 있을 것\n",
        "> - a(i): 특정 데이터 포인트의 실루엣 계수 값은 해당 데이터 포인트와 같은 군집 내에 있는 다른 데이터 포인트와의 거리를 평균한 값\n",
        "> - b(i): 해당 데이터 포인트가 속하지 않은 군집 중 가장 가까운 군집과의 평균 거리\n",
        "> - b(i)-a(i): 두 군집 간의 거리가 얼마나 떨어져 있는가의 값. 이 값을 정규화 하기 위해 MAX(a(i),b(i)) 값으로 나눔\n",
        "> - i번째 데이터 포인트의 실루엣 계수 값 s(i)는 다음과 같이 정의\n",
        ">> s(i) = (b(i)-a(i)) / MAX(a(i),b(i))\n",
        "> - 실루엣 계수는 -1~1. 1로 가까워질수록 근처의 군집과 더 멀리 떨어져 있다는 것. 0에 가까울수록 근처의 군집과 가까워진다는 것, - 값은 아예 다른 군집에 데이터 포인트가 할당됐음"
      ],
      "metadata": {
        "id": "OwMuTgu1a1OH"
      }
    },
    {
      "cell_type": "markdown",
      "source": [
        "\n",
        "사이킷런 메소드\n",
        "```\n",
        "sklearn.metrics.silhouette_samples(X, labels, metric='euclidean', **kwds) \n",
        "```\n",
        ": 각 데이터 포인트의 실루엣 계수 계산해 반환\n",
        "\n",
        "```\n",
        "sklearn.metrics.silhouette_score(X, labels, metric='euclidean', sample_size=None, **kwds)\n",
        "```\n",
        " : 전체 데이터의 실루엣 계수 값 평균해 반환. 높을수록 군집화 잘됐다고 판단 가능하지만 절대적 x\n",
        "\n"
      ],
      "metadata": {
        "id": "NhIiRkNjciQM"
      }
    },
    {
      "cell_type": "markdown",
      "source": [
        "# 좋은 군집화 기준\n",
        "\n",
        "1. 전체 실루엣 계수의 평균값(silhouette_score)이 0~1 사이의 값을 가지며, 1에 가까울수록 좋음\n",
        "2. 전체 실루엣 계수의 평균값과 개별 군집의 평균값의 편차가 크지 않아야 함.  "
      ],
      "metadata": {
        "id": "WvOoxbK5csL0"
      }
    },
    {
      "cell_type": "markdown",
      "source": [
        "# 붓꽃 데이터 세트를 이용한 군집 평가\n",
        "- 붓꽃 데이터 세트의 군집화 결과를 실루엣 분석으로 평가"
      ],
      "metadata": {
        "id": "m89kRrg0dECR"
      }
    },
    {
      "cell_type": "code",
      "source": [
        "from sklearn.preprocessing import scale\n",
        "from sklearn.datasets import load_iris\n",
        "from sklearn.cluster import KMeans\n",
        "\n",
        "# 실루엣 분석 metric 값을 구하기 위한 API 추가\n",
        "from sklearn.metrics import silhouette_samples, silhouette_score\n",
        "import matplotlib.pyplot as plt\n",
        "import numpy as np\n",
        "import pandas as pd\n",
        "\n",
        "%matplotlib inline\n",
        "\n",
        "iris = load_iris()\n",
        "feature_names = ['sepal_length','sepal_width','petal_length','petal_width']\n",
        "irisDF = pd.DataFrame(data=iris.data, columns=feature_names)\n",
        "kmeans = KMeans(n_clusters=3, init='k-means++', max_iter=300,random_state=0).fit(irisDF)\n",
        "irisDF['cluster'] = kmeans.labels_\n",
        "\n",
        "# iris 의 모든 개별 데이터에 실루엣 계수값을 구함. \n",
        "score_samples = silhouette_samples(iris.data, irisDF['cluster'])\n",
        "print('silhouette_samples( ) return 값의 shape' , score_samples.shape)\n",
        "\n",
        "# irisDF에 실루엣 계수 컬럼 추가\n",
        "irisDF['silhouette_coeff'] = score_samples\n",
        "\n",
        "# 모든 데이터의 평균 실루엣 계수값을 구함. \n",
        "average_score = silhouette_score(iris.data, irisDF['cluster'])\n",
        "print('붓꽃 데이터셋 Silhouette Analysis Score:{0:.3f}'.format(average_score))\n",
        "\n",
        "irisDF.head(3)"
      ],
      "metadata": {
        "colab": {
          "base_uri": "https://localhost:8080/",
          "height": 180
        },
        "id": "NUSmp6CbdJO5",
        "outputId": "a43406ed-83bb-4fb3-fdf5-6672c3eb9fef"
      },
      "execution_count": 13,
      "outputs": [
        {
          "output_type": "stream",
          "name": "stdout",
          "text": [
            "silhouette_samples( ) return 값의 shape (150,)\n",
            "붓꽃 데이터셋 Silhouette Analysis Score:0.553\n"
          ]
        },
        {
          "output_type": "execute_result",
          "data": {
            "text/plain": [
              "   sepal_length  sepal_width  petal_length  petal_width  cluster  \\\n",
              "0           5.1          3.5           1.4          0.2        1   \n",
              "1           4.9          3.0           1.4          0.2        1   \n",
              "2           4.7          3.2           1.3          0.2        1   \n",
              "\n",
              "   silhouette_coeff  \n",
              "0          0.852955  \n",
              "1          0.815495  \n",
              "2          0.829315  "
            ],
            "text/html": [
              "\n",
              "  <div id=\"df-1b5f1cde-f187-42dc-bb58-64da45b0b4b2\">\n",
              "    <div class=\"colab-df-container\">\n",
              "      <div>\n",
              "<style scoped>\n",
              "    .dataframe tbody tr th:only-of-type {\n",
              "        vertical-align: middle;\n",
              "    }\n",
              "\n",
              "    .dataframe tbody tr th {\n",
              "        vertical-align: top;\n",
              "    }\n",
              "\n",
              "    .dataframe thead th {\n",
              "        text-align: right;\n",
              "    }\n",
              "</style>\n",
              "<table border=\"1\" class=\"dataframe\">\n",
              "  <thead>\n",
              "    <tr style=\"text-align: right;\">\n",
              "      <th></th>\n",
              "      <th>sepal_length</th>\n",
              "      <th>sepal_width</th>\n",
              "      <th>petal_length</th>\n",
              "      <th>petal_width</th>\n",
              "      <th>cluster</th>\n",
              "      <th>silhouette_coeff</th>\n",
              "    </tr>\n",
              "  </thead>\n",
              "  <tbody>\n",
              "    <tr>\n",
              "      <th>0</th>\n",
              "      <td>5.1</td>\n",
              "      <td>3.5</td>\n",
              "      <td>1.4</td>\n",
              "      <td>0.2</td>\n",
              "      <td>1</td>\n",
              "      <td>0.852955</td>\n",
              "    </tr>\n",
              "    <tr>\n",
              "      <th>1</th>\n",
              "      <td>4.9</td>\n",
              "      <td>3.0</td>\n",
              "      <td>1.4</td>\n",
              "      <td>0.2</td>\n",
              "      <td>1</td>\n",
              "      <td>0.815495</td>\n",
              "    </tr>\n",
              "    <tr>\n",
              "      <th>2</th>\n",
              "      <td>4.7</td>\n",
              "      <td>3.2</td>\n",
              "      <td>1.3</td>\n",
              "      <td>0.2</td>\n",
              "      <td>1</td>\n",
              "      <td>0.829315</td>\n",
              "    </tr>\n",
              "  </tbody>\n",
              "</table>\n",
              "</div>\n",
              "      <button class=\"colab-df-convert\" onclick=\"convertToInteractive('df-1b5f1cde-f187-42dc-bb58-64da45b0b4b2')\"\n",
              "              title=\"Convert this dataframe to an interactive table.\"\n",
              "              style=\"display:none;\">\n",
              "        \n",
              "  <svg xmlns=\"http://www.w3.org/2000/svg\" height=\"24px\"viewBox=\"0 0 24 24\"\n",
              "       width=\"24px\">\n",
              "    <path d=\"M0 0h24v24H0V0z\" fill=\"none\"/>\n",
              "    <path d=\"M18.56 5.44l.94 2.06.94-2.06 2.06-.94-2.06-.94-.94-2.06-.94 2.06-2.06.94zm-11 1L8.5 8.5l.94-2.06 2.06-.94-2.06-.94L8.5 2.5l-.94 2.06-2.06.94zm10 10l.94 2.06.94-2.06 2.06-.94-2.06-.94-.94-2.06-.94 2.06-2.06.94z\"/><path d=\"M17.41 7.96l-1.37-1.37c-.4-.4-.92-.59-1.43-.59-.52 0-1.04.2-1.43.59L10.3 9.45l-7.72 7.72c-.78.78-.78 2.05 0 2.83L4 21.41c.39.39.9.59 1.41.59.51 0 1.02-.2 1.41-.59l7.78-7.78 2.81-2.81c.8-.78.8-2.07 0-2.86zM5.41 20L4 18.59l7.72-7.72 1.47 1.35L5.41 20z\"/>\n",
              "  </svg>\n",
              "      </button>\n",
              "      \n",
              "  <style>\n",
              "    .colab-df-container {\n",
              "      display:flex;\n",
              "      flex-wrap:wrap;\n",
              "      gap: 12px;\n",
              "    }\n",
              "\n",
              "    .colab-df-convert {\n",
              "      background-color: #E8F0FE;\n",
              "      border: none;\n",
              "      border-radius: 50%;\n",
              "      cursor: pointer;\n",
              "      display: none;\n",
              "      fill: #1967D2;\n",
              "      height: 32px;\n",
              "      padding: 0 0 0 0;\n",
              "      width: 32px;\n",
              "    }\n",
              "\n",
              "    .colab-df-convert:hover {\n",
              "      background-color: #E2EBFA;\n",
              "      box-shadow: 0px 1px 2px rgba(60, 64, 67, 0.3), 0px 1px 3px 1px rgba(60, 64, 67, 0.15);\n",
              "      fill: #174EA6;\n",
              "    }\n",
              "\n",
              "    [theme=dark] .colab-df-convert {\n",
              "      background-color: #3B4455;\n",
              "      fill: #D2E3FC;\n",
              "    }\n",
              "\n",
              "    [theme=dark] .colab-df-convert:hover {\n",
              "      background-color: #434B5C;\n",
              "      box-shadow: 0px 1px 3px 1px rgba(0, 0, 0, 0.15);\n",
              "      filter: drop-shadow(0px 1px 2px rgba(0, 0, 0, 0.3));\n",
              "      fill: #FFFFFF;\n",
              "    }\n",
              "  </style>\n",
              "\n",
              "      <script>\n",
              "        const buttonEl =\n",
              "          document.querySelector('#df-1b5f1cde-f187-42dc-bb58-64da45b0b4b2 button.colab-df-convert');\n",
              "        buttonEl.style.display =\n",
              "          google.colab.kernel.accessAllowed ? 'block' : 'none';\n",
              "\n",
              "        async function convertToInteractive(key) {\n",
              "          const element = document.querySelector('#df-1b5f1cde-f187-42dc-bb58-64da45b0b4b2');\n",
              "          const dataTable =\n",
              "            await google.colab.kernel.invokeFunction('convertToInteractive',\n",
              "                                                     [key], {});\n",
              "          if (!dataTable) return;\n",
              "\n",
              "          const docLinkHtml = 'Like what you see? Visit the ' +\n",
              "            '<a target=\"_blank\" href=https://colab.research.google.com/notebooks/data_table.ipynb>data table notebook</a>'\n",
              "            + ' to learn more about interactive tables.';\n",
              "          element.innerHTML = '';\n",
              "          dataTable['output_type'] = 'display_data';\n",
              "          await google.colab.output.renderOutput(dataTable, element);\n",
              "          const docLink = document.createElement('div');\n",
              "          docLink.innerHTML = docLinkHtml;\n",
              "          element.appendChild(docLink);\n",
              "        }\n",
              "      </script>\n",
              "    </div>\n",
              "  </div>\n",
              "  "
            ]
          },
          "metadata": {},
          "execution_count": 13
        }
      ]
    },
    {
      "cell_type": "markdown",
      "source": [
        "- 평균 실루엣 계수 값이 약 0.554\n",
        "- 1번 군집의 경우, 0.8 이상의 높은 실루엣 계수값\n"
      ],
      "metadata": {
        "id": "FT-3KYMZdSij"
      }
    },
    {
      "cell_type": "markdown",
      "source": [
        "# 평균 실루엣 계수 값\n",
        "- IrisDF 데이터 프레임에서 군집 칼럼별로 group by 하여 실루엣 coeff 칼럼의 평균값을 구함"
      ],
      "metadata": {
        "id": "TQQ95tb-eQAN"
      }
    },
    {
      "cell_type": "code",
      "source": [
        "irisDF.groupby('cluster')['silhouette_coeff'].mean()"
      ],
      "metadata": {
        "colab": {
          "base_uri": "https://localhost:8080/"
        },
        "id": "znNauA_DefGg",
        "outputId": "a1fc2a76-4650-4642-cf0a-c39f105054e8"
      },
      "execution_count": 14,
      "outputs": [
        {
          "output_type": "execute_result",
          "data": {
            "text/plain": [
              "cluster\n",
              "0    0.417320\n",
              "1    0.798140\n",
              "2    0.451105\n",
              "Name: silhouette_coeff, dtype: float64"
            ]
          },
          "metadata": {},
          "execution_count": 14
        }
      ]
    },
    {
      "cell_type": "markdown",
      "source": [
        "- 상대적으로 평균값이 1번에 비해 낮다는 것을 알 수 있다."
      ],
      "metadata": {
        "id": "Jty67Q27ei42"
      }
    },
    {
      "cell_type": "markdown",
      "source": [
        "# 군집별 평균 실루엣 계수의 시각화를 통한 군집 개수 최적화 방법\n",
        "- 전체 데이터의 평균 실루엣 계수 값이 높다고 반드시 최적의 군집 개수로 군집화가 잘 됐다고 볼 수 없음\n",
        "- 특정 군집 내의 실루엣 계수 값만 너무 뫂고, 다른 군집은 내부 데이터끼리의 거리가 너무 떨어져 있어 실루엣 계수 값이 낮아져도 평균적으로 높은 값을 가질 수 있다.\n",
        "- 개별 군집별로 적당히 분리된 거리를 유지하면서 군집 내의 데이터가 서로 뭉쳐 있는 경우에 K-평균의 적절한 군집 개수가 설정됐다고 판단"
      ],
      "metadata": {
        "id": "pGPAOOP2emGQ"
      }
    },
    {
      "cell_type": "code",
      "source": [
        "# 여러개의 클러스터링 갯수를 List로 입력 받아 각각의 실루엣 계수를 면적으로 시각화한 함수 작성\n",
        "def visualize_silhouette(cluster_lists, X_features): \n",
        "    \n",
        "    from sklearn.datasets import make_blobs\n",
        "    from sklearn.cluster import KMeans\n",
        "    from sklearn.metrics import silhouette_samples, silhouette_score\n",
        "\n",
        "    import matplotlib.pyplot as plt\n",
        "    import matplotlib.cm as cm\n",
        "    import math\n",
        "    \n",
        "    # 입력값으로 클러스터링 갯수들을 리스트로 받아서, 각 갯수별로 클러스터링을 적용하고 실루엣 개수를 구함\n",
        "    n_cols = len(cluster_lists)\n",
        "    \n",
        "    # plt.subplots()으로 리스트에 기재된 클러스터링 수만큼의 sub figures를 가지는 axs 생성 \n",
        "    fig, axs = plt.subplots(figsize=(4*n_cols, 4), nrows=1, ncols=n_cols)\n",
        "    \n",
        "    # 리스트에 기재된 클러스터링 갯수들을 차례로 iteration 수행하면서 실루엣 개수 시각화\n",
        "    for ind, n_cluster in enumerate(cluster_lists):\n",
        "        \n",
        "        # KMeans 클러스터링 수행하고, 실루엣 스코어와 개별 데이터의 실루엣 값 계산. \n",
        "        clusterer = KMeans(n_clusters = n_cluster, max_iter=500, random_state=0)\n",
        "        cluster_labels = clusterer.fit_predict(X_features)\n",
        "        \n",
        "        sil_avg = silhouette_score(X_features, cluster_labels)\n",
        "        sil_values = silhouette_samples(X_features, cluster_labels)\n",
        "        \n",
        "        y_lower = 10\n",
        "        axs[ind].set_title('Number of Cluster : '+ str(n_cluster)+'\\n' \\\n",
        "                          'Silhouette Score :' + str(round(sil_avg,3)) )\n",
        "        axs[ind].set_xlabel(\"The silhouette coefficient values\")\n",
        "        axs[ind].set_ylabel(\"Cluster label\")\n",
        "        axs[ind].set_xlim([-0.1, 1])\n",
        "        axs[ind].set_ylim([0, len(X_features) + (n_cluster + 1) * 10])\n",
        "        axs[ind].set_yticks([])  # Clear the yaxis labels / ticks\n",
        "        axs[ind].set_xticks([0, 0.2, 0.4, 0.6, 0.8, 1])\n",
        "        \n",
        "        # 클러스터링 갯수별로 fill_betweenx( )형태의 막대 그래프 표현. \n",
        "        for i in range(n_cluster):\n",
        "            ith_cluster_sil_values = sil_values[cluster_labels==i]\n",
        "            ith_cluster_sil_values.sort()\n",
        "            \n",
        "            size_cluster_i = ith_cluster_sil_values.shape[0]\n",
        "            y_upper = y_lower + size_cluster_i\n",
        "            \n",
        "            color = cm.nipy_spectral(float(i) / n_cluster)\n",
        "            axs[ind].fill_betweenx(np.arange(y_lower, y_upper), 0, ith_cluster_sil_values, \\\n",
        "                                facecolor=color, edgecolor=color, alpha=0.7)\n",
        "            axs[ind].text(-0.05, y_lower + 0.5 * size_cluster_i, str(i))\n",
        "            y_lower = y_upper + 10\n",
        "            \n",
        "        axs[ind].axvline(x=sil_avg, color=\"red\", linestyle=\"--\")\n",
        "     "
      ],
      "metadata": {
        "id": "wrodkLRWhOIT"
      },
      "execution_count": 15,
      "outputs": []
    },
    {
      "cell_type": "code",
      "source": [
        "# make_blobs 을 통해 clustering 을 위한 4개의 클러스터 중심의 500개 2차원 데이터 셋 생성  \n",
        "from sklearn.datasets import make_blobs\n",
        "X, y = make_blobs(n_samples=500, n_features=2, centers=4, cluster_std=1, \\\n",
        "                  center_box=(-10.0, 10.0), shuffle=True, random_state=1)  \n",
        "\n",
        "# cluster 개수를 2개, 3개, 4개, 5개 일때의 클러스터별 실루엣 계수 평균값을 시각화 \n",
        "visualize_silhouette([ 2, 3, 4, 5], X)"
      ],
      "metadata": {
        "colab": {
          "base_uri": "https://localhost:8080/",
          "height": 310
        },
        "id": "UweotVFhgFsj",
        "outputId": "e8183fae-d361-49d1-ad2d-cd3b048b2995"
      },
      "execution_count": 16,
      "outputs": [
        {
          "output_type": "display_data",
          "data": {
            "text/plain": [
              "<Figure size 1152x288 with 4 Axes>"
            ],
            "image/png": "[encoded data removed]"
          },
          "metadata": {
            "needs_background": "light"
          }
        }
      ]
    },
    {
      "cell_type": "markdown",
      "source": [
        "- 4개의 군집일 때 가장 최적이 됨"
      ],
      "metadata": {
        "id": "jDYk07r7hg99"
      }
    },
    {
      "cell_type": "markdown",
      "source": [
        "# 붓꽃 데이터를 이용해 K- 평균 수행 시 최적의 군집 개수를 알아보기"
      ],
      "metadata": {
        "id": "q_d8gftZhmih"
      }
    },
    {
      "cell_type": "code",
      "source": [
        "from sklearn.datasets import load_iris\n",
        "\n",
        "iris=load_iris()\n",
        "visualize_silhouette([ 2, 3, 4,5 ], iris.data)"
      ],
      "metadata": {
        "colab": {
          "base_uri": "https://localhost:8080/",
          "height": 310
        },
        "id": "GKeOazoOhq_e",
        "outputId": "183e7c13-9d49-43e0-fb2b-277ff3aee1a0"
      },
      "execution_count": 17,
      "outputs": [
        {
          "output_type": "display_data",
          "data": {
            "text/plain": [
              "<Figure size 1152x288 with 4 Axes>"
            ],
            "image/png": "[encoded data removed]"
          },
          "metadata": {
            "needs_background": "light"
          }
        }
      ]
    },
    {
      "cell_type": "markdown",
      "source": [
        "- K-평균의 경우 군집화할 경우 2개의 군집이 가장 좋아 보임\n"
      ],
      "metadata": {
        "id": "Q5SbGP2DhzMs"
      }
    },
    {
      "cell_type": "markdown",
      "source": [
        "- 실루엣 계수를 통한 K-평균 군집 평가 방법은 직관적으로 이해하기 쉬움\n",
        "- 하지만, 각 데이터별로 다른 데이터와의 거리를 반복적으로 계산해야 하므로, 데이터 양이 늘어나면 수행 시간이 크게 늘어남.\n",
        "- 이 경우 군집별로 임의의 데이터를 샘플링해 실루엣 계수를 평가하는 방안을 고민"
      ],
      "metadata": {
        "id": "QasoRNnjiHOh"
      }
    },
    {
      "cell_type": "markdown",
      "source": [
        "# 03 평균 이동"
      ],
      "metadata": {
        "id": "VMSme1rNiRay"
      }
    },
    {
      "cell_type": "markdown",
      "source": [
        "# 평균 이동(Mean Shift)의 개요\n",
        "- 중심을 군집으로 지속적으로 움직이면서 군집화 수행\n",
        "- 중심 데이터가 모여 있는 밀도가 가장 높은 곳으로 이동하는 것이 차이\n",
        "- 데이터의 분포도를 이용해 군집 중심점을 찾음\n",
        "- 군집 중심점은 데이터 포인트가 모여있는 곳이라는 생각에서 착안, 이를 위해 확률 밀도 함수를 이용\n",
        "- 가장 집중적으로 데이터가 모여있어 확률 밀도 함수가 피크인 점을 군집 중심점으로 선정. 일반적으로 확률 밀도 함수를 찾기 위해 KDE를 이용함\n",
        "- 평균 이동 군집화는 특정 데이터를 반경 내의 데이터 분포 확률 밀도가 가장 높은 곳으로 이동하기 위해 주변 데이터와의 거리 값을 KDE 함수 값으로 입력한 뒤, 그 반환 값을 현재 위치에서 업데이터하면서 이동하는 방식을 취함. "
      ],
      "metadata": {
        "id": "UVl5-_ioiUFN"
      }
    },
    {
      "cell_type": "markdown",
      "source": [
        "1. 개별 데이터의 특정 반경 내에 주변 데이터를 포함한 데이터 분포도를 KDE 기반의 Mean Shift 알고리즘으로 계산\n",
        "2. KDE로 계산된 데이터 분포도가 높은 방향으로 데이터 이동\n",
        "3. 모든 데이터를 1~2까지 수행하면서 데이터를 이동, 개별 데이터들이 군집중심점으로 모임\n",
        "4. 지정된 반복 횟수만큼 전체 데이터에 대해서 KDE 기반으로 데이터를 이동시키면서 군집화 수행\n",
        "5. 개별 데이터들이 모인 중심점을 군집 중심점으로 설정"
      ],
      "metadata": {
        "id": "mWz6tEQ0jQIN"
      }
    },
    {
      "cell_type": "markdown",
      "source": [
        "# KDE\n",
        "- 커널 함수를 통해 어떤 변수의 확률 밀도 함수를 추정하는 대표적인 방법\n",
        "- 관측된 데이터 각각에 커널 함수를 적용한 값을 모두 더한 뒤 데이터 건수로 나눠 확률 밀도 함수 추정. (ex : 가우시안 분포 함수)"
      ],
      "metadata": {
        "id": "JOPnpzvHjv9D"
      }
    },
    {
      "cell_type": "markdown",
      "source": [
        "- 대역폭 H\n",
        "\n",
        "> - KDE형태를 부드러운 형태로 평활화 하는데 적용되며 이 H를 어떻게 설정하느냐에 따라 확률 밀도 추정 성능을 좌우한다.\n",
        "> - 작은 값 H (1.0): 좁고 뾰족한 KDE를 가지게 되며, 변동성이 큰 방식으로 확률 밀도 함수를 추정하므로 과적합하기 쉬움. -> 많은 수의 군집 중심점\n",
        "> - 높은 값 H(10) : 과도하게 평활화된 KDE로 인해 지나치게 단순화된 방식으로 확률 밀도 함수를 추정하며 결과적으로 과소적합 하기 쉬움. -> 적은 수의 군집 중심점"
      ],
      "metadata": {
        "id": "CDVG5WW_OavU"
      }
    },
    {
      "cell_type": "markdown",
      "source": [
        "- 사이킷런은 평균 이동 군집화를 위해 MeanShift 클래스를 제공: 가장 중요한 초기 파라미터는 bandwidth = KDE의 대역폭 h\n",
        "- 대역폭 크기 설정이 군집화의 품질에 큰 영향을 미치기 때문에, 사이킷런은 최선의 대역폭 계산을 위해 estimate_bandwidth() 함수를 제공\n"
      ],
      "metadata": {
        "id": "EnlJ4ClsPckQ"
      }
    },
    {
      "cell_type": "markdown",
      "source": [
        "# make_blobs()의 cluster_std = 0.7로 정한 3개 군집의 데이터에 대해 bandwidth = 0.8로 설정한 평균 이동 군집화 알고리즘을 적용한 예제"
      ],
      "metadata": {
        "id": "q_OQUfu2V-2V"
      }
    },
    {
      "cell_type": "code",
      "source": [
        "import numpy as np\n",
        "from sklearn.datasets import make_blobs\n",
        "from sklearn.cluster import MeanShift\n",
        "\n",
        "X,y=make_blobs(n_samples=200,n_features=2,centers=3,cluster_std=0.7,random_state=0)\n",
        "\n",
        "meanshift=MeanShift(bandwidth=0.8)\n",
        "cluster_labels=meanshift.fit_predict(X)\n",
        "print('cluster labels 유형:',np.unique(cluster_labels))"
      ],
      "metadata": {
        "colab": {
          "base_uri": "https://localhost:8080/"
        },
        "id": "hTggWEskOag7",
        "outputId": "b7d0edd4-5229-4dd0-f14c-59b866556478"
      },
      "execution_count": 18,
      "outputs": [
        {
          "output_type": "stream",
          "name": "stdout",
          "text": [
            "cluster labels 유형: [0 1 2 3 4 5]\n"
          ]
        }
      ]
    },
    {
      "cell_type": "markdown",
      "source": [
        "- 군집이 0부터 5까지 6개로 분류됨 -> 지나치게 세분화 된 군집\n",
        "- bandwidth를 작게 할수록 군집 개수가 많아짐"
      ],
      "metadata": {
        "id": "Pe8GTMOVWT_5"
      }
    },
    {
      "cell_type": "markdown",
      "source": [
        "# bandwidth = 1.0 으로 MeanShift 수행"
      ],
      "metadata": {
        "id": "lhiv4ORlWde6"
      }
    },
    {
      "cell_type": "code",
      "source": [
        "meanshift=MeanShift(bandwidth=1)\n",
        "cluster_labels=meanshift.fit_predict(X)\n",
        "print('cluster labels 유형:',np.unique(cluster_labels))"
      ],
      "metadata": {
        "id": "9qfAqEW0ll17",
        "colab": {
          "base_uri": "https://localhost:8080/"
        },
        "outputId": "3fea1cfc-2138-4d4c-e2fd-7e3de9dc5974"
      },
      "execution_count": 19,
      "outputs": [
        {
          "output_type": "stream",
          "name": "stdout",
          "text": [
            "cluster labels 유형: [0 1 2]\n"
          ]
        }
      ]
    },
    {
      "cell_type": "markdown",
      "source": [
        "- 3개의 군집으로 군집화\n",
        "- 데이터 분포 유형에 따라 bandwidth 값의 변화는 군집화 개수에 큰 영향\n",
        "- 최적화 된 bandwidth 값 찾기 : estimate_bandwidth() 이용"
      ],
      "metadata": {
        "id": "I2A-zlW3WkoE"
      }
    },
    {
      "cell_type": "markdown",
      "source": [
        "# estimate_bandwidth(피처 데이터 세트): 최적화 된 bandwidth 값 반환"
      ],
      "metadata": {
        "id": "UQi1C-H2W0dS"
      }
    },
    {
      "cell_type": "code",
      "source": [
        "from sklearn.cluster import estimate_bandwidth\n",
        "\n",
        "bandwidth=estimate_bandwidth(X)\n",
        "print('bandwidth 값:',round(bandwidth,3))"
      ],
      "metadata": {
        "colab": {
          "base_uri": "https://localhost:8080/"
        },
        "id": "eE9g-mVWW5Nc",
        "outputId": "124a24b3-ac7e-4401-b9b3-e5450746be7a"
      },
      "execution_count": 20,
      "outputs": [
        {
          "output_type": "stream",
          "name": "stdout",
          "text": [
            "bandwidth 값: 1.816\n"
          ]
        }
      ]
    },
    {
      "cell_type": "markdown",
      "source": [
        "# estimate_bandwidth() 로 측정된 bandwidth를 평균 입력값으로 적용해 동일한 make_blos()데이터 세트에 군집화 수행"
      ],
      "metadata": {
        "id": "60sGvKkDW9fE"
      }
    },
    {
      "cell_type": "code",
      "source": [
        "import pandas as pd\n",
        "\n",
        "clusterDF=pd.DataFrame(data=X,columns=['ftr1','ftr2'])\n",
        "clusterDF['target']=y\n",
        "\n",
        "#estimate_bandwidth()로 최적의 bandwidth 계산\n",
        "best_bandwidth=estimate_bandwidth(X)\n",
        "\n",
        "meanshift=MeanShift(bandwidth=best_bandwidth)\n",
        "clsuter_labels=meanshift.fit_predict(X)\n",
        "print('cluster labels 유형:',np.unique(cluster_labels))"
      ],
      "metadata": {
        "colab": {
          "base_uri": "https://localhost:8080/"
        },
        "id": "A1tOwWBYW-wC",
        "outputId": "749c9b8b-f2c0-41cc-a000-d8876759a58f"
      },
      "execution_count": 21,
      "outputs": [
        {
          "output_type": "stream",
          "name": "stdout",
          "text": [
            "cluster labels 유형: [0 1 2]\n"
          ]
        }
      ]
    },
    {
      "cell_type": "markdown",
      "source": [
        "# 군집 시각화\n",
        "- cluster_centers_ 속성으로 군집 중심 좌표를 표시"
      ],
      "metadata": {
        "id": "7QqSq5tPXI8U"
      }
    },
    {
      "cell_type": "code",
      "source": [
        "import matplotlib.pyplot as plt\n",
        "%matplotlib inline\n",
        "\n",
        "clusterDF['meanshift_label']=cluster_labels\n",
        "centers=meanshift.cluster_centers_\n",
        "unique_labels=np.unique(cluster_labels)\n",
        "markers=['o','s','^','x','*']\n",
        "\n",
        "for label in unique_labels:\n",
        "  label_cluster=clusterDF[clusterDF['meanshift_label']==label]\n",
        "  ceter_x_y=centers[label]\n",
        "  \n",
        "  #군집별로 다른 마커로 산점도 적용\n",
        "  plt.scatter(x=label_cluster['ftr1'],y=label_cluster['ftr2'],edgecolor='k',marker=markers[label])\n",
        "\n",
        "  #군집별 중심 표현\n",
        "  plt.scatter(x=center_x_y[0],y=center_x_y[1],s=200,color='gray',alpha=0.9,marker=markers[label])\n",
        "  plt.scatter(x=center_x_y[0],y=center_x_y[1],s=70,edgecolor='k',marker=''%label)\n",
        "\n",
        "plt.show()"
      ],
      "metadata": {
        "colab": {
          "base_uri": "https://localhost:8080/",
          "height": 269
        },
        "id": "QVCcsJzAXN4T",
        "outputId": "95e639a6-391b-4008-9573-10efe77537e6"
      },
      "execution_count": 22,
      "outputs": [
        {
          "output_type": "display_data",
          "data": {
            "text/plain": [
              "<Figure size 432x288 with 1 Axes>"
            ],
            "image/png": "[encoded data removed]"
          },
          "metadata": {
            "needs_background": "light"
          }
        }
      ]
    },
    {
      "cell_type": "markdown",
      "source": [
        "# target 값과 군집 lable 값 비교"
      ],
      "metadata": {
        "id": "8gLVIQ_yXUpl"
      }
    },
    {
      "cell_type": "code",
      "source": [
        "print(clusterDF.groupby('target')['meanshift_label'].value_counts())"
      ],
      "metadata": {
        "colab": {
          "base_uri": "https://localhost:8080/"
        },
        "id": "3eIYGx1pXYnh",
        "outputId": "9fe5e35a-d2fc-48af-8f72-b2b7f50f243f"
      },
      "execution_count": 23,
      "outputs": [
        {
          "output_type": "stream",
          "name": "stdout",
          "text": [
            "target  meanshift_label\n",
            "0       1                  67\n",
            "1       0                  67\n",
            "2       2                  66\n",
            "Name: meanshift_label, dtype: int64\n"
          ]
        }
      ]
    },
    {
      "cell_type": "markdown",
      "source": [
        "# 평균 이동 장점\n",
        "- 이상치의 영향력이 크지 않고 유연한(특정 분포 기반 모델 가정X) 군집화가 가능하다.\n",
        "- 미리 군집의 개수를 정할 필요가 없다.\n",
        "\n",
        "# 평균 이동 단점\n",
        "- 알고리즘 수행 시간이 오래 걸림\n",
        "- bandwidth 크기에 따른 군집화 영향도가 매우 큼"
      ],
      "metadata": {
        "id": "cs_jrCyFXjNr"
      }
    },
    {
      "cell_type": "markdown",
      "source": [
        "# 04 GMM(Gaussian Mixture Model)\n"
      ],
      "metadata": {
        "id": "rsU0JE_zX1Vh"
      }
    },
    {
      "cell_type": "markdown",
      "source": [
        "# GMM 소개\n",
        "- 군집화를 적용하고자 하는 데이터가 여러 개의 가우시안 분포를 가진 데이터 집합들이 섞여서 생성된 것이라는 가정하에서 군집화를 수행하는 방식\n",
        "- 정규분포=가우시안분포\n",
        "- GMM은 데이터를 여러 개의 가우시안 분포가 섞인 것으로 간주, 섞인 데이터 분포에서 개별 유형의 가우시안 분포를 추출\n",
        "- 전체 데이터 세트는 서로 다른 정규 분포 형태를 가진 여러 가지 확률 분포 곡선으로 구성될 수 있으며, 이러한 서로 다른 정규분포에 기반해 군집화를 수행하는 것이 GMM 군집화 방식\n",
        "- 예) 1000개의 데이터 세트가 있다면, 이를 구성하는 여러 개의 정규 분포 곡선을 추출하고 개별 데이터가 이 중 어떤 정규 분포에 속하는지 결정하는 방식 = 모수 추정\n",
        "- 모수 추정: 1) 개별 정규 분포의 평균과 분산 2) 각 데ㅣㅇ터가 어떤 정규 분포에 해당되는 지에 대한 확률\n",
        "- 위와 같은 모수 추정을 위해 GMM은 EM 방법을 적용 : GaussianMixture 클래스"
      ],
      "metadata": {
        "id": "nyDTqvKWX616"
      }
    },
    {
      "cell_type": "markdown",
      "source": [
        "# GMM을 이용한 붓꽃 데잍 세트 군집화\n",
        "- GMM은 확률 기반 군집화"
      ],
      "metadata": {
        "id": "9xHhFJNccfwK"
      }
    },
    {
      "cell_type": "code",
      "source": [
        "from sklearn.datasets import load_iris\n",
        "from sklearn.cluster import KMeans\n",
        "\n",
        "import matplotlib.pyplot as plt\n",
        "import numpy as np\n",
        "import pandas as pd\n",
        "%matplotlib inline\n",
        "\n",
        "iris=load_iris()\n",
        "feature_names=['sepal_length','sepal_width','petal_length','petal_width']\n",
        "\n",
        "#좀 더 편리한 데이터 핸들링을 위해 DataFrame으로 변환\n",
        "irisDF=pd.DataFrame(data=iris.data,columns=feature_names)\n",
        "irisDF['target']=iris.target"
      ],
      "metadata": {
        "id": "qzYnm15SckdW"
      },
      "execution_count": 24,
      "outputs": []
    },
    {
      "cell_type": "markdown",
      "source": [
        "- GaussianMixture의 중요한 초기화 파라미터: n_components -> GaussianMixture 모델의 총 개수"
      ],
      "metadata": {
        "id": "fdle0I8wcrnv"
      }
    },
    {
      "cell_type": "code",
      "source": [
        "from sklearn.mixture import GaussianMixture\n",
        "\n",
        "gmm=GaussianMixture(n_components=3,random_state=0).fit(iris.data)\n",
        "gmm_cluster_labels=gmm.predict(iris.data)\n",
        "\n",
        "#군집화 결과를 irisDF의 'gmm_cluster'칼럼명으로 저장\n",
        "irisDF['gmm_cluster']=gmm_cluster_labels\n",
        "irisDF['target']=iris.target\n",
        "\n",
        "\n",
        "#target값에 따라 gmm_cluster 값이 어떻게 매핑됐는지 확인\n",
        "iris_result=irisDF.groupby(['target'])['gmm_cluster'].value_counts()\n",
        "print(iris_result)"
      ],
      "metadata": {
        "colab": {
          "base_uri": "https://localhost:8080/"
        },
        "id": "kKbv2D9RcriT",
        "outputId": "58580276-d996-473b-9095-44b20016b1c7"
      },
      "execution_count": 25,
      "outputs": [
        {
          "output_type": "stream",
          "name": "stdout",
          "text": [
            "target  gmm_cluster\n",
            "0       0              50\n",
            "1       2              45\n",
            "        1               5\n",
            "2       1              50\n",
            "Name: gmm_cluster, dtype: int64\n"
          ]
        }
      ]
    },
    {
      "cell_type": "markdown",
      "source": [
        "- 앞의 K-평균 군집화 결과보다 더 효과적인 분류 결과 도출"
      ],
      "metadata": {
        "id": "vMDJRY78dBqv"
      }
    },
    {
      "cell_type": "markdown",
      "source": [
        "# k-평균 군집화 수행 결과 다시"
      ],
      "metadata": {
        "id": "On7wCpnqdJli"
      }
    },
    {
      "cell_type": "code",
      "source": [
        "kmeans=KMeans(n_clusters=3,init='k-means++',max_iter=300,random_state=0).fit(iris.data)\n",
        "kmeans_cluster_labels=kmeans.predict(iris.data)\n",
        "irisDF['kmeans_cluster']=kmeans_cluster_labels\n",
        "iris_result=irisDF.groupby(['target'])['kmeans_cluster'].value_counts()\n",
        "print(iris_result)"
      ],
      "metadata": {
        "colab": {
          "base_uri": "https://localhost:8080/"
        },
        "id": "_9jdreIVdGe0",
        "outputId": "3b1442bb-679d-4695-daef-b7ffb1ef6c8e"
      },
      "execution_count": 26,
      "outputs": [
        {
          "output_type": "stream",
          "name": "stdout",
          "text": [
            "target  kmeans_cluster\n",
            "0       1                 50\n",
            "1       0                 48\n",
            "        2                  2\n",
            "2       2                 36\n",
            "        0                 14\n",
            "Name: kmeans_cluster, dtype: int64\n"
          ]
        }
      ]
    },
    {
      "cell_type": "markdown",
      "source": [
        "# GMM과 K-평균의 비교"
      ],
      "metadata": {
        "id": "94auz3rNdNF5"
      }
    },
    {
      "cell_type": "markdown",
      "source": [
        "# K-Means\n",
        "- 원형의 범위에서 군집화를 수행\n",
        "- 데이터 세트가 원형의 범위를 가질수록 군집화 효율이 높아짐\n",
        "- cluster_std를 작게 하여 데이터가 원형으로 분산되게 한 결과 -> 효과적으로 K-평균 군집화가 진행됨\n",
        "- 데이터가 긴 타원형을 경우 효과가 매우 떨어짐"
      ],
      "metadata": {
        "id": "mV1OQ8FGdRDJ"
      }
    },
    {
      "cell_type": "markdown",
      "source": [
        "# 군집 시각화 함수\n",
        "- 클러스터 결과를 담은 DataFrame과 사이킷런의 Cluster 객체등을 인자로 받아 클러스터링 결과를 시각화하는 함수 \n",
        "\n",
        "```\n",
        "visualize_cluster_plot(clusterobj , dataframe, label_name, iscluster=True)\n",
        "```\n",
        "\n",
        "- 함수인자\n",
        ">- clusterobj : 사이킷런의 군집 수행 객체\n",
        ">- dataframe: 피처 데이터 세트와 label값을 가진 데이터 프레임\n",
        ">- label_name: 군집화 결과 시각화일 경우 데이터 프레임 내의 군집화 label칼럼명, make_blobs결과 시각화일 경우는 데이터 프레임 내의 target 칼럼 명\n",
        ">- iscluster: 사이킷런 cluster객체가 군집 중심 좌표를 제공하면 true"
      ],
      "metadata": {
        "id": "Xb3hYZqmdtfb"
      }
    },
    {
      "cell_type": "code",
      "source": [
        "def visualize_cluster_plot(clusterobj, dataframe, label_name, iscenter=True):\n",
        "    if iscenter :\n",
        "        centers = clusterobj.cluster_centers_\n",
        "        \n",
        "    unique_labels = np.unique(dataframe[label_name].values)\n",
        "    markers=['o', 's', '^', 'x', '*']\n",
        "    isNoise=False\n",
        "\n",
        "    for label in unique_labels:\n",
        "        label_cluster = dataframe[dataframe[label_name]==label]\n",
        "        if label == -1:\n",
        "            cluster_legend = 'Noise'\n",
        "            isNoise=True\n",
        "        else :\n",
        "            cluster_legend = 'Cluster '+str(label)\n",
        "        \n",
        "        plt.scatter(x=label_cluster['ftr1'], y=label_cluster['ftr2'], s=70,\\\n",
        "                    edgecolor='k', marker=markers[label], label=cluster_legend)\n",
        "        \n",
        "        if iscenter:\n",
        "            center_x_y = centers[label]\n",
        "            plt.scatter(x=center_x_y[0], y=center_x_y[1], s=250, color='white',\n",
        "                        alpha=0.9, edgecolor='k', marker=markers[label])\n",
        "            plt.scatter(x=center_x_y[0], y=center_x_y[1], s=70, color='k',\\\n",
        "                        edgecolor='k', marker='' % label)\n",
        "    if isNoise:\n",
        "        legend_loc='upper center'\n",
        "    else: legend_loc='upper right'\n",
        "    \n",
        "    plt.legend(loc=legend_loc)\n",
        "    plt.show()"
      ],
      "metadata": {
        "id": "feSrxsVRdtFR"
      },
      "execution_count": 27,
      "outputs": []
    },
    {
      "cell_type": "markdown",
      "source": [
        "# K-means 이용"
      ],
      "metadata": {
        "id": "Xx9WgICCeaZq"
      }
    },
    {
      "cell_type": "code",
      "source": [
        "from sklearn.datasets import make_blobs\n",
        "\n",
        "# make_blobs()로 300개의 데이터 세트, 3개의 군집 세트, cluster_std=0.5를 만듦\n",
        "X,y=make_blobs(n_samples=300,n_features=2,centers=3,cluster_std=0.5,random_state=0)\n",
        "\n",
        "# 길게 늘어난 타원형의 데이터 세트를 생성하기 위해 변환함\n",
        "transformation=[[0.60834549,-0.63667341],[-0.40887718,0.85253229]]\n",
        "X_aniso=np.dot(X,transformation)\n",
        "\n",
        "# feature 데이터 세트와 make_blobs()의 y결과값을 DataFrame으로 저장\n",
        "clusterDF=pd.DataFrame(data=X_aniso,columns=['ftr1','ftr2'])\n",
        "clusterDF['target']=y\n",
        "\n",
        "# 생성된 데이터 세트를 target벼로 다른 마커로 표시해 시각화함\n",
        "visualize_cluster_plot(None, clusterDF, 'target', iscenter=False)"
      ],
      "metadata": {
        "colab": {
          "base_uri": "https://localhost:8080/",
          "height": 265
        },
        "id": "D5vD10aHedC7",
        "outputId": "7b7a0809-e60c-49ea-9b3f-5b2f3a8859ca"
      },
      "execution_count": 28,
      "outputs": [
        {
          "output_type": "display_data",
          "data": {
            "text/plain": [
              "<Figure size 432x288 with 1 Axes>"
            ],
            "image/png": "[encoded data removed]"
          },
          "metadata": {
            "needs_background": "light"
          }
        }
      ]
    },
    {
      "cell_type": "code",
      "source": [
        "# 3개의 군집 기반 Kmeans를 X_aniso데이터 세트에 적용\n",
        "kmeans=KMeans(3,random_state=0)\n",
        "kmeans_label=kmeans.fit_predict(X_aniso)\n",
        "clusterDF['kmeans_label']=kmeans_label\n",
        "\n",
        "visualize_cluster_plot(kmeans,clusterDF,'kmeans_label',iscenter=True)"
      ],
      "metadata": {
        "colab": {
          "base_uri": "https://localhost:8080/",
          "height": 265
        },
        "id": "pXOnYnDGeozO",
        "outputId": "7c429119-9524-4142-f152-e8f0800a605e"
      },
      "execution_count": 29,
      "outputs": [
        {
          "output_type": "display_data",
          "data": {
            "text/plain": [
              "<Figure size 432x288 with 1 Axes>"
            ],
            "image/png": "[encoded data removed]"
          },
          "metadata": {
            "needs_background": "light"
          }
        }
      ]
    },
    {
      "cell_type": "markdown",
      "source": [
        "- 군집화 성능이 떨어짐을 알 수 있음"
      ],
      "metadata": {
        "id": "BU1df5uTer6y"
      }
    },
    {
      "cell_type": "markdown",
      "source": [
        "# GMM으로 군집화"
      ],
      "metadata": {
        "id": "RsBSl3s6euZ7"
      }
    },
    {
      "cell_type": "code",
      "source": [
        "# 3개의 n_components 기반 GMM을 X_aniso 데이터 세트에 적용\n",
        "gmm=GaussianMixture(n_components=3,random_state=0)\n",
        "gmm_label=gmm.fit(X_aniso).predict(X_aniso)\n",
        "clusterDF['gmm_label']=gmm_label\n",
        "\n",
        "# GaussianMixture은 cluster_centers_속성이 없으므로 iscenter을 false로 설정\n",
        "visualize_cluster_plot(gmm,clusterDF,'gmm_label',iscenter=False)"
      ],
      "metadata": {
        "colab": {
          "base_uri": "https://localhost:8080/",
          "height": 265
        },
        "id": "khZplJyaexx5",
        "outputId": "d3dd0771-98a4-48d2-9718-f43fd175ec3c"
      },
      "execution_count": 30,
      "outputs": [
        {
          "output_type": "display_data",
          "data": {
            "text/plain": [
              "<Figure size 432x288 with 1 Axes>"
            ],
            "image/png": "[encoded data removed]"
          },
          "metadata": {
            "needs_background": "light"
          }
        }
      ]
    },
    {
      "cell_type": "markdown",
      "source": [
        "- 정확하게 군집화 됨\n",
        "- K-평균과 다르게 군집의 중심 좌표를 구할 수 없기 때문에, 군집 중심 표현이 시각화 되지 않음. "
      ],
      "metadata": {
        "id": "kPwi34oxfCy3"
      }
    },
    {
      "cell_type": "markdown",
      "source": [
        "# make_blobs()의 target값과 kmeans,gmm의 군집 label값을 서로 비교해 데이터 세트에서 얼만큼의 군집화 효율 차이가 발생하는지 확인"
      ],
      "metadata": {
        "id": "U_s6_NPGfLXx"
      }
    },
    {
      "cell_type": "code",
      "source": [
        "print('### KMeans Clustering ###')\n",
        "print(clusterDF.groupby('target')['kmeans_label'].value_counts())\n",
        "print('\\n### Gausian Mixture Clustering ###')\n",
        "print(clusterDF.groupby('target')['gmm_label'].value_counts())"
      ],
      "metadata": {
        "colab": {
          "base_uri": "https://localhost:8080/"
        },
        "id": "q6nkll-CfNb9",
        "outputId": "d69eec14-b5a1-414d-9fd5-eadbcf032f6f"
      },
      "execution_count": 31,
      "outputs": [
        {
          "output_type": "stream",
          "name": "stdout",
          "text": [
            "### KMeans Clustering ###\n",
            "target  kmeans_label\n",
            "0       2                73\n",
            "        0                27\n",
            "1       1               100\n",
            "2       0                86\n",
            "        2                14\n",
            "Name: kmeans_label, dtype: int64\n",
            "\n",
            "### Gausian Mixture Clustering ###\n",
            "target  gmm_label\n",
            "0       2            100\n",
            "1       1            100\n",
            "2       0            100\n",
            "Name: gmm_label, dtype: int64\n"
          ]
        }
      ]
    },
    {
      "cell_type": "markdown",
      "source": [
        "# GMM의 장점\n",
        "- K-Means 보다 유연하게 다양한 데이터 세트에 잘 적용될 수 있다는 장점\n",
        "\n",
        "# GMM의 단점\n",
        "- 군집화를 위한 수행 시간이 오래 걸림"
      ],
      "metadata": {
        "id": "jtjCR6uHfXhU"
      }
    },
    {
      "cell_type": "markdown",
      "source": [
        "# 05 DBSCAN"
      ],
      "metadata": {
        "id": "c6VuXMRNfnCC"
      }
    },
    {
      "cell_type": "markdown",
      "source": [
        "# DBSCAN 개요\n",
        "- 밀도 기반 군집화의 대표적인 알고리즘\n",
        "- 데이터의 분포가 기하학적으로 복잡한 데이터 세트에도 효과적인 군집화가 가능함\n",
        "- 특정 공간 내의 데이터 밀도 차이를 기반으로 알고리즘으로 하고 있어서 복잡한 기하학적 분포도를 가진 데이터 세트에 대해서도 군집화를 잘 수행\n",
        "- 입실론 주변 영역의 최소 데이터 개수를 포함하는 밀도 기준을 충족시키는 데이터인 핵심 포인트를 연결하면서 군집화를 구성하는 방식\n",
        "\n",
        "# 주요 파라미터\n",
        "- 입실론 주변 영역(epsilon): 개별 데이터를 중심으로 입실론 반경을 가지는 원형의 영역\n",
        "- 최소 데이터 개수(min points): 개별 데이터의 입실론 주변 영역에 포함되는 타 데이터의 개수\n",
        "\n",
        "\n",
        "# 입실론 주변 영역 내 포함되는 최소 데이터 개수를 충족시키는 가에 따라 데이터 포인트를 다음과 같이 정의\n",
        "- 핵심 포인트 : 주변 영역 내에 최소 데이터 개수 이상의 타 데이터를 가지고 있을 경우\n",
        "- 이웃 포인트 : 주변 영역 내에 위치한 타 데이터\n",
        "- 경계 포인트 : 주변 영역 내에 최소 데이터 개수 이상의 이웃 포인트를 가지고 있지 않지만 핵심 포인트를 이웃 포인트로 가지고 있는 데이터\n",
        "- 잡음 포인트 : 최소 데이터 개수 이상의 이웃 포인트를 가지고 있지 않으며, 핵심 포인트도 이웃 포인트로 가지고 있지 않는 데이터\n",
        "\n",
        "# 사이킷런: DBSCAN 클래스의 초기화 파라미터\n",
        "- eps: 입실론 주변 영역의 반경\n",
        "- min_samples: 핵심 포인트가 되기 위해 입실론 주변 영역 내 포함돼야 할 최소 데이터 개수"
      ],
      "metadata": {
        "id": "joF5rVJEfqc3"
      }
    },
    {
      "cell_type": "markdown",
      "source": [
        "# DBSCAN 적용하기 - 붓꽃 데이터 세트\n",
        ": eps=0.6(일반적으로 1 이하의 값), min_samples=8"
      ],
      "metadata": {
        "id": "REHnTG-4jZTs"
      }
    },
    {
      "cell_type": "code",
      "source": [
        "from sklearn.cluster import DBSCAN\n",
        "\n",
        "dbscan=DBSCAN(eps=0.6,min_samples=8,metric='euclidean')\n",
        "dbscan_labels=dbscan.fit_predict(iris.data)\n",
        "irisDF['dbscan_cluster']=dbscan_labels\n",
        "irisDF['target']=iris.target\n",
        "\n",
        "iris_result=irisDF.groupby(['target'])['dbscan_cluster'].value_counts()\n",
        "print(iris_result)"
      ],
      "metadata": {
        "colab": {
          "base_uri": "https://localhost:8080/"
        },
        "id": "12ptuD9hjjBZ",
        "outputId": "e14114d1-ca56-4d5d-d9dc-1b925123e8d4"
      },
      "execution_count": 32,
      "outputs": [
        {
          "output_type": "stream",
          "name": "stdout",
          "text": [
            "target  dbscan_cluster\n",
            "0        0                49\n",
            "        -1                 1\n",
            "1        1                46\n",
            "        -1                 4\n",
            "2        1                42\n",
            "        -1                 8\n",
            "Name: dbscan_cluster, dtype: int64\n"
          ]
        }
      ]
    },
    {
      "cell_type": "markdown",
      "source": [
        "- -1: 노이즈를 의미하는 군집\n",
        "- 즉, 위 데이터 세트는 2개의 군집으로 군집화 됨\n",
        "- 군집의 개수는 알고리즘에 따라 자동으로 지정함"
      ],
      "metadata": {
        "id": "4SWOEoCFjpYV"
      }
    },
    {
      "cell_type": "markdown",
      "source": [
        "# DBSCAN으로 군집화 데이터 세트 시각화\n",
        "- 2차원 평면에서 표현하기 위해 PCA를 이용해 2개의 피처로 압축 변환한 뒤, 앞 예제에서 사용한 시각화 함수 이용"
      ],
      "metadata": {
        "id": "j_kFLAwPj5hv"
      }
    },
    {
      "cell_type": "code",
      "source": [
        "from sklearn.decomposition import PCA\n",
        "\n",
        "# 2차원으로 시각화하기 위해 PCA n_components=2로 피처 데이터 세트 변환\n",
        "pca=PCA(n_components=2,random_state=0)\n",
        "pca_transformed=pca.fit_transform(iris.data)\n",
        "\n",
        "# visualize_clsuter_2d()함수는 ftr1,ftr2칼럼을 좌표에 표현하므로 PCA 변환값을 해당 칼럼으로 생성\n",
        "irisDF['ftr1']=pca_transformed[:,0] \n",
        "irisDF['ftr2']=pca_transformed[:,1] \n",
        "\n",
        "visualize_cluster_plot(dbscan,irisDF,'dbscan_cluster',iscenter=False)"
      ],
      "metadata": {
        "colab": {
          "base_uri": "https://localhost:8080/",
          "height": 269
        },
        "id": "Ne1LeBKTkF90",
        "outputId": "3f556c4c-4ea7-4834-fc01-8b57307072bf"
      },
      "execution_count": 33,
      "outputs": [
        {
          "output_type": "display_data",
          "data": {
            "text/plain": [
              "<Figure size 432x288 with 1 Axes>"
            ],
            "image/png": "[encoded data removed]"
          },
          "metadata": {
            "needs_background": "light"
          }
        }
      ]
    },
    {
      "cell_type": "markdown",
      "source": [
        "- eps의 값을 크게 하면 반경이 커져 포함하는 데이터가 많아지므로 노이즈 데이터 개수가 작아진다.\n",
        "- min_samples를 크게하면 반경내에서 더 많은 데이터를 포함시켜야 하므로 노이즈 데이터 개수가 커진다."
      ],
      "metadata": {
        "id": "jl6oLUyVkSEY"
      }
    },
    {
      "cell_type": "markdown",
      "source": [
        "#eps 증가"
      ],
      "metadata": {
        "id": "epBA1vd9kdxv"
      }
    },
    {
      "cell_type": "code",
      "source": [
        "from sklearn.cluster import DBSCAN\n",
        "\n",
        "dbscan=DBSCAN(eps=0.8,min_samples=8,metric='euclidean')\n",
        "dbscan_labels=dbscan.fit_predict(iris.data)\n",
        "\n",
        "irisDF['dbscan_clsuter']=dbscan_labels\n",
        "irisDF['target']=iris.target\n",
        "\n",
        "iris_result=irisDF.groupby(['target'])['dbscan_clsuter'].value_counts()\n",
        "print(iris_result)"
      ],
      "metadata": {
        "colab": {
          "base_uri": "https://localhost:8080/"
        },
        "id": "oF0Xd5GXkWa5",
        "outputId": "17e27e68-8e1e-473d-c08c-9f7c5f0f57c5"
      },
      "execution_count": 34,
      "outputs": [
        {
          "output_type": "stream",
          "name": "stdout",
          "text": [
            "target  dbscan_clsuter\n",
            "0        0                50\n",
            "1        1                50\n",
            "2        1                47\n",
            "        -1                 3\n",
            "Name: dbscan_clsuter, dtype: int64\n"
          ]
        }
      ]
    },
    {
      "cell_type": "markdown",
      "source": [
        "- 노이즈 군집이 매우 줄어들었음"
      ],
      "metadata": {
        "id": "qRt9D5DGkiCJ"
      }
    },
    {
      "cell_type": "markdown",
      "source": [
        "#eps 0.6으로 유지하고 min_samples를 16으로 증가"
      ],
      "metadata": {
        "id": "o-uw0rF8kl91"
      }
    },
    {
      "cell_type": "code",
      "source": [
        "dbscan=DBSCAN(eps=0.6,min_samples=16,metric='euclidean')"
      ],
      "metadata": {
        "id": "KCJkfVN6krg-"
      },
      "execution_count": 35,
      "outputs": []
    },
    {
      "cell_type": "code",
      "source": [
        "dbscan_labels=dbscan.fit_predict(iris.data)\n",
        "\n",
        "irisDF['dbscan_clsuter']=dbscan_labels\n",
        "irisDF['target']=iris.target\n",
        "\n",
        "iris_result=irisDF.groupby(['target'])['dbscan_clsuter'].value_counts()\n",
        "print(iris_result)"
      ],
      "metadata": {
        "colab": {
          "base_uri": "https://localhost:8080/"
        },
        "id": "SHUR5IMyknDM",
        "outputId": "9dc84669-c16e-4cc4-cfd4-3c68fe3f06fe"
      },
      "execution_count": 36,
      "outputs": [
        {
          "output_type": "stream",
          "name": "stdout",
          "text": [
            "target  dbscan_clsuter\n",
            "0        0                48\n",
            "        -1                 2\n",
            "1        1                44\n",
            "        -1                 6\n",
            "2        1                36\n",
            "        -1                14\n",
            "Name: dbscan_clsuter, dtype: int64\n"
          ]
        }
      ]
    },
    {
      "cell_type": "markdown",
      "source": [
        "- 노이즈 데이터가 증가함"
      ],
      "metadata": {
        "id": "lJlo-bSCkuMu"
      }
    },
    {
      "cell_type": "markdown",
      "source": [
        "# DBSCAN 적용하기 - make_circles() 데이터 세트"
      ],
      "metadata": {
        "id": "WQIqBmb6kzmY"
      }
    },
    {
      "cell_type": "markdown",
      "source": [
        "- make_circle() 함수를 이용해 내부 원과 외부 원 형태로 돼 있는 2차원 데이터 세트를 만들기\n",
        "- 파라미터 noise는 노이즈 데이터 세트의 비율, factor는 외부 원과 내부 원의 scale 비율"
      ],
      "metadata": {
        "id": "7Cj1SYSCmDp0"
      }
    },
    {
      "cell_type": "code",
      "source": [
        "from sklearn.datasets import make_circles\n",
        "\n",
        "X,y= make_circles(n_samples=1000,shuffle=True,noise=0.05,random_state=0,factor=0.5)\n",
        "clusterDF=pd.DataFrame(data=X,columns=['ftr1','ftr2'])\n",
        "clusterDF['target']=y\n",
        "\n",
        "visualize_cluster_plot(None,clusterDF,'target',iscenter=False)"
      ],
      "metadata": {
        "colab": {
          "base_uri": "https://localhost:8080/",
          "height": 265
        },
        "id": "FZYdf38XkuGq",
        "outputId": "e4b251ec-ce26-4730-f336-02b0ba0e97e0"
      },
      "execution_count": 37,
      "outputs": [
        {
          "output_type": "display_data",
          "data": {
            "text/plain": [
              "<Figure size 432x288 with 1 Axes>"
            ],
            "image/png": "[encoded data removed]"
          },
          "metadata": {
            "needs_background": "light"
          }
        }
      ]
    },
    {
      "cell_type": "markdown",
      "source": [
        "# K-평균으로 make_circles() 데이터 세트를 군집화"
      ],
      "metadata": {
        "id": "UD3XqQYZmZXd"
      }
    },
    {
      "cell_type": "code",
      "source": [
        "from sklearn.cluster import KMeans\n",
        "\n",
        "kmeans=KMeans(n_clusters=2,max_iter=1000,random_state=0)\n",
        "kmeans_labels=kmeans.fit_predict(X)\n",
        "clusterDF['kmeans_cluster']=kmeans_labels\n",
        "\n",
        "\n",
        "visualize_cluster_plot(None,clusterDF,'kmeans_cluster',iscenter=False)"
      ],
      "metadata": {
        "colab": {
          "base_uri": "https://localhost:8080/",
          "height": 265
        },
        "id": "CAO0z_I7mayK",
        "outputId": "2feba1fa-82cc-4b67-8ba7-253140bbbead"
      },
      "execution_count": 38,
      "outputs": [
        {
          "output_type": "display_data",
          "data": {
            "text/plain": [
              "<Figure size 432x288 with 1 Axes>"
            ],
            "image/png": "[encoded data removed]"
          },
          "metadata": {
            "needs_background": "light"
          }
        }
      ]
    },
    {
      "cell_type": "markdown",
      "source": [
        "# GMM으로 make_circles()데이터 세트를 군집화 수행"
      ],
      "metadata": {
        "id": "GvLK7AwwmeFZ"
      }
    },
    {
      "cell_type": "code",
      "source": [
        "from sklearn.mixture import GaussianMixture\n",
        "\n",
        "gmm = GaussianMixture(n_components=2, random_state=0)\n",
        "gmm_label = gmm.fit(X).predict(X)\n",
        "clusterDF['gmm_cluster'] = gmm_label\n",
        "\n",
        "visualize_cluster_plot(gmm, clusterDF, 'gmm_cluster', iscenter=False)"
      ],
      "metadata": {
        "colab": {
          "base_uri": "https://localhost:8080/",
          "height": 265
        },
        "id": "HJFeFZE0meVD",
        "outputId": "9a1214be-a5f7-4a10-a0d8-622acd3b6e67"
      },
      "execution_count": 39,
      "outputs": [
        {
          "output_type": "display_data",
          "data": {
            "text/plain": [
              "<Figure size 432x288 with 1 Axes>"
            ],
            "image/png": "[encoded data removed]"
          },
          "metadata": {
            "needs_background": "light"
          }
        }
      ]
    },
    {
      "cell_type": "markdown",
      "source": [
        "# DBSCAN으로 make_circles( ) 데이터 셋을 클러스터링 수행."
      ],
      "metadata": {
        "id": "01gZBDKgmmN1"
      }
    },
    {
      "cell_type": "code",
      "source": [
        "from sklearn.cluster import DBSCAN\n",
        "\n",
        "dbscan = DBSCAN(eps=0.2, min_samples=10, metric='euclidean')\n",
        "dbscan_labels = dbscan.fit_predict(X)\n",
        "clusterDF['dbscan_cluster'] = dbscan_labels\n",
        "\n",
        "visualize_cluster_plot(dbscan, clusterDF, 'dbscan_cluster', iscenter=False)"
      ],
      "metadata": {
        "colab": {
          "base_uri": "https://localhost:8080/",
          "height": 265
        },
        "id": "NDVbTs2fmmfs",
        "outputId": "5c4e497f-88da-4e43-ddd3-631ec3ad3d50"
      },
      "execution_count": 40,
      "outputs": [
        {
          "output_type": "display_data",
          "data": {
            "text/plain": [
              "<Figure size 432x288 with 1 Axes>"
            ],
            "image/png": "[encoded data removed]"
          },
          "metadata": {
            "needs_background": "light"
          }
        }
      ]
    }
  ]
}