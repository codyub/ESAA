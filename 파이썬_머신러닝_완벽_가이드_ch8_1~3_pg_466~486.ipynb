{
  "nbformat": 4,
  "nbformat_minor": 0,
  "metadata": {
    "colab": {
      "provenance": [],
      "authorship_tag": "ABX9TyMolJUZbP+UIx9BOl6WXze8",
      "include_colab_link": true
    },
    "kernelspec": {
      "name": "python3",
      "display_name": "Python 3"
    },
    "language_info": {
      "name": "python"
    }
  },
  "cells": [
    {
      "cell_type": "markdown",
      "metadata": {
        "id": "view-in-github",
        "colab_type": "text"
      },
      "source": [
        "<a href=\"https://colab.research.google.com/github/codyub/ESAA/blob/main/%ED%8C%8C%EC%9D%B4%EC%8D%AC_%EB%A8%B8%EC%8B%A0%EB%9F%AC%EB%8B%9D_%EC%99%84%EB%B2%BD_%EA%B0%80%EC%9D%B4%EB%93%9C_ch8_1~3_pg_466~486.ipynb\" target=\"_parent\"><img src=\"https://colab.research.google.com/assets/colab-badge.svg\" alt=\"Open In Colab\"/></a>"
      ]
    },
    {
      "cell_type": "markdown",
      "source": [
        "# ch8 1~3 텍스트분석"
      ],
      "metadata": {
        "id": "J_hgE7UOTZmt"
      }
    },
    {
      "cell_type": "markdown",
      "source": [
        "# 01 텍스트 분석 이해"
      ],
      "metadata": {
        "id": "5Mgry8vyTfYr"
      }
    },
    {
      "cell_type": "markdown",
      "source": [
        "- 텍스트 분석은 비정형 데이터 분석\n",
        "- ML 알고리즘은 숫자형 피처 기반 데이터만 입력받을 수 있으므로, 텍스트를 머신러닝에 적용하기 위해서는 비정형 텍스트 데이터를 어떻게 피처 형태로 추출하고 의미 있는 값을 부여하는가가 중요\n",
        "- BOW, Word2Vec 등이 대표적인 텍스트 피처 벡터화"
      ],
      "metadata": {
        "id": "0zOlFkO-TqD_"
      }
    },
    {
      "cell_type": "markdown",
      "source": [
        "# 텍스트 분석 수행 프로세스\n",
        "1. 텍스트 사전 준비작업(텍스트 전처리) : 텍스트를 피처로 만들기 전에 미리 클렌징, 대/소문자 변경, 특수문자 삭제 등의 클렌징 작업, 단어(word) 등의 토큰화 작업, 의미 없는 단어(stop word) 제거 작업, 어근 추출(stemming, lemmatization) 등의 텍스트 정규화 작업.\n",
        "2. 피처 벡터화/추출 : 가공된 텍스트에서 피처룰 추출하고 여기에 벡터값 할당. BOW의 Count 기반과 TF-IDF 기반 벡터화.\n",
        "3. ML 모델 수립 및 학습/예측/평가: ML 모델 적용"
      ],
      "metadata": {
        "id": "qA7aidOWVcxB"
      }
    },
    {
      "cell_type": "markdown",
      "source": [
        "# 파이썬 기반의 NLP, 텍스트 분석 패키지\n",
        "- NLTK(Natural Language Toolkit for Python) : 방대한 데이터 세트와 서브 모듈을 갖고 있음. NLP의 거의 모든 영역 커버. 하지만 수행 속도 측면에서 아쉬운 부분이 있어 대량의 데이터 기반에서는 제대로 활용 못하고 있다.\n",
        "- Gensim : 토픽 모델링에서 두각. Word2Vec 등의 다양한 신기능도 제공.\n",
        "- SpaCy : 뛰어난 수행 성능으로 최근 가장 주목.\n",
        "\n",
        "- 사이킷런은 머신러닝 위주의 라이브러리라서 NLP 특화 라이브러리(ex. 어근처리)는 없다. \n",
        "- 하지만 텍스트를 일정 수준으로 가공하고 머신러닝 알고리즘에 텍스트 데이터를 피처로 처리하기 위한 편리한 기능 제공해서 충분히 텍스트 분석 가능."
      ],
      "metadata": {
        "id": "V06Aa6yPVyW1"
      }
    },
    {
      "cell_type": "markdown",
      "source": [
        "# 02 텍스트 사전 준비 작업(텍스트 전처리)-텍스트 정규화\n",
        "- 텍스트 자체를 바로 피처로 만들 수는 없으므로, 클렌징, 토큰화, 필터링/스톱워드제거/철자 수정, stemming, lemmatization 과정이 필요함\n",
        "\n"
      ],
      "metadata": {
        "id": "ETWREFj1WP6B"
      }
    },
    {
      "cell_type": "markdown",
      "source": [
        "# 클렌징\n",
        "- 텍스트 분석에 오히려 방해가 되는 불필요한 문자, 기호 등을 사전에 제거하는 작업\n",
        "\n",
        "# 텍스트 토큰화\n",
        "- 문장 토큰화: 문서에서 문장을 분리\n",
        "- 단어 토큰화: 문장에서 단어를 토큰으로 분리\n",
        "\n",
        "# 문장 토큰화\n",
        "- 문장의 마침표, 개행문자 등 문장의 마지막을 뜻하는 기호에 따라 분리하는 것이 일반적"
      ],
      "metadata": {
        "id": "z2xsXzfmWoYn"
      }
    },
    {
      "cell_type": "markdown",
      "source": [
        "- 3개의 문장으로 이뤄진 텍스트 문서를 문장으로 각각 분리하는 예제"
      ],
      "metadata": {
        "id": "cJSgM7uJXCFp"
      }
    },
    {
      "cell_type": "code",
      "execution_count": 1,
      "metadata": {
        "id": "vg6ccMcUS2Xo",
        "colab": {
          "base_uri": "https://localhost:8080/"
        },
        "outputId": "a91a2135-c9a3-4117-94ef-829dc4530321"
      },
      "outputs": [
        {
          "output_type": "stream",
          "name": "stderr",
          "text": [
            "[nltk_data] Downloading package punkt to /root/nltk_data...\n",
            "[nltk_data]   Unzipping tokenizers/punkt.zip.\n"
          ]
        },
        {
          "output_type": "stream",
          "name": "stdout",
          "text": [
            "<class 'list'> 3\n",
            "['The Matrix is everywhere its all around us, here even in this room.', 'You can see it out your window or on your television.', 'You feel it when you go to work, or go to church or pay your taxes.']\n"
          ]
        }
      ],
      "source": [
        "from nltk import sent_tokenize\n",
        "import nltk\n",
        "nltk.download('punkt') #마침표, 개행 문자 등의 데이터 세트 다운로드\n",
        "\n",
        "text_sample='The Matrix is everywhere its all around us, here even in this room. \\nYou can see it out your window or on your television. \\nYou feel it when you go to work, or go to church or pay your taxes.'\n",
        "sentences=sent_tokenize(text=text_sample)\n",
        "print(type(sentences), len(sentences))\n",
        "print(sentences)"
      ]
    },
    {
      "cell_type": "markdown",
      "source": [
        "- 반환하는 것은 각 문장으로 구성된 list 객체\n",
        "- 반환된 list 객체가 3개의 문장으로 된 문자열을 갖고 있는 것을 알 수 있음"
      ],
      "metadata": {
        "id": "Mz9UVgBsXR8w"
      }
    },
    {
      "cell_type": "markdown",
      "source": [
        "# 단어 토큰화\n",
        "- 문장을 단어로 토큰화, 기본적으로 공백, 콤마, 마침표, 개행문자 등으로 단어를 분리, 정규표현식을 이용해 다양한 유형으로 토큰화를 수행 가능\n",
        "- BOW와 같이 순서가 중요하지 않은 경우, 문장 토큰화를 사용하지 않고 단어 토큰화만 사용해도 됨\n",
        "- 문장토큰화는 의미가 중요한 요소로 사용될 때 사용"
      ],
      "metadata": {
        "id": "VySHZ5HIXY0Q"
      }
    },
    {
      "cell_type": "code",
      "source": [
        "from nltk import word_tokenize\n",
        "\n",
        "sentence='The Matrix is everywhere its all around us, here even in this room.'\n",
        "words=word_tokenize(sentence)\n",
        "print(type(words), len(words))\n",
        "print(words)"
      ],
      "metadata": {
        "id": "QTk77nMJXslK",
        "colab": {
          "base_uri": "https://localhost:8080/"
        },
        "outputId": "59e9d97a-8da5-4307-ffdd-f60cd08386b2"
      },
      "execution_count": 2,
      "outputs": [
        {
          "output_type": "stream",
          "name": "stdout",
          "text": [
            "<class 'list'> 15\n",
            "['The', 'Matrix', 'is', 'everywhere', 'its', 'all', 'around', 'us', ',', 'here', 'even', 'in', 'this', 'room', '.']\n"
          ]
        }
      ]
    },
    {
      "cell_type": "markdown",
      "source": [
        "- sent_tokenize와 word_tokenize 조합해 문서에 대해 모든 단어를 토큰화\n",
        ">- 문서 샘플을 먼저 문장으로 나누고 개별 문장을 다시 단어로 토큰화하는 함수를 생성"
      ],
      "metadata": {
        "id": "KeffWoNVX38p"
      }
    },
    {
      "cell_type": "code",
      "source": [
        "from nltk import word_tokenize, sent_tokenize\n",
        "\n",
        "#여러 개의 문장으로 된 입력 데이터를 문장별로 단어 토큰화하게 만드는 함수 생성\n",
        "def tokenize_text(text):\n",
        "  #문장별로 분리 토큰\n",
        "  sentences=sent_tokenize(text)\n",
        "  #분리된 문장별 단어 토큰화\n",
        "  word_tokens=[word_tokenize(sentence) for sentence in sentences]\n",
        "  return word_tokens\n",
        "\n",
        "#여러 문장에 대해 문장별 단어 토큰화 수행\n",
        "word_tokens=tokenize_text(text_sample)\n",
        "print(type(word_tokens), len(word_tokens))\n",
        "print(word_tokens)"
      ],
      "metadata": {
        "id": "KFmx9pe-X4wI",
        "colab": {
          "base_uri": "https://localhost:8080/"
        },
        "outputId": "dfd3e68c-8fc1-465a-8912-093c1b31c977"
      },
      "execution_count": 3,
      "outputs": [
        {
          "output_type": "stream",
          "name": "stdout",
          "text": [
            "<class 'list'> 3\n",
            "[['The', 'Matrix', 'is', 'everywhere', 'its', 'all', 'around', 'us', ',', 'here', 'even', 'in', 'this', 'room', '.'], ['You', 'can', 'see', 'it', 'out', 'your', 'window', 'or', 'on', 'your', 'television', '.'], ['You', 'feel', 'it', 'when', 'you', 'go', 'to', 'work', ',', 'or', 'go', 'to', 'church', 'or', 'pay', 'your', 'taxes', '.']]\n"
          ]
        }
      ]
    },
    {
      "cell_type": "markdown",
      "source": [
        "- 3개 문장을 문장별로 먼저 토큰화 했으므로, word_tokens 변수는 3개의 리스트 객체를 내포하는 리스트\n",
        "- 내포된 개별 리스트 객체는 각각 문장별로 토큰화된 단어를 요소로 갖고 있음\n",
        "- 문장을 단어별로 하나씩 토큰화 할 경우 문맥적인 의미는 무시 -> 이러한 문제를 조금이라도 해결해 보고자 도입된 것이 n-gram\n",
        "- n-gram은 연속된 n개의 단어를 하나의 토큰화 단위로 분리해 내는 것\n",
        "-> n개 단어 크기 윈도우를 만들어 문장의 처음부터 오른쪽으로 움직이면서 토큰화를 수행"
      ],
      "metadata": {
        "id": "7yHnCg3uYC-f"
      }
    },
    {
      "cell_type": "markdown",
      "source": [
        "# 스톱 워드 제거\n",
        "- 스톱 워드: 분석에 큰 의미가 없는 단어. ex. 문법 요소 등. 빈번해서 오히려 중요 단어로 인지될 수 있어, 제거하는 것이 중요.\n",
        "- 언어별로 스톱 워드가 목록화 되어 있음. \n",
        "- NTLK의 스톱 워드에는 어떤 것이 있을지 확인."
      ],
      "metadata": {
        "id": "EB0zBuJUYlBs"
      }
    },
    {
      "cell_type": "markdown",
      "source": [
        "- NLTK의 스톱워드 목록 내려 받기"
      ],
      "metadata": {
        "id": "XOdxps2eYzho"
      }
    },
    {
      "cell_type": "code",
      "source": [
        "import nltk\n",
        "nltk.download('stopwords')"
      ],
      "metadata": {
        "id": "JfgiXfKQYyF5",
        "colab": {
          "base_uri": "https://localhost:8080/"
        },
        "outputId": "e70c0bfa-af81-4376-83ee-40233faa64ce"
      },
      "execution_count": 4,
      "outputs": [
        {
          "output_type": "stream",
          "name": "stderr",
          "text": [
            "[nltk_data] Downloading package stopwords to /root/nltk_data...\n",
            "[nltk_data]   Unzipping corpora/stopwords.zip.\n"
          ]
        },
        {
          "output_type": "execute_result",
          "data": {
            "text/plain": [
              "True"
            ]
          },
          "metadata": {},
          "execution_count": 4
        }
      ]
    },
    {
      "cell_type": "code",
      "source": [
        "print('영어 stop word 개수:', len(nltk.corpus.stopwords.words('english')))\n",
        "print(nltk.corpus.stopwords.words('english')[:20])"
      ],
      "metadata": {
        "id": "l6ZL1dugY5jc",
        "colab": {
          "base_uri": "https://localhost:8080/"
        },
        "outputId": "bf5aa14d-14a7-4c59-8208-450f111307ed"
      },
      "execution_count": 5,
      "outputs": [
        {
          "output_type": "stream",
          "name": "stdout",
          "text": [
            "영어 stop word 개수: 179\n",
            "['i', 'me', 'my', 'myself', 'we', 'our', 'ours', 'ourselves', 'you', \"you're\", \"you've\", \"you'll\", \"you'd\", 'your', 'yours', 'yourself', 'yourselves', 'he', 'him', 'his']\n"
          ]
        }
      ]
    },
    {
      "cell_type": "markdown",
      "source": [
        "- 영어의 경우 스톱 워드가 179개."
      ],
      "metadata": {
        "id": "ha33y5O4Y74t"
      }
    },
    {
      "cell_type": "markdown",
      "source": [
        "- 스톱워드를 필터링으로 제거해 분석을 위한 의미 있는 단어만 추출"
      ],
      "metadata": {
        "id": "9uwjIa1GZAaA"
      }
    },
    {
      "cell_type": "code",
      "source": [
        "import nltk\n",
        "\n",
        "stopwords=nltk.corpus.stopwords.words('english')\n",
        "all_tokens=[]\n",
        "#위 예제에서 3개의 문장별로 얻은 word_tokens list에 대해 스톱 워드를 제거하는 반복문\n",
        "for sentence in word_tokens:\n",
        "  filtered_words=[]\n",
        "  #개별 문장별로 토큰화된 문장 list에 대해 스톱 워드를 제거하는 반복문\n",
        "  for word in sentence:\n",
        "    #소문자로 모두 변환\n",
        "    word=word.lower()\n",
        "    #토큰화된 개별 단어가 스톱 워드의 단어에 포함되지 않으면 word_tokens에 추가\n",
        "    if word not in stopwords:\n",
        "      filtered_words.append(word)\n",
        "    all_tokens.append(filtered_words)\n",
        "\n",
        "print(all_tokens)"
      ],
      "metadata": {
        "id": "yjf4XsK7ZFdG",
        "colab": {
          "base_uri": "https://localhost:8080/"
        },
        "outputId": "e82ce097-261b-4994-c29d-2022d4efcd73"
      },
      "execution_count": 6,
      "outputs": [
        {
          "output_type": "stream",
          "name": "stdout",
          "text": [
            "[['matrix', 'everywhere', 'around', 'us', ',', 'even', 'room', '.'], ['matrix', 'everywhere', 'around', 'us', ',', 'even', 'room', '.'], ['matrix', 'everywhere', 'around', 'us', ',', 'even', 'room', '.'], ['matrix', 'everywhere', 'around', 'us', ',', 'even', 'room', '.'], ['matrix', 'everywhere', 'around', 'us', ',', 'even', 'room', '.'], ['matrix', 'everywhere', 'around', 'us', ',', 'even', 'room', '.'], ['matrix', 'everywhere', 'around', 'us', ',', 'even', 'room', '.'], ['matrix', 'everywhere', 'around', 'us', ',', 'even', 'room', '.'], ['matrix', 'everywhere', 'around', 'us', ',', 'even', 'room', '.'], ['matrix', 'everywhere', 'around', 'us', ',', 'even', 'room', '.'], ['matrix', 'everywhere', 'around', 'us', ',', 'even', 'room', '.'], ['matrix', 'everywhere', 'around', 'us', ',', 'even', 'room', '.'], ['matrix', 'everywhere', 'around', 'us', ',', 'even', 'room', '.'], ['matrix', 'everywhere', 'around', 'us', ',', 'even', 'room', '.'], ['matrix', 'everywhere', 'around', 'us', ',', 'even', 'room', '.'], ['see', 'window', 'television', '.'], ['see', 'window', 'television', '.'], ['see', 'window', 'television', '.'], ['see', 'window', 'television', '.'], ['see', 'window', 'television', '.'], ['see', 'window', 'television', '.'], ['see', 'window', 'television', '.'], ['see', 'window', 'television', '.'], ['see', 'window', 'television', '.'], ['see', 'window', 'television', '.'], ['see', 'window', 'television', '.'], ['see', 'window', 'television', '.'], ['feel', 'go', 'work', ',', 'go', 'church', 'pay', 'taxes', '.'], ['feel', 'go', 'work', ',', 'go', 'church', 'pay', 'taxes', '.'], ['feel', 'go', 'work', ',', 'go', 'church', 'pay', 'taxes', '.'], ['feel', 'go', 'work', ',', 'go', 'church', 'pay', 'taxes', '.'], ['feel', 'go', 'work', ',', 'go', 'church', 'pay', 'taxes', '.'], ['feel', 'go', 'work', ',', 'go', 'church', 'pay', 'taxes', '.'], ['feel', 'go', 'work', ',', 'go', 'church', 'pay', 'taxes', '.'], ['feel', 'go', 'work', ',', 'go', 'church', 'pay', 'taxes', '.'], ['feel', 'go', 'work', ',', 'go', 'church', 'pay', 'taxes', '.'], ['feel', 'go', 'work', ',', 'go', 'church', 'pay', 'taxes', '.'], ['feel', 'go', 'work', ',', 'go', 'church', 'pay', 'taxes', '.'], ['feel', 'go', 'work', ',', 'go', 'church', 'pay', 'taxes', '.'], ['feel', 'go', 'work', ',', 'go', 'church', 'pay', 'taxes', '.'], ['feel', 'go', 'work', ',', 'go', 'church', 'pay', 'taxes', '.'], ['feel', 'go', 'work', ',', 'go', 'church', 'pay', 'taxes', '.'], ['feel', 'go', 'work', ',', 'go', 'church', 'pay', 'taxes', '.'], ['feel', 'go', 'work', ',', 'go', 'church', 'pay', 'taxes', '.'], ['feel', 'go', 'work', ',', 'go', 'church', 'pay', 'taxes', '.']]\n"
          ]
        }
      ]
    },
    {
      "cell_type": "markdown",
      "source": [
        "- in, this 등이 필터링을 통해 제거됐음을 알 수 있음"
      ],
      "metadata": {
        "id": "y7642E-SZGi4"
      }
    },
    {
      "cell_type": "markdown",
      "source": [
        "# Stemming과 Lemmatization\n",
        "- 문법적인 요소에 따라 단어가 다양하게 변하는 언어들이 많은데, 이는 문법적 또는 의미적으로 변화하는 단어의 원형을 찾는 것\n",
        "- Lemmatization: 정교하며, 의미론적인 기반에서 단어의 원형을 찾음, 품사와 같은 문법적인 요소와 더 의미적인 부분을 감안해 정확한 처랒로 된 어근 단어를 찾아줌. 더 오랜 시간의 변환이 필요함\n",
        "- Stemming: 우너형 단어로 변환 시 일반적인 방법을 적용하거나 더 단순화된 방법을 적용해 원래 단어에서 일부 철자가 훼손된 어근 단어를 추출하는 경향이 있음\n",
        "- NLTK는 다양한 stemmer를 제공. porter, lancaster, snowball stemmer. lemmatization을 위해서는 wordnetlemmatization제공. "
      ],
      "metadata": {
        "id": "DCOqO3BGZKbv"
      }
    },
    {
      "cell_type": "markdown",
      "source": [
        "- stemmer와 lemmatization 비교"
      ],
      "metadata": {
        "id": "mf_nmpOLbibJ"
      }
    },
    {
      "cell_type": "code",
      "source": [
        "#stemming\n",
        "from nltk.stem import LancasterStemmer\n",
        "stemmer=LancasterStemmer()\n",
        "\n",
        "print(stemmer.stem('working'), stemmer.stem('works'), stemmer.stem('worked'))\n",
        "print(stemmer.stem('amusing'), stemmer.stem('amuses'), stemmer.stem('amused'))\n",
        "print(stemmer.stem('happier'), stemmer.stem('happiest'))\n",
        "print(stemmer.stem('fancier'), stemmer.stem('fanciest'))"
      ],
      "metadata": {
        "id": "rzmhh3wwbji4",
        "colab": {
          "base_uri": "https://localhost:8080/"
        },
        "outputId": "ebee2963-4751-4eae-d5fc-510bb1d54b84"
      },
      "execution_count": 7,
      "outputs": [
        {
          "output_type": "stream",
          "name": "stdout",
          "text": [
            "work work work\n",
            "amus amus amus\n",
            "happy happiest\n",
            "fant fanciest\n"
          ]
        }
      ]
    },
    {
      "cell_type": "markdown",
      "source": [
        "- 원형을 잘 찾지 못하는 상황 발생"
      ],
      "metadata": {
        "id": "ove-IK9MblbI"
      }
    },
    {
      "cell_type": "code",
      "source": [
        "#lemmatization\n",
        "from nltk.stem import WordNetLemmatizer\n",
        "import nltk\n",
        "nltk.download('wordnet')\n",
        "\n",
        "lemma=WordNetLemmatizer()\n",
        "print(lemma.lemmatize('amusing', 'v'), lemma.lemmatize('amuses', 'v'), lemma.lemmatize('amused', 'v'))\n",
        "print(lemma.lemmatize('happier', 'a'), lemma.lemmatize('happiest', 'a'))\n",
        "print(lemma.lemmatize('fancier', 'a'), lemma.lemmatize('fanciest', 'a'))"
      ],
      "metadata": {
        "id": "DjqC9ljbbmYB",
        "colab": {
          "base_uri": "https://localhost:8080/"
        },
        "outputId": "27db2b08-ce3d-4b03-8539-7e72e8de1a7a"
      },
      "execution_count": 8,
      "outputs": [
        {
          "output_type": "stream",
          "name": "stderr",
          "text": [
            "[nltk_data] Downloading package wordnet to /root/nltk_data...\n"
          ]
        },
        {
          "output_type": "stream",
          "name": "stdout",
          "text": [
            "amuse amuse amuse\n",
            "happy happy\n",
            "fancy fancy\n"
          ]
        }
      ]
    },
    {
      "cell_type": "markdown",
      "source": [
        "- lemmatization이 stemming보다 더 정확."
      ],
      "metadata": {
        "id": "Vx9LhZ5jboMM"
      }
    },
    {
      "cell_type": "markdown",
      "source": [
        "# 03 Bag of Words - BOW\n",
        "- BOW 모델은 문서가 가지는 모든 단어를 문맥이나 순서를 무시하고 일괄적으로 단어에 대해 빈도 값을 부여해 피처 값을 추출하는 모델\n",
        "-\n",
        "1. 문장1과 문장2에 있는 모든 단어에서 중복 제거, 각 단어를 칼럼 형태로 나열. 그리고 각 단어에 고유의 인덱스를 부여.\n",
        "2. 개별 문장에서 해당 단어가 나타나는 횟수를 각 단어(인덱스)에 기재.\n",
        "\n",
        "# 장점\n",
        "- 쉽고 빠른 구축\n",
        "# 단점\n",
        "- 문맥 의미 반영 부족 : 단어의 순서를 고려하지 않기 때문에, 문장 내에서 단어의 문맥적인 의미가 무시. 보완하기 위해 n-gram 사용할 수 있지만 제한적임.\n",
        "- 희소 행렬 문제(희소성, 희소 생렬) : BOW로 피처 벡터화를 수행하면 희소 행렬 형태의 데이터 세트가 만들어지기 쉬움. 많은 단어가 칼럼으로 만들어지지만, 단어가 문서마다 나타나지 않는 경우가 훨씬 많음. 대부분의 데이터가 0으로 채워지게 된다. 이처럼 대규모의 칼럼으로 구성된 행렬에서 대부분의 값이 0으로 채워지는 행렬을 희소 행렬이라고 한다. <-> 밀집 행렬. 희소 행렬은 머신러닝 알고리즘의 수행 시간과 예측 성능을 떨어뜨려 특별한 기법이 필요."
      ],
      "metadata": {
        "id": "4M_IXxj0b0Zg"
      }
    },
    {
      "cell_type": "markdown",
      "source": [
        "# BOW 피처 벡터화\n",
        "- 텍스트는 특정 의미를 가지는 숫자형 값인 벡터 값으로 변환해야 하는데, 이러한 변환을 피처 벡터화라고 함\n",
        "- 각 문서이 텍스트를 단어로 추출해 피처로 할당하고, 각 단어의 발생 빈도와 같은 값을 이 피처에 값으로 부여해 각 문서를 이 단어 피처의 발생 빈도 값으로 구성된 벡터로 만드는 기법\n",
        "- 피처 벡터화는 기존 텍스트 데이터를 또 다른 형태의 피처의 조합으로 변경하기 때문에 넓은 범위의 피처 추출에 포함\n",
        "- BOW 모델에서 피처 벡터화를 수행한다는 것은, 모든 문서에서 모든 단어를 칼럼 형태로 나열하고 각 문서에서 해당 단어의 횟수나 정규화된 빈도를 값으로 부여한느 데이터 세트 모델로 변경하는 것"
      ],
      "metadata": {
        "id": "HJQhCkFWeyYZ"
      }
    },
    {
      "cell_type": "markdown",
      "source": [
        "# BOW의 피처 벡터화 종류\n",
        "1. 카운트 기반의 벡터화\n",
        "- 단어 피처에 값을 부여할 때, 각 문서에서 해당 단어가 나타나는 횟수를 부여하는 경우\n",
        "- 카운트 값이 높을수록 중요한 단어로 인식\n",
        "- 카운트만 부여할 경우, 그 문서의 특징을 나타내기 보다 언어의 특성상 문장에서 자주 사용될 수밖에 없는 단어까지 높은 값을 부여하게 된다.\n",
        "2. TF-IDF 기반의 벡터화\n",
        "- 개별 문서에서 자주 나타나는 단어에 높은 가중치를 주되, 모든 문서에서 전반적으로 자주 나타나는 단어에 대해서는 패널티를 주는 방식으로 값을 부여\n",
        "- 몯ㄴ 문서에 반복적으로 자주 발생하는 단어에 대해서는 패널티를 부여하는 방식으로 단어에 대한 가중치의 균형을 맞춰줌\n"
      ],
      "metadata": {
        "id": "WsNPPTYyfZSa"
      }
    },
    {
      "cell_type": "markdown",
      "source": [
        "# 사이킷런의 count 및 TF-IDF 벡터화 구현: CountVectorizer, TfidfVectorizer\n",
        "\n",
        "- CountVectorizer: 카운트 기반의 벡터화를 구현한 클래스, 단지 피처 벡터화만 수행하는게 아니라 소문자 일괄 변환, 토큰화, 스톱 워드 필터링 등의 전처리도 수행해준다. 입력 파라미터 설정 필요.\n",
        "\n",
        "- max_df : 전체 문서에서 너무 높은 빈도수 가지는 단어 피처를 제외.\n",
        "- min_df : 전체 문서에서 너무 낮은 빈도수 가지는 단어 피처를 제외.\n",
        "- max_features : 추출하는 피처의 개수를 제한.\n",
        "- stop_words : 스톱 워드로 지정된 단어는 추출에서 제외.\n",
        "- n_gram_range : 단어 순서를 어느 정도 보강하기 위한 n_gram 범위 설정.\n",
        "- analyzer : 피처 추출을 수행한 단위를 지정. 디폴트는 당연히 word.\n",
        "- token_pattern : 토큰화를 수행하는 정규 표현식 패턴 지정.\n",
        "- tokenizer : 토큰화를 별도의 커스텀 함수로 이용시 적용.\n",
        "\n",
        "보통 사이킷런의 CountVectorizer 클래스를 이용해 카운트 기반의 피처 여러 개의 문서로 구성된 텍스트의 피처 벡터화 방법은\n",
        "1. 영어의 경우 소문자 변경 등 사전 데이터 가공\n",
        "2. 디폴트로 단어 기준으로 n_gram_range 반영해 각 단어 토큰화\n",
        "3. 텍스트 정규화 수행. 어근 변환은 CountVectorizer에서 직접 지원하지 않고 tockenizer 파라미터에 커스텀 어근 변환 함수를 적용하여 수행할 수 있다.\n",
        "4. 피처 벡터화. 다른 파라미터를 이용해 토큰화된 단어를 피처로 추출하고 단어 빈도수 벡터 값을 적용\n",
        "\n",
        "\n",
        "- TF-IDF 벡터화는 TfidfVectorizer 클래스 이용. 파라미터 변환 방법은 count와 동일."
      ],
      "metadata": {
        "id": "TZ0ZytEPgP5J"
      }
    },
    {
      "cell_type": "markdown",
      "source": [
        "# BOW 벡터화를 위한 희소 행렬\n",
        "- 사이킷런의 countvectorizer, tfidfvectorizer를 이용해 텍스틀 피처 단위로 벡터화해 변환하고 CSR 형태의 희소 행렬을 반환\n",
        "- 희소행렬: 모든 문서에 있는 단어를 중복을 제외하고 피처로 만들면 많은 피처 칼럼이 만들어짐 ->  하지만 대규모의 행렬에서 레코드의 각 문서가 가지는 단어의 수는 제한적이라 이 행렬의 값은 대부분 0이 차지하고, 이러한 행렬을 의미\n",
        "- BOW 형태를 가진 언어 모델의 피처 벡터화는 대부분 희소 행렬. \n",
        "- 불필요한 0 때문에 메모리 공간이 많이 필요하며, 행렬의 크기가 커서 연산 시에도 시간이 많이 소모됨 -> 따라서 희소 행렬을 변환해야 함: 대표적으로 COO 형식과 CSR 형식. 일반적으로 더 뛰어난 CSR 사용."
      ],
      "metadata": {
        "id": "T9i4amZ1gsXd"
      }
    },
    {
      "cell_type": "markdown",
      "source": [
        "# 희소 행렬 - COO 형식\n",
        "- 0이 아닌 데이터만 별도의 데이터 배열에 저장하고, 그 데이터가 가리키는 행과 열의 위치를 별도의 배열로 저장하는 방식\n",
        "- 희소 행렬 변환을 위해서는 주로 사이파이를 사용함. "
      ],
      "metadata": {
        "id": "T3kiUksGgtfJ"
      }
    },
    {
      "cell_type": "markdown",
      "source": [
        "- 먼저 [ [3,0,1], [0,2,0] ]을 넘파이의 객체로 만들어 COO 형식의 희소 행렬로 변환"
      ],
      "metadata": {
        "id": "UWZKhXkHq0-r"
      }
    },
    {
      "cell_type": "code",
      "source": [
        "import numpy as np\n",
        "\n",
        "dense=np.array([[3,0,1], [0,2,0]])"
      ],
      "metadata": {
        "id": "x_VjsmdVgvm0"
      },
      "execution_count": 9,
      "outputs": []
    },
    {
      "cell_type": "markdown",
      "source": [
        "- 0이 아닌 데이터를 별도의 배열 데이터로 만들고, 행/열 위치 배열을 각각 만든 후 coo_matirx() 내에 생성 파라미터로 입력"
      ],
      "metadata": {
        "id": "2_G1W9xFqxcr"
      }
    },
    {
      "cell_type": "code",
      "source": [
        "from scipy import sparse\n",
        "\n",
        "#0이 아닌 데이터 추출\n",
        "data=np.array([3,1,2])\n",
        "\n",
        "#행 위치와 열 위치를 각각 배열로 생성\n",
        "row_pos=np.array([0,0,1])\n",
        "col_pos=np.array([0,2,1])\n",
        "\n",
        "#sparse 패키지의 coo_matirx를 이용해 COO 형식의 희소 행렬 생성\n",
        "sparse_coo=sparse.coo_matrix((data, (row_pos, col_pos)))"
      ],
      "metadata": {
        "id": "kZHSe3G0gwmA"
      },
      "execution_count": 10,
      "outputs": []
    },
    {
      "cell_type": "markdown",
      "source": [
        "- toarray() 메서드로 다시 밀집 형태의 행렬로 출력"
      ],
      "metadata": {
        "id": "-feRa-QPqs4r"
      }
    },
    {
      "cell_type": "code",
      "source": [
        "sparse_coo.toarray()"
      ],
      "metadata": {
        "id": "I0oLOLtPgyjl",
        "colab": {
          "base_uri": "https://localhost:8080/"
        },
        "outputId": "5a2835cc-f4e0-4465-8e3c-5a3ac0f09489"
      },
      "execution_count": 11,
      "outputs": [
        {
          "output_type": "execute_result",
          "data": {
            "text/plain": [
              "array([[3, 0, 1],\n",
              "       [0, 2, 0]])"
            ]
          },
          "metadata": {},
          "execution_count": 11
        }
      ]
    },
    {
      "cell_type": "markdown",
      "source": [
        "# 희소 행렬 - CSR 형식\n",
        "- COO 형식이 행과 열의 위치를 나타내기 위해 반복적인 위치 데이터를 사용해야 하는 문제점을 해결한 방식\n",
        "- 행 위치 배열 내에 있는 고유한 값의 시작 위치만 다시 별도의 위치 배열로 가지는 변환 방식"
      ],
      "metadata": {
        "id": "16j5ILSsgzWQ"
      }
    },
    {
      "cell_type": "code",
      "source": [
        "from scipy import sparse\n",
        "\n",
        "dense2=np.array([[0,0,1,0,0,5],\n",
        "                 [1,4,0,3,2,5],\n",
        "                 [0,6,0,3,0,0],\n",
        "                 [2,0,0,0,0,0],\n",
        "                 [0,0,0,7,0,8],\n",
        "                 [1,0,0,0,0,0]])\n",
        "\n",
        "#0이 아닌 데이터 추출\n",
        "data2=np.array([1,5,1,4,3,2,5,6,3,2,7,8,1])\n",
        "\n",
        "#행 위치와 열 위치를 각각 array로 생성\n",
        "row_pos=np.array([0,0,1,1,1,1,1,2,2,3,4,4,5])\n",
        "col_pos=np.array([2,5,0,1,3,4,5,1,3,0,3,5,0])\n",
        "\n",
        "#COO 형식으로 변환\n",
        "sparse_coo=sparse.coo_matrix((data2, (row_pos, col_pos)))\n",
        "\n",
        "#행 위치 배열의 고유한 값의 시작 위치 인덱스를 배열로 생성 + 맨 끝에는 총 데이터 수\n",
        "row_pos_ind=np.array([0,2,7,9,10,12,13])\n",
        "\n",
        "#CSR 형식으로 변환\n",
        "sparse_csr=sparse.csr_matrix((data2, col_pos, row_pos_ind))\n",
        "\n",
        "print('COO 변환된 데이터가 제대로 되었는지 다시 dense로 출력 확인')\n",
        "print(sparse_coo.toarray())\n",
        "print('CSR 변환된 데이터가 제대로 되었는지 다시 dense로 출력 확인')\n",
        "print(sparse_csr.toarray())"
      ],
      "metadata": {
        "id": "RK6itkTKg1nB",
        "colab": {
          "base_uri": "https://localhost:8080/"
        },
        "outputId": "33bcca9b-5039-4fb7-e271-395cee92229c"
      },
      "execution_count": 12,
      "outputs": [
        {
          "output_type": "stream",
          "name": "stdout",
          "text": [
            "COO 변환된 데이터가 제대로 되었는지 다시 dense로 출력 확인\n",
            "[[0 0 1 0 0 5]\n",
            " [1 4 0 3 2 5]\n",
            " [0 6 0 3 0 0]\n",
            " [2 0 0 0 0 0]\n",
            " [0 0 0 7 0 8]\n",
            " [1 0 0 0 0 0]]\n",
            "CSR 변환된 데이터가 제대로 되었는지 다시 dense로 출력 확인\n",
            "[[0 0 1 0 0 5]\n",
            " [1 4 0 3 2 5]\n",
            " [0 6 0 3 0 0]\n",
            " [2 0 0 0 0 0]\n",
            " [0 0 0 7 0 8]\n",
            " [1 0 0 0 0 0]]\n"
          ]
        }
      ]
    },
    {
      "cell_type": "code",
      "source": [
        "dense3=np.array([[0,0,1,0,0,5],\n",
        "                 [1,4,0,3,2,5],\n",
        "                 [0,6,0,3,0,0],\n",
        "                 [2,0,0,0,0,0],\n",
        "                 [0,0,0,7,0,8],\n",
        "                 [1,0,0,0,0,0]])\n",
        "\n",
        "coo=sparse.coo_matrix(dense3)\n",
        "csr=sparse.csr_matrix(dense3)"
      ],
      "metadata": {
        "id": "vjBa9YNpg3rJ"
      },
      "execution_count": 13,
      "outputs": []
    },
    {
      "cell_type": "code",
      "source": [
        "coo"
      ],
      "metadata": {
        "id": "OOQDK2Kpg6AJ",
        "colab": {
          "base_uri": "https://localhost:8080/"
        },
        "outputId": "b9fda316-092d-4777-b98c-84187a2f7e9f"
      },
      "execution_count": 14,
      "outputs": [
        {
          "output_type": "execute_result",
          "data": {
            "text/plain": [
              "<6x6 sparse matrix of type '<class 'numpy.int64'>'\n",
              "\twith 13 stored elements in COOrdinate format>"
            ]
          },
          "metadata": {},
          "execution_count": 14
        }
      ]
    },
    {
      "cell_type": "code",
      "source": [
        "csr"
      ],
      "metadata": {
        "id": "Cdtr583xg7S5",
        "colab": {
          "base_uri": "https://localhost:8080/"
        },
        "outputId": "ace6c18b-a14c-4c4d-d9c9-17782b9c8b61"
      },
      "execution_count": 15,
      "outputs": [
        {
          "output_type": "execute_result",
          "data": {
            "text/plain": [
              "<6x6 sparse matrix of type '<class 'numpy.int64'>'\n",
              "\twith 13 stored elements in Compressed Sparse Row format>"
            ]
          },
          "metadata": {},
          "execution_count": 15
        }
      ]
    }
  ]
}