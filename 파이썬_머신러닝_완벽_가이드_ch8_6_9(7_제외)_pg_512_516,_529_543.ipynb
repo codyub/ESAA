{
  "nbformat": 4,
  "nbformat_minor": 0,
  "metadata": {
    "colab": {
      "provenance": [],
      "authorship_tag": "ABX9TyMiV0onbYJ8ZFe2Z1hKc+V0",
      "include_colab_link": true
    },
    "kernelspec": {
      "name": "python3",
      "display_name": "Python 3"
    },
    "language_info": {
      "name": "python"
    }
  },
  "cells": [
    {
      "cell_type": "markdown",
      "metadata": {
        "id": "view-in-github",
        "colab_type": "text"
      },
      "source": [
        "<a href=\"https://colab.research.google.com/github/codyub/ESAA/blob/main/%ED%8C%8C%EC%9D%B4%EC%8D%AC_%EB%A8%B8%EC%8B%A0%EB%9F%AC%EB%8B%9D_%EC%99%84%EB%B2%BD_%EA%B0%80%EC%9D%B4%EB%93%9C_ch8_6_9(7_%EC%A0%9C%EC%99%B8)_pg_512_516%2C_529_543.ipynb\" target=\"_parent\"><img src=\"https://colab.research.google.com/assets/colab-badge.svg\" alt=\"Open In Colab\"/></a>"
      ]
    },
    {
      "cell_type": "markdown",
      "source": [
        "# 06 토픽 모델링: 20 뉴스 그룹"
      ],
      "metadata": {
        "id": "cHXUD5CQ4w0X"
      }
    },
    {
      "cell_type": "markdown",
      "source": [
        "토픽모델링: 문서 집합에 숨어 있는 주제를 찾아내는 것\n",
        "- 사람이 수행하는 토픽 모델리응ㄴ 더 함축적인 의미로 문장을 요약, 머신러닝 기반의 토픽 모델은 숨겨진 주제를 효과적으로 표현할 수 있는 중심 단어를 함축적으로 추출 \n",
        "\n",
        "\n",
        "# 토픽 모델링에 자주 사용되는 기법\n",
        "1. LSA\n",
        "2. LDA\n",
        "\n"
      ],
      "metadata": {
        "id": "ZpG2KfZH4569"
      }
    },
    {
      "cell_type": "markdown",
      "source": [
        "# 데이터 세트: 20뉴스그룹\n",
        "- 20가지 주제를 가진 뉴스그룹 데이터를 갑고 있음\n",
        "- 이 중 모토사이클, 야구, 그래픽스, 윈도우, 중동, 기독교, 전자공학, 의학 8개의 주제를 추출해 LDA 기반의 토픽 모델링 적용"
      ],
      "metadata": {
        "id": "wf4-BfqG5g_N"
      }
    },
    {
      "cell_type": "markdown",
      "source": [
        "# LDA 토픽 모델링 실습\n",
        "- 카테고리 파라미터를 통해 필요한 주제만 필터링해 추출하고, 추출된 텍스트를 count 기반으로 벡터화 변환"
      ],
      "metadata": {
        "id": "-VNfyeAa5wEP"
      }
    },
    {
      "cell_type": "code",
      "source": [
        "from sklearn.datasets import fetch_20newsgroups\n",
        "from sklearn.feature_extraction.text import CountVectorizer\n",
        "from sklearn.decomposition import LatentDirichletAllocation\n",
        "\n",
        "# 모토사이클, 야구, 그래픽스, 윈도우, 중동, 기독교, 전자공학, 의학 8개 주제 추출\n",
        "cats=['rec.motorcycles', 'rec.sport.baseball', 'comp.graphics', 'comp.windows.x', 'talk.politics.mideast', 'soc.religion.christian', 'sci.electronics', 'sci.med']\n",
        "\n",
        "# 위에서 cats 변수로 기재된 카테고리만 추출. fetch_20newsgroups()의 categories에 cats 입력.\n",
        "news_df=fetch_20newsgroups(subset='all', remove=('headers', 'footers', 'quotes'), categories=cats, random_state=0)\n",
        "\n",
        "# LDA는 count 기반의 벡터화만 적용\n",
        "count_vect=CountVectorizer(max_df=0.95, max_features=1000, min_df=2, stop_words='english', ngram_range=(1,2))\n",
        "\n",
        "feat_vect=count_vect.fit_transform(news_df.data)\n",
        "print('CountVectorizer Shape:', feat_vect.shape)"
      ],
      "metadata": {
        "id": "MpCVecWUOYJo",
        "colab": {
          "base_uri": "https://localhost:8080/"
        },
        "outputId": "9d622b15-4771-4f4b-9d21-cf6181d5eeff"
      },
      "execution_count": 1,
      "outputs": [
        {
          "output_type": "stream",
          "name": "stdout",
          "text": [
            "CountVectorizer Shape: (7862, 1000)\n"
          ]
        }
      ]
    },
    {
      "cell_type": "markdown",
      "source": [
        "- 7862개 문서가 1000개의 피처로 구성된 행렬 데이터\n",
        "- 이를 이용해 LDA 토픽 모델링을 수행\n",
        "- 토픽의 개수는 위 뉴스 그룹에서 추출한 주제와 동일한 8개로 정함"
      ],
      "metadata": {
        "id": "vuN5ihn46SDD"
      }
    },
    {
      "cell_type": "code",
      "source": [
        "lda=LatentDirichletAllocation(n_components=8, random_state=0) # 토픽 개수 8개로 조정\n",
        "lda.fit(feat_vect)"
      ],
      "metadata": {
        "id": "9BvGD-PXOYHZ",
        "colab": {
          "base_uri": "https://localhost:8080/",
          "height": 74
        },
        "outputId": "b2d415d3-d6e2-47fb-8ccd-724976869414"
      },
      "execution_count": 2,
      "outputs": [
        {
          "output_type": "execute_result",
          "data": {
            "text/plain": [
              "LatentDirichletAllocation(n_components=8, random_state=0)"
            ],
            "text/html": [
              "<style>#sk-container-id-1 {color: black;background-color: white;}#sk-container-id-1 pre{padding: 0;}#sk-container-id-1 div.sk-toggleable {background-color: white;}#sk-container-id-1 label.sk-toggleable__label {cursor: pointer;display: block;width: 100%;margin-bottom: 0;padding: 0.3em;box-sizing: border-box;text-align: center;}#sk-container-id-1 label.sk-toggleable__label-arrow:before {content: \"▸\";float: left;margin-right: 0.25em;color: #696969;}#sk-container-id-1 label.sk-toggleable__label-arrow:hover:before {color: black;}#sk-container-id-1 div.sk-estimator:hover label.sk-toggleable__label-arrow:before {color: black;}#sk-container-id-1 div.sk-toggleable__content {max-height: 0;max-width: 0;overflow: hidden;text-align: left;background-color: #f0f8ff;}#sk-container-id-1 div.sk-toggleable__content pre {margin: 0.2em;color: black;border-radius: 0.25em;background-color: #f0f8ff;}#sk-container-id-1 input.sk-toggleable__control:checked~div.sk-toggleable__content {max-height: 200px;max-width: 100%;overflow: auto;}#sk-container-id-1 input.sk-toggleable__control:checked~label.sk-toggleable__label-arrow:before {content: \"▾\";}#sk-container-id-1 div.sk-estimator input.sk-toggleable__control:checked~label.sk-toggleable__label {background-color: #d4ebff;}#sk-container-id-1 div.sk-label input.sk-toggleable__control:checked~label.sk-toggleable__label {background-color: #d4ebff;}#sk-container-id-1 input.sk-hidden--visually {border: 0;clip: rect(1px 1px 1px 1px);clip: rect(1px, 1px, 1px, 1px);height: 1px;margin: -1px;overflow: hidden;padding: 0;position: absolute;width: 1px;}#sk-container-id-1 div.sk-estimator {font-family: monospace;background-color: #f0f8ff;border: 1px dotted black;border-radius: 0.25em;box-sizing: border-box;margin-bottom: 0.5em;}#sk-container-id-1 div.sk-estimator:hover {background-color: #d4ebff;}#sk-container-id-1 div.sk-parallel-item::after {content: \"\";width: 100%;border-bottom: 1px solid gray;flex-grow: 1;}#sk-container-id-1 div.sk-label:hover label.sk-toggleable__label {background-color: #d4ebff;}#sk-container-id-1 div.sk-serial::before {content: \"\";position: absolute;border-left: 1px solid gray;box-sizing: border-box;top: 0;bottom: 0;left: 50%;z-index: 0;}#sk-container-id-1 div.sk-serial {display: flex;flex-direction: column;align-items: center;background-color: white;padding-right: 0.2em;padding-left: 0.2em;position: relative;}#sk-container-id-1 div.sk-item {position: relative;z-index: 1;}#sk-container-id-1 div.sk-parallel {display: flex;align-items: stretch;justify-content: center;background-color: white;position: relative;}#sk-container-id-1 div.sk-item::before, #sk-container-id-1 div.sk-parallel-item::before {content: \"\";position: absolute;border-left: 1px solid gray;box-sizing: border-box;top: 0;bottom: 0;left: 50%;z-index: -1;}#sk-container-id-1 div.sk-parallel-item {display: flex;flex-direction: column;z-index: 1;position: relative;background-color: white;}#sk-container-id-1 div.sk-parallel-item:first-child::after {align-self: flex-end;width: 50%;}#sk-container-id-1 div.sk-parallel-item:last-child::after {align-self: flex-start;width: 50%;}#sk-container-id-1 div.sk-parallel-item:only-child::after {width: 0;}#sk-container-id-1 div.sk-dashed-wrapped {border: 1px dashed gray;margin: 0 0.4em 0.5em 0.4em;box-sizing: border-box;padding-bottom: 0.4em;background-color: white;}#sk-container-id-1 div.sk-label label {font-family: monospace;font-weight: bold;display: inline-block;line-height: 1.2em;}#sk-container-id-1 div.sk-label-container {text-align: center;}#sk-container-id-1 div.sk-container {/* jupyter's `normalize.less` sets `[hidden] { display: none; }` but bootstrap.min.css set `[hidden] { display: none !important; }` so we also need the `!important` here to be able to override the default hidden behavior on the sphinx rendered scikit-learn.org. See: https://github.com/scikit-learn/scikit-learn/issues/21755 */display: inline-block !important;position: relative;}#sk-container-id-1 div.sk-text-repr-fallback {display: none;}</style><div id=\"sk-container-id-1\" class=\"sk-top-container\"><div class=\"sk-text-repr-fallback\"><pre>LatentDirichletAllocation(n_components=8, random_state=0)</pre><b>In a Jupyter environment, please rerun this cell to show the HTML representation or trust the notebook. <br />On GitHub, the HTML representation is unable to render, please try loading this page with nbviewer.org.</b></div><div class=\"sk-container\" hidden><div class=\"sk-item\"><div class=\"sk-estimator sk-toggleable\"><input class=\"sk-toggleable__control sk-hidden--visually\" id=\"sk-estimator-id-1\" type=\"checkbox\" checked><label for=\"sk-estimator-id-1\" class=\"sk-toggleable__label sk-toggleable__label-arrow\">LatentDirichletAllocation</label><div class=\"sk-toggleable__content\"><pre>LatentDirichletAllocation(n_components=8, random_state=0)</pre></div></div></div></div></div>"
            ]
          },
          "metadata": {},
          "execution_count": 2
        }
      ]
    },
    {
      "cell_type": "markdown",
      "source": [
        "- component 속성 값을 가지게 되는데, 이는 개별 토핃별로 각 word의 피처가 얼마나 많이 그 토픽에 할당 됐는지에 대한 수치를 갖고 있음 "
      ],
      "metadata": {
        "id": "EesIk4f46TZm"
      }
    },
    {
      "cell_type": "code",
      "source": [
        "print(lda.components_.shape)\n",
        "lda.components_"
      ],
      "metadata": {
        "id": "lywBddWMOUvP",
        "colab": {
          "base_uri": "https://localhost:8080/"
        },
        "outputId": "1fab9594-6436-4780-c2dd-b85846a81146"
      },
      "execution_count": 3,
      "outputs": [
        {
          "output_type": "stream",
          "name": "stdout",
          "text": [
            "(8, 1000)\n"
          ]
        },
        {
          "output_type": "execute_result",
          "data": {
            "text/plain": [
              "array([[3.60992018e+01, 1.35626798e+02, 2.15751867e+01, ...,\n",
              "        3.02911688e+01, 8.66830093e+01, 6.79285199e+01],\n",
              "       [1.25199920e-01, 1.44401815e+01, 1.25045596e-01, ...,\n",
              "        1.81506995e+02, 1.25097844e-01, 9.39593286e+01],\n",
              "       [3.34762663e+02, 1.25176265e-01, 1.46743299e+02, ...,\n",
              "        1.25105772e-01, 3.63689741e+01, 1.25025218e-01],\n",
              "       ...,\n",
              "       [3.60204965e+01, 2.08640688e+01, 4.29606813e+00, ...,\n",
              "        1.45056650e+01, 8.33854413e+00, 1.55690009e+01],\n",
              "       [1.25128711e-01, 1.25247756e-01, 1.25005143e-01, ...,\n",
              "        9.17278769e+01, 1.25177668e-01, 3.74575887e+01],\n",
              "       [5.49258690e+01, 4.47009532e+00, 9.88524814e+00, ...,\n",
              "        4.87048440e+01, 1.25034678e-01, 1.25074632e-01]])"
            ]
          },
          "metadata": {},
          "execution_count": 3
        }
      ]
    },
    {
      "cell_type": "markdown",
      "source": [
        "- 8개의 토픽별로 1000개의 워드 핓가 해당 토픽별로 연관도 값을 갖고 있음\n",
        "- ex. array의 0번째 행 10번째 열에 있는 값은 topic #0의 피처 벡터화된 행렬에서 10번째 칼럼에 해당하는 피처가 topic #0과 얼마나 연관되는지 수치 값을 갖고 있음"
      ],
      "metadata": {
        "id": "IPXyIM6x7RDQ"
      }
    },
    {
      "cell_type": "markdown",
      "source": [
        "# 토픽별로 연관도가 높은 순서로 워드를 나열"
      ],
      "metadata": {
        "id": "EeFfHmQh70_D"
      }
    },
    {
      "cell_type": "code",
      "execution_count": 4,
      "metadata": {
        "id": "pi14KDI2xxfR",
        "colab": {
          "base_uri": "https://localhost:8080/"
        },
        "outputId": "62e58bc8-e295-4914-ead3-e29a08a1272c"
      },
      "outputs": [
        {
          "output_type": "stream",
          "name": "stdout",
          "text": [
            "Topic # 0\n",
            "year 10 game medical health team 12 20 disease cancer 1993 games years patients good\n",
            "Topic # 1\n",
            "don just like know people said think time ve didn right going say ll way\n",
            "Topic # 2\n",
            "image file jpeg program gif images output format files color entry 00 use bit 03\n",
            "Topic # 3\n",
            "like know don think use does just good time book read information people used post\n",
            "Topic # 4\n",
            "armenian israel armenians jews turkish people israeli jewish government war dos dos turkey arab armenia 000\n",
            "Topic # 5\n",
            "edu com available graphics ftp data pub motif mail widget software mit information version sun\n",
            "Topic # 6\n",
            "god people jesus church believe christ does christian say think christians bible faith sin life\n",
            "Topic # 7\n",
            "use dos thanks windows using window does display help like problem server need know run\n"
          ]
        }
      ],
      "source": [
        "def display_topics(model, feature_names, no_top_words):\n",
        "  for topic_index, topic in enumerate(model.components_):\n",
        "    print('Topic #', topic_index)\n",
        "\n",
        "    #components_array에서 가장 값이 큰 순으로 정렬했을 때, 그 값의 array 인덱스를 반환\n",
        "    topic_word_indexes=topic.argsort()[::-1]\n",
        "    top_indexes=topic_word_indexes[:no_top_words]\n",
        "\n",
        "    #top_indexes 대상인 인덱스별로 feature_name에 해당하는 word feature 추출 후 join으로 concat\n",
        "    feature_concat=' '.join([feature_names[i] for i in top_indexes])\n",
        "    print(feature_concat)\n",
        "\n",
        "#CountVectorizer 객체 내의 전체 word의 명칭을 get_features_names()를 통해 추출\n",
        "feature_names=count_vect.get_feature_names_out()\n",
        "\n",
        "#토픽별 가장 연관도가 높은 word를 15개 추출\n",
        "display_topics(lda, feature_names, 15)"
      ]
    },
    {
      "cell_type": "markdown",
      "source": [
        "# 08 문서 유사도\n",
        "\n",
        "# 문서 유사도 측정 방법: 코사인 유사도\n",
        "- 문서와 문서간 유사도는 일반적으로 코사인 유사도를 사용\n",
        "- 벡터와 벡터간의 유사도를 비교할 때 벡터의 크기보다 벡터의 상호 방향성이 얼마나 유사한지에 기반함\n",
        "- 코사인 유사도: 두 벡터 사이의 사잇각을 구해서 얼마나 유사한지 수치로 적용한 것"
      ],
      "metadata": {
        "id": "RaI5zJqs8J41"
      }
    },
    {
      "cell_type": "markdown",
      "source": [
        "# 두 벡터 사잇각\n",
        "- 관련성이 없다: 90도\n",
        "- 유사한 벡터는 유사한 방향. 90도 이하의 각을 이룬다.\n",
        "- 반대관계인 경우 거의 180도에 가까운 각을 이루게 된다. \n",
        "- 두 벡터의 내적을 총 벡터 크기의 합으로 나눈 것: 내적 결과를 총 벡터 크기로 정규화한 것(L2.Norm)\n",
        "\n",
        "# 코사인 유사도가 문서의 유사도 비교에 가장 많이 사용되는 이유\n",
        "1. 문서를 피처 벡터화 하면 차원이 많은 희소 행렬이 되기 쉬움 -> 희소 행렬을 기반으로 다른 거리 기반의 지표를 사용하면 정확도가 떨어지기 쉬움\n",
        "2. 문서가 긴 경우에는 단어의 빈도수가 기준이 되면, 공정한 비교를 할 수 없음"
      ],
      "metadata": {
        "id": "5ufQfR-o9lln"
      }
    },
    {
      "cell_type": "markdown",
      "source": [
        "# 코사인 유사도를 구하는 함수 작성:  cos_similarity"
      ],
      "metadata": {
        "id": "lx0STjR8-YrJ"
      }
    },
    {
      "cell_type": "code",
      "source": [
        "import numpy as np\n",
        "\n",
        "def cos_similarity(v1, v2):\n",
        "  dot_product=np.dot(v1, v2)\n",
        "  l2_norm=(np.sqrt(sum(np.square(v1)))*np.sqrt(sum(np.square(v2))))\n",
        "  similarity=dot_product/l2_norm\n",
        "\n",
        "  return similarity"
      ],
      "metadata": {
        "id": "XnsZXF4y-eXB"
      },
      "execution_count": 5,
      "outputs": []
    },
    {
      "cell_type": "markdown",
      "source": [
        "# doc_list로 정의된 3개의 간단한 문서의 유사도를 비교\n",
        "1. 이 문서를 TF-IDF로 벡터화된 행렬로 변환"
      ],
      "metadata": {
        "id": "ZMBfNKv7_PTd"
      }
    },
    {
      "cell_type": "code",
      "source": [
        "from sklearn.feature_extraction.text import TfidfVectorizer\n",
        "\n",
        "doc_list=['if you take the blue pill, the story ends', 'if you take the red pill, you stay in Wonderland', 'if you take the red pill, I show you how deep the rabbit hole goes']\n",
        "\n",
        "tfidf_vect_simple=TfidfVectorizer()\n",
        "feature_vect_simple=tfidf_vect_simple.fit_transform(doc_list)\n",
        "print(feature_vect_simple.shape)"
      ],
      "metadata": {
        "colab": {
          "base_uri": "https://localhost:8080/"
        },
        "id": "xw-rwTTL-h9C",
        "outputId": "f52150ac-1039-4678-f829-1256d25b2b12"
      },
      "execution_count": 6,
      "outputs": [
        {
          "output_type": "stream",
          "name": "stdout",
          "text": [
            "(3, 18)\n"
          ]
        }
      ]
    },
    {
      "cell_type": "markdown",
      "source": [
        "2. 반환된 행렬은 희소행렬이므로, 앞서 작성한 cos유사도 함수의 인자인 array로 만들기 위해 밀집 행렬로 변환한 뒤 다시 각각을 배열로 반환"
      ],
      "metadata": {
        "id": "N6L9BVY3-iUm"
      }
    },
    {
      "cell_type": "code",
      "source": [
        "#tfidfvectorizer로 transform()한 결과는 희소 행렬이므로 밀집 행렬로 변환.\n",
        "feature_vect_dense=feature_vect_simple.todense()\n",
        "\n",
        "#첫번째 문장과 두번째 문장의 피처 벡터 추출\n",
        "vect1=np.array(feature_vect_dense[0]).reshape(-1,)\n",
        "vect2=np.array(feature_vect_dense[1]).reshape(-1,)\n",
        "\n",
        "#첫번째 문장과 두번째 문장의 피처 벡터로 두개 문장의 코사인 유사도 추출\n",
        "similarity_simple=cos_similarity(vect1, vect2)\n",
        "print('문장 1, 문장 2 코사인 유사도: {0:.3f}'.format(similarity_simple))"
      ],
      "metadata": {
        "colab": {
          "base_uri": "https://localhost:8080/"
        },
        "id": "DYegU_9U-ii6",
        "outputId": "a88adfe3-05b8-4e83-d433-fef3db969d5a"
      },
      "execution_count": 7,
      "outputs": [
        {
          "output_type": "stream",
          "name": "stdout",
          "text": [
            "문장 1, 문장 2 코사인 유사도: 0.402\n"
          ]
        }
      ]
    },
    {
      "cell_type": "markdown",
      "source": [
        "# 첫번째 문장과 세번째 문장, 두번째 문장과 세번째 문장의 유사도도 측정"
      ],
      "metadata": {
        "id": "R_ef_xAm_xSN"
      }
    },
    {
      "cell_type": "code",
      "source": [
        "vect1=np.array(feature_vect_dense[0]).reshape(-1,)\n",
        "vect3=np.array(feature_vect_dense[2]).reshape(-1,)\n",
        "similarity_simple=cos_similarity(vect1, vect3)\n",
        "print('문장 1, 문장 3 코사인 유사도: {0:.3f}'.format(similarity_simple))\n",
        "\n",
        "vect2=np.array(feature_vect_dense[1]).reshape(-1,)\n",
        "vect3=np.array(feature_vect_dense[2]).reshape(-1,)\n",
        "similarity_simple=cos_similarity(vect2, vect3)\n",
        "print('문장 2, 문장 3 코사인 유사도: {0:.3f}'.format(similarity_simple))"
      ],
      "metadata": {
        "colab": {
          "base_uri": "https://localhost:8080/"
        },
        "id": "eMO0HOSe-kcV",
        "outputId": "58bf544b-d2a9-476b-ca96-3508b0887fce"
      },
      "execution_count": 8,
      "outputs": [
        {
          "output_type": "stream",
          "name": "stdout",
          "text": [
            "문장 1, 문장 3 코사인 유사도: 0.404\n",
            "문장 2, 문장 3 코사인 유사도: 0.456\n"
          ]
        }
      ]
    },
    {
      "cell_type": "markdown",
      "source": [
        "# sklearn.metrics.pairwise.cosine_similarity\n",
        "- 사이킷런은 코사인 유사도를 측정하기 위해 sklearn.metrics.pairwise.cosine_similarity API를 제공 -> 이를 이용해 같은 문서의 유사도를 측정\n",
        "- cosine_similarity는 희소 행렬, 밀집 행렬 모두가 가능하고 행렬 또는 배열도 모두 가능하므로 앞처럼 변환할 필요는 없다."
      ],
      "metadata": {
        "id": "lgxotIIg-lyz"
      }
    },
    {
      "cell_type": "code",
      "source": [
        "from sklearn.metrics.pairwise import cosine_similarity\n",
        "\n",
        "similarity_simple_pair=cosine_similarity(feature_vect_simple[0], feature_vect_simple) #앞이 기준(첫번째 문서 자신에 대한 유사도), 뒤가 비교\n",
        "print(similarity_simple_pair)"
      ],
      "metadata": {
        "colab": {
          "base_uri": "https://localhost:8080/"
        },
        "id": "QXH8mRjG-nNy",
        "outputId": "839ad556-3539-4fe2-f79c-6f3714b74ae6"
      },
      "execution_count": 9,
      "outputs": [
        {
          "output_type": "stream",
          "name": "stdout",
          "text": [
            "[[1.         0.40207758 0.40425045]]\n"
          ]
        }
      ]
    },
    {
      "cell_type": "markdown",
      "source": [
        "# 모든 개별 문서에 쌍으로 코사인 유사도 값 계산\n",
        "- 일종의 코사인 유사도 행렬을 반환함"
      ],
      "metadata": {
        "id": "-MouYLt1-o11"
      }
    },
    {
      "cell_type": "code",
      "source": [
        "similarity_simple_pair=cosine_similarity(feature_vect_simple, feature_vect_simple)\n",
        "print(similarity_simple_pair)\n",
        "print('shape:', similarity_simple_pair.shape)"
      ],
      "metadata": {
        "colab": {
          "base_uri": "https://localhost:8080/"
        },
        "id": "odlLS9QL-rmE",
        "outputId": "ecf07b82-08cf-425b-91a0-d9c58ce95d82"
      },
      "execution_count": 11,
      "outputs": [
        {
          "output_type": "stream",
          "name": "stdout",
          "text": [
            "[[1.         0.40207758 0.40425045]\n",
            " [0.40207758 1.         0.45647296]\n",
            " [0.40425045 0.45647296 1.        ]]\n",
            "shape: (3, 3)\n"
          ]
        }
      ]
    },
    {
      "cell_type": "markdown",
      "source": [
        "# Opinion Review 데이터 세트를 이용한 문서 유사도 측정"
      ],
      "metadata": {
        "id": "J1DMh4Se-sfz"
      }
    },
    {
      "cell_type": "code",
      "source": [
        "from nltk.stem import WordNetLemmatizer\n",
        "import nltk\n",
        "import string\n",
        "\n",
        "# 단어 원형 추출 함수\n",
        "lemmar = WordNetLemmatizer()\n",
        "def LemTokens(tokens):\n",
        "    return [lemmar.lemmatize(token) for token in tokens]\n",
        "\n",
        "# 특수 문자 사전 생성: {33: None ...}\n",
        "# ord(): 아스키 코드 생성\n",
        "remove_punct_dict = dict((ord(punct), None) for punct in string.punctuation)\n",
        "\n",
        "# 특수 문자 제거 및 단어 원형 추출\n",
        "def LemNormalize(text):\n",
        "    # 텍스트 소문자 변경 후 특수 문자 제거\n",
        "    text_new = text.lower().translate(remove_punct_dict)\n",
        "    \n",
        "    # 단어 토큰화\n",
        "    word_tokens = nltk.word_tokenize(text_new)\n",
        "    \n",
        "    # 단어 원형 추출\n",
        "    return LemTokens(word_tokens)"
      ],
      "metadata": {
        "id": "rhfTgBZ4-vDQ"
      },
      "execution_count": 12,
      "outputs": []
    },
    {
      "cell_type": "code",
      "source": [
        "from google.colab import drive\n",
        "drive.mount('/content/drive')\n",
        "\n",
        "import os\n",
        "os.chdir(\"/content/drive/MyDrive/ESAA/2023-1/필사/data/topics/\") # working directory를 설정함."
      ],
      "metadata": {
        "colab": {
          "base_uri": "https://localhost:8080/"
        },
        "id": "Hm6w4llbA4BR",
        "outputId": "befc6cd2-a992-423c-d992-cca6d6cba9ae"
      },
      "execution_count": 21,
      "outputs": [
        {
          "output_type": "stream",
          "name": "stdout",
          "text": [
            "Drive already mounted at /content/drive; to attempt to forcibly remount, call drive.mount(\"/content/drive\", force_remount=True).\n"
          ]
        }
      ]
    },
    {
      "cell_type": "code",
      "source": [
        "import pandas as pd\n",
        "import glob\n",
        "from sklearn.feature_extraction.text import TfidfVectorizer\n",
        "from sklearn.cluster import KMeans\n",
        "\n",
        "all_files = glob.glob(os.path.join('*.data'))\n",
        "filename_list = []\n",
        "opinion_text = []\n",
        "\n",
        "for file_ in all_files:\n",
        "  df = pd.read_table(file_, index_col=None, header=0, encoding='latin1')\n",
        "  filename_ = file_.split('\\\\')[-1]\n",
        "  filename = filename_.split('.')[0]\n",
        "  filename_list.append(filename)\n",
        "  opinion_text.append(df.to_string())\n",
        "\n",
        "document_df = pd.DataFrame({'filename':filename_list, 'opinion_text':opinion_text})\n",
        "\n",
        "tfidf_vect = TfidfVectorizer(tokenizer=LemNormalize, stop_words='english',\n",
        "                             ngram_range=(1,2), min_df=0.05, max_df=0.85)\n",
        "feature_vect = tfidf_vect.fit_transform(document_df['opinion_text'])\n",
        "\n",
        "km_cluster = KMeans(n_clusters=3, max_iter=10000, random_state=0)\n",
        "km_cluster.fit(feature_vect)\n",
        "cluster_label = km_cluster.labels_\n",
        "cluster_centers = km_cluster.cluster_centers_\n",
        "document_df['cluster_label'] = cluster_label"
      ],
      "metadata": {
        "colab": {
          "base_uri": "https://localhost:8080/"
        },
        "id": "rYsec06i-wV1",
        "outputId": "d455d28d-c708-4156-fbba-a87fe3c5ee05"
      },
      "execution_count": 23,
      "outputs": [
        {
          "output_type": "stream",
          "name": "stderr",
          "text": [
            "/usr/local/lib/python3.10/dist-packages/sklearn/feature_extraction/text.py:528: UserWarning: The parameter 'token_pattern' will not be used since 'tokenizer' is not None'\n",
            "  warnings.warn(\n",
            "/usr/local/lib/python3.10/dist-packages/sklearn/feature_extraction/text.py:409: UserWarning: Your stop_words may be inconsistent with your preprocessing. Tokenizing the stop words generated tokens ['ha', 'le', 'u', 'wa'] not in stop_words.\n",
            "  warnings.warn(\n",
            "/usr/local/lib/python3.10/dist-packages/sklearn/cluster/_kmeans.py:870: FutureWarning: The default value of `n_init` will change from 10 to 'auto' in 1.4. Set the value of `n_init` explicitly to suppress the warning\n",
            "  warnings.warn(\n"
          ]
        }
      ]
    },
    {
      "cell_type": "markdown",
      "source": [
        "- 호텔을 주제로 군집화된 문서를 이용해 특정 문서와 다른 문서 간의 유사도를 알아보기\n",
        "- 문서를 피처 벡터화해 변환하면 문서 내 단어에 출현 빈도와 같은 값을 부여해 각 문서가 피처의 값으로 벡터화\n",
        "- 각 문서가 피처 벡터화된 데이터를 위 코사인 유사도 함수를 이용해 유사도 확인"
      ],
      "metadata": {
        "id": "3xXVJN9LDBbe"
      }
    },
    {
      "cell_type": "markdown",
      "source": [
        "- 호텔을 주제로 군집화 된 데이터를 추출\n",
        "- 이 데이터에 해당하는 TridfVectorizer의 데이터를 추출\n",
        "- 호텔 군집화 데이터를 기반으로 별도의 TF-IDF 벡터화를 수행하지 않고, 바로 위에서 만든 데이터에서 그대로 추출\n",
        "\n",
        "1. data frame 객체 변수인 docuent_df에서 호텔로 군집화된 문서의 인덱스 추출\n",
        "2. 이렇게 추출된 인덱스를 그대로 이용해 TfidfVectorizer 객체 변수인 feature_vect에서 호텔로 군집화된 문서의 피처 벡터를 추출합니다. \n"
      ],
      "metadata": {
        "id": "Q1bFtJu5DaAW"
      }
    },
    {
      "cell_type": "code",
      "source": [
        "from sklearn.metrics.pairwise import cosine_similarity\n",
        "\n",
        "#cluster_label=1인 데이터는 호텔로 군집화된 데이터. DF에서 해당 인덱스 추출\n",
        "hotel_indexes=document_df[document_df['cluster_label']==0].index\n",
        "print('호텔로 군집화 된 문서들의 df index:', hotel_indexes)\n",
        "\n",
        "#호텔로 군집화된 데이터 중 첫번째 문서를 추출해 파일명 표시.\n",
        "comparison_docname=document_df.iloc[hotel_indexes[0]]['filename']\n",
        "print('##### 비교 기준 문서명 ', comparison_docname, '와 타 문서 유사도 #####')\n",
        "\n",
        "'''document_df에서 추출한 index 객체를 feature_vect로 입력해 호텔 군집화된 feature_vect 추출\n",
        "이를 이용해 호텔로 군집화된 문서 중 첫번째 문서와 다른 문서 간의 코사인 유사도 측정.'''\n",
        "similarity_pair=cosine_similarity(feature_vect[hotel_indexes[0]], feature_vect[hotel_indexes])\n",
        "print(similarity_pair)"
      ],
      "metadata": {
        "colab": {
          "base_uri": "https://localhost:8080/"
        },
        "id": "FZ0AkaVm-yp9",
        "outputId": "a9d9997a-732c-4f9f-afff-427ea741400c"
      },
      "execution_count": 24,
      "outputs": [
        {
          "output_type": "stream",
          "name": "stdout",
          "text": [
            "호텔로 군집화 된 문서들의 df index: Int64Index([ 3,  9, 14, 17, 19, 22, 23, 24, 27, 28, 29, 30, 32, 33, 34, 35, 39,\n",
            "            40, 41, 42, 44, 45, 46, 50],\n",
            "           dtype='int64')\n",
            "##### 비교 기준 문서명  price_amazon_kindle 와 타 문서 유사도 #####\n",
            "[[1.         0.23899941 0.02840701 0.13430558 0.20094212 0.0400109\n",
            "  0.02528717 0.01796937 0.13749665 0.03489765 0.18926406 0.03093881\n",
            "  0.01762981 0.01645135 0.02340264 0.02876717 0.0304429  0.02671568\n",
            "  0.03807817 0.01538095 0.02457586 0.03019934 0.05230417 0.01208504]]\n"
          ]
        }
      ]
    },
    {
      "cell_type": "markdown",
      "source": [
        "- 단순히 숫자로만 표시해서는 직관적으로 문서가 어느 정도 유사도를 가지는지 이해하기 어려울 수 있으므로, 첫 번째 문서와 다른 문서간에 유사도가 높은 순으로 이를 정렬하고 시각화"
      ],
      "metadata": {
        "id": "jRZo9ho1-0BA"
      }
    },
    {
      "cell_type": "code",
      "source": [
        "import seaborn as sns\n",
        "import numpy as np\n",
        "import matplotlib.pyplot as plt\n",
        "%matplotlib inline\n",
        "\n",
        "#첫번째 문서와 타 문서 간 유사도가 큰 순으로 정렬한 인덱스를 추출하되 자기 자신 제외\n",
        "sorted_index=similarity_pair.argsort()[:, ::-1]\n",
        "sorted_index=sorted_index[:, 1:]\n",
        "\n",
        "#유사도 큰 순으로 hotel_index를 추출해 재정렬\n",
        "hotel_sorted_indexes=hotel_indexes[sorted_index.reshape(-1)]\n",
        "\n",
        "#유사도가 큰 순으로 유사도 값을 재정렬하되 자기 자신 제외\n",
        "hotel_1_sim_value=np.sort(similarity_pair.reshape(-1))[::-1]\n",
        "hotel_1_sim_value=hotel_1_sim_value[1:]\n",
        "\n",
        "#유사도가 큰 순으로 정렬된 인덱스와 유사도 값을 이용해 파일명과 유사도 값을 막대 그래프로 시각화\n",
        "hotel_1_sim_df=pd.DataFrame()\n",
        "hotel_1_sim_df['filename']=document_df.iloc[hotel_sorted_indexes]['filename']\n",
        "hotel_1_sim_df['similarity']=hotel_1_sim_value\n",
        "\n",
        "sns.barplot(x='similarity', y='filename', data=hotel_1_sim_df)\n",
        "plt.title(comparison_docname)"
      ],
      "metadata": {
        "colab": {
          "base_uri": "https://localhost:8080/",
          "height": 490
        },
        "id": "7fAZkYBE-0S9",
        "outputId": "5706f233-32d7-4a14-a56e-fb80f4251fe9"
      },
      "execution_count": 25,
      "outputs": [
        {
          "output_type": "execute_result",
          "data": {
            "text/plain": [
              "Text(0.5, 1.0, 'price_amazon_kindle')"
            ]
          },
          "metadata": {},
          "execution_count": 25
        },
        {
          "output_type": "display_data",
          "data": {
            "text/plain": [
              "<Figure size 640x480 with 1 Axes>"
            ],
            "image/png": "[encoded data removed]"
          },
          "metadata": {}
        }
      ]
    },
    {
      "cell_type": "markdown",
      "source": [
        "# 09. 한글 텍스트 처리 - 네이버 영화 평점 감성 분석"
      ],
      "metadata": {
        "id": "06_4ugrZ-2mo"
      }
    },
    {
      "cell_type": "markdown",
      "source": [
        "- 네이버 영화 평점 데이터를 기반으로 감성 분석을 적용\n",
        "- 먼저 한글 NLP 처리에서 주의할 점과 대표적ㅇ니 파이썬 기반의 한글 형태소 패키지인 KoNLPy를 소개"
      ],
      "metadata": {
        "id": "YnQPDZQi-5zF"
      }
    },
    {
      "cell_type": "markdown",
      "source": [
        "# 한글 NLP 처리의 어려움\n",
        "- 띄어쓰기와 다양한 조사\n"
      ],
      "metadata": {
        "id": "CC3YKa9w-6DU"
      }
    },
    {
      "cell_type": "markdown",
      "source": [
        "# 데이터 로딩"
      ],
      "metadata": {
        "id": "9UPsDPZbFLcM"
      }
    },
    {
      "cell_type": "code",
      "source": [
        "from google.colab import drive\n",
        "drive.mount('/content/drive')\n",
        "\n",
        "import os\n",
        "os.chdir(\"/content/drive/MyDrive/ESAA/2023-1/필사/data/rating/\") # working directory를 설정함."
      ],
      "metadata": {
        "colab": {
          "base_uri": "https://localhost:8080/"
        },
        "id": "zme7x3eAGMlu",
        "outputId": "dc439c45-ab9f-425b-9741-5d73a650eb49"
      },
      "execution_count": 26,
      "outputs": [
        {
          "output_type": "stream",
          "name": "stdout",
          "text": [
            "Drive already mounted at /content/drive; to attempt to forcibly remount, call drive.mount(\"/content/drive\", force_remount=True).\n"
          ]
        }
      ]
    },
    {
      "cell_type": "code",
      "source": [
        "import pandas as pd\n",
        "\n",
        "train_df=pd.read_csv('ratings_train.txt', sep='\\t')\n",
        "train_df.head(3)"
      ],
      "metadata": {
        "colab": {
          "base_uri": "https://localhost:8080/",
          "height": 143
        },
        "id": "iqSRGvru-6RB",
        "outputId": "475b659f-9d9c-4633-da59-af06fc47295a"
      },
      "execution_count": 27,
      "outputs": [
        {
          "output_type": "execute_result",
          "data": {
            "text/plain": [
              "         id                           document  label\n",
              "0   9976970                아 더빙.. 진짜 짜증나네요 목소리      0\n",
              "1   3819312  흠...포스터보고 초딩영화줄....오버연기조차 가볍지 않구나      1\n",
              "2  10265843                  너무재밓었다그래서보는것을추천한다      0"
            ],
            "text/html": [
              "\n",
              "  <div id=\"df-e89dd2df-b6ea-4ed1-ae28-8097edd66112\">\n",
              "    <div class=\"colab-df-container\">\n",
              "      <div>\n",
              "<style scoped>\n",
              "    .dataframe tbody tr th:only-of-type {\n",
              "        vertical-align: middle;\n",
              "    }\n",
              "\n",
              "    .dataframe tbody tr th {\n",
              "        vertical-align: top;\n",
              "    }\n",
              "\n",
              "    .dataframe thead th {\n",
              "        text-align: right;\n",
              "    }\n",
              "</style>\n",
              "<table border=\"1\" class=\"dataframe\">\n",
              "  <thead>\n",
              "    <tr style=\"text-align: right;\">\n",
              "      <th></th>\n",
              "      <th>id</th>\n",
              "      <th>document</th>\n",
              "      <th>label</th>\n",
              "    </tr>\n",
              "  </thead>\n",
              "  <tbody>\n",
              "    <tr>\n",
              "      <th>0</th>\n",
              "      <td>9976970</td>\n",
              "      <td>아 더빙.. 진짜 짜증나네요 목소리</td>\n",
              "      <td>0</td>\n",
              "    </tr>\n",
              "    <tr>\n",
              "      <th>1</th>\n",
              "      <td>3819312</td>\n",
              "      <td>흠...포스터보고 초딩영화줄....오버연기조차 가볍지 않구나</td>\n",
              "      <td>1</td>\n",
              "    </tr>\n",
              "    <tr>\n",
              "      <th>2</th>\n",
              "      <td>10265843</td>\n",
              "      <td>너무재밓었다그래서보는것을추천한다</td>\n",
              "      <td>0</td>\n",
              "    </tr>\n",
              "  </tbody>\n",
              "</table>\n",
              "</div>\n",
              "      <button class=\"colab-df-convert\" onclick=\"convertToInteractive('df-e89dd2df-b6ea-4ed1-ae28-8097edd66112')\"\n",
              "              title=\"Convert this dataframe to an interactive table.\"\n",
              "              style=\"display:none;\">\n",
              "        \n",
              "  <svg xmlns=\"http://www.w3.org/2000/svg\" height=\"24px\"viewBox=\"0 0 24 24\"\n",
              "       width=\"24px\">\n",
              "    <path d=\"M0 0h24v24H0V0z\" fill=\"none\"/>\n",
              "    <path d=\"M18.56 5.44l.94 2.06.94-2.06 2.06-.94-2.06-.94-.94-2.06-.94 2.06-2.06.94zm-11 1L8.5 8.5l.94-2.06 2.06-.94-2.06-.94L8.5 2.5l-.94 2.06-2.06.94zm10 10l.94 2.06.94-2.06 2.06-.94-2.06-.94-.94-2.06-.94 2.06-2.06.94z\"/><path d=\"M17.41 7.96l-1.37-1.37c-.4-.4-.92-.59-1.43-.59-.52 0-1.04.2-1.43.59L10.3 9.45l-7.72 7.72c-.78.78-.78 2.05 0 2.83L4 21.41c.39.39.9.59 1.41.59.51 0 1.02-.2 1.41-.59l7.78-7.78 2.81-2.81c.8-.78.8-2.07 0-2.86zM5.41 20L4 18.59l7.72-7.72 1.47 1.35L5.41 20z\"/>\n",
              "  </svg>\n",
              "      </button>\n",
              "      \n",
              "  <style>\n",
              "    .colab-df-container {\n",
              "      display:flex;\n",
              "      flex-wrap:wrap;\n",
              "      gap: 12px;\n",
              "    }\n",
              "\n",
              "    .colab-df-convert {\n",
              "      background-color: #E8F0FE;\n",
              "      border: none;\n",
              "      border-radius: 50%;\n",
              "      cursor: pointer;\n",
              "      display: none;\n",
              "      fill: #1967D2;\n",
              "      height: 32px;\n",
              "      padding: 0 0 0 0;\n",
              "      width: 32px;\n",
              "    }\n",
              "\n",
              "    .colab-df-convert:hover {\n",
              "      background-color: #E2EBFA;\n",
              "      box-shadow: 0px 1px 2px rgba(60, 64, 67, 0.3), 0px 1px 3px 1px rgba(60, 64, 67, 0.15);\n",
              "      fill: #174EA6;\n",
              "    }\n",
              "\n",
              "    [theme=dark] .colab-df-convert {\n",
              "      background-color: #3B4455;\n",
              "      fill: #D2E3FC;\n",
              "    }\n",
              "\n",
              "    [theme=dark] .colab-df-convert:hover {\n",
              "      background-color: #434B5C;\n",
              "      box-shadow: 0px 1px 3px 1px rgba(0, 0, 0, 0.15);\n",
              "      filter: drop-shadow(0px 1px 2px rgba(0, 0, 0, 0.3));\n",
              "      fill: #FFFFFF;\n",
              "    }\n",
              "  </style>\n",
              "\n",
              "      <script>\n",
              "        const buttonEl =\n",
              "          document.querySelector('#df-e89dd2df-b6ea-4ed1-ae28-8097edd66112 button.colab-df-convert');\n",
              "        buttonEl.style.display =\n",
              "          google.colab.kernel.accessAllowed ? 'block' : 'none';\n",
              "\n",
              "        async function convertToInteractive(key) {\n",
              "          const element = document.querySelector('#df-e89dd2df-b6ea-4ed1-ae28-8097edd66112');\n",
              "          const dataTable =\n",
              "            await google.colab.kernel.invokeFunction('convertToInteractive',\n",
              "                                                     [key], {});\n",
              "          if (!dataTable) return;\n",
              "\n",
              "          const docLinkHtml = 'Like what you see? Visit the ' +\n",
              "            '<a target=\"_blank\" href=https://colab.research.google.com/notebooks/data_table.ipynb>data table notebook</a>'\n",
              "            + ' to learn more about interactive tables.';\n",
              "          element.innerHTML = '';\n",
              "          dataTable['output_type'] = 'display_data';\n",
              "          await google.colab.output.renderOutput(dataTable, element);\n",
              "          const docLink = document.createElement('div');\n",
              "          docLink.innerHTML = docLinkHtml;\n",
              "          element.appendChild(docLink);\n",
              "        }\n",
              "      </script>\n",
              "    </div>\n",
              "  </div>\n",
              "  "
            ]
          },
          "metadata": {},
          "execution_count": 27
        }
      ]
    },
    {
      "cell_type": "markdown",
      "source": [
        "# 학습 데이터의 레이블 값 비율\n",
        "- 1이 긍정, 0이 부정"
      ],
      "metadata": {
        "id": "5szkW5XqGstn"
      }
    },
    {
      "cell_type": "code",
      "source": [
        "train_df['label'].value_counts()"
      ],
      "metadata": {
        "colab": {
          "base_uri": "https://localhost:8080/"
        },
        "id": "qunHC2bS-74h",
        "outputId": "d4bd38e0-05bd-48cc-a0f3-2dd3e17b4465"
      },
      "execution_count": 28,
      "outputs": [
        {
          "output_type": "execute_result",
          "data": {
            "text/plain": [
              "0    75173\n",
              "1    74827\n",
              "Name: label, dtype: int64"
            ]
          },
          "metadata": {},
          "execution_count": 28
        }
      ]
    },
    {
      "cell_type": "markdown",
      "source": [
        "- 균등한 분포\n",
        "- train의 경우 null 값이 일부 존재하므로, 이를 공백으로 변환\n",
        "- 문자가 아닌 숫자이 경우, 단어적인 의미로 부족ㅎ므로, 파이썬의 정규 표현식 모듈인 re를 이용해 이 역시 공백으로 변환\n",
        "- 테스트 데이터 세트의 경우 파일을 로딩하고 동일한 데이터 가공 수행"
      ],
      "metadata": {
        "id": "8lzoeCLcG7LT"
      }
    },
    {
      "cell_type": "code",
      "source": [
        "import re\n",
        "\n",
        "train_df=train_df.fillna(' ')\n",
        "#정규 표현식을 이용해 숫자를 공백으로 변경 (정규 표현식으로 \\d는 숫자를 의미)\n",
        "train_df['document']=train_df['document'].apply(lambda x: re.sub(r'\\d+', ' ', x))\n",
        "\n",
        "#테스트 데이터 세트를 로딩하고 동일하게 null 및 숫자를 공백으로 변환\n",
        "test_df=pd.read_csv('ratings_test.txt', sep='\\t')\n",
        "test_df=test_df.fillna(' ')\n",
        "test_df['document']=test_df['document'].apply(lambda x: re.sub(r'\\d+', ' ', x))\n",
        "\n",
        "#id 칼럼 삭제\n",
        "train_df.drop('id', axis=1, inplace=True)\n",
        "test_df.drop('id', axis=1, inplace=True)"
      ],
      "metadata": {
        "id": "bJfIlRez-9Gi"
      },
      "execution_count": 29,
      "outputs": []
    },
    {
      "cell_type": "markdown",
      "source": [
        "# TF-IDF 방식으로 단어를 벡터화\n",
        "- 각 문장을 한글 형태소 분석을 통해 형태소 단어로 토큰화\n",
        "- 한글 형태소 엔진은 SNS 분석에 적합한 트위터 클래스를 이용"
      ],
      "metadata": {
        "id": "bpwSRm2P-_FA"
      }
    },
    {
      "cell_type": "code",
      "source": [
        "pip install konlpy"
      ],
      "metadata": {
        "colab": {
          "base_uri": "https://localhost:8080/"
        },
        "id": "tfURljin-_bv",
        "outputId": "b5b740c2-b52c-45a3-e908-6b61e4748961"
      },
      "execution_count": 30,
      "outputs": [
        {
          "output_type": "stream",
          "name": "stdout",
          "text": [
            "Looking in indexes: https://pypi.org/simple, https://us-python.pkg.dev/colab-wheels/public/simple/\n",
            "Collecting konlpy\n",
            "  Downloading konlpy-0.6.0-py2.py3-none-any.whl (19.4 MB)\n",
            "\u001b[2K     \u001b[90m━━━━━━━━━━━━━━━━━━━━━━━━━━━━━━━━━━━━━━━━\u001b[0m \u001b[32m19.4/19.4 MB\u001b[0m \u001b[31m43.7 MB/s\u001b[0m eta \u001b[36m0:00:00\u001b[0m\n",
            "\u001b[?25hCollecting JPype1>=0.7.0\n",
            "  Downloading JPype1-1.4.1-cp310-cp310-manylinux_2_12_x86_64.manylinux2010_x86_64.whl (465 kB)\n",
            "\u001b[2K     \u001b[90m━━━━━━━━━━━━━━━━━━━━━━━━━━━━━━━━━━━━━━\u001b[0m \u001b[32m465.3/465.3 kB\u001b[0m \u001b[31m27.2 MB/s\u001b[0m eta \u001b[36m0:00:00\u001b[0m\n",
            "\u001b[?25hRequirement already satisfied: numpy>=1.6 in /usr/local/lib/python3.10/dist-packages (from konlpy) (1.22.4)\n",
            "Requirement already satisfied: lxml>=4.1.0 in /usr/local/lib/python3.10/dist-packages (from konlpy) (4.9.2)\n",
            "Requirement already satisfied: packaging in /usr/local/lib/python3.10/dist-packages (from JPype1>=0.7.0->konlpy) (23.1)\n",
            "Installing collected packages: JPype1, konlpy\n",
            "Successfully installed JPype1-1.4.1 konlpy-0.6.0\n"
          ]
        }
      ]
    },
    {
      "cell_type": "code",
      "source": [
        "from konlpy.tag import Okt\n",
        "\n",
        "# twitter = Twitter()\n",
        "okt = Okt()\n",
        "def tw_tokenizer(text):\n",
        "  #입력 인자로 들어온 텍스트를 형태소 단어로 토큰화해 리스트 형태로 반환\n",
        "  tokens_ko=okt.morphs(text)\n",
        "  return tokens_ko"
      ],
      "metadata": {
        "id": "3AoAQldS_AuH"
      },
      "execution_count": 31,
      "outputs": []
    },
    {
      "cell_type": "markdown",
      "source": [
        "# TfidfVectorizer를 이용해 TF-IDF 피처 모델 생성"
      ],
      "metadata": {
        "id": "A-0FoviqHhXC"
      }
    },
    {
      "cell_type": "code",
      "source": [
        "from sklearn.feature_extraction.text import TfidfVectorizer\n",
        "from sklearn.linear_model import LogisticRegression\n",
        "from sklearn.model_selection import GridSearchCV\n",
        "\n",
        "#twitter 객체의 morphs() 객체를 이용한 tokenizer 사용. ngram_range=(1,2)\n",
        "tfidf_vect=TfidfVectorizer(tokenizer=tw_tokenizer, ngram_range=(1,2), min_df=3, max_df=0.9)\n",
        "tfidf_vect.fit(train_df['document'])\n",
        "tfidf_matrix_train=tfidf_vect.transform(train_df['document'])"
      ],
      "metadata": {
        "colab": {
          "base_uri": "https://localhost:8080/"
        },
        "id": "2T97q5et_B7b",
        "outputId": "630d9f27-15a7-4ca4-99d4-3b9565a8dfe3"
      },
      "execution_count": 32,
      "outputs": [
        {
          "output_type": "stream",
          "name": "stderr",
          "text": [
            "/usr/local/lib/python3.10/dist-packages/sklearn/feature_extraction/text.py:528: UserWarning: The parameter 'token_pattern' will not be used since 'tokenizer' is not None'\n",
            "  warnings.warn(\n"
          ]
        }
      ]
    },
    {
      "cell_type": "markdown",
      "source": [
        "# 로지스틱 회귀를 이용해 분류 기반의 감성 분석 수행\n",
        "- 하이퍼 파라미터 C의 최적화를 위해 그리드 서치 이용"
      ],
      "metadata": {
        "id": "LmrU_ooh_EVT"
      }
    },
    {
      "cell_type": "code",
      "source": [
        "#로지스틱 회귀를 이용해 감성 분석 분류 수행\n",
        "lg_clf=LogisticRegression(random_state=0)\n",
        "\n",
        "#파라미터 C의 최적화를 위해 GridSearchCV 이용\n",
        "params={'C':[1, 3.5, 4.5, 5.5, 10]}\n",
        "\n",
        "grid_cv=GridSearchCV(lg_clf, param_grid=params, cv=3, scoring='accuracy', verbose=1)\n",
        "grid_cv.fit(tfidf_matrix_train, train_df['label'])\n",
        "print(grid_cv.best_params_, round(grid_cv.best_score_, 4))"
      ],
      "metadata": {
        "colab": {
          "base_uri": "https://localhost:8080/"
        },
        "id": "uXY4IkRC_EkE",
        "outputId": "e7bc571e-24cc-4f93-df4e-c367433ba523"
      },
      "execution_count": 33,
      "outputs": [
        {
          "output_type": "stream",
          "name": "stdout",
          "text": [
            "Fitting 3 folds for each of 5 candidates, totalling 15 fits\n"
          ]
        },
        {
          "output_type": "stream",
          "name": "stderr",
          "text": [
            "/usr/local/lib/python3.10/dist-packages/sklearn/linear_model/_logistic.py:458: ConvergenceWarning: lbfgs failed to converge (status=1):\n",
            "STOP: TOTAL NO. of ITERATIONS REACHED LIMIT.\n",
            "\n",
            "Increase the number of iterations (max_iter) or scale the data as shown in:\n",
            "    https://scikit-learn.org/stable/modules/preprocessing.html\n",
            "Please also refer to the documentation for alternative solver options:\n",
            "    https://scikit-learn.org/stable/modules/linear_model.html#logistic-regression\n",
            "  n_iter_i = _check_optimize_result(\n",
            "/usr/local/lib/python3.10/dist-packages/sklearn/linear_model/_logistic.py:458: ConvergenceWarning: lbfgs failed to converge (status=1):\n",
            "STOP: TOTAL NO. of ITERATIONS REACHED LIMIT.\n",
            "\n",
            "Increase the number of iterations (max_iter) or scale the data as shown in:\n",
            "    https://scikit-learn.org/stable/modules/preprocessing.html\n",
            "Please also refer to the documentation for alternative solver options:\n",
            "    https://scikit-learn.org/stable/modules/linear_model.html#logistic-regression\n",
            "  n_iter_i = _check_optimize_result(\n",
            "/usr/local/lib/python3.10/dist-packages/sklearn/linear_model/_logistic.py:458: ConvergenceWarning: lbfgs failed to converge (status=1):\n",
            "STOP: TOTAL NO. of ITERATIONS REACHED LIMIT.\n",
            "\n",
            "Increase the number of iterations (max_iter) or scale the data as shown in:\n",
            "    https://scikit-learn.org/stable/modules/preprocessing.html\n",
            "Please also refer to the documentation for alternative solver options:\n",
            "    https://scikit-learn.org/stable/modules/linear_model.html#logistic-regression\n",
            "  n_iter_i = _check_optimize_result(\n",
            "/usr/local/lib/python3.10/dist-packages/sklearn/linear_model/_logistic.py:458: ConvergenceWarning: lbfgs failed to converge (status=1):\n",
            "STOP: TOTAL NO. of ITERATIONS REACHED LIMIT.\n",
            "\n",
            "Increase the number of iterations (max_iter) or scale the data as shown in:\n",
            "    https://scikit-learn.org/stable/modules/preprocessing.html\n",
            "Please also refer to the documentation for alternative solver options:\n",
            "    https://scikit-learn.org/stable/modules/linear_model.html#logistic-regression\n",
            "  n_iter_i = _check_optimize_result(\n",
            "/usr/local/lib/python3.10/dist-packages/sklearn/linear_model/_logistic.py:458: ConvergenceWarning: lbfgs failed to converge (status=1):\n",
            "STOP: TOTAL NO. of ITERATIONS REACHED LIMIT.\n",
            "\n",
            "Increase the number of iterations (max_iter) or scale the data as shown in:\n",
            "    https://scikit-learn.org/stable/modules/preprocessing.html\n",
            "Please also refer to the documentation for alternative solver options:\n",
            "    https://scikit-learn.org/stable/modules/linear_model.html#logistic-regression\n",
            "  n_iter_i = _check_optimize_result(\n",
            "/usr/local/lib/python3.10/dist-packages/sklearn/linear_model/_logistic.py:458: ConvergenceWarning: lbfgs failed to converge (status=1):\n",
            "STOP: TOTAL NO. of ITERATIONS REACHED LIMIT.\n",
            "\n",
            "Increase the number of iterations (max_iter) or scale the data as shown in:\n",
            "    https://scikit-learn.org/stable/modules/preprocessing.html\n",
            "Please also refer to the documentation for alternative solver options:\n",
            "    https://scikit-learn.org/stable/modules/linear_model.html#logistic-regression\n",
            "  n_iter_i = _check_optimize_result(\n",
            "/usr/local/lib/python3.10/dist-packages/sklearn/linear_model/_logistic.py:458: ConvergenceWarning: lbfgs failed to converge (status=1):\n",
            "STOP: TOTAL NO. of ITERATIONS REACHED LIMIT.\n",
            "\n",
            "Increase the number of iterations (max_iter) or scale the data as shown in:\n",
            "    https://scikit-learn.org/stable/modules/preprocessing.html\n",
            "Please also refer to the documentation for alternative solver options:\n",
            "    https://scikit-learn.org/stable/modules/linear_model.html#logistic-regression\n",
            "  n_iter_i = _check_optimize_result(\n",
            "/usr/local/lib/python3.10/dist-packages/sklearn/linear_model/_logistic.py:458: ConvergenceWarning: lbfgs failed to converge (status=1):\n",
            "STOP: TOTAL NO. of ITERATIONS REACHED LIMIT.\n",
            "\n",
            "Increase the number of iterations (max_iter) or scale the data as shown in:\n",
            "    https://scikit-learn.org/stable/modules/preprocessing.html\n",
            "Please also refer to the documentation for alternative solver options:\n",
            "    https://scikit-learn.org/stable/modules/linear_model.html#logistic-regression\n",
            "  n_iter_i = _check_optimize_result(\n",
            "/usr/local/lib/python3.10/dist-packages/sklearn/linear_model/_logistic.py:458: ConvergenceWarning: lbfgs failed to converge (status=1):\n",
            "STOP: TOTAL NO. of ITERATIONS REACHED LIMIT.\n",
            "\n",
            "Increase the number of iterations (max_iter) or scale the data as shown in:\n",
            "    https://scikit-learn.org/stable/modules/preprocessing.html\n",
            "Please also refer to the documentation for alternative solver options:\n",
            "    https://scikit-learn.org/stable/modules/linear_model.html#logistic-regression\n",
            "  n_iter_i = _check_optimize_result(\n",
            "/usr/local/lib/python3.10/dist-packages/sklearn/linear_model/_logistic.py:458: ConvergenceWarning: lbfgs failed to converge (status=1):\n",
            "STOP: TOTAL NO. of ITERATIONS REACHED LIMIT.\n",
            "\n",
            "Increase the number of iterations (max_iter) or scale the data as shown in:\n",
            "    https://scikit-learn.org/stable/modules/preprocessing.html\n",
            "Please also refer to the documentation for alternative solver options:\n",
            "    https://scikit-learn.org/stable/modules/linear_model.html#logistic-regression\n",
            "  n_iter_i = _check_optimize_result(\n",
            "/usr/local/lib/python3.10/dist-packages/sklearn/linear_model/_logistic.py:458: ConvergenceWarning: lbfgs failed to converge (status=1):\n",
            "STOP: TOTAL NO. of ITERATIONS REACHED LIMIT.\n",
            "\n",
            "Increase the number of iterations (max_iter) or scale the data as shown in:\n",
            "    https://scikit-learn.org/stable/modules/preprocessing.html\n",
            "Please also refer to the documentation for alternative solver options:\n",
            "    https://scikit-learn.org/stable/modules/linear_model.html#logistic-regression\n",
            "  n_iter_i = _check_optimize_result(\n",
            "/usr/local/lib/python3.10/dist-packages/sklearn/linear_model/_logistic.py:458: ConvergenceWarning: lbfgs failed to converge (status=1):\n",
            "STOP: TOTAL NO. of ITERATIONS REACHED LIMIT.\n",
            "\n",
            "Increase the number of iterations (max_iter) or scale the data as shown in:\n",
            "    https://scikit-learn.org/stable/modules/preprocessing.html\n",
            "Please also refer to the documentation for alternative solver options:\n",
            "    https://scikit-learn.org/stable/modules/linear_model.html#logistic-regression\n",
            "  n_iter_i = _check_optimize_result(\n"
          ]
        },
        {
          "output_type": "stream",
          "name": "stdout",
          "text": [
            "{'C': 3.5} 0.8593\n"
          ]
        },
        {
          "output_type": "stream",
          "name": "stderr",
          "text": [
            "/usr/local/lib/python3.10/dist-packages/sklearn/linear_model/_logistic.py:458: ConvergenceWarning: lbfgs failed to converge (status=1):\n",
            "STOP: TOTAL NO. of ITERATIONS REACHED LIMIT.\n",
            "\n",
            "Increase the number of iterations (max_iter) or scale the data as shown in:\n",
            "    https://scikit-learn.org/stable/modules/preprocessing.html\n",
            "Please also refer to the documentation for alternative solver options:\n",
            "    https://scikit-learn.org/stable/modules/linear_model.html#logistic-regression\n",
            "  n_iter_i = _check_optimize_result(\n"
          ]
        }
      ]
    },
    {
      "cell_type": "markdown",
      "source": [
        "# 테스트 세트를 이용해 최종 감성 분석 예측 수행\n",
        "- 학습할 때 적용한 TfidfVectorizer를 그대로 사용해야 함 -> 그래야 학습시 설정된 TfidfVectorizer의 피처 개수와 테스트 데이터를 TfidfVectorizer로 변환할 피처 개수가 같아짐"
      ],
      "metadata": {
        "id": "Ymi0NejM_Fug"
      }
    },
    {
      "cell_type": "code",
      "source": [
        "from sklearn.metrics import accuracy_score\n",
        "\n",
        "#학습 데이터를 적용한 TfidfVectorizer를 이용해 테스트 데이터를 TF-IDF 값으로 피처 변환.\n",
        "tfidf_matrix_test=tfidf_vect.transform(test_df['document'])\n",
        "\n",
        "#classifier는 gridsearchcv에서 최적 파라미터로 학습된 calssifier를 그대로 이용\n",
        "best_estimator=grid_cv.best_estimator_\n",
        "preds=best_estimator.predict(tfidf_matrix_test)\n",
        "\n",
        "print('Logistic Regression 정확도:', accuracy_score(test_df['label'], preds))"
      ],
      "metadata": {
        "colab": {
          "base_uri": "https://localhost:8080/"
        },
        "id": "Cm1YiJjv_GBC",
        "outputId": "16b5ac92-a483-48e2-e622-46f483d92821"
      },
      "execution_count": 34,
      "outputs": [
        {
          "output_type": "stream",
          "name": "stdout",
          "text": [
            "Logistic Regression 정확도: 0.86186\n"
          ]
        }
      ]
    }
  ]
}