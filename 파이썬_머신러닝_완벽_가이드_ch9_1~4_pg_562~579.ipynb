{
  "nbformat": 4,
  "nbformat_minor": 0,
  "metadata": {
    "colab": {
      "provenance": [],
      "authorship_tag": "ABX9TyPqa2tEWg6hdhvzi3/skIAx",
      "include_colab_link": true
    },
    "kernelspec": {
      "name": "python3",
      "display_name": "Python 3"
    },
    "language_info": {
      "name": "python"
    }
  },
  "cells": [
    {
      "cell_type": "markdown",
      "metadata": {
        "id": "view-in-github",
        "colab_type": "text"
      },
      "source": [
        "<a href=\"https://colab.research.google.com/github/codyub/ESAA/blob/main/%ED%8C%8C%EC%9D%B4%EC%8D%AC_%EB%A8%B8%EC%8B%A0%EB%9F%AC%EB%8B%9D_%EC%99%84%EB%B2%BD_%EA%B0%80%EC%9D%B4%EB%93%9C_ch9_1~4_pg_562~579.ipynb\" target=\"_parent\"><img src=\"https://colab.research.google.com/assets/colab-badge.svg\" alt=\"Open In Colab\"/></a>"
      ]
    },
    {
      "cell_type": "markdown",
      "source": [
        "# 09 추천 시스템"
      ],
      "metadata": {
        "id": "PoyH3sS_3qAE"
      }
    },
    {
      "cell_type": "markdown",
      "source": [
        "# 01 추천시스템의 개요와 배경\n",
        "\n",
        "# 추천 시스테의 개요\n",
        "- 다음과 같은 데이터가 추천 시스템을 구성하는 데 사용될 수 있다.\n",
        "1. 사용자가 어떤 상품을 구매했는가?\n",
        "2. 사용자가 어떤 상품을 둘러보거나 장바구니에 넣었는가?\n",
        "3. 사용자가 평가한 영화 평점은? 제품 평가는?\n",
        "4. 사용자가 스스로 작성한 자신의 취향은?\n",
        "5. 사용자가 무엇을 클릭했는가?\n",
        "\n",
        "# 추천 시스템의 유형\n",
        "- 콘텐츠 기반 필터링\n",
        "- 협업 필터링 (최근접 이웃, 잠재요인)\n",
        "\n",
        "# 02 콘텐츠 기반 필터링 추천 시스템\n",
        "- 상요자가 특정한 아이템을 매우 선호하는 경우, 그 아이템과 비슷한 콘텐츠를 가진 다른 아이템을 추천하는 방식\n",
        "\n",
        "# 03 최근접 이웃 협업 필터링\n",
        "- 협업 필터링: 사용자가 아이템에 매긴 평점 정보나 상품 구매 이력과 같은 사용자 행동 양식만을 기반으로 추천을 수행하는 것\n",
        "- 축적된 사용자 행동 데이터를 기반으로 사용자가 아직 평가하지 않은 아이템을 예측평가하는 것 \n",
        "- 행: 개별 사용자\n",
        "- 열: 개별 아이템\n",
        "- 일반적으로 다차원 행렬이며, 사용자가 아이템에 대한 평점을 매기는 경우가 많지 않기 때문에, 희소 행렬 특성을 갖고 있다. \n",
        "- 최근접 이웃 협업 필터링 = 메모리 협업 필터링: 1. 사용자 기반(당신과 비슷한 고객들이 다음 상품도 구매) 2. 아이템 기반(이 상품을 선택한 다른 고객들은 다음 상품도 구매, 행이 개별 아이템, 열이 개별 사용자)\n",
        "\n",
        "# 04 잠재 요인 협업 필터링\n",
        "- 사용자-아이템 평좀 매트릭스 속에 숨어 있는 잠재 요인을 추출해 추천 예측을 할 수 있게 하는 기법\n",
        "- 대규모 다차원 행렬을 SVD와 같은 차원 감소 기법으로 분해하는 과정에서 잠재 요인을 추출 = 행렬 분해\n",
        "- 잠재요인을 기반으로 다차원 희소 행렬(사용자-아이템 행렬 데이터)를 저차원 밀집 행렬(사용자-잠재요인 행렬)과 아이템-잠재요인 행렬의 전치 행렬로 분해할 수 있고, 이 분해된 두 행렬의 내적을 통해 새로운 예측 사용자-아이템 평점 행렬 데이터를 만들어서 사용자가 아직 평점을 부여하지 않는 아이템에 대한 예측 평점을 생성하는 것]\n",
        "\n"
      ],
      "metadata": {
        "id": "uwcb9JMR3sdE"
      }
    },
    {
      "cell_type": "markdown",
      "source": [
        "# 행렬 분해의 이해\n",
        "- 행렬 분해는 다차원의 매트릭스를 저차원 매트릭스로 분해하는 기법으로 대표적으로 SVD, NMF 등이 있다. \n",
        "-R(M*N): M개의 사용자 행과 N개의 아이템 열을 가진 행렬\n",
        "- R의 행렬 분해: 사용자-K차원 잠재요인 행렬(P(MxK)) @ K차원 잠재요인-아이템 행렬(Q.T(KxN)) 으로 분해 (단, Q는 NxK차원 아이템-잠재요인 행렬)\n",
        "- 널값을 많이 갖고 있는 R 행렬을 밀집 행렬로 분해 가능\n",
        "- 사용자가 평가하지 않은 아이템에 대한 평점도 잠재요인으로 분해된 P 행렬과 Q 행렬을 이용해 예측 가능\n",
        "- 사실 SVD는 널 값이 없는 행렬만 적용이 가능하므로, 위 같은 경우 일반적인 SVD로 분해할 수는 없다. -> 확률적 경사하강법 이용한 행렬 분해에 대해 알아보기\n"
      ],
      "metadata": {
        "id": "gz9UCjRPWhUM"
      }
    },
    {
      "cell_type": "markdown",
      "source": [
        "# 확률적 경사 하강법을 이용한 행렬 분해\n",
        ": P와 Q행렬로 계산된 예측 R 행렬 값이 실제 R 행렬 값과 최소의 오류를 가질 수 있도록 반복적인 비용 함수 최적화를 통해 P와 Q를 유추해냄\n",
        "\n",
        "1. P와 Q를 임의의 값을 가진 행렬로 설정\n",
        "2. P와 Q.T 값을 곱해서 예측 R 행렬을 계산하고 예측 R행렬과 실제 R행렬에 해당하는 오류 값을 계산\n",
        "3. 이 오류값을 최소화 할 수 있도록 P와 Q 행렬을 적절한 값으로 각각 업데이트: L2 규제 사용(최소화 방향성을 갖게 함)\n",
        "4. 만족할만한 오류 값을 가질 때까지 2,3번 작업을 반복하면서 P와 Q값을 업데이트해 근사화한다. \n",
        "\n",
        "- 앞서 경사하강법의 핵심 로직: 비용함수를 최소화 하는 방향성을 갖고 회귀계수의 업데이트 값을 구하고 이 업데이트 값을 회귀계수에 반복적으로 적용하는 것"
      ],
      "metadata": {
        "id": "FB-f0RHy8otd"
      }
    },
    {
      "cell_type": "code",
      "execution_count": 1,
      "metadata": {
        "id": "meYn08SKm-WO"
      },
      "outputs": [],
      "source": [
        "import numpy as np\n",
        "\n",
        "#원본 행렬 R 생성, 분해 행렬 P와 Q 초기화, 잠재요인 차원 K는 3으로 설정.\n",
        "R=np.array([[4, np.NaN, np.NaN, 2, np.NaN],\n",
        "            [np.NaN, 5, np.NaN, 3, 1],\n",
        "            [np.NaN, np.NaN, 3, 4, 4],\n",
        "            [5,2,1,2,np.NaN]])\n",
        "num_users, num_items=R.shape\n",
        "K=3 # 잠재 요인의 차원(우리가 정하는 것임)\n",
        "\n",
        "#P와 Q의 행렬 크기를 지정하고 정규 분포를 가진 임의의 값으로 입력\n",
        "np.random.seed(1)\n",
        "P=np.random.normal(scale=1./K, size=(num_users, K))\n",
        "Q=np.random.normal(scale=1./K, size=(num_items, K))"
      ]
    },
    {
      "cell_type": "code",
      "source": [
        "P"
      ],
      "metadata": {
        "colab": {
          "base_uri": "https://localhost:8080/"
        },
        "id": "Am1mBVULZpIQ",
        "outputId": "f309675f-53ca-46a6-c1c7-504ab8aceb65"
      },
      "execution_count": 2,
      "outputs": [
        {
          "output_type": "execute_result",
          "data": {
            "text/plain": [
              "array([[ 0.54144845, -0.2039188 , -0.17605725],\n",
              "       [-0.35765621,  0.28846921, -0.76717957],\n",
              "       [ 0.58160392, -0.25373563,  0.10634637],\n",
              "       [-0.08312346,  0.48736931, -0.68671357]])"
            ]
          },
          "metadata": {},
          "execution_count": 2
        }
      ]
    },
    {
      "cell_type": "markdown",
      "source": [
        "# 실제 R 행렬과 예측 행렬의 오차를 구하는 get_rmse()함수\n",
        "- 실제 R행렬의 null이 아닌 행렬 값의 위치 인덱스를 추출해 이 인덱스에 있는 실제 R 행렬 값과 분해된 P, Q를 이용해 다시 조합된 예측 행렬 값의 RMSE 값을 반환한다. "
      ],
      "metadata": {
        "id": "xSVr4zEP8tCN"
      }
    },
    {
      "cell_type": "code",
      "source": [
        "from sklearn.metrics import mean_squared_error\n",
        "\n",
        "def get_rmse(R, P, Q, non_zeros):\n",
        "  error=0\n",
        "  #두개의 분해된 행렬 P와 Q.T의 내적으로 예측 R 행렬 생성\n",
        "  full_pred_matrix=np.dot(P, Q.T)\n",
        "\n",
        "  #실제 R 행렬에서 널이 아닌 값의 위치 인덱스를 추출해 실제 R 행렬롸 예측 행렬의 RMSE 추출\n",
        "  x_non_zero_ind=[non_zero[0] for non_zero in non_zeros]\n",
        "  y_non_zero_ind=[non_zero[1] for non_zero in non_zeros]\n",
        "  R_non_zeros=R[x_non_zero_ind, y_non_zero_ind] # non zero인 인덱스로 값을 뽑아서 할당\n",
        "  full_pred_matrix_non_zeros=full_pred_matrix[x_non_zero_ind, y_non_zero_ind] # P@Q.T의 동일한 인데그 값을 뽑아서 할당\n",
        "  mse=mean_squared_error(R_non_zeros, full_pred_matrix_non_zeros) # 위 둘의 MSE를 구함\n",
        "  rmse=np.sqrt(mse)\n",
        "\n",
        "  return rmse"
      ],
      "metadata": {
        "id": "aZlHd4rJ8s01"
      },
      "execution_count": 3,
      "outputs": []
    },
    {
      "cell_type": "markdown",
      "source": [
        "# SGD 기반의 행렬 분해\n",
        "1. R의 null값을 제외한 데이터의 행렬 인덱스 추출\n"
      ],
      "metadata": {
        "id": "cNaYASTD8vDi"
      }
    },
    {
      "cell_type": "code",
      "source": [
        "#R>0인 행과 열의 위치, 값을 non_zeros 리스트에 저장\n",
        "non_zeros=[ (i, j, R[i, j]) for i in range(num_users) for j in range(num_items) if R[i, j]>0]\n",
        "steps=1000\n",
        "learning_rate=0.01\n",
        "r_lambda=0.01\n",
        "\n",
        "#SGD 기법으로 P와 Q 매트릭스를 계속 업데이트\n",
        "for step in range(steps):\n",
        "  for i, j, r in non_zeros:\n",
        "    #실제 값과 예측 값의 차이인 오류 값 구함\n",
        "    eij=r-np.dot(P[i, :], Q[j, :].T)\n",
        "    #Regularization을 반영한 SGD 업데이트 공식 적용\n",
        "    P[i, :]=P[i, :]+learning_rate*(eij*Q[j, :]-r_lambda*P[i, :])\n",
        "    Q[j, :]=Q[j, :]+learning_rate*(eij*P[i, :]-r_lambda*Q[j, :])\n",
        "  rmse=get_rmse(R, P, Q, non_zeros)\n",
        "  if (step%50)==0:\n",
        "    print('### iteration step : ', step, 'rmse : ', rmse)"
      ],
      "metadata": {
        "id": "PKXRXDzH8vPc",
        "colab": {
          "base_uri": "https://localhost:8080/"
        },
        "outputId": "03c88fe2-be21-4672-8df1-e83d4301be89"
      },
      "execution_count": 4,
      "outputs": [
        {
          "output_type": "stream",
          "name": "stdout",
          "text": [
            "### iteration step :  0 rmse :  3.2388050277987723\n",
            "### iteration step :  50 rmse :  0.4876723101369648\n",
            "### iteration step :  100 rmse :  0.1564340384819247\n",
            "### iteration step :  150 rmse :  0.07455141311978046\n",
            "### iteration step :  200 rmse :  0.04325226798579314\n",
            "### iteration step :  250 rmse :  0.029248328780878973\n",
            "### iteration step :  300 rmse :  0.022621116143829466\n",
            "### iteration step :  350 rmse :  0.019493636196525135\n",
            "### iteration step :  400 rmse :  0.018022719092132704\n",
            "### iteration step :  450 rmse :  0.01731968595344266\n",
            "### iteration step :  500 rmse :  0.016973657887570753\n",
            "### iteration step :  550 rmse :  0.016796804595895633\n",
            "### iteration step :  600 rmse :  0.01670132290188466\n",
            "### iteration step :  650 rmse :  0.01664473691247669\n",
            "### iteration step :  700 rmse :  0.016605910068210026\n",
            "### iteration step :  750 rmse :  0.016574200475705\n",
            "### iteration step :  800 rmse :  0.01654431582921597\n",
            "### iteration step :  850 rmse :  0.01651375177473524\n",
            "### iteration step :  900 rmse :  0.01648146573819501\n",
            "### iteration step :  950 rmse :  0.016447171683479155\n"
          ]
        }
      ]
    },
    {
      "cell_type": "markdown",
      "source": [
        "2. 분해된 P와 Q 함수를 이용해 예측 행렬 만들어 출력"
      ],
      "metadata": {
        "id": "lTlxdGjy8xq5"
      }
    },
    {
      "cell_type": "code",
      "source": [
        "pred_matrix=np.dot(P, Q.T)\n",
        "print('예측 행렬:\\n', np.round(pred_matrix, 3))"
      ],
      "metadata": {
        "id": "evyMDhSE8x2_",
        "colab": {
          "base_uri": "https://localhost:8080/"
        },
        "outputId": "59290f25-1689-4ec3-af67-55f927a5e194"
      },
      "execution_count": 5,
      "outputs": [
        {
          "output_type": "stream",
          "name": "stdout",
          "text": [
            "예측 행렬:\n",
            " [[3.991 0.897 1.306 2.002 1.663]\n",
            " [6.696 4.978 0.979 2.981 1.003]\n",
            " [6.677 0.391 2.987 3.977 3.986]\n",
            " [4.968 2.005 1.006 2.017 1.14 ]]\n"
          ]
        }
      ]
    },
    {
      "cell_type": "markdown",
      "source": [
        "- null이 아니었던 값들은 큰 차이가 나지 않고, 널이였던 값들은 새로운 예측값으로 채워짐 "
      ],
      "metadata": {
        "id": "75vGe5VT8zKY"
      }
    }
  ]
}