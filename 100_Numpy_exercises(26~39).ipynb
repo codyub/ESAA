{
  "nbformat": 4,
  "nbformat_minor": 0,
  "metadata": {
    "colab": {
      "provenance": [],
      "collapsed_sections": [],
      "authorship_tag": "ABX9TyOYcVZt87VIwVb1OFwmZ901",
      "include_colab_link": true
    },
    "kernelspec": {
      "name": "python3",
      "display_name": "Python 3"
    },
    "language_info": {
      "name": "python"
    }
  },
  "cells": [
    {
      "cell_type": "markdown",
      "metadata": {
        "id": "view-in-github",
        "colab_type": "text"
      },
      "source": [
        "<a href=\"https://colab.research.google.com/github/codyub/ESAA_0905-Mon-_1/blob/main/100_Numpy_exercises(26~39).ipynb\" target=\"_parent\"><img src=\"https://colab.research.google.com/assets/colab-badge.svg\" alt=\"Open In Colab\"/></a>"
      ]
    },
    {
      "cell_type": "markdown",
      "metadata": {
        "id": "bf79c78b"
      },
      "source": [
        "# 100 numpy exercises\n",
        "\n",
        "This is a collection of exercises that have been collected in the numpy mailing list, on stack overflow\n",
        "and in the numpy documentation. The goal of this collection is to offer a quick reference for both old\n",
        "and new users but also to provide a set of exercises for those who teach.\n",
        "\n",
        "\n",
        "If you find an error or think you've a better way to solve some of them, feel\n",
        "free to open an issue at <https://github.com/rougier/numpy-100>."
      ]
    },
    {
      "cell_type": "markdown",
      "metadata": {
        "id": "8536e059"
      },
      "source": [
        "File automatically generated. See the documentation to update questions/answers/hints programmatically."
      ]
    },
    {
      "cell_type": "markdown",
      "metadata": {
        "id": "e16ac60b"
      },
      "source": [
        "Run the `initialize.py` module, then for each question you can query the\n",
        "answer or an hint with `hint(n)` or `answer(n)` for `n` question number."
      ]
    },
    {
      "cell_type": "code",
      "metadata": {
        "id": "a8453483",
        "colab": {
          "base_uri": "https://localhost:8080/"
        },
        "outputId": "2879315a-adc3-406a-a11c-8e68e5c30a39"
      },
      "source": [
        "%run initialise.py"
      ],
      "execution_count": 2,
      "outputs": [
        {
          "output_type": "stream",
          "name": "stderr",
          "text": [
            "ERROR:root:File `'initialise.py'` not found.\n"
          ]
        }
      ]
    },
    {
      "cell_type": "markdown",
      "metadata": {
        "id": "017db353"
      },
      "source": [
        "#### 1. Import the numpy package under the name `np` (★☆☆)"
      ]
    },
    {
      "cell_type": "code",
      "metadata": {
        "id": "68182a76"
      },
      "source": [
        "import numpy as np"
      ],
      "execution_count": 3,
      "outputs": []
    },
    {
      "cell_type": "markdown",
      "metadata": {
        "id": "f1ae2c2d"
      },
      "source": [
        "#### 26. How to find common values between two arrays? (★☆☆)\n",
        "```python\n",
        "Z1 = np.random.randint(0,10,10)\n",
        "Z2 = np.random.randint(0,10,10)\n",
        "```\n",
        "Hint : use `numpy.random.randint(start, end, size)`"
      ]
    },
    {
      "cell_type": "code",
      "metadata": {
        "id": "6801c73d"
      },
      "source": [
        "Z1 = np.random.randint(0,10,10)\n",
        "Z2 = np.random.randint(0,10,10)"
      ],
      "execution_count": 4,
      "outputs": []
    },
    {
      "cell_type": "code",
      "source": [
        "np.intersect1d(Z1,Z2)"
      ],
      "metadata": {
        "colab": {
          "base_uri": "https://localhost:8080/"
        },
        "id": "CCBnH5Tayh_f",
        "outputId": "6cd303c1-7097-4f69-83af-0cabab6d0d1b"
      },
      "execution_count": 5,
      "outputs": [
        {
          "output_type": "execute_result",
          "data": {
            "text/plain": [
              "array([4, 6, 9])"
            ]
          },
          "metadata": {},
          "execution_count": 5
        }
      ]
    },
    {
      "cell_type": "markdown",
      "metadata": {
        "id": "37bc0973"
      },
      "source": [
        "#### 27. Is the following expressions true? (★☆☆)\n",
        "```python\n",
        "np.sqrt(-1) == np.emath.sqrt(-1)\n",
        "```"
      ]
    },
    {
      "cell_type": "code",
      "source": [
        "np.sqrt(-1) == np.emath.sqrt(-1) # False"
      ],
      "metadata": {
        "colab": {
          "base_uri": "https://localhost:8080/"
        },
        "id": "NPiNMhqEy5uO",
        "outputId": "40613e79-6e5c-4692-cb43-41b3d214751c"
      },
      "execution_count": 6,
      "outputs": [
        {
          "output_type": "stream",
          "name": "stderr",
          "text": [
            "/usr/local/lib/python3.7/dist-packages/ipykernel_launcher.py:1: RuntimeWarning: invalid value encountered in sqrt\n",
            "  \"\"\"Entry point for launching an IPython kernel.\n"
          ]
        },
        {
          "output_type": "execute_result",
          "data": {
            "text/plain": [
              "False"
            ]
          },
          "metadata": {},
          "execution_count": 6
        }
      ]
    },
    {
      "cell_type": "code",
      "metadata": {
        "id": "c70cbabe",
        "colab": {
          "base_uri": "https://localhost:8080/"
        },
        "outputId": "4cb0f2d8-f5fa-4ef3-9c2f-086a5d0575f0"
      },
      "source": [
        "np.sqrt(-1) # nan"
      ],
      "execution_count": 7,
      "outputs": [
        {
          "output_type": "stream",
          "name": "stderr",
          "text": [
            "/usr/local/lib/python3.7/dist-packages/ipykernel_launcher.py:1: RuntimeWarning: invalid value encountered in sqrt\n",
            "  \"\"\"Entry point for launching an IPython kernel.\n"
          ]
        },
        {
          "output_type": "execute_result",
          "data": {
            "text/plain": [
              "nan"
            ]
          },
          "metadata": {},
          "execution_count": 7
        }
      ]
    },
    {
      "cell_type": "code",
      "source": [
        "np.emath.sqrt(-1) # 1j"
      ],
      "metadata": {
        "colab": {
          "base_uri": "https://localhost:8080/"
        },
        "id": "tmqZGPQ5y1yS",
        "outputId": "085d26ab-36df-414f-9436-b32cba546110"
      },
      "execution_count": 8,
      "outputs": [
        {
          "output_type": "execute_result",
          "data": {
            "text/plain": [
              "1j"
            ]
          },
          "metadata": {},
          "execution_count": 8
        }
      ]
    },
    {
      "cell_type": "markdown",
      "metadata": {
        "id": "42f8b2f9"
      },
      "source": [
        "#### 28. How to get all the dates corresponding to the month of July 2016? (★★☆)\n",
        "Hint : modify the code below\n",
        "```python\n",
        "Z = np.arange('start', 'end', dtype='datetime64[D]')\n",
        "```"
      ]
    },
    {
      "cell_type": "code",
      "source": [
        "Z = np.arange('2016-07', '2016-08', dtype='datetime64[D]')\n",
        "Z"
      ],
      "metadata": {
        "id": "3kkl01x3x0NF",
        "colab": {
          "base_uri": "https://localhost:8080/"
        },
        "outputId": "5abc2e3a-8c53-4db7-fdd2-68efabbb121d"
      },
      "execution_count": 9,
      "outputs": [
        {
          "output_type": "execute_result",
          "data": {
            "text/plain": [
              "array(['2016-07-01', '2016-07-02', '2016-07-03', '2016-07-04',\n",
              "       '2016-07-05', '2016-07-06', '2016-07-07', '2016-07-08',\n",
              "       '2016-07-09', '2016-07-10', '2016-07-11', '2016-07-12',\n",
              "       '2016-07-13', '2016-07-14', '2016-07-15', '2016-07-16',\n",
              "       '2016-07-17', '2016-07-18', '2016-07-19', '2016-07-20',\n",
              "       '2016-07-21', '2016-07-22', '2016-07-23', '2016-07-24',\n",
              "       '2016-07-25', '2016-07-26', '2016-07-27', '2016-07-28',\n",
              "       '2016-07-29', '2016-07-30', '2016-07-31'], dtype='datetime64[D]')"
            ]
          },
          "metadata": {},
          "execution_count": 9
        }
      ]
    },
    {
      "cell_type": "markdown",
      "metadata": {
        "id": "252c43e2"
      },
      "source": [
        "#### 29. How to compute ((A+B)*(-A/2)) in place (without copy)? (★★☆)\n",
        "Hint : use `numpy.add`, `numpy.divide`,`numpy.negative`, `numpy.multiply` and parameter `out` of the funtions"
      ]
    },
    {
      "cell_type": "code",
      "metadata": {
        "id": "f06ff615",
        "colab": {
          "base_uri": "https://localhost:8080/"
        },
        "outputId": "65d0fe9b-1103-4401-8dbf-c1250d1849ac"
      },
      "source": [
        "A = np.eye(3)\n",
        "B = np.random.random((3,3))\n",
        "\n",
        "# 이건 왜 안되는걸까?\n",
        "print((A+B)@(A*(-1/2)))\n",
        "\n",
        "np.add(A,B,out=B)\n",
        "np.divide(A,2,out=A)\n",
        "np.negative(A,out=A)\n",
        "np.multiply(A,B,out=A)"
      ],
      "execution_count": 10,
      "outputs": [
        {
          "output_type": "stream",
          "name": "stdout",
          "text": [
            "[[-0.50762633 -0.04409168 -0.33758368]\n",
            " [-0.36465402 -0.91334062 -0.43235133]\n",
            " [-0.01012562 -0.05214146 -0.89954753]]\n"
          ]
        },
        {
          "output_type": "execute_result",
          "data": {
            "text/plain": [
              "array([[-0.50762633, -0.        , -0.        ],\n",
              "       [-0.        , -0.91334062, -0.        ],\n",
              "       [-0.        , -0.        , -0.89954753]])"
            ]
          },
          "metadata": {},
          "execution_count": 10
        }
      ]
    },
    {
      "cell_type": "markdown",
      "metadata": {
        "id": "486df8ea"
      },
      "source": [
        "#### 30. Extract the integer part of a random array of positive numbers using 2 different methods (★★☆)\n",
        "Hint : `%`, `//`"
      ]
    },
    {
      "cell_type": "code",
      "metadata": {
        "id": "34b4fa08",
        "colab": {
          "base_uri": "https://localhost:8080/"
        },
        "outputId": "e48ee077-3c6b-459d-e5eb-dc214ffd2849"
      },
      "source": [
        "Z = np.random.uniform(0,10,10)\n",
        "print(Z)\n",
        "print(Z - Z%1)\n",
        "print(Z // 1)\n",
        "print(np.floor(Z))\n",
        "print(Z.astype(int))\n",
        "print(np.trunc(Z))"
      ],
      "execution_count": 11,
      "outputs": [
        {
          "output_type": "stream",
          "name": "stdout",
          "text": [
            "[4.67066236 5.6389192  7.22504763 3.90266294 7.55403802 5.17748632\n",
            " 2.55136193 2.44803922 1.27215386 1.43897653]\n",
            "[4. 5. 7. 3. 7. 5. 2. 2. 1. 1.]\n",
            "[4. 5. 7. 3. 7. 5. 2. 2. 1. 1.]\n",
            "[4. 5. 7. 3. 7. 5. 2. 2. 1. 1.]\n",
            "[4 5 7 3 7 5 2 2 1 1]\n",
            "[4. 5. 7. 3. 7. 5. 2. 2. 1. 1.]\n"
          ]
        }
      ]
    },
    {
      "cell_type": "markdown",
      "metadata": {
        "id": "649e89f9"
      },
      "source": [
        "#### 31. Create a 5x5 matrix with row values ranging from 0 to 4 (★★☆)"
      ]
    },
    {
      "cell_type": "code",
      "metadata": {
        "id": "663cc611",
        "colab": {
          "base_uri": "https://localhost:8080/"
        },
        "outputId": "3e657c09-e25e-4a0b-91f4-9d2dc26b6645"
      },
      "source": [
        "Z = np.zeros((5,5))\n",
        "Z += np.arange(5)\n",
        "print(Z)"
      ],
      "execution_count": 12,
      "outputs": [
        {
          "output_type": "stream",
          "name": "stdout",
          "text": [
            "[[0. 1. 2. 3. 4.]\n",
            " [0. 1. 2. 3. 4.]\n",
            " [0. 1. 2. 3. 4.]\n",
            " [0. 1. 2. 3. 4.]\n",
            " [0. 1. 2. 3. 4.]]\n"
          ]
        }
      ]
    },
    {
      "cell_type": "markdown",
      "metadata": {
        "id": "2d07be1c"
      },
      "source": [
        "#### 32. Create a random vector of size 10 and sort it (★★☆)"
      ]
    },
    {
      "cell_type": "code",
      "metadata": {
        "id": "4f7cb3ad",
        "colab": {
          "base_uri": "https://localhost:8080/"
        },
        "outputId": "e5701d4b-1af1-40fe-bf65-f0192717b1ab"
      },
      "source": [
        "a = np.random.randint(0,10,10)\n",
        "print(a)\n",
        "np.sort(a)"
      ],
      "execution_count": 13,
      "outputs": [
        {
          "output_type": "stream",
          "name": "stdout",
          "text": [
            "[7 8 1 2 4 1 6 9 2 9]\n"
          ]
        },
        {
          "output_type": "execute_result",
          "data": {
            "text/plain": [
              "array([1, 1, 2, 2, 4, 6, 7, 8, 9, 9])"
            ]
          },
          "metadata": {},
          "execution_count": 13
        }
      ]
    },
    {
      "cell_type": "markdown",
      "metadata": {
        "id": "fe043549"
      },
      "source": [
        "#### 33. Consider two random array A and B, check if they are equal (★★☆)\n",
        "```python\n",
        "A = np.random.randint(0,2,5)\n",
        "B = np.random.randint(0,2,5)\n",
        "```\n",
        "Hint : Use `numpy.array_equal()`"
      ]
    },
    {
      "cell_type": "code",
      "source": [
        "np.array_equal(A,B)"
      ],
      "metadata": {
        "colab": {
          "base_uri": "https://localhost:8080/"
        },
        "outputId": "8de1e9ff-1f98-491e-f8a4-ee7df5a1d800",
        "id": "zQVFLkElEbBV"
      },
      "execution_count": 14,
      "outputs": [
        {
          "output_type": "execute_result",
          "data": {
            "text/plain": [
              "False"
            ]
          },
          "metadata": {},
          "execution_count": 14
        }
      ]
    },
    {
      "cell_type": "markdown",
      "metadata": {
        "id": "M11vIh3oEbBW"
      },
      "source": [
        "#### 34. Consider a random 10x2 matrix representing cartesian coordinates, convert them to polar coordinates (★★☆)\n",
        "Hint 1 : Note that cartesian coodinate **(x, y)** can be represented as  polar coordinates **(distance from origin to (x,y), angle from the x-axis)**\n",
        "\n",
        "Hint 2 : Use `numpy.sqrt` and `numpy.arctan2`"
      ]
    },
    {
      "cell_type": "code",
      "metadata": {
        "id": "0BDVdWg5EbBW",
        "colab": {
          "base_uri": "https://localhost:8080/"
        },
        "outputId": "369bf0cd-f0b5-44e3-c042-f26a84c32e1e"
      },
      "source": [
        "z = np.random.random((10, 2))\n",
        "x, y = z[:,0],z[:,1] #x와 y에 각각 0열, 1열 할당\n",
        "r = np.sqrt(x**2+y**2) # 데카르트 좌표\n",
        "p = np.arctan2(y,x) # 극좌표\n",
        "print(r)\n",
        "print(p)"
      ],
      "execution_count": 15,
      "outputs": [
        {
          "output_type": "stream",
          "name": "stdout",
          "text": [
            "[0.55453386 0.76497959 0.50501163 0.75560856 0.80018087 0.85408964\n",
            " 0.614132   1.03389115 1.06277363 0.63703929]\n",
            "[1.40207594 0.42108021 1.02617793 0.41672002 1.25342003 1.30886929\n",
            " 0.51740025 1.19149574 0.87854138 0.80022366]\n"
          ]
        }
      ]
    },
    {
      "cell_type": "markdown",
      "metadata": {
        "id": "f8qgIezyEbBW"
      },
      "source": [
        "#### 35. Create random vector Z of size 10 and replace the maximum value by 0 (★★☆)\n",
        "Hint : We can see the index of maximum value using `Z.argmax()`"
      ]
    },
    {
      "cell_type": "code",
      "metadata": {
        "id": "mpg7_THpEbBX",
        "colab": {
          "base_uri": "https://localhost:8080/"
        },
        "outputId": "e6253a32-524a-4bba-9d37-88b5db3b9400"
      },
      "source": [
        "# 방법1\n",
        "z = np.random.random(10)\n",
        "print(z)\n",
        "z[z==np.max(z)]=0\n",
        "print(z)"
      ],
      "execution_count": 30,
      "outputs": [
        {
          "output_type": "stream",
          "name": "stdout",
          "text": [
            "[0.70093778 0.46073156 0.48318889 0.82654102 0.16205321 0.7746331\n",
            " 0.42878499 0.81267632 0.0697744  0.00111655]\n",
            "[0.70093778 0.46073156 0.48318889 0.         0.16205321 0.7746331\n",
            " 0.42878499 0.81267632 0.0697744  0.00111655]\n"
          ]
        }
      ]
    },
    {
      "cell_type": "code",
      "source": [
        "# 방법2\n",
        "z = np.random.random(10)\n",
        "z[z.argmax()] = 0\n",
        "z"
      ],
      "metadata": {
        "colab": {
          "base_uri": "https://localhost:8080/"
        },
        "id": "J2HPU_qwrrJt",
        "outputId": "f6c5d09b-10bc-4eb3-c5e3-403f35a166b3"
      },
      "execution_count": 29,
      "outputs": [
        {
          "output_type": "execute_result",
          "data": {
            "text/plain": [
              "array([0.4229988 , 0.4012926 , 0.48023029, 0.25158619, 0.24325548,\n",
              "       0.26514315, 0.33719411, 0.19068195, 0.        , 0.34782439])"
            ]
          },
          "metadata": {},
          "execution_count": 29
        }
      ]
    },
    {
      "cell_type": "markdown",
      "metadata": {
        "id": "Y3GlT4hw6PKA"
      },
      "source": [
        "#### 36. How to find the closest value (to a given scalar v) in a vector Z? (★★☆)\n",
        "```python\n",
        "Z = np.arange(100)\n",
        "v = np.random.uniform(0,100)\n",
        "```\n",
        "Hint : Coumpute the distances between the each elements of Z and the scalar v. After that, we can see the index of minimum value using `argmin()`.  "
      ]
    },
    {
      "cell_type": "code",
      "source": [
        "Z = np.arange(100)\n",
        "v = np.random.uniform(0,100) # float 이므로 그 값 자체로 for문을 돌릴 수는 없다. \n",
        "\n",
        "\n",
        "# 주어진 값에서 가장 가까운 값 찾기\n",
        "print(np.abs((Z-v)))\n",
        "i = np.abs((Z-v)).argmin()\n",
        "# 가장 가까운값의 인덱스와 그 값 출력\n",
        "print('인덱스:', i ,'/값:', Z[i])"
      ],
      "metadata": {
        "id": "Hh9JGOWz6PKA",
        "colab": {
          "base_uri": "https://localhost:8080/"
        },
        "outputId": "052e51a3-3181-460e-9709-e9fc27978b79"
      },
      "execution_count": 40,
      "outputs": [
        {
          "output_type": "stream",
          "name": "stdout",
          "text": [
            "[57.11858462 56.11858462 55.11858462 54.11858462 53.11858462 52.11858462\n",
            " 51.11858462 50.11858462 49.11858462 48.11858462 47.11858462 46.11858462\n",
            " 45.11858462 44.11858462 43.11858462 42.11858462 41.11858462 40.11858462\n",
            " 39.11858462 38.11858462 37.11858462 36.11858462 35.11858462 34.11858462\n",
            " 33.11858462 32.11858462 31.11858462 30.11858462 29.11858462 28.11858462\n",
            " 27.11858462 26.11858462 25.11858462 24.11858462 23.11858462 22.11858462\n",
            " 21.11858462 20.11858462 19.11858462 18.11858462 17.11858462 16.11858462\n",
            " 15.11858462 14.11858462 13.11858462 12.11858462 11.11858462 10.11858462\n",
            "  9.11858462  8.11858462  7.11858462  6.11858462  5.11858462  4.11858462\n",
            "  3.11858462  2.11858462  1.11858462  0.11858462  0.88141538  1.88141538\n",
            "  2.88141538  3.88141538  4.88141538  5.88141538  6.88141538  7.88141538\n",
            "  8.88141538  9.88141538 10.88141538 11.88141538 12.88141538 13.88141538\n",
            " 14.88141538 15.88141538 16.88141538 17.88141538 18.88141538 19.88141538\n",
            " 20.88141538 21.88141538 22.88141538 23.88141538 24.88141538 25.88141538\n",
            " 26.88141538 27.88141538 28.88141538 29.88141538 30.88141538 31.88141538\n",
            " 32.88141538 33.88141538 34.88141538 35.88141538 36.88141538 37.88141538\n",
            " 38.88141538 39.88141538 40.88141538 41.88141538]\n",
            "인덱스: 57 /값: 57\n"
          ]
        }
      ]
    },
    {
      "cell_type": "markdown",
      "metadata": {
        "id": "eFQ8bhxa6PKB"
      },
      "source": [
        "#### 37. What is the equivalent of enumerate for numpy arrays? (★★☆)\n",
        "Hint : Use `numpy.ndenumerate()`or `numpy.ndindex()`\n",
        "\n",
        "Example of the output :\n",
        "```python\n",
        "Z = np.arange(9).reshape(3,3)\n",
        "```\n",
        "```python\n",
        "# output\n",
        "(0, 0) 0\n",
        "(0, 1) 1\n",
        "(0, 2) 2\n",
        "(1, 0) 3\n",
        "(1, 1) 4\n",
        "(1, 2) 5\n",
        "(2, 0) 6\n",
        "(2, 1) 7\n",
        "(2, 2) 8\n",
        "```"
      ]
    },
    {
      "cell_type": "code",
      "metadata": {
        "id": "1Irx3bbi6PKB",
        "colab": {
          "base_uri": "https://localhost:8080/"
        },
        "outputId": "1102c8c0-f42c-4b3b-aa5d-ef17eda15e03"
      },
      "source": [
        "# Enumerate: 순서목록? 다차원 배열에서의 각 원소에 대한 인덱스 출력\n",
        "Z = np.arange(9).reshape(3,3)\n",
        "print(Z)\n",
        "for index, value in np.ndenumerate(Z):\n",
        "    print(index, value)\n",
        "\n",
        "print(Z)\n",
        "for index in np.ndindex(Z.shape):\n",
        "    print(index, Z[index])"
      ],
      "execution_count": 41,
      "outputs": [
        {
          "output_type": "stream",
          "name": "stdout",
          "text": [
            "[[0 1 2]\n",
            " [3 4 5]\n",
            " [6 7 8]]\n",
            "(0, 0) 0\n",
            "(0, 1) 1\n",
            "(0, 2) 2\n",
            "(1, 0) 3\n",
            "(1, 1) 4\n",
            "(1, 2) 5\n",
            "(2, 0) 6\n",
            "(2, 1) 7\n",
            "(2, 2) 8\n",
            "[[0 1 2]\n",
            " [3 4 5]\n",
            " [6 7 8]]\n",
            "(0, 0) 0\n",
            "(0, 1) 1\n",
            "(0, 2) 2\n",
            "(1, 0) 3\n",
            "(1, 1) 4\n",
            "(1, 2) 5\n",
            "(2, 0) 6\n",
            "(2, 1) 7\n",
            "(2, 2) 8\n"
          ]
        }
      ]
    },
    {
      "cell_type": "markdown",
      "metadata": {
        "id": "GdhfGwE46PKC"
      },
      "source": [
        "#### 38. How to randomly place p elements in a 2D array? (★★☆)\n",
        "Hint : modify the code below\n",
        "```python\n",
        "n = 'size of a 2D array'\n",
        "p = 'the number of elements that you want to place'\n",
        "Z = np.zeros((n,n))\n",
        "np.put(Z, np.random.choice(range(n*n), p, replace = False),'value that you want to place')\n",
        "print(Z)\n",
        "```"
      ]
    },
    {
      "cell_type": "code",
      "metadata": {
        "id": "T7YV2T0U6PKC",
        "colab": {
          "base_uri": "https://localhost:8080/"
        },
        "outputId": "77e4b25a-233f-41e9-8c63-3fe05c90f95b"
      },
      "source": [
        "n = 5\n",
        "p = 3\n",
        "Z = np.zeros((5,5))\n",
        "np.put(Z, np.random.choice(range(n*n), p, replace = False),4)\n",
        "print(Z)"
      ],
      "execution_count": 43,
      "outputs": [
        {
          "output_type": "stream",
          "name": "stdout",
          "text": [
            "[[0. 0. 4. 0. 4.]\n",
            " [0. 0. 0. 0. 0.]\n",
            " [0. 0. 0. 0. 0.]\n",
            " [0. 0. 0. 0. 0.]\n",
            " [4. 0. 0. 0. 0.]]\n"
          ]
        }
      ]
    },
    {
      "cell_type": "markdown",
      "metadata": {
        "id": "7J4LwMIo6PKD"
      },
      "source": [
        "#### 39. How to sort an array below by the nth column? (★★☆)\n",
        "```python\n",
        "Z = np.random.randint(0,10,(3,3))\n",
        "```"
      ]
    },
    {
      "cell_type": "code",
      "source": [
        "z = np.random.randint(0,10,(3,3))"
      ],
      "metadata": {
        "id": "AQVjWeIjveZ2"
      },
      "execution_count": 46,
      "outputs": []
    },
    {
      "cell_type": "code",
      "metadata": {
        "id": "b7hwc2aP6PKD",
        "colab": {
          "base_uri": "https://localhost:8080/"
        },
        "outputId": "5212df29-38f3-4830-ca24-bea9524ad7a4"
      },
      "source": [
        "# column 1\n",
        "print(z[z[:,0].argsort()])"
      ],
      "execution_count": 47,
      "outputs": [
        {
          "output_type": "stream",
          "name": "stdout",
          "text": [
            "[[1 2 8]\n",
            " [2 4 2]\n",
            " [6 5 1]]\n"
          ]
        }
      ]
    },
    {
      "cell_type": "code",
      "source": [
        "# column 2\n",
        "print(z[z[:,1].argsort()])"
      ],
      "metadata": {
        "id": "JpiC57cF6PKE",
        "colab": {
          "base_uri": "https://localhost:8080/"
        },
        "outputId": "e9785e96-5fc9-43a0-823a-f30fcc292d83"
      },
      "execution_count": 48,
      "outputs": [
        {
          "output_type": "stream",
          "name": "stdout",
          "text": [
            "[[1 2 8]\n",
            " [2 4 2]\n",
            " [6 5 1]]\n"
          ]
        }
      ]
    },
    {
      "cell_type": "code",
      "source": [
        "# column 3\n",
        "print(z[z[:,2].argsort()])"
      ],
      "metadata": {
        "id": "CVNb6L5T6PKF",
        "colab": {
          "base_uri": "https://localhost:8080/"
        },
        "outputId": "17a0089c-1860-4265-f8ca-48464cf0bb27"
      },
      "execution_count": 49,
      "outputs": [
        {
          "output_type": "stream",
          "name": "stdout",
          "text": [
            "[[6 5 1]\n",
            " [2 4 2]\n",
            " [1 2 8]]\n"
          ]
        }
      ]
    }
  ]
}