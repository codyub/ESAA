{
  "nbformat": 4,
  "nbformat_minor": 0,
  "metadata": {
    "colab": {
      "provenance": [],
      "include_colab_link": true
    },
    "kernelspec": {
      "name": "python3",
      "display_name": "Python 3"
    },
    "language_info": {
      "name": "python"
    }
  },
  "cells": [
    {
      "cell_type": "markdown",
      "metadata": {
        "id": "view-in-github",
        "colab_type": "text"
      },
      "source": [
        "<a href=\"https://colab.research.google.com/github/codyub/ESAA/blob/main/%EC%97%B0%EC%8A%B5%EB%AC%B8%EC%A0%9C_%EC%B0%A8%EC%9B%90%EC%B6%95%EC%86%8C.ipynb\" target=\"_parent\"><img src=\"https://colab.research.google.com/assets/colab-badge.svg\" alt=\"Open In Colab\"/></a>"
      ]
    },
    {
      "cell_type": "code",
      "metadata": {
        "id": "t-RMDKJB7CyJ"
      },
      "source": [
        "# 데이터 로드\n",
        "from sklearn.datasets import fetch_openml\n",
        "mnist=fetch_openml('mnist_784', version=1)"
      ],
      "execution_count": 38,
      "outputs": []
    },
    {
      "cell_type": "code",
      "metadata": {
        "id": "itFJcmUSkBrK",
        "colab": {
          "base_uri": "https://localhost:8080/"
        },
        "outputId": "79dbd1df-47d9-459c-e1c9-606cac20bf2c"
      },
      "source": [
        "# train, test split\n",
        "X_train = mnist['data'][:60000]\n",
        "y_train = mnist['target'][:60000]\n",
        "X_test = mnist['data'][60000:]\n",
        "y_test = mnist['target'][60000:]\n",
        "\n",
        "X_train.shape"
      ],
      "execution_count": 39,
      "outputs": [
        {
          "output_type": "execute_result",
          "data": {
            "text/plain": [
              "(60000, 784)"
            ]
          },
          "metadata": {},
          "execution_count": 39
        }
      ]
    },
    {
      "cell_type": "markdown",
      "metadata": {
        "id": "RbkbV_ZWkSPc"
      },
      "source": [
        "* 랜덤포레스트에 적용"
      ]
    },
    {
      "cell_type": "code",
      "metadata": {
        "id": "xmeHyXmKkLN1"
      },
      "source": [
        "# 랜덤포레스트에 적용 (n_estimators=10, random_state=42)\n",
        "from sklearn.ensemble import RandomForestClassifier\n",
        "from sklearn.model_selection import cross_val_score\n",
        "import numpy as np\n",
        "\n",
        "rcf = RandomForestClassifier(n_estimators=10, random_state=42)"
      ],
      "execution_count": 40,
      "outputs": []
    },
    {
      "cell_type": "code",
      "metadata": {
        "id": "WXjOor-jknmH",
        "colab": {
          "base_uri": "https://localhost:8080/"
        },
        "outputId": "e984fd0b-ab2f-4068-d645-d31f974ff2ba"
      },
      "source": [
        "# 정확도 결과\n",
        "scores=cross_val_score(rcf, X_train, y_train, scoring='accuracy', cv=3)\n",
        "scores1=cross_val_score(rcf, X_test, y_test, scoring='accuracy', cv=3)\n",
        "print('원본 데이터 교차 검증 개별 정확도:', scores)\n",
        "print('원본 데이터 평균 정확도:', np.mean(scores))\n",
        "print('원본 test 데이터 교차 검증 개별 정확도:', scores1)\n",
        "print('원본 test 데이터 평균 정확도:', np.mean(scores1))"
      ],
      "execution_count": 41,
      "outputs": [
        {
          "output_type": "stream",
          "name": "stdout",
          "text": [
            "원본 데이터 교차 검증 개별 정확도: [0.94095 0.9376  0.94055]\n",
            "원본 데이터 평균 정확도: 0.9396999999999999\n",
            "원본 test 데이터 교차 검증 개별 정확도: [0.86142771 0.89888989 0.91689169]\n",
            "원본 test 데이터 평균 정확도: 0.8924030975383083\n"
          ]
        }
      ]
    },
    {
      "cell_type": "markdown",
      "source": [
        "# 1. PCA"
      ],
      "metadata": {
        "id": "yetHtlIxcCcY"
      }
    },
    {
      "cell_type": "markdown",
      "metadata": {
        "id": "Lw4KuER0lAGA"
      },
      "source": [
        "* PCA로 변환한 데이터 세트에 랜덤 포레스트 적용"
      ]
    },
    {
      "cell_type": "code",
      "source": [
        "# PCA 라이브러리 불러오기\n",
        "from sklearn.decomposition import PCA"
      ],
      "metadata": {
        "id": "1BLMGOa2VQuj"
      },
      "execution_count": 42,
      "outputs": []
    },
    {
      "cell_type": "code",
      "metadata": {
        "id": "u_w8te9tlDsr",
        "colab": {
          "base_uri": "https://localhost:8080/"
        },
        "outputId": "99552bd3-a05d-4291-892d-fdaa173a45c5"
      },
      "source": [
        "# PCA 적용 95% : n_components=0.95\n",
        "pca = PCA(n_components=0.95)\n",
        "\n",
        "# fit과 transform 호출해 PCA 변환 데이터 반환\n",
        "pca.fit(X_train)\n",
        "minist_pca2=pca.transform(X_train)\n",
        "\n",
        "pca.fit(X_test)\n",
        "minist_pca3=pca.transform(X_test)\n",
        "\n",
        "print(minist_pca2.shape)\n",
        "print(minist_pca3.shape)"
      ],
      "execution_count": 43,
      "outputs": [
        {
          "output_type": "stream",
          "name": "stdout",
          "text": [
            "(60000, 154)\n",
            "(10000, 149)\n"
          ]
        }
      ]
    },
    {
      "cell_type": "code",
      "metadata": {
        "id": "aFezNneClV8u"
      },
      "source": [
        "# PCA 이후 랜덤포레스트 훈련\n",
        "rcf = RandomForestClassifier(n_estimators=10, random_state=42)"
      ],
      "execution_count": 44,
      "outputs": []
    },
    {
      "cell_type": "code",
      "metadata": {
        "id": "PrsoPgs-lzYj",
        "colab": {
          "base_uri": "https://localhost:8080/"
        },
        "outputId": "47f4bdd5-b9b8-4edb-9b73-a655b42d90b1"
      },
      "source": [
        "# 정확도 결과 (X_test도 PCA 적용해야합니다.)\n",
        "scores2=cross_val_score(rcf, minist_pca2, y_train, scoring='accuracy', cv=3)\n",
        "scores3=cross_val_score(rcf, minist_pca3, y_test, scoring='accuracy', cv=3)\n",
        "print('train 데이터 교차 검증 개별 정확도:', scores2)\n",
        "print('train 데이터 평균 정확도:', np.mean(scores2))\n",
        "print('test 데이터 교차 검증 개별 정확도:', scores3)\n",
        "print('test 데이터 평균 정확도:', np.mean(scores3))"
      ],
      "execution_count": 45,
      "outputs": [
        {
          "output_type": "stream",
          "name": "stdout",
          "text": [
            "train 데이터 교차 검증 개별 정확도: [0.87845 0.8719  0.88235]\n",
            "train 데이터 평균 정확도: 0.8775666666666666\n",
            "test 데이터 교차 검증 개별 정확도: [0.73515297 0.79657966 0.80108011]\n",
            "test 데이터 평균 정확도: 0.7776042451275721\n"
          ]
        }
      ]
    },
    {
      "cell_type": "markdown",
      "source": [
        "# 2. LDA"
      ],
      "metadata": {
        "id": "A0ZWH3uVb3zW"
      }
    },
    {
      "cell_type": "markdown",
      "source": [
        "- LDA로 변환한 데이터 세트에 랜덤 포레스트 적용"
      ],
      "metadata": {
        "id": "t-FBfbZ2b94z"
      }
    },
    {
      "cell_type": "code",
      "source": [
        "# LDA 라이브러리 불러오기\n",
        "from sklearn.discriminant_analysis import LinearDiscriminantAnalysis"
      ],
      "metadata": {
        "id": "WxQG2ep9VCo4"
      },
      "execution_count": 46,
      "outputs": []
    },
    {
      "cell_type": "code",
      "source": [
        "# LDA 적용 : n_components=5\n",
        "lda = LinearDiscriminantAnalysis(n_components=5)\n",
        "\n",
        "lda.fit(X_train, y_train)\n",
        "minist_lda1=lda.transform(X_train)\n",
        "\n",
        "lda.fit(X_test, y_test)\n",
        "minist_lda2=lda.transform(X_test)\n",
        "\n",
        "print(minist_lda1.shape)\n",
        "print(minist_lda2.shape)"
      ],
      "metadata": {
        "id": "SYvLRl5qYTsn",
        "colab": {
          "base_uri": "https://localhost:8080/"
        },
        "outputId": "b1a1a0ef-853e-4772-d991-bc1f20cba327"
      },
      "execution_count": 47,
      "outputs": [
        {
          "output_type": "stream",
          "name": "stdout",
          "text": [
            "(60000, 5)\n",
            "(10000, 5)\n"
          ]
        }
      ]
    },
    {
      "cell_type": "code",
      "source": [
        "# LDA 이후 랜덤포레스트 훈련\n",
        "rcf = RandomForestClassifier(n_estimators=10, random_state=42)"
      ],
      "metadata": {
        "id": "xggC9VrVZO3f"
      },
      "execution_count": 48,
      "outputs": []
    },
    {
      "cell_type": "code",
      "source": [
        "# 정확도 결과 (X_test도 LDA 적용해야합니다.)\n",
        "scores4=cross_val_score(rcf, minist_lda1, y_train, scoring='accuracy', cv=3)\n",
        "scores5=cross_val_score(rcf, minist_lda2, y_test, scoring='accuracy', cv=3)\n",
        "print('train 데이터 교차 검증 개별 정확도:', scores4)\n",
        "print('train 데이터 평균 정확도:', np.mean(scores4))\n",
        "print('test 데이터 교차 검증 개별 정확도:', scores5)\n",
        "print('test 데이터 평균 정확도:', np.mean(scores5))"
      ],
      "metadata": {
        "id": "_oVckjoyY4Ly",
        "colab": {
          "base_uri": "https://localhost:8080/"
        },
        "outputId": "9e5f751d-d220-40c8-a26c-18fd8052f1c1"
      },
      "execution_count": 49,
      "outputs": [
        {
          "output_type": "stream",
          "name": "stdout",
          "text": [
            "train 데이터 교차 검증 개별 정확도: [0.8366  0.83275 0.8384 ]\n",
            "train 데이터 평균 정확도: 0.8359166666666668\n",
            "test 데이터 교차 검증 개별 정확도: [0.80623875 0.82958296 0.86228623]\n",
            "test 데이터 평균 정확도: 0.8327026463894139\n"
          ]
        }
      ]
    }
  ]
}