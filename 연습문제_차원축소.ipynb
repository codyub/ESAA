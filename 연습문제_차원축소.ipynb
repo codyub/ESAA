{
  "nbformat": 4,
  "nbformat_minor": 0,
  "metadata": {
    "colab": {
      "provenance": [],
      "include_colab_link": true
    },
    "kernelspec": {
      "name": "python3",
      "display_name": "Python 3"
    },
    "language_info": {
      "name": "python"
    }
  },
  "cells": [
    {
      "cell_type": "markdown",
      "metadata": {
        "id": "view-in-github",
        "colab_type": "text"
      },
      "source": [
        "<a href=\"https://colab.research.google.com/github/codyub/ESAA/blob/main/%EC%97%B0%EC%8A%B5%EB%AC%B8%EC%A0%9C_%EC%B0%A8%EC%9B%90%EC%B6%95%EC%86%8C.ipynb\" target=\"_parent\"><img src=\"https://colab.research.google.com/assets/colab-badge.svg\" alt=\"Open In Colab\"/></a>"
      ]
    },
    {
      "cell_type": "code",
      "metadata": {
        "id": "t-RMDKJB7CyJ"
      },
      "source": [
        "# 데이터 로드\n",
        "from sklearn.datasets import fetch_openml\n",
        "mnist=fetch_openml('mnist_784', version=1)"
      ],
      "execution_count": 55,
      "outputs": []
    },
    {
      "cell_type": "code",
      "metadata": {
        "id": "itFJcmUSkBrK",
        "colab": {
          "base_uri": "https://localhost:8080/"
        },
        "outputId": "8991defb-d6eb-4fdf-a2f3-2ef73b152d3f"
      },
      "source": [
        "# train, test split\n",
        "X_train = mnist['data'][:60000]\n",
        "y_train = mnist['target'][:60000]\n",
        "X_test = mnist['data'][60000:]\n",
        "y_test = mnist['target'][60000:]\n",
        "\n",
        "X_train.shape"
      ],
      "execution_count": 56,
      "outputs": [
        {
          "output_type": "execute_result",
          "data": {
            "text/plain": [
              "(60000, 784)"
            ]
          },
          "metadata": {},
          "execution_count": 56
        }
      ]
    },
    {
      "cell_type": "markdown",
      "metadata": {
        "id": "RbkbV_ZWkSPc"
      },
      "source": [
        "* 랜덤포레스트에 적용"
      ]
    },
    {
      "cell_type": "code",
      "metadata": {
        "id": "xmeHyXmKkLN1",
        "colab": {
          "base_uri": "https://localhost:8080/"
        },
        "outputId": "1a4d4787-2104-4ac6-b4d1-a8a3778e06bd"
      },
      "source": [
        "# 랜덤포레스트에 적용 (n_estimators=10, random_state=42)\n",
        "from sklearn.ensemble import RandomForestClassifier\n",
        "from sklearn.model_selection import cross_val_score\n",
        "import numpy as np\n",
        "\n",
        "rcf = RandomForestClassifier(n_estimators=10, random_state=42)\n",
        "rcf.fit(X_train, y_train)"
      ],
      "execution_count": 70,
      "outputs": [
        {
          "output_type": "execute_result",
          "data": {
            "text/plain": [
              "RandomForestClassifier(n_estimators=10, random_state=42)"
            ]
          },
          "metadata": {},
          "execution_count": 70
        }
      ]
    },
    {
      "cell_type": "code",
      "metadata": {
        "id": "WXjOor-jknmH",
        "colab": {
          "base_uri": "https://localhost:8080/"
        },
        "outputId": "3ed199af-7ea6-4a01-84e8-f9d90cfa25ea"
      },
      "source": [
        "# 정확도 결과\n",
        "scores1=cross_val_score(rcf, X_test, y_test, scoring='accuracy', cv=3)\n",
        "print('원본 test 데이터 교차 검증 개별 정확도:', scores1)\n",
        "print('원본 test 데이터 평균 정확도:', np.mean(scores1))"
      ],
      "execution_count": 71,
      "outputs": [
        {
          "output_type": "stream",
          "name": "stdout",
          "text": [
            "원본 test 데이터 교차 검증 개별 정확도: [0.86142771 0.89888989 0.91689169]\n",
            "원본 test 데이터 평균 정확도: 0.8924030975383083\n"
          ]
        }
      ]
    },
    {
      "cell_type": "markdown",
      "source": [
        "# 1. PCA"
      ],
      "metadata": {
        "id": "yetHtlIxcCcY"
      }
    },
    {
      "cell_type": "markdown",
      "metadata": {
        "id": "Lw4KuER0lAGA"
      },
      "source": [
        "* PCA로 변환한 데이터 세트에 랜덤 포레스트 적용"
      ]
    },
    {
      "cell_type": "code",
      "source": [
        "# PCA 라이브러리 불러오기\n",
        "from sklearn.decomposition import PCA"
      ],
      "metadata": {
        "id": "1BLMGOa2VQuj"
      },
      "execution_count": 59,
      "outputs": []
    },
    {
      "cell_type": "code",
      "metadata": {
        "id": "u_w8te9tlDsr",
        "colab": {
          "base_uri": "https://localhost:8080/"
        },
        "outputId": "4dbefd89-e1a4-40e9-efcf-54035fde01f5"
      },
      "source": [
        "# PCA 적용 95% : n_components=0.95\n",
        "pca = PCA(n_components=0.95)\n",
        "\n",
        "# fit과 transform 호출해 PCA 변환 데이터 반환\n",
        "pca.fit(X_train)\n",
        "minist_pca2=pca.transform(X_train)\n",
        "\n",
        "pca.fit(X_test)\n",
        "minist_pca3=pca.transform(X_test)\n",
        "\n",
        "print(minist_pca2.shape)\n",
        "print(minist_pca3.shape)"
      ],
      "execution_count": 65,
      "outputs": [
        {
          "output_type": "stream",
          "name": "stdout",
          "text": [
            "(60000, 154)\n",
            "(10000, 149)\n"
          ]
        }
      ]
    },
    {
      "cell_type": "code",
      "metadata": {
        "id": "aFezNneClV8u",
        "colab": {
          "base_uri": "https://localhost:8080/"
        },
        "outputId": "c5ea727d-bff3-4725-91f4-197e87a643a7"
      },
      "source": [
        "# PCA 이후 랜덤포레스트 훈련\n",
        "rcf = RandomForestClassifier(n_estimators=10, random_state=42)\n",
        "rcf.fit(minist_pca2, y_train)"
      ],
      "execution_count": 66,
      "outputs": [
        {
          "output_type": "execute_result",
          "data": {
            "text/plain": [
              "RandomForestClassifier(n_estimators=10, random_state=42)"
            ]
          },
          "metadata": {},
          "execution_count": 66
        }
      ]
    },
    {
      "cell_type": "code",
      "metadata": {
        "id": "PrsoPgs-lzYj",
        "colab": {
          "base_uri": "https://localhost:8080/"
        },
        "outputId": "7cdbcc6d-f1ff-44e8-b312-977ca4a31e47"
      },
      "source": [
        "# 정확도 결과 (X_test도 PCA 적용해야합니다.)\n",
        "scores3=cross_val_score(rcf, minist_pca3, y_test, scoring='accuracy', cv=3)\n",
        "print('test 데이터 교차 검증 개별 정확도:', scores3)\n",
        "print('test 데이터 평균 정확도:', np.mean(scores3))"
      ],
      "execution_count": 67,
      "outputs": [
        {
          "output_type": "stream",
          "name": "stdout",
          "text": [
            "test 데이터 교차 검증 개별 정확도: [0.73515297 0.79657966 0.80108011]\n",
            "test 데이터 평균 정확도: 0.7776042451275721\n"
          ]
        }
      ]
    },
    {
      "cell_type": "markdown",
      "source": [
        "# 2. LDA"
      ],
      "metadata": {
        "id": "A0ZWH3uVb3zW"
      }
    },
    {
      "cell_type": "markdown",
      "source": [
        "- LDA로 변환한 데이터 세트에 랜덤 포레스트 적용"
      ],
      "metadata": {
        "id": "t-FBfbZ2b94z"
      }
    },
    {
      "cell_type": "code",
      "source": [
        "# LDA 라이브러리 불러오기\n",
        "from sklearn.discriminant_analysis import LinearDiscriminantAnalysis"
      ],
      "metadata": {
        "id": "WxQG2ep9VCo4"
      },
      "execution_count": 46,
      "outputs": []
    },
    {
      "cell_type": "code",
      "source": [
        "# LDA 적용 : n_components=5\n",
        "lda = LinearDiscriminantAnalysis(n_components=5)\n",
        "\n",
        "lda.fit(X_train, y_train)\n",
        "minist_lda1=lda.transform(X_train)\n",
        "\n",
        "lda.fit(X_test, y_test)\n",
        "minist_lda2=lda.transform(X_test)\n",
        "\n",
        "print(minist_lda1.shape)\n",
        "print(minist_lda2.shape)"
      ],
      "metadata": {
        "id": "SYvLRl5qYTsn",
        "colab": {
          "base_uri": "https://localhost:8080/"
        },
        "outputId": "b1a1a0ef-853e-4772-d991-bc1f20cba327"
      },
      "execution_count": 47,
      "outputs": [
        {
          "output_type": "stream",
          "name": "stdout",
          "text": [
            "(60000, 5)\n",
            "(10000, 5)\n"
          ]
        }
      ]
    },
    {
      "cell_type": "code",
      "source": [
        "# PCA 이후 랜덤포레스트 훈련\n",
        "rcf = RandomForestClassifier(n_estimators=10, random_state=42)\n",
        "rcf.fit(minist_lda1, y_train)"
      ],
      "metadata": {
        "id": "xggC9VrVZO3f",
        "colab": {
          "base_uri": "https://localhost:8080/"
        },
        "outputId": "94b1a396-8565-4508-ccf6-eea8490732e2"
      },
      "execution_count": 68,
      "outputs": [
        {
          "output_type": "execute_result",
          "data": {
            "text/plain": [
              "RandomForestClassifier(n_estimators=10, random_state=42)"
            ]
          },
          "metadata": {},
          "execution_count": 68
        }
      ]
    },
    {
      "cell_type": "code",
      "source": [
        "# 정확도 결과 (X_test도 LDA 적용해야합니다.)\n",
        "scores5=cross_val_score(rcf, minist_lda2, y_test, scoring='accuracy', cv=3)\n",
        "print('test 데이터 교차 검증 개별 정확도:', scores5)\n",
        "print('test 데이터 평균 정확도:', np.mean(scores5))"
      ],
      "metadata": {
        "id": "_oVckjoyY4Ly",
        "colab": {
          "base_uri": "https://localhost:8080/"
        },
        "outputId": "10801c51-51f0-4a9f-dc3b-b5a2714c7971"
      },
      "execution_count": 69,
      "outputs": [
        {
          "output_type": "stream",
          "name": "stdout",
          "text": [
            "test 데이터 교차 검증 개별 정확도: [0.80623875 0.82958296 0.86228623]\n",
            "test 데이터 평균 정확도: 0.8327026463894139\n"
          ]
        }
      ]
    }
  ]
}