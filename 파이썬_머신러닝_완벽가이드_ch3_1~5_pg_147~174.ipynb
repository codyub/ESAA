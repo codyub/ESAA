{
  "nbformat": 4,
  "nbformat_minor": 0,
  "metadata": {
    "colab": {
      "provenance": [],
      "collapsed_sections": [],
      "authorship_tag": "ABX9TyO3l8IeQ1uUvJgBUvzjfIdS",
      "include_colab_link": true
    },
    "kernelspec": {
      "name": "python3",
      "display_name": "Python 3"
    },
    "language_info": {
      "name": "python"
    }
  },
  "cells": [
    {
      "cell_type": "markdown",
      "metadata": {
        "id": "view-in-github",
        "colab_type": "text"
      },
      "source": [
        "<a href=\"https://colab.research.google.com/github/codyub/ESAA/blob/main/%ED%8C%8C%EC%9D%B4%EC%8D%AC_%EB%A8%B8%EC%8B%A0%EB%9F%AC%EB%8B%9D_%EC%99%84%EB%B2%BD%EA%B0%80%EC%9D%B4%EB%93%9C_ch3_1~5_pg_147~174.ipynb\" target=\"_parent\"><img src=\"https://colab.research.google.com/assets/colab-badge.svg\" alt=\"Open In Colab\"/></a>"
      ]
    },
    {
      "cell_type": "markdown",
      "source": [
        "# 평가"
      ],
      "metadata": {
        "id": "D0RGLqxtE6AA"
      }
    },
    {
      "cell_type": "markdown",
      "source": [
        "- 머신러닝은 데이터 가공/변환, 모델 학습/예측, 평가의 프로세스로 구성\n",
        "- 성능 평가 지표: 모델의 예측 성능을 평가하는 방법\n",
        "- 회귀의 성능 평가 지표: 주로 예측값의 오차 평균값\n",
        "- 분류의 성능 평가 지표: 정확도, 오차행렬, 정밀도, 재현율, F1 스코어, ROC/AUC\n",
        "- 분류: 2개의 결과값만을 갖는 이진 분류와 여러개의 결정 클래스 값을 가지는 멀티 분류로 나뉨. 위 지표는 특히 이진 분류에서 중요함. "
      ],
      "metadata": {
        "id": "1Oz07YijFAH8"
      }
    },
    {
      "cell_type": "markdown",
      "source": [
        "# 1) 정확도(Accuracy)"
      ],
      "metadata": {
        "id": "pn9iXWILFm-H"
      }
    },
    {
      "cell_type": "markdown",
      "source": [
        "- 실제 데이터에서 예측 데이터가 얼마나 같은지 판단하는 지표\n",
        "- 정확도 = 예측 결과가 동일한 데이터 건수/전체 예측 데이터 건 수\n",
        "- 직관적으로 모델 예측 성능을 나타내는 평가 지표.\n",
        "- 이진 분류의 경우 데이터의 구성에 따라 ML 모델의 성능을 왜곡할 수 있어, 이것 하나로 성능을 평가하지 않음."
      ],
      "metadata": {
        "id": "Rx-2ou0_FpGy"
      }
    },
    {
      "cell_type": "code",
      "execution_count": 1,
      "metadata": {
        "id": "hD5o_BCPHI2A",
        "colab": {
          "base_uri": "https://localhost:8080/"
        },
        "outputId": "f36c26aa-0530-4013-aa5b-e0ae6d7f7641"
      },
      "outputs": [
        {
          "output_type": "stream",
          "name": "stdout",
          "text": [
            "1.0.2\n"
          ]
        }
      ],
      "source": [
        "import sklearn\n",
        "\n",
        "print(sklearn.__version__)"
      ]
    },
    {
      "cell_type": "markdown",
      "source": [
        "- 사이킷런의 BestEstimator 클래스를 상속받아 아무런 학습을 하지 않고,  성별에 따라 생존자를 예측하는 단순한 Classifier 생성\n"
      ],
      "metadata": {
        "id": "sHju0ugoGIjp"
      }
    },
    {
      "cell_type": "code",
      "source": [
        "import numpy as np\n",
        "from sklearn.base import BaseEstimator\n",
        "\n",
        "class MyDummyClassifier(BaseEstimator):\n",
        "    # fit( ) 메서드는 아무것도 학습하지 않음. \n",
        "    def fit(self, X , y=None):\n",
        "        pass\n",
        "    \n",
        "    # predict( ) 메서드는 단순히 Sex feature가 1 이면 0 , 그렇지 않으면 1 로 예측함. \n",
        "    def predict(self, X):\n",
        "        pred = np.zeros( ( X.shape[0], 1 ))\n",
        "        for i in range (X.shape[0]) :\n",
        "            if X['Sex'].iloc[i] == 1:\n",
        "                pred[i] = 0\n",
        "            else :\n",
        "                pred[i] = 1\n",
        "        \n",
        "        return pred"
      ],
      "metadata": {
        "id": "_oLmKlOxHUCl"
      },
      "execution_count": 5,
      "outputs": []
    },
    {
      "cell_type": "code",
      "source": [
        "#MyDummyClassifier을 이용해 앞 장의 타이타닉 생존자 예측을 수행\n",
        "import pandas as pd\n",
        "from sklearn.model_selection import train_test_split\n",
        "from sklearn.metrics import accuracy_score\n",
        "\n",
        "from sklearn import preprocessing\n",
        "import numpy as np\n",
        "\n",
        "#Null 처리 함수\n",
        "def fillna(df):\n",
        "  df['Age'].fillna(df['Age'].mean(),inplace=True)\n",
        "  df['Cabin'].fillna('N',inplace=True)\n",
        "  df['Embarked'].fillna('N',inplace=True)\n",
        "  df['Fare'].fillna(0, inplace=True)\n",
        "  return df\n",
        "\n",
        "#머신러닝 알고리즘에 불필요한 속성제거\n",
        "def drop_features(df):\n",
        "  df.drop(['PassengerId','Name','Ticket'],axis=1, inplace=True)\n",
        "  return df\n",
        "\n",
        "#레이블 인코딩 수행\n",
        "def format_features(df):\n",
        "  df['Cabin'] = df['Cabin'].str[:1]\n",
        "  features = ['Cabin','Sex','Embarked']\n",
        "  for feature in features:\n",
        "    le = preprocessing.LabelEncoder()\n",
        "    le = le.fit(df[feature])\n",
        "    df[feature] = le.transform(df[feature])\n",
        "  return df\n",
        "\n",
        "#앞에서 설정한 데이터 전처리 함수 호출\n",
        "def transform_features(df):\n",
        "  df = fillna(df)\n",
        "  df = drop_features(df)\n",
        "  df = format_features(df)\n",
        "  return df"
      ],
      "metadata": {
        "id": "OdKOCt5zHm3c"
      },
      "execution_count": 6,
      "outputs": []
    },
    {
      "cell_type": "code",
      "source": [
        "from google.colab import drive\n",
        "drive.mount('/content/drive')"
      ],
      "metadata": {
        "colab": {
          "base_uri": "https://localhost:8080/"
        },
        "id": "FC6HHtQmG5Za",
        "outputId": "4bb33f9e-403f-41ab-efc9-b964fa6796d3"
      },
      "execution_count": 7,
      "outputs": [
        {
          "output_type": "stream",
          "name": "stdout",
          "text": [
            "Mounted at /content/drive\n"
          ]
        }
      ]
    },
    {
      "cell_type": "code",
      "source": [
        "titanic_df = pd.read_csv('/content/drive/MyDrive/ESAA/session/titanic_train.csv')\n",
        "titanic_df.head(3)"
      ],
      "metadata": {
        "id": "pE0DgQ9kHqft",
        "colab": {
          "base_uri": "https://localhost:8080/",
          "height": 222
        },
        "outputId": "a7e0c7af-91c4-405f-dc55-465c5fabaaf3"
      },
      "execution_count": 10,
      "outputs": [
        {
          "output_type": "execute_result",
          "data": {
            "text/plain": [
              "   PassengerId  Survived  Pclass  \\\n",
              "0            1         0       3   \n",
              "1            2         1       1   \n",
              "2            3         1       3   \n",
              "\n",
              "                                                Name     Sex   Age  SibSp  \\\n",
              "0                            Braund, Mr. Owen Harris    male  22.0      1   \n",
              "1  Cumings, Mrs. John Bradley (Florence Briggs Th...  female  38.0      1   \n",
              "2                             Heikkinen, Miss. Laina  female  26.0      0   \n",
              "\n",
              "   Parch            Ticket     Fare Cabin Embarked  \n",
              "0      0         A/5 21171   7.2500   NaN        S  \n",
              "1      0          PC 17599  71.2833   C85        C  \n",
              "2      0  STON/O2. 3101282   7.9250   NaN        S  "
            ],
            "text/html": [
              "\n",
              "  <div id=\"df-c2de3d73-2c82-4d53-b556-57a69044a8c5\">\n",
              "    <div class=\"colab-df-container\">\n",
              "      <div>\n",
              "<style scoped>\n",
              "    .dataframe tbody tr th:only-of-type {\n",
              "        vertical-align: middle;\n",
              "    }\n",
              "\n",
              "    .dataframe tbody tr th {\n",
              "        vertical-align: top;\n",
              "    }\n",
              "\n",
              "    .dataframe thead th {\n",
              "        text-align: right;\n",
              "    }\n",
              "</style>\n",
              "<table border=\"1\" class=\"dataframe\">\n",
              "  <thead>\n",
              "    <tr style=\"text-align: right;\">\n",
              "      <th></th>\n",
              "      <th>PassengerId</th>\n",
              "      <th>Survived</th>\n",
              "      <th>Pclass</th>\n",
              "      <th>Name</th>\n",
              "      <th>Sex</th>\n",
              "      <th>Age</th>\n",
              "      <th>SibSp</th>\n",
              "      <th>Parch</th>\n",
              "      <th>Ticket</th>\n",
              "      <th>Fare</th>\n",
              "      <th>Cabin</th>\n",
              "      <th>Embarked</th>\n",
              "    </tr>\n",
              "  </thead>\n",
              "  <tbody>\n",
              "    <tr>\n",
              "      <th>0</th>\n",
              "      <td>1</td>\n",
              "      <td>0</td>\n",
              "      <td>3</td>\n",
              "      <td>Braund, Mr. Owen Harris</td>\n",
              "      <td>male</td>\n",
              "      <td>22.0</td>\n",
              "      <td>1</td>\n",
              "      <td>0</td>\n",
              "      <td>A/5 21171</td>\n",
              "      <td>7.2500</td>\n",
              "      <td>NaN</td>\n",
              "      <td>S</td>\n",
              "    </tr>\n",
              "    <tr>\n",
              "      <th>1</th>\n",
              "      <td>2</td>\n",
              "      <td>1</td>\n",
              "      <td>1</td>\n",
              "      <td>Cumings, Mrs. John Bradley (Florence Briggs Th...</td>\n",
              "      <td>female</td>\n",
              "      <td>38.0</td>\n",
              "      <td>1</td>\n",
              "      <td>0</td>\n",
              "      <td>PC 17599</td>\n",
              "      <td>71.2833</td>\n",
              "      <td>C85</td>\n",
              "      <td>C</td>\n",
              "    </tr>\n",
              "    <tr>\n",
              "      <th>2</th>\n",
              "      <td>3</td>\n",
              "      <td>1</td>\n",
              "      <td>3</td>\n",
              "      <td>Heikkinen, Miss. Laina</td>\n",
              "      <td>female</td>\n",
              "      <td>26.0</td>\n",
              "      <td>0</td>\n",
              "      <td>0</td>\n",
              "      <td>STON/O2. 3101282</td>\n",
              "      <td>7.9250</td>\n",
              "      <td>NaN</td>\n",
              "      <td>S</td>\n",
              "    </tr>\n",
              "  </tbody>\n",
              "</table>\n",
              "</div>\n",
              "      <button class=\"colab-df-convert\" onclick=\"convertToInteractive('df-c2de3d73-2c82-4d53-b556-57a69044a8c5')\"\n",
              "              title=\"Convert this dataframe to an interactive table.\"\n",
              "              style=\"display:none;\">\n",
              "        \n",
              "  <svg xmlns=\"http://www.w3.org/2000/svg\" height=\"24px\"viewBox=\"0 0 24 24\"\n",
              "       width=\"24px\">\n",
              "    <path d=\"M0 0h24v24H0V0z\" fill=\"none\"/>\n",
              "    <path d=\"M18.56 5.44l.94 2.06.94-2.06 2.06-.94-2.06-.94-.94-2.06-.94 2.06-2.06.94zm-11 1L8.5 8.5l.94-2.06 2.06-.94-2.06-.94L8.5 2.5l-.94 2.06-2.06.94zm10 10l.94 2.06.94-2.06 2.06-.94-2.06-.94-.94-2.06-.94 2.06-2.06.94z\"/><path d=\"M17.41 7.96l-1.37-1.37c-.4-.4-.92-.59-1.43-.59-.52 0-1.04.2-1.43.59L10.3 9.45l-7.72 7.72c-.78.78-.78 2.05 0 2.83L4 21.41c.39.39.9.59 1.41.59.51 0 1.02-.2 1.41-.59l7.78-7.78 2.81-2.81c.8-.78.8-2.07 0-2.86zM5.41 20L4 18.59l7.72-7.72 1.47 1.35L5.41 20z\"/>\n",
              "  </svg>\n",
              "      </button>\n",
              "      \n",
              "  <style>\n",
              "    .colab-df-container {\n",
              "      display:flex;\n",
              "      flex-wrap:wrap;\n",
              "      gap: 12px;\n",
              "    }\n",
              "\n",
              "    .colab-df-convert {\n",
              "      background-color: #E8F0FE;\n",
              "      border: none;\n",
              "      border-radius: 50%;\n",
              "      cursor: pointer;\n",
              "      display: none;\n",
              "      fill: #1967D2;\n",
              "      height: 32px;\n",
              "      padding: 0 0 0 0;\n",
              "      width: 32px;\n",
              "    }\n",
              "\n",
              "    .colab-df-convert:hover {\n",
              "      background-color: #E2EBFA;\n",
              "      box-shadow: 0px 1px 2px rgba(60, 64, 67, 0.3), 0px 1px 3px 1px rgba(60, 64, 67, 0.15);\n",
              "      fill: #174EA6;\n",
              "    }\n",
              "\n",
              "    [theme=dark] .colab-df-convert {\n",
              "      background-color: #3B4455;\n",
              "      fill: #D2E3FC;\n",
              "    }\n",
              "\n",
              "    [theme=dark] .colab-df-convert:hover {\n",
              "      background-color: #434B5C;\n",
              "      box-shadow: 0px 1px 3px 1px rgba(0, 0, 0, 0.15);\n",
              "      filter: drop-shadow(0px 1px 2px rgba(0, 0, 0, 0.3));\n",
              "      fill: #FFFFFF;\n",
              "    }\n",
              "  </style>\n",
              "\n",
              "      <script>\n",
              "        const buttonEl =\n",
              "          document.querySelector('#df-c2de3d73-2c82-4d53-b556-57a69044a8c5 button.colab-df-convert');\n",
              "        buttonEl.style.display =\n",
              "          google.colab.kernel.accessAllowed ? 'block' : 'none';\n",
              "\n",
              "        async function convertToInteractive(key) {\n",
              "          const element = document.querySelector('#df-c2de3d73-2c82-4d53-b556-57a69044a8c5');\n",
              "          const dataTable =\n",
              "            await google.colab.kernel.invokeFunction('convertToInteractive',\n",
              "                                                     [key], {});\n",
              "          if (!dataTable) return;\n",
              "\n",
              "          const docLinkHtml = 'Like what you see? Visit the ' +\n",
              "            '<a target=\"_blank\" href=https://colab.research.google.com/notebooks/data_table.ipynb>data table notebook</a>'\n",
              "            + ' to learn more about interactive tables.';\n",
              "          element.innerHTML = '';\n",
              "          dataTable['output_type'] = 'display_data';\n",
              "          await google.colab.output.renderOutput(dataTable, element);\n",
              "          const docLink = document.createElement('div');\n",
              "          docLink.innerHTML = docLinkHtml;\n",
              "          element.appendChild(docLink);\n",
              "        }\n",
              "      </script>\n",
              "    </div>\n",
              "  </div>\n",
              "  "
            ]
          },
          "metadata": {},
          "execution_count": 10
        }
      ]
    },
    {
      "cell_type": "code",
      "source": [
        "import pandas as pd\n",
        "from sklearn.model_selection import train_test_split\n",
        "from sklearn.metrics import accuracy_score\n",
        "\n",
        "# 원본 데이터를 재로딩, 데이터 가공, 학습 데이터/테스트 데이터 분할\n",
        "y_titanic_df = titanic_df['Survived']\n",
        "X_titanic_df = titanic_df.drop('Survived', axis=1)\n",
        "X_titanic_df = transform_features(X_titanic_df)\n",
        "X_train, X_test, y_train, y_test = train_test_split(X_titanic_df, y_titanic_df,\n",
        "                                                    test_size=0.2, random_state=0)\n",
        "\n",
        "# 위에서 생성한 Dummy Classifier를 이용해 학습/예측/평가 수행\n",
        "myclf = MyDummyClassifier()\n",
        "myclf.fit(X_train, y_train)\n",
        "mypredictions = myclf.predict(X_test)\n",
        "print('Dummy Classifier의 정확도는: {0:.4f}'.format(accuracy_score(y_test, mypredictions)))"
      ],
      "metadata": {
        "id": "ciqKN2OxHYJu",
        "colab": {
          "base_uri": "https://localhost:8080/"
        },
        "outputId": "671dfe07-e354-48b3-ef34-f910e96aebd6"
      },
      "execution_count": 11,
      "outputs": [
        {
          "output_type": "stream",
          "name": "stdout",
          "text": [
            "Dummy Classifier의 정확도는: 0.7877\n"
          ]
        }
      ]
    },
    {
      "cell_type": "markdown",
      "source": [
        "- 단순한 알고리즘으로 예측을 했음에도 데이터 구성에 따라 정확도가 상당히 높은 수치가 나옴. -> 정확도 평가 지표의 문제점: 불균형한 레이블 분포에서 ML 모델의 성능을 판단할 경우, 적합한 평가 지표가 아님."
      ],
      "metadata": {
        "id": "lmn1QeMIHTGI"
      }
    },
    {
      "cell_type": "markdown",
      "source": [
        "# MINIST 데이터를 이용한 정확도 지표 문제점 확인"
      ],
      "metadata": {
        "id": "MALVVwToHh1n"
      }
    },
    {
      "cell_type": "markdown",
      "source": [
        "- 데이터 세트를 불균형하게 만들어 정확도 지표의 문제점 확인\n",
        "- 전체 데이터의 10% 만 Ture 나머지느느 False"
      ],
      "metadata": {
        "id": "CkNixpDdHsdi"
      }
    },
    {
      "cell_type": "code",
      "source": [
        "from sklearn.datasets import load_digits\n",
        "from sklearn.model_selection import train_test_split\n",
        "from sklearn.base import BaseEstimator\n",
        "from sklearn.metrics import accuracy_score\n",
        "import numpy as np\n",
        "import pandas as pd\n",
        "\n",
        "class MyFakeClassifier(BaseEstimator):\n",
        "  def fit(self, X, y):\n",
        "    pass\n",
        "  \n",
        "  # 입력값으로 들어오는 X 데이터 세트의 크기만큼 모두 0값으로 만들어서 반환\n",
        "  def predict(self, X):\n",
        "    return np.zeros((len(X), 1), dtype=bool)\n",
        "  \n",
        "\n",
        "# 사이킷런의 내장 데이터 세트인 load_digits()를 이용해 MNIST 데이터 로딩\n",
        "digits = load_digits()\n",
        "\n",
        "#digits 번호가 7번이면 True이고 이를 astype(int)로 1로 변환, 7번이 아니면 False이고 0으로 변환\n",
        "y = (digits.target == 7).astype(int)\n",
        "X_train, X_test, y_train, y_test = train_test_split(digits.data, y, random_state=11)"
      ],
      "metadata": {
        "id": "q1FHPKb8HZt0"
      },
      "execution_count": 12,
      "outputs": []
    },
    {
      "cell_type": "code",
      "source": [
        "# 불균형한 레이블 데이터 분포도 확인\n",
        "print(\"레이블 테스트 세트 크기:\", y_test.shape)\n",
        "print('테스트 세트 레이블 0과 1의 분포도')\n",
        "print(pd.Series(y_test).value_counts())\n",
        "\n",
        "# Dummy Classifier로 학습/예측/정확도 평가\n",
        "fakeclf = MyFakeClassifier()\n",
        "fakeclf.fit(X_train, y_train)\n",
        "fakepred = fakeclf.predict(X_test)\n",
        "print(\"모든 예측을 0으로 하여도 정확도는 :{:.3f}\".format(accuracy_score(y_test, fakepred)))"
      ],
      "metadata": {
        "id": "c9_06wj9HbNl",
        "colab": {
          "base_uri": "https://localhost:8080/"
        },
        "outputId": "81b51c76-1e5a-4f72-9f8c-7afe703bfba9"
      },
      "execution_count": 13,
      "outputs": [
        {
          "output_type": "stream",
          "name": "stdout",
          "text": [
            "레이블 테스트 세트 크기: (450,)\n",
            "테스트 세트 레이블 0과 1의 분포도\n",
            "0    405\n",
            "1     45\n",
            "dtype: int64\n",
            "모든 예측을 0으로 하여도 정확도는 :0.900\n"
          ]
        }
      ]
    },
    {
      "cell_type": "markdown",
      "source": [
        "- 단순히 predict()의 결과를 np.zeros()로 모두 0 값으로 반환함에도 450개의 테스트 데이터 세트에 수행한 예측 정확도가 90이라는 기이한 결과."
      ],
      "metadata": {
        "id": "GOW_wn8iH7jx"
      }
    },
    {
      "cell_type": "markdown",
      "source": [
        "# 2) 오차 행렬"
      ],
      "metadata": {
        "id": "wvkTPg9NHcmq"
      }
    },
    {
      "cell_type": "markdown",
      "source": [
        "- 학습된 분류 모델이 예측을 수행하면서 얼마나 헷갈리고 있는지 함께 보여주는 지표.\n",
        "- TP,FP,FN,TN으로 값을 구분하고, 의미의 기준은 에측임. \n",
        "![1.PNG](data:image/png;base64,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)"
      ],
      "metadata": {
        "id": "HBRsnAw8ILV3"
      }
    },
    {
      "cell_type": "markdown",
      "source": [
        "#사이킷런의 오차행렬 API: confusion_matrix()"
      ],
      "metadata": {
        "id": "Y43w-kQVIefR"
      }
    },
    {
      "cell_type": "code",
      "source": [
        "from sklearn.metrics import confusion_matrix\n",
        "\n",
        "confusion_matrix(y_test,fakepred)\n",
        "# TN = [0,0] \n",
        "# FP = [0,1]\n",
        "# FN = [1,0]\n",
        "# TP = [1,1]"
      ],
      "metadata": {
        "id": "-DkwSfFHHc4w",
        "colab": {
          "base_uri": "https://localhost:8080/"
        },
        "outputId": "148f61b9-7307-417b-81b6-b79356ecee65"
      },
      "execution_count": 16,
      "outputs": [
        {
          "output_type": "execute_result",
          "data": {
            "text/plain": [
              "array([[405,   0],\n",
              "       [ 45,   0]])"
            ]
          },
          "metadata": {},
          "execution_count": 16
        }
      ]
    },
    {
      "cell_type": "markdown",
      "source": [
        "- TN은 전체 450건 데이터 중 무조건 Negative로 예측해 True가 된 결과가 405건, FP는 1로 예측한 건수가 없어 0, N은  Positive 45건을 Negative로 예측해 False가 되어 45건, TP는 Positive로 예측한 건수가 없어 0건\n",
        "- 위 값을 조합해 정확도, 정밀도, 재현율 등의 값을 알 수 있음."
      ],
      "metadata": {
        "id": "8NvIJq66JrAI"
      }
    },
    {
      "cell_type": "markdown",
      "source": [
        "# 3) 정밀도와 재현율"
      ],
      "metadata": {
        "id": "vzy3V0U5HxSr"
      }
    },
    {
      "cell_type": "markdown",
      "source": [
        "- positive 데이터 세트의 예측 성능에 좀 더 초점을 맞춘 평가 지표\n",
        "- 앞서 만든 MyFakeClassifier는 Positive로 예측한 TP 값이 없어서 정밀도와 재현율 모두 0이다."
      ],
      "metadata": {
        "id": "Yns_mJo5KOow"
      }
    },
    {
      "cell_type": "markdown",
      "source": [
        "- 정밀도: Positive로 예측한 대상 중 실제 Positive (TP/(FP+TP))\n",
        "- 재현율(민감도, TRP): 실제 값이 Positive인 대상 중 예측이 Positive (TP/(FN+TP))"
      ],
      "metadata": {
        "id": "MVTJKIeAKoRS"
      }
    },
    {
      "cell_type": "markdown",
      "source": [
        "- 재현율이 중요한 경우: 실제 Positive 양성 데이터를 Negative로 잘못 판단하게 되면 큰 영향이 발생할 수 있는 경우 예) 암 판단, 보험 사기 -> FN을 낮추는 데 초점\n",
        "- 정밀도가 중요한 경우: 실제 Negative 데이터를 잘못 Positive로 판단하게 되면 큰 영향이 발생할 수 있는 경우 예) 스팸 메일 -> FP를 낮추는 데 초점\\\n",
        "\n",
        "--> 위와 같은 특성으로 재현율과 정밀도는 서로 보완적인 지표로 분류의 성능을 평가하는 데 적용될 수 있다. "
      ],
      "metadata": {
        "id": "IyRehArCLBVJ"
      }
    },
    {
      "cell_type": "markdown",
      "source": [
        "#오차 행렬 및 정밀도, 재현율을 모두 구해서 예측 성능을 평가\n",
        "- 사이킷런의 정밀도 계산: precision_score()\n",
        "- 재현율 계산: recall_score()\n",
        "- 평가 간편 적용:get_clf_eval()"
      ],
      "metadata": {
        "id": "xuLxWx7FLvUX"
      }
    },
    {
      "cell_type": "code",
      "source": [
        "from sklearn.metrics import accuracy_score,precision_score,precision_score,recall_score,confusion_matrix\n",
        "\n",
        "def get_clf_eval(y_test,pred):\n",
        "  confusion=confusion_matrix(y_test,pred)\n",
        "  accuracy=accuracy_score(y_test,pred)\n",
        "  precision=precision_score(y_test,pred)\n",
        "  recall=recall_score(y_test,pred)\n",
        "  print('오차 행렬')\n",
        "  print(confusion)\n",
        "  print('정확도:{0:.4f},정밀도:{1:.4f},재현율:{2:.4f}'.format(accuracy,precision,recall))"
      ],
      "metadata": {
        "id": "mJjziPPDHxjW"
      },
      "execution_count": 18,
      "outputs": []
    },
    {
      "cell_type": "markdown",
      "source": [
        "- 로지스틱 회귀를 기반으로 타이타닉 생존자를 예측하고 예측 수행할 것"
      ],
      "metadata": {
        "id": "8pu2qNFgL15D"
      }
    },
    {
      "cell_type": "code",
      "source": [
        "import pandas as pd\n",
        "from sklearn.model_selection import train_test_split\n",
        "from sklearn.linear_model import LogisticRegression\n",
        "\n",
        "#원본 데이터를 재로딩, 데이터 가공, 학습 데이터/테스트 데이터 분할\n",
        "titanic_df = pd.read_csv('/content/drive/MyDrive/ESAA/session/titanic_train.csv')\n",
        "y_titanic_df=titanic_df['Survived']\n",
        "X_titanic_df=titanic_df.drop('Survived',axis=1)\n",
        "X_titanic_df=transform_features(X_titanic_df)\n",
        "\n",
        "X_train,X_test,y_train,y_test=train_test_split(X_titanic_df,y_titanic_df,test_size=0.20,random_state=11)\n",
        "\n",
        "lr_clf=LogisticRegression()\n",
        "\n",
        "lr_clf.fit(X_train,y_train)\n",
        "pred=lr_clf.predict(X_test)\n",
        "get_clf_eval(y_test,pred)"
      ],
      "metadata": {
        "id": "6G9blbG-Hy-4",
        "colab": {
          "base_uri": "https://localhost:8080/"
        },
        "outputId": "910523a3-a3f4-45cf-a163-0081e10ca32d"
      },
      "execution_count": 20,
      "outputs": [
        {
          "output_type": "stream",
          "name": "stdout",
          "text": [
            "오차 행렬\n",
            "[[104  14]\n",
            " [ 13  48]]\n",
            "정확도:0.8492,정밀도:0.7742,재현율:0.7869\n"
          ]
        },
        {
          "output_type": "stream",
          "name": "stderr",
          "text": [
            "/usr/local/lib/python3.7/dist-packages/sklearn/linear_model/_logistic.py:818: ConvergenceWarning: lbfgs failed to converge (status=1):\n",
            "STOP: TOTAL NO. of ITERATIONS REACHED LIMIT.\n",
            "\n",
            "Increase the number of iterations (max_iter) or scale the data as shown in:\n",
            "    https://scikit-learn.org/stable/modules/preprocessing.html\n",
            "Please also refer to the documentation for alternative solver options:\n",
            "    https://scikit-learn.org/stable/modules/linear_model.html#logistic-regression\n",
            "  extra_warning_msg=_LOGISTIC_SOLVER_CONVERGENCE_MSG,\n"
          ]
        }
      ]
    },
    {
      "cell_type": "markdown",
      "source": [
        "- 책과 다르게 정밀도와 재현율이 크게 다르지 않게 나옴"
      ],
      "metadata": {
        "id": "wMzNvJn-MOaP"
      }
    },
    {
      "cell_type": "markdown",
      "source": [
        "# 정밀도 재현율 트레이드 오프"
      ],
      "metadata": {
        "id": "sYBcxy6DH2cS"
      }
    },
    {
      "cell_type": "markdown",
      "source": [
        "- 분류 없무 특성항 정밀도나 재현율을 특별히 강조해야 할 경우 분류의 결정 임곗값을 조정해 정밀도 또는 재현율의 수치를 높일 수 있다. \n",
        "- 하지만 둘은 상호 보완적인 관계이므로, 어느 한 쪽을 강제로 높이면 다른 하나의 수치는 떨어지기 쉽다. = 트레이드 오프 관계"
      ],
      "metadata": {
        "id": "4Fp9jzPaMU_k"
      }
    },
    {
      "cell_type": "markdown",
      "source": [
        "- 사이킷런의 분류 알고리즘은 예측 데이터가 특정 레이블에 속하는 지 계산하기 위해 개별 레이블별로 결정 확률을 구하고, 예측 확률이 큰 레이블 값으로 예측하게 되는데, 임계값은 정할 수 있다.\n",
        "- predict_proba: 사이킷런에서 개별 데이터별로 예측 확률을 반환해주는 메서드. 학습이 완료된 사이킷런 Classifier 객체에서 호출이 가능, 피처 데이터 세트를 파라미터로 입력해주면 테스트 피처 레코드의 개별 클래스 예측 확률을 반환. \n",
        "- 반환해주는 값은 첫 번째 열: 0에 대한 예측 확률, 두 번째 열: 1에 대한 예측 확률"
      ],
      "metadata": {
        "id": "ILej8WhYMlho"
      }
    },
    {
      "cell_type": "code",
      "source": [
        "pred_proba=lr_clf.predict_proba(X_test)\n",
        "pred=lr_clf.predict(X_test)\n",
        "print('pred_proba() 결과 Shape:{0}'.format(pred_proba.shape))\n",
        "print('pred_proba() array에서 앞 3개만 샘플로 추출 \\n:',pred_proba[:3])\n",
        "\n",
        "#예측 확률 array와 예측 결괏값 array를 병합(concatenate)해 예측 확률과 결괏값을 한 눈에 확인\n",
        "pred_proba_result=np.concatenate([pred_proba,pred.reshape(-1,1)],axis=1)\n",
        "print('두 개의 class 중에서 더 큰 확률을 클래스 값으로 예측  \\n',pred_proba_result[:3])"
      ],
      "metadata": {
        "id": "J403eoMNH2z-",
        "colab": {
          "base_uri": "https://localhost:8080/"
        },
        "outputId": "e4cefc63-2c87-4288-8a3c-91f937132f5d"
      },
      "execution_count": 22,
      "outputs": [
        {
          "output_type": "stream",
          "name": "stdout",
          "text": [
            "pred_proba() 결과 Shape:(179, 2)\n",
            "pred_proba() array에서 앞 3개만 샘플로 추출 \n",
            ": [[0.46191519 0.53808481]\n",
            " [0.878675   0.121325  ]\n",
            " [0.87716185 0.12283815]]\n",
            "두 개의 class 중에서 더 큰 확률을 클래스 값으로 예측  \n",
            " [[0.46191519 0.53808481 1.        ]\n",
            " [0.878675   0.121325   0.        ]\n",
            " [0.87716185 0.12283815 0.        ]]\n"
          ]
        }
      ]
    },
    {
      "cell_type": "markdown",
      "source": [
        "- 반환 결과인 ndarray는 0과 1에 대한 확률을 나타내므로 첫 번째 칼럼과 두 번째 칼럼을 더하면 1이 된다. \n",
        "- 두 개의 확률 중 더 큰 값으로 predict 메서드가 최종 예측하고 있음. "
      ],
      "metadata": {
        "id": "_iBn99irNZn4"
      }
    },
    {
      "cell_type": "markdown",
      "source": [
        "#사이킷런의 Binariazer 클래스"
      ],
      "metadata": {
        "id": "NZmfEDzFN0lR"
      }
    },
    {
      "cell_type": "markdown",
      "source": [
        "threshold를 특정 값으로 설정하고 Binarizer 클래스를 객체로 생성하여 임곗값보다 작으면 0, 크면 1로 반환"
      ],
      "metadata": {
        "id": "OaeAd9ZpNoI0"
      }
    },
    {
      "cell_type": "code",
      "source": [
        "from sklearn.preprocessing import Binarizer\n",
        "\n",
        "X=[[1,-1,2],\n",
        "   [2,0,0],\n",
        "   [0,1.1,1.2]]\n",
        "\n",
        "#X의 개별 원소들이  threshold값보다 같거나 작으면 0을 크면 1을 반환\n",
        "binarizer=Binarizer(threshold=1.1)\n",
        "print(binarizer.fit_transform(X))\n",
        "\n",
        "#입력된 X 데이터 세트에서  Binarizer의 threshold 값이 1.1보다 같거나 작으면 0, 크면 1로 변환"
      ],
      "metadata": {
        "id": "Ek67ixITH5m4",
        "colab": {
          "base_uri": "https://localhost:8080/"
        },
        "outputId": "1eefcce6-f99d-4762-fb2f-5c489b197713"
      },
      "execution_count": 23,
      "outputs": [
        {
          "output_type": "stream",
          "name": "stdout",
          "text": [
            "[[0. 0. 1.]\n",
            " [1. 0. 0.]\n",
            " [0. 0. 1.]]\n"
          ]
        }
      ]
    },
    {
      "cell_type": "markdown",
      "source": [
        "- 1.1보다 같거나 작으면 0 크면 1로 반환"
      ],
      "metadata": {
        "id": "z5uiHs7PN7we"
      }
    },
    {
      "cell_type": "markdown",
      "source": [
        "#Binarizer을 이용해 사이킷런 predict()의 의사(pseudo)코드 생성"
      ],
      "metadata": {
        "id": "CipOCZq9OAwV"
      }
    },
    {
      "cell_type": "code",
      "source": [
        "from sklearn.preprocessing import Binarizer\n",
        "\n",
        "#Binarizer의 threshold 설정값, 분류 결정 임계값임\n",
        "custom_threshold=0.5\n",
        "\n",
        "#predict_proba() 반환값의 두번째 칼럼, 즉 positvie 클래스 칼럼 하나만 추출해 Binarizer 적용\n",
        "pred_proba_1=pred_proba[:,1].reshape(-1,1)\n",
        "\n",
        "\n",
        "binarizer=Binarizer(threshold=custom_threshold).fit(pred_proba_1)\n",
        "custom_predict=binarizer.transform(pred_proba_1)\n",
        "\n",
        "# 평가 지표 출력\n",
        "get_clf_eval(y_test,custom_predict)  "
      ],
      "metadata": {
        "id": "zZD_Lo09H67T",
        "colab": {
          "base_uri": "https://localhost:8080/"
        },
        "outputId": "06a3021d-d27f-4963-df86-428adeafc244"
      },
      "execution_count": 26,
      "outputs": [
        {
          "output_type": "stream",
          "name": "stdout",
          "text": [
            "오차 행렬\n",
            "[[104  14]\n",
            " [ 13  48]]\n",
            "정확도:0.8492,정밀도:0.7742,재현율:0.7869\n"
          ]
        }
      ]
    },
    {
      "cell_type": "markdown",
      "source": [
        "- Binarizer의 threshold 설정값을 0.4로 설정. 즉 분류 결정 임곗값을 0.5에서 0.4로 낮춤"
      ],
      "metadata": {
        "id": "PU3o9Mx6OJpH"
      }
    },
    {
      "cell_type": "code",
      "source": [
        "custom_threshold=0.4\n",
        "pred_proba_1=pred_proba[:,1].reshape(-1,1)\n",
        "binarizer=Binarizer(threshold=custom_threshold).fit(pred_proba_1)\n",
        "custom_predict=binarizer.transform(pred_proba_1)\n",
        "\n",
        "get_clf_eval(y_test,custom_predict)"
      ],
      "metadata": {
        "id": "2SGlrBExH8XY",
        "colab": {
          "base_uri": "https://localhost:8080/"
        },
        "outputId": "8b69cf5b-fdaf-49c8-9518-2152d937c120"
      },
      "execution_count": 27,
      "outputs": [
        {
          "output_type": "stream",
          "name": "stdout",
          "text": [
            "오차 행렬\n",
            "[[98 20]\n",
            " [10 51]]\n",
            "정확도:0.8324,정밀도:0.7183,재현율:0.8361\n"
          ]
        }
      ]
    },
    {
      "cell_type": "markdown",
      "source": [
        "- 임계를 낮추니 재현율이 놀라가고 정밀도가 떨어짐. "
      ],
      "metadata": {
        "id": "4i67G7Z1ONmn"
      }
    },
    {
      "cell_type": "markdown",
      "source": [
        "# 임계값을 증가시키며 평가 지표를 조사"
      ],
      "metadata": {
        "id": "rN7Hq7s5OVhj"
      }
    },
    {
      "cell_type": "code",
      "source": [
        "#테스트를 수행할 모든 임곗값을 리스트 객체로 저장\n",
        "thresholds=[0.4,0.45,0.50,0.55,0.60]\n",
        "\n",
        "def get_eval_by_threshold(y_test,pred_proba_c1,thresholds):\n",
        "  #thresholds list 객체 내의 값을 차례로 iteraction 하면서 evaluation 수행\n",
        "\n",
        "  for custom_threshold in thresholds:\n",
        "    binarizer=Binarizer(threshold=custom_threshold).fit(pred_proba_c1)\n",
        "    custom_predict=binarizer.transform(pred_proba_c1)\n",
        "    print('임곗값:', custom_threshold)\n",
        "    get_clf_eval(y_test,custom_predict)\n",
        "\n",
        "get_eval_by_threshold(y_test,pred_proba[:,1].reshape(-1,1),thresholds)"
      ],
      "metadata": {
        "id": "iTMKMk_sH9pu",
        "colab": {
          "base_uri": "https://localhost:8080/"
        },
        "outputId": "c0c2cdb7-086e-4720-9cc0-175342ed2efd"
      },
      "execution_count": 29,
      "outputs": [
        {
          "output_type": "stream",
          "name": "stdout",
          "text": [
            "임곗값: 0.4\n",
            "오차 행렬\n",
            "[[98 20]\n",
            " [10 51]]\n",
            "정확도:0.8324,정밀도:0.7183,재현율:0.8361\n",
            "임곗값: 0.45\n",
            "오차 행렬\n",
            "[[103  15]\n",
            " [ 12  49]]\n",
            "정확도:0.8492,정밀도:0.7656,재현율:0.8033\n",
            "임곗값: 0.5\n",
            "오차 행렬\n",
            "[[104  14]\n",
            " [ 13  48]]\n",
            "정확도:0.8492,정밀도:0.7742,재현율:0.7869\n",
            "임곗값: 0.55\n",
            "오차 행렬\n",
            "[[109   9]\n",
            " [ 15  46]]\n",
            "정확도:0.8659,정밀도:0.8364,재현율:0.7541\n",
            "임곗값: 0.6\n",
            "오차 행렬\n",
            "[[112   6]\n",
            " [ 16  45]]\n",
            "정확도:0.8771,정밀도:0.8824,재현율:0.7377\n"
          ]
        }
      ]
    },
    {
      "cell_type": "markdown",
      "source": [
        "- 임곗값이 0.45일 경우 디폴트 0.5인 경우에 디폴트 0.5인 경우와 비교해서 정확도는 동일하고 정밀도는 약간 떨어졌으나 재현율이 오름\n",
        "- 재현율을 향상시키면ㅅ너 다른 수치를 어느 정도 감소하는 희생을 해야한다면 0.45가 가장 적당"
      ],
      "metadata": {
        "id": "vQDW3zViOdcn"
      }
    },
    {
      "cell_type": "markdown",
      "source": [
        "#  precision_reall_curve()로 타이타닉 예측 모델의 임곗값별 정밀도와 재현율을 구하기"
      ],
      "metadata": {
        "id": "qmaZnGZ6O4_f"
      }
    },
    {
      "cell_type": "markdown",
      "source": [
        "- 반환되는 임계값이 너무 작은 값 단위로 구성되어 있어, 샘플로 10건만 추출하되, 임곗값을 15단계로 추출해 더 큰 값의 임계와 그때의 정밀도/재현율 확인"
      ],
      "metadata": {
        "id": "JkotOGLOOqj9"
      }
    },
    {
      "cell_type": "code",
      "source": [
        "from sklearn.metrics import precision_recall_curve\n",
        "\n",
        "#레이블 값이 1일 때의 예측 확률을 추출\n",
        "pred_proba_class1=lr_clf.predict_proba(X_test)[:,1]\n",
        "\n",
        "#실제값 데이터 세트와 레이블 값이 1일 때의 예측 확률을 precision_recall_curve 인자로 입력\n",
        "precisions, recalls, thresholds=precision_recall_curve(y_test,pred_proba_class1)\n",
        "print('반환된 분류 결정 임곗값 배열의 Shape:',thresholds.shape)\n",
        "\n",
        "#반환된 임계값 배열 로우가 147건이므로 샘플로 10건만 추출하되, 임곗값을 15step으로 추출\n",
        "thr_index=np.arange(0,thresholds.shape[0],15)\n",
        "print('샘플 추출을 위한 임계값 배열의 index 10개:',thr_index)\n",
        "print('샘플용 10개의 임계값:',np.round(thresholds[thr_index],2))\n",
        "\n",
        "#15step단위로 추출된 임계값에 따른 정밀도와 재현율 값\n",
        "print('샘플 임계값 별 정밀도:',np.round(precisions[thr_index],3))\n",
        "print('샘플 임계값 별 재현율:',np.round(recalls[thr_index],3))"
      ],
      "metadata": {
        "id": "v1Lm-3YSIAGG",
        "colab": {
          "base_uri": "https://localhost:8080/"
        },
        "outputId": "d12cf05e-0672-4a0d-b6e1-2b8eac854d26"
      },
      "execution_count": 30,
      "outputs": [
        {
          "output_type": "stream",
          "name": "stdout",
          "text": [
            "반환된 분류 결정 임곗값 배열의 Shape: (143,)\n",
            "샘플 추출을 위한 임계값 배열의 index 10개: [  0  15  30  45  60  75  90 105 120 135]\n",
            "샘플용 10개의 임계값: [0.1  0.12 0.14 0.19 0.28 0.4  0.56 0.67 0.82 0.95]\n",
            "샘플 임계값 별 정밀도: [0.389 0.44  0.466 0.539 0.647 0.729 0.836 0.949 0.958 1.   ]\n",
            "샘플 임계값 별 재현율: [1.    0.967 0.902 0.902 0.902 0.836 0.754 0.607 0.377 0.148]\n"
          ]
        }
      ]
    },
    {
      "cell_type": "markdown",
      "source": [
        "- 임계값이 증가할수록 정밀도 값은 동시에 높아지거나 재현율은 낮아짐\n",
        "- precision_reall_curve()는 정밀도와 재현율의 임곗값에 따른 값 변화를 곡선 형태의 그래프로 시각화 하는 데 이용할 수 있다."
      ],
      "metadata": {
        "id": "xFXaNZGuO-PH"
      }
    },
    {
      "cell_type": "markdown",
      "source": [
        "#정밀도와 재현율 곡선 시각화"
      ],
      "metadata": {
        "id": "CnuUAXvCPN0R"
      }
    },
    {
      "cell_type": "code",
      "source": [
        "import matplotlib.pyplot as plt\n",
        "import matplotlib.ticker as ticker\n",
        "%matplotlib inline\n",
        "\n",
        "\n",
        "def precision_recall_curve_plot(y_test,pred_proba_c1):\n",
        "  #threshold ndarray와 이 threshold에 따른 정밀도, 재현율 ndarray 추출\n",
        "  precision, recalls, thresholds=precision_recall_curve(y_test,pred_proba_c1)\n",
        "  \n",
        "  #x축을 threshold 값으로, y축은 정밀도,재현율 값으로 각각 plot수행, 정밀도는 점선으로 표시\n",
        "  plt.figure(figsize=(8,6))\n",
        "  threshold_boundary=thresholds.shape[0]\n",
        "  plt.plot(thresholds,precisions[0:threshold_boundary],linestyle='-',label='precision')\n",
        "  plt.plot(thresholds,recalls[0:threshold_boundary],label='recall')\n",
        "\n",
        "  #threshold값 X축의 scale을 0.1단위로 변경\n",
        "  start,end=plt.xlim()\n",
        "  plt.xticks(np.round(np.arange(start,end,0.1),2))\n",
        "\n",
        "  #x축, y축 label과 legend, 그리고 grid 설정\n",
        "  plt.xlabel('Threshold value');plt.ylabel('Precision and Recall value')\n",
        "  plt.legend();plt.grid()\n",
        "  plt.show()\n",
        "\n",
        "precision_recall_curve_plot(y_test,lr_clf.predict_proba(X_test)[:,1])\n",
        "\n",
        "#임계값이 낮을수록 많은 수의 양성 예측으로 인해 재현율 값이 극도로 높아지고 정밀도 값이 극도로 낮아짐\n",
        "#임곗값을 계속 증가시킬수록 재현율 값이 낮아지고 정밀도 값이 높아지는 반대의 양상"
      ],
      "metadata": {
        "id": "Y81cwF_tIAqU",
        "colab": {
          "base_uri": "https://localhost:8080/",
          "height": 388
        },
        "outputId": "c0f83c7b-7cdc-4bbe-d09d-ef998a607605"
      },
      "execution_count": 33,
      "outputs": [
        {
          "output_type": "display_data",
          "data": {
            "text/plain": [
              "<Figure size 576x432 with 1 Axes>"
            ],
            "image/png": "[encoded data removed]"
          },
          "metadata": {
            "needs_background": "light"
          }
        }
      ]
    },
    {
      "cell_type": "markdown",
      "source": [
        "# 정밀도와 재현율의 맹점"
      ],
      "metadata": {
        "id": "p7xNk_eIIC9_"
      }
    },
    {
      "cell_type": "markdown",
      "source": [
        "- Positive 예측의 임곗값을 변경함에 따라 정밀도와 재현율의 수치가 변경됨\n",
        "- 단순히 하나의 성능 지표 수치를 높이기 위한 수단으로 사용되면 안됨."
      ],
      "metadata": {
        "id": "o793draVPULP"
      }
    },
    {
      "cell_type": "markdown",
      "source": [
        "- 정밀도가 100% 되는 법: 확실한 기준이 되는 경우만 Positive로 예측하고 나머지 모두 Negative로 예측 시키기\n",
        "- 재현율이 100% 되는 법: 모든 환자를 Positive로 예측"
      ],
      "metadata": {
        "id": "SSepiy21IDNm"
      }
    },
    {
      "cell_type": "markdown",
      "source": [
        "# F1 스코어"
      ],
      "metadata": {
        "id": "gOvLCBahPpoO"
      }
    },
    {
      "cell_type": "markdown",
      "source": [
        "- 2*(재현율*정밀도)/(재현율+정밀도)"
      ],
      "metadata": {
        "id": "dcfYkNfRPrgv"
      }
    },
    {
      "cell_type": "markdown",
      "source": [
        "- F1 스코어 API: f1_score()"
      ],
      "metadata": {
        "id": "k_7tma42P8ES"
      }
    },
    {
      "cell_type": "code",
      "source": [
        "from sklearn.metrics import f1_score\n",
        "f1=f1_score(y_test,pred)\n",
        "print('F1 score:{0:.4f}'.format(f1))"
      ],
      "metadata": {
        "id": "Fi2qrUCPIDd5",
        "colab": {
          "base_uri": "https://localhost:8080/"
        },
        "outputId": "219eaf4e-dade-428a-ecfc-379158434bda"
      },
      "execution_count": 34,
      "outputs": [
        {
          "output_type": "stream",
          "name": "stdout",
          "text": [
            "F1 score:0.7805\n"
          ]
        }
      ]
    },
    {
      "cell_type": "markdown",
      "source": [
        "# 타이타닉 생존자 예측에서 임곗값을 변화시키면서 F1스코어를 포함한 평가지표 구해보기"
      ],
      "metadata": {
        "id": "1NQsCmcbQDi6"
      }
    },
    {
      "cell_type": "code",
      "source": [
        "def get_clf_eval(y_test,pred):\n",
        "  confusion=confusion_matrix(y_test,pred)\n",
        "  accuracy=accuracy_score(y_test,pred)\n",
        "  precision=precision_score(y_test,pred)\n",
        "  recall=recall_score(y_test,pred)\n",
        "  #F! 스코어 추가\n",
        "  f1=f1_score(y_test,pred)\n",
        "  print('오차 행렬')\n",
        "  print(confusion)\n",
        "  #f1 score print 추가\n",
        "  print('정확도:{0:.4f},정밀도:{1:.4f},재현율:{2:.4f},F1:{3:.4f}'.format(accuracy,precision,recall,f1))\n",
        "\n",
        "thresholds=[0.40,0.45,0.50,0.55,0.60]\n",
        "pred_proba=lr_clf.predict_proba(X_test)\n",
        "get_eval_by_threshold(y_test,pred_proba[:,1].reshape(-1,1),thresholds)"
      ],
      "metadata": {
        "id": "wNfyNFSJIFHt",
        "colab": {
          "base_uri": "https://localhost:8080/"
        },
        "outputId": "204d7d60-2222-49ec-83ef-dba782f3fbe1"
      },
      "execution_count": 35,
      "outputs": [
        {
          "output_type": "stream",
          "name": "stdout",
          "text": [
            "임곗값: 0.4\n",
            "오차 행렬\n",
            "[[98 20]\n",
            " [10 51]]\n",
            "정확도:0.8324,정밀도:0.7183,재현율:0.8361,F1:0.7727\n",
            "임곗값: 0.45\n",
            "오차 행렬\n",
            "[[103  15]\n",
            " [ 12  49]]\n",
            "정확도:0.8492,정밀도:0.7656,재현율:0.8033,F1:0.7840\n",
            "임곗값: 0.5\n",
            "오차 행렬\n",
            "[[104  14]\n",
            " [ 13  48]]\n",
            "정확도:0.8492,정밀도:0.7742,재현율:0.7869,F1:0.7805\n",
            "임곗값: 0.55\n",
            "오차 행렬\n",
            "[[109   9]\n",
            " [ 15  46]]\n",
            "정확도:0.8659,정밀도:0.8364,재현율:0.7541,F1:0.7931\n",
            "임곗값: 0.6\n",
            "오차 행렬\n",
            "[[112   6]\n",
            " [ 16  45]]\n",
            "정확도:0.8771,정밀도:0.8824,재현율:0.7377,F1:0.8036\n"
          ]
        }
      ]
    },
    {
      "cell_type": "markdown",
      "source": [
        "- F1 스코어는 임곗값이 0.6일 때 가장 좋은 값\n",
        "- 임곗값 0.6인 경우에 재현율이 크게 감소하고 있으니 주의"
      ],
      "metadata": {
        "id": "x6YZk7ScQNp4"
      }
    },
    {
      "cell_type": "markdown",
      "source": [
        "# ROC 곡선과 AUC"
      ],
      "metadata": {
        "id": "L4EW5H92IH9D"
      }
    },
    {
      "cell_type": "markdown",
      "source": [
        "- ROC 곡선(수신자 판단 곡선): 2차 대전 떄 통신 장비 성능 평가를 위해 고안된 수치였음. 일반적으로 의학분야에서 많이 사용. 머신러닝 이진 분류 모델의 예측 성능을 판단하는 중요한 평가 지표.\n",
        "- ROC 곡선은 FPR이 변할 때, TPR이 어떻게 변하는 지 나타내는 곡선\n",
        "- TPR = 재현율 = 민감도 이에 대응하는 지표로는 TNR인 특이성이 존재함. \n",
        "- 민감도: 실제값 Positive가 정확이 예측돼야 하는 수준을 나타냄(질병이 있는 사람을 질병이 있는 것으로 판정)\n",
        "- 특이성: TNR은 실제값 Negative가 정확히 예측돼야 하는 수준을 나타냄(질병이 없는 건강한 사람은 질병이 없는 것으로 음성 판정)"
      ],
      "metadata": {
        "id": "W9VsZluxQbFY"
      }
    },
    {
      "cell_type": "markdown",
      "source": [
        "#ROC curve() 이용해 타이타닉 생존자 예측 모델의 FPR,TPR, 임곗값 구해보기"
      ],
      "metadata": {
        "id": "aaIsClDARVGa"
      }
    },
    {
      "cell_type": "markdown",
      "source": [
        "- roc_curve(): ROC 곡선을 구하기 위해 제공되는 API, 반환값은 FRP, TPR, 임계값"
      ],
      "metadata": {
        "id": "v2Ve7ZMmRV1w"
      }
    },
    {
      "cell_type": "code",
      "source": [
        "\n",
        "from sklearn.metrics import roc_curve\n",
        "\n",
        "#레이블 값이 1일 때의 예측확률을 추출\n",
        "pred_proba_class1=lr_clf.predict_proba(X_test)[:,1]\n",
        "\n",
        "fprs,tprs,thresholds=roc_curve(y_test,pred_proba_class1)\n",
        "\n",
        "#반환된 임계값 배열 로우가 47건이므로 샘플로 10건만 추출하되, 임계값을 5 step으로 추출\n",
        "#thresholds[0]은 max(예측확률)+1로 임의 설정. 이를 제외하기 위해 np.arange는 1부터 시작\n",
        "thr_index=np.arange(1,thresholds.shape[0],5)\n",
        "\n",
        "print('샘플 추출을 위한 임곗값 배열의 index 10개:',thr_index)\n",
        "print('샘플용 10개의 임곗값:',np.round(thresholds[thr_index],2))\n",
        "\n",
        "#5 step 단위로 추출된 임계값에 따른 FPR,TPR 값\n",
        "print('샘플 임곗값 별 FPR:', np.round(fprs[thr_index],3))\n",
        "print('샘플 임곗값 별 TPR:',np.round(tprs[thr_index],3))"
      ],
      "metadata": {
        "id": "exCi-xXGIGpv",
        "colab": {
          "base_uri": "https://localhost:8080/"
        },
        "outputId": "acc192ca-8b0e-4af4-e318-decd5572de4a"
      },
      "execution_count": 36,
      "outputs": [
        {
          "output_type": "stream",
          "name": "stdout",
          "text": [
            "샘플 추출을 위한 임곗값 배열의 index 10개: [ 1  6 11 16 21 26 31 36 41 46 51]\n",
            "샘플용 10개의 임곗값: [0.97 0.65 0.63 0.56 0.45 0.4  0.35 0.15 0.13 0.11 0.11]\n",
            "샘플 임곗값 별 FPR: [0.    0.017 0.034 0.076 0.127 0.169 0.203 0.466 0.585 0.686 0.797]\n",
            "샘플 임곗값 별 TPR: [0.033 0.639 0.721 0.754 0.803 0.836 0.885 0.902 0.934 0.967 0.984]\n"
          ]
        }
      ]
    },
    {
      "cell_type": "markdown",
      "source": [
        "- 1에서 점점 작아지면서 FRP이 점점 커짐\n",
        "- FPR이 점점 커질 떄, TPR이 가파르게 커짐."
      ],
      "metadata": {
        "id": "gXSQFNyARmP_"
      }
    },
    {
      "cell_type": "markdown",
      "source": [
        "#FPR변화에 따른 TPR변화를 ROC곡선으로 시각화"
      ],
      "metadata": {
        "id": "nDPRPL02Ruen"
      }
    },
    {
      "cell_type": "code",
      "source": [
        "def roc_curve_plot(y_test,pred_proba_c1):\n",
        "  #임계값에 따른 FPR,TPR 값을 반환받음\n",
        "  fprs,tprs, thresholds=roc_curve(y_test,pred_proba_c1)\n",
        "  #ROC 곡선을 그래프 곡선으로 그림\n",
        "  plt.plot(fprs,tprs,label='ROC')\n",
        "\n",
        "  #FPR X축의 scale을 0.1단위로 변경, X,Y축 명 설정\n",
        "  start,end=plt.xlim()\n",
        "  plt.xticks(np.round(np.arange(start,end,0.1),2))\n",
        "  plt.xlim(0,1);plt.ylim(0,1)\n",
        "  plt.xlabel('FPR(1-Sensitivity)');plt.ylabel('TPR(recall)')\n",
        "  plt.legend()\n",
        "\n",
        "roc_curve_plot(y_test,pred_proba[:,1])"
      ],
      "metadata": {
        "id": "5NkdwkDmIJeF",
        "colab": {
          "base_uri": "https://localhost:8080/",
          "height": 283
        },
        "outputId": "7d0ede94-a1cb-444f-b4cb-b31959bc02d6"
      },
      "execution_count": 37,
      "outputs": [
        {
          "output_type": "display_data",
          "data": {
            "text/plain": [
              "<Figure size 432x288 with 1 Axes>"
            ],
            "image/png": "[encoded data removed]"
          },
          "metadata": {
            "needs_background": "light"
          }
        }
      ]
    },
    {
      "cell_type": "markdown",
      "source": [
        "- 일반적으로 ROC 곡선 자체는 FPR과 TPR의 변화를 확인할 때 이용하며, 분류 모델의 성능 평가 지표로는 ROC 곡선 면적에 기반한 AUC 값으로 결정한다.\n"
      ],
      "metadata": {
        "id": "jRI0K5IySYZe"
      }
    },
    {
      "cell_type": "markdown",
      "source": [
        "# AUC 면적"
      ],
      "metadata": {
        "id": "R0sAq42vRxt6"
      }
    },
    {
      "cell_type": "markdown",
      "source": [
        "- AUC(Area Under Cureve) : ROC 곡선 밑의 면적을 구한 것으로 일반적으로 1에 가까울수록 모델의 성능이 좋다.\n",
        "- ROC 곡선이 가파를수록 면적이 1에 가까워진다.\n",
        "- 앞에서 만든 get_clf_eval 함수에 ROC AUC 값을 측정하는 코드를 추가해보자."
      ],
      "metadata": {
        "id": "5Tetl-4lSbHp"
      }
    },
    {
      "cell_type": "code",
      "source": [
        "def get_clf_eval(y_test, pred=None, pred_proba=None): #평가 한번에 호출하는 함수\n",
        "  confusion = confusion_matrix(y_test, pred)\n",
        "  accuracy = accuracy_score(y_test, pred)\n",
        "  precision = precision_score(y_test, pred)\n",
        "  recall = recall_score(y_test, pred)\n",
        "  f1 = f1_score(y_test, pred)\n",
        "\n",
        "  #ROC-AUC 추가\n",
        "  roc_auc = roc_auc_score(y_test, pred_proba)\n",
        "\n",
        "  print('오차행렬')\n",
        "  print(confusion)\n",
        "  print('정확도 : {0:.4f}, 정밀도 : {1:.4f}, 재현율:{2:.4f}, F1 : {3:.4f}, AUC : {4:.4f}'.format(accuracy, precision, recall, f1, roc_auc))"
      ],
      "metadata": {
        "id": "JeIT4CU2ILmX"
      },
      "execution_count": 39,
      "outputs": []
    }
  ]
}