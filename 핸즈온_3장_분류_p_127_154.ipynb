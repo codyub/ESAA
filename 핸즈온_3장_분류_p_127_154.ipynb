{
  "nbformat": 4,
  "nbformat_minor": 0,
  "metadata": {
    "colab": {
      "provenance": [],
      "authorship_tag": "ABX9TyOYRo8iIT5W0Gb+ypdt5hSl",
      "include_colab_link": true
    },
    "kernelspec": {
      "name": "python3",
      "display_name": "Python 3"
    },
    "language_info": {
      "name": "python"
    }
  },
  "cells": [
    {
      "cell_type": "markdown",
      "metadata": {
        "id": "view-in-github",
        "colab_type": "text"
      },
      "source": [
        "<a href=\"https://colab.research.google.com/github/codyub/ESAA/blob/main/%ED%95%B8%EC%A6%88%EC%98%A8_3%EC%9E%A5_%EB%B6%84%EB%A5%98_p_127_154.ipynb\" target=\"_parent\"><img src=\"https://colab.research.google.com/assets/colab-badge.svg\" alt=\"Open In Colab\"/></a>"
      ]
    },
    {
      "cell_type": "markdown",
      "source": [
        "# 03 분류"
      ],
      "metadata": {
        "id": "vwuURQVseCIx"
      }
    },
    {
      "cell_type": "markdown",
      "source": [
        "# 3.1 MNIST\n",
        "- 각 이미지에는 어떠한 숫자인지 레이블이 존재함. "
      ],
      "metadata": {
        "id": "eW0IUJ5JeGPH"
      }
    },
    {
      "cell_type": "markdown",
      "source": [
        "# MNIST 데이터셋 내려받기"
      ],
      "metadata": {
        "id": "BHIRBTbCeRC-"
      }
    },
    {
      "cell_type": "code",
      "execution_count": 1,
      "metadata": {
        "colab": {
          "base_uri": "https://localhost:8080/"
        },
        "id": "22F4spoxbBWF",
        "outputId": "0af79365-498a-47f7-e75a-8e18ef261750"
      },
      "outputs": [
        {
          "output_type": "stream",
          "name": "stderr",
          "text": [
            "/usr/local/lib/python3.9/dist-packages/sklearn/datasets/_openml.py:932: FutureWarning: The default value of `parser` will change from `'liac-arff'` to `'auto'` in 1.4. You can set `parser='auto'` to silence this warning. Therefore, an `ImportError` will be raised from 1.4 if the dataset is dense and pandas is not installed. Note that the pandas parser may return different data types. See the Notes Section in fetch_openml's API doc for details.\n",
            "  warn(\n"
          ]
        },
        {
          "output_type": "execute_result",
          "data": {
            "text/plain": [
              "dict_keys(['data', 'target', 'frame', 'categories', 'feature_names', 'target_names', 'DESCR', 'details', 'url'])"
            ]
          },
          "metadata": {},
          "execution_count": 1
        }
      ],
      "source": [
        "from sklearn.datasets import fetch_openml\n",
        "mnist=fetch_openml('mnist_784', version=1)\n",
        "mnist.keys()"
      ]
    },
    {
      "cell_type": "markdown",
      "source": [
        "- 비슷한 딕셔너리 구조를 갖고 있음\n",
        ">- 데이터 셋을 설명하는 DESCR 키\n",
        ">- 샘플이 하나의 행, 특성이 하나의 열로 구성된 배열을 가진 data 키\n",
        ">- 레이블 배열을 담은 target 키\n",
        "\n"
      ],
      "metadata": {
        "id": "qJR84B5xcX2N"
      }
    },
    {
      "cell_type": "markdown",
      "source": [
        "# 배열을 살펴보자"
      ],
      "metadata": {
        "id": "nDNiO0iHerZ2"
      }
    },
    {
      "cell_type": "code",
      "source": [
        "X, y=mnist['data'], mnist['target']\n",
        "X.shape"
      ],
      "metadata": {
        "colab": {
          "base_uri": "https://localhost:8080/"
        },
        "id": "pBckuDQNcRut",
        "outputId": "9f1cb437-786c-4f8a-ada3-1624ddcc5212"
      },
      "execution_count": 2,
      "outputs": [
        {
          "output_type": "execute_result",
          "data": {
            "text/plain": [
              "(70000, 784)"
            ]
          },
          "metadata": {},
          "execution_count": 2
        }
      ]
    },
    {
      "cell_type": "markdown",
      "source": [
        "- 이미지가 70,000개, 이미지의 특성은 784개 (28*28 픽셀)"
      ],
      "metadata": {
        "id": "WH99bLiQcXnZ"
      }
    },
    {
      "cell_type": "code",
      "source": [
        "y.shape"
      ],
      "metadata": {
        "colab": {
          "base_uri": "https://localhost:8080/"
        },
        "id": "GVFNH-BVcUrN",
        "outputId": "3f894a7e-38b1-486c-e620-695e94deadf6"
      },
      "execution_count": 3,
      "outputs": [
        {
          "output_type": "execute_result",
          "data": {
            "text/plain": [
              "(70000,)"
            ]
          },
          "metadata": {},
          "execution_count": 3
        }
      ]
    },
    {
      "cell_type": "markdown",
      "source": [
        "# 데이터 셋에서 이미지를 확인하자"
      ],
      "metadata": {
        "id": "N4Or-ASdcYGl"
      }
    },
    {
      "cell_type": "code",
      "source": [
        "# 실제 책의 코드는 오류가 나옴, 인덱싱이 되지 않아 X부터 오류\n",
        "# import matplotlib as mpl\n",
        "# import matplotlib.pyplot as plt\n",
        "\n",
        "# some_digit=X[0]\n",
        "# some_digit_image=np.array(some_digit).reshape(28,28)\n",
        "\n",
        "# plt.imshow(some_digit_image, cmap='binary')\n",
        "# plt.axis('off')\n",
        "# plt.show()"
      ],
      "metadata": {
        "id": "t_HPdDMxfJNi"
      },
      "execution_count": 4,
      "outputs": []
    },
    {
      "cell_type": "code",
      "source": [
        "type(X) # X의 데이터 타입은 데이터 프레임"
      ],
      "metadata": {
        "colab": {
          "base_uri": "https://localhost:8080/"
        },
        "id": "YySsmALEhKVb",
        "outputId": "03371e54-c0c2-45ae-c6b8-51c983ffd941"
      },
      "execution_count": 5,
      "outputs": [
        {
          "output_type": "execute_result",
          "data": {
            "text/plain": [
              "pandas.core.frame.DataFrame"
            ]
          },
          "metadata": {},
          "execution_count": 5
        }
      ]
    },
    {
      "cell_type": "code",
      "source": [
        "X.iloc[0,:] # 데이터 프레임의 인덱싱 방법을 사용"
      ],
      "metadata": {
        "colab": {
          "base_uri": "https://localhost:8080/"
        },
        "id": "QTnZwtzbiLsY",
        "outputId": "11182060-5bdd-471a-cb20-81a843df5b7a"
      },
      "execution_count": 6,
      "outputs": [
        {
          "output_type": "execute_result",
          "data": {
            "text/plain": [
              "pixel1      0.0\n",
              "pixel2      0.0\n",
              "pixel3      0.0\n",
              "pixel4      0.0\n",
              "pixel5      0.0\n",
              "           ... \n",
              "pixel780    0.0\n",
              "pixel781    0.0\n",
              "pixel782    0.0\n",
              "pixel783    0.0\n",
              "pixel784    0.0\n",
              "Name: 0, Length: 784, dtype: float64"
            ]
          },
          "metadata": {},
          "execution_count": 6
        }
      ]
    },
    {
      "cell_type": "code",
      "source": [
        "import matplotlib as mpl\n",
        "import matplotlib.pyplot as plt\n",
        "import numpy as np\n",
        "\n",
        "some_digit=X.iloc[0,:]\n",
        "some_digit_image=np.array(some_digit).reshape(28,28)\n",
        "\n",
        "plt.imshow(some_digit_image, cmap='binary')\n",
        "plt.axis('off')\n",
        "plt.show()"
      ],
      "metadata": {
        "colab": {
          "base_uri": "https://localhost:8080/",
          "height": 248
        },
        "id": "q6pJgp9QcYWN",
        "outputId": "229d7d8a-d533-404a-fa79-965dc5b5277b"
      },
      "execution_count": 7,
      "outputs": [
        {
          "output_type": "display_data",
          "data": {
            "text/plain": [
              "<Figure size 432x288 with 1 Axes>"
            ],
            "image/png": "[encoded data removed]"
          },
          "metadata": {
            "needs_background": "light"
          }
        }
      ]
    },
    {
      "cell_type": "markdown",
      "source": [
        "- 숫자 5로 보이므로, 실제 레이블을 확인해보자"
      ],
      "metadata": {
        "id": "4QAbYzdccdHv"
      }
    },
    {
      "cell_type": "code",
      "source": [
        "y[0]"
      ],
      "metadata": {
        "colab": {
          "base_uri": "https://localhost:8080/",
          "height": 35
        },
        "id": "1_mDJDCAcdZl",
        "outputId": "29f87a58-04b0-4590-8d56-ef69e4015f53"
      },
      "execution_count": 8,
      "outputs": [
        {
          "output_type": "execute_result",
          "data": {
            "text/plain": [
              "'5'"
            ],
            "application/vnd.google.colaboratory.intrinsic+json": {
              "type": "string"
            }
          },
          "metadata": {},
          "execution_count": 8
        }
      ]
    },
    {
      "cell_type": "markdown",
      "source": [
        "- 레이블이 문자열로 되어 있으므로, y를 정수로 변환"
      ],
      "metadata": {
        "id": "uH_uxzn8cdvm"
      }
    },
    {
      "cell_type": "code",
      "source": [
        "y=y.astype(np.uint8)"
      ],
      "metadata": {
        "id": "Ti_cCxsNcd-t"
      },
      "execution_count": 9,
      "outputs": []
    },
    {
      "cell_type": "markdown",
      "source": [
        "# 데이터 조사 전 테스트 셋과 훈련 세트를 나누기\n",
        "- 이미 앞 60,00개는 훈련, 테스트는 뒤 10,000개"
      ],
      "metadata": {
        "id": "ZnCCnqgIcfVM"
      }
    },
    {
      "cell_type": "code",
      "source": [
        "X_train, X_test, y_train, y_test=X[:60000], X[60000:], y[:60000], y[60000:]"
      ],
      "metadata": {
        "id": "rMGEgd4Gcfkv"
      },
      "execution_count": 10,
      "outputs": []
    },
    {
      "cell_type": "markdown",
      "source": [
        "# 3.2 이진 분류기 훈련\n",
        "- 예) 숫자 5만 식별 --> 5와 5 아님만 구별하는 이진 분류기의 한 예가 됨"
      ],
      "metadata": {
        "id": "eMO5OJO9chPO"
      }
    },
    {
      "cell_type": "markdown",
      "source": [
        "# 분류 작업을 위해 타깃 백터 만들기"
      ],
      "metadata": {
        "id": "V1uEGR_hgDDa"
      }
    },
    {
      "cell_type": "code",
      "source": [
        "y_train_5 = (y_train==5) # 5는 true고, 다른 숫자는 모두 false\n",
        "y_test_5 = (y_test==5)"
      ],
      "metadata": {
        "id": "F4i8nS1Dch0d"
      },
      "execution_count": 11,
      "outputs": []
    },
    {
      "cell_type": "markdown",
      "source": [
        "# 분류 모델로 훈륜: 확률적 경사 하강법(SGD)\n",
        "- 매우 큰 데이터셋을 효율적으로 처리하는 장점\n",
        "- 한 번에 하나씩 훈련 샘플을 독립적로 처리하는 특징(온라인 학습에 적합)"
      ],
      "metadata": {
        "id": "cTxXNb4Hci-m"
      }
    },
    {
      "cell_type": "code",
      "source": [
        "from sklearn.linear_model import SGDClassifier\n",
        "\n",
        "sgd_clf=SGDClassifier(random_state=42)\n",
        "sgd_clf.fit(X_train, y_train_5)"
      ],
      "metadata": {
        "colab": {
          "base_uri": "https://localhost:8080/",
          "height": 75
        },
        "id": "Cy8GtFKtcjNg",
        "outputId": "1b1ba77b-e720-4acd-9247-bfe8fb4b4e83"
      },
      "execution_count": 12,
      "outputs": [
        {
          "output_type": "execute_result",
          "data": {
            "text/plain": [
              "SGDClassifier(random_state=42)"
            ],
            "text/html": [
              "<style>#sk-container-id-1 {color: black;background-color: white;}#sk-container-id-1 pre{padding: 0;}#sk-container-id-1 div.sk-toggleable {background-color: white;}#sk-container-id-1 label.sk-toggleable__label {cursor: pointer;display: block;width: 100%;margin-bottom: 0;padding: 0.3em;box-sizing: border-box;text-align: center;}#sk-container-id-1 label.sk-toggleable__label-arrow:before {content: \"▸\";float: left;margin-right: 0.25em;color: #696969;}#sk-container-id-1 label.sk-toggleable__label-arrow:hover:before {color: black;}#sk-container-id-1 div.sk-estimator:hover label.sk-toggleable__label-arrow:before {color: black;}#sk-container-id-1 div.sk-toggleable__content {max-height: 0;max-width: 0;overflow: hidden;text-align: left;background-color: #f0f8ff;}#sk-container-id-1 div.sk-toggleable__content pre {margin: 0.2em;color: black;border-radius: 0.25em;background-color: #f0f8ff;}#sk-container-id-1 input.sk-toggleable__control:checked~div.sk-toggleable__content {max-height: 200px;max-width: 100%;overflow: auto;}#sk-container-id-1 input.sk-toggleable__control:checked~label.sk-toggleable__label-arrow:before {content: \"▾\";}#sk-container-id-1 div.sk-estimator input.sk-toggleable__control:checked~label.sk-toggleable__label {background-color: #d4ebff;}#sk-container-id-1 div.sk-label input.sk-toggleable__control:checked~label.sk-toggleable__label {background-color: #d4ebff;}#sk-container-id-1 input.sk-hidden--visually {border: 0;clip: rect(1px 1px 1px 1px);clip: rect(1px, 1px, 1px, 1px);height: 1px;margin: -1px;overflow: hidden;padding: 0;position: absolute;width: 1px;}#sk-container-id-1 div.sk-estimator {font-family: monospace;background-color: #f0f8ff;border: 1px dotted black;border-radius: 0.25em;box-sizing: border-box;margin-bottom: 0.5em;}#sk-container-id-1 div.sk-estimator:hover {background-color: #d4ebff;}#sk-container-id-1 div.sk-parallel-item::after {content: \"\";width: 100%;border-bottom: 1px solid gray;flex-grow: 1;}#sk-container-id-1 div.sk-label:hover label.sk-toggleable__label {background-color: #d4ebff;}#sk-container-id-1 div.sk-serial::before {content: \"\";position: absolute;border-left: 1px solid gray;box-sizing: border-box;top: 0;bottom: 0;left: 50%;z-index: 0;}#sk-container-id-1 div.sk-serial {display: flex;flex-direction: column;align-items: center;background-color: white;padding-right: 0.2em;padding-left: 0.2em;position: relative;}#sk-container-id-1 div.sk-item {position: relative;z-index: 1;}#sk-container-id-1 div.sk-parallel {display: flex;align-items: stretch;justify-content: center;background-color: white;position: relative;}#sk-container-id-1 div.sk-item::before, #sk-container-id-1 div.sk-parallel-item::before {content: \"\";position: absolute;border-left: 1px solid gray;box-sizing: border-box;top: 0;bottom: 0;left: 50%;z-index: -1;}#sk-container-id-1 div.sk-parallel-item {display: flex;flex-direction: column;z-index: 1;position: relative;background-color: white;}#sk-container-id-1 div.sk-parallel-item:first-child::after {align-self: flex-end;width: 50%;}#sk-container-id-1 div.sk-parallel-item:last-child::after {align-self: flex-start;width: 50%;}#sk-container-id-1 div.sk-parallel-item:only-child::after {width: 0;}#sk-container-id-1 div.sk-dashed-wrapped {border: 1px dashed gray;margin: 0 0.4em 0.5em 0.4em;box-sizing: border-box;padding-bottom: 0.4em;background-color: white;}#sk-container-id-1 div.sk-label label {font-family: monospace;font-weight: bold;display: inline-block;line-height: 1.2em;}#sk-container-id-1 div.sk-label-container {text-align: center;}#sk-container-id-1 div.sk-container {/* jupyter's `normalize.less` sets `[hidden] { display: none; }` but bootstrap.min.css set `[hidden] { display: none !important; }` so we also need the `!important` here to be able to override the default hidden behavior on the sphinx rendered scikit-learn.org. See: https://github.com/scikit-learn/scikit-learn/issues/21755 */display: inline-block !important;position: relative;}#sk-container-id-1 div.sk-text-repr-fallback {display: none;}</style><div id=\"sk-container-id-1\" class=\"sk-top-container\"><div class=\"sk-text-repr-fallback\"><pre>SGDClassifier(random_state=42)</pre><b>In a Jupyter environment, please rerun this cell to show the HTML representation or trust the notebook. <br />On GitHub, the HTML representation is unable to render, please try loading this page with nbviewer.org.</b></div><div class=\"sk-container\" hidden><div class=\"sk-item\"><div class=\"sk-estimator sk-toggleable\"><input class=\"sk-toggleable__control sk-hidden--visually\" id=\"sk-estimator-id-1\" type=\"checkbox\" checked><label for=\"sk-estimator-id-1\" class=\"sk-toggleable__label sk-toggleable__label-arrow\">SGDClassifier</label><div class=\"sk-toggleable__content\"><pre>SGDClassifier(random_state=42)</pre></div></div></div></div></div>"
            ]
          },
          "metadata": {},
          "execution_count": 12
        }
      ]
    },
    {
      "cell_type": "markdown",
      "source": [
        "# 이 모델을 사용해 숫자 5의 이미지를 감지"
      ],
      "metadata": {
        "id": "XiWt7WdGgcPA"
      }
    },
    {
      "cell_type": "code",
      "source": [
        "sgd_clf.predict([some_digit])"
      ],
      "metadata": {
        "colab": {
          "base_uri": "https://localhost:8080/"
        },
        "id": "mhaPNCZVclXG",
        "outputId": "18527645-288d-4718-ea9a-d593e4e4dd81"
      },
      "execution_count": 13,
      "outputs": [
        {
          "output_type": "stream",
          "name": "stderr",
          "text": [
            "/usr/local/lib/python3.9/dist-packages/sklearn/base.py:420: UserWarning: X does not have valid feature names, but SGDClassifier was fitted with feature names\n",
            "  warnings.warn(\n"
          ]
        },
        {
          "output_type": "execute_result",
          "data": {
            "text/plain": [
              "array([ True])"
            ]
          },
          "metadata": {},
          "execution_count": 13
        }
      ]
    },
    {
      "cell_type": "markdown",
      "source": [
        "# 3.3 성능 측정\n",
        "- 분류기 평가는 회귀 모델보다 어려움\n",
        "- 다양한 성능 지표가 존재"
      ],
      "metadata": {
        "id": "HGuieIsdcnle"
      }
    },
    {
      "cell_type": "markdown",
      "source": [
        "# 3.3.1 교차 검증을 사용한 정확도 측정\n",
        "\n",
        "# 교차 검증 구현\n",
        "- 사이킷런에서 제공하는 기능보다 교차 검증 과정을 더 많이 제어해야 할 필요가 있는 경우 교차 검증 기능을 직접 구현한다. "
      ],
      "metadata": {
        "id": "94mwpolmh3Vw"
      }
    },
    {
      "cell_type": "code",
      "source": [
        "from sklearn.model_selection import StratifiedKFold\n",
        "from sklearn.base import clone\n",
        "\n",
        "skfolds=StratifiedKFold(n_splits=3, random_state=42, shuffle=True)\n",
        "\n",
        "for train_index, test_index in skfolds.split(X_train, y_train_5):\n",
        "  clone_clf=clone(sgd_clf)\n",
        "  X_train_folds=X_train.iloc[train_index]\n",
        "  y_train_folds=y_train_5.iloc[train_index]\n",
        "  X_test_fold=X_train.iloc[test_index]\n",
        "  y_test_fold=y_train_5.iloc[test_index]\n",
        "\n",
        "  clone_clf.fit(X_train_folds, y_train_folds)\n",
        "  y_pred=clone_clf.predict(X_test_fold)\n",
        "  n_correct=sum(y_pred==y_test_fold)\n",
        "  print(n_correct/len(y_pred)) # 0.9502, 0.96565, 0.96495 출력됨"
      ],
      "metadata": {
        "colab": {
          "base_uri": "https://localhost:8080/"
        },
        "id": "kzeGu-dPcoEV",
        "outputId": "48dbe857-0772-4fff-d35e-36860b3fa597"
      },
      "execution_count": 14,
      "outputs": [
        {
          "output_type": "stream",
          "name": "stdout",
          "text": [
            "0.9669\n",
            "0.91625\n",
            "0.96785\n"
          ]
        }
      ]
    },
    {
      "cell_type": "markdown",
      "source": [
        "- 왜인지 책과 다르게 나왔지만 오래되서 그런 것 같다. \n",
        "- StratifiedKFold는 클래스별 비율이 유지되도록 폴드를 만들기 위해 계층적 샘플링을 수행한다. 매 반복에서 분류기 객체를 복제하여 훈련 폴드로 훈련시키고 테스트 폴드로 예측을 만든다. 그런 다음 올바른 예측의 수를 세어 정확한 예측의 비율을 출력한다."
      ],
      "metadata": {
        "id": "wf7St1jijlC5"
      }
    },
    {
      "cell_type": "markdown",
      "source": [
        "# cross_val_score() 함수로 fold가 3개인 k-겹 교차검증을 사용해 SGDClassifier 모델을 평가\n",
        "- k-겹 교차검증은 훈련 세트를 k개의 폴드로 나누고, 각 폴드에 대해 예측을 만들고 평가하기 위해 나머지 폴드로 훈련시킨 모델을 사용한다"
      ],
      "metadata": {
        "id": "0mUz8bN-cp2t"
      }
    },
    {
      "cell_type": "code",
      "source": [
        "from sklearn.model_selection import cross_val_score\n",
        "cross_val_score(sgd_clf, X_train, y_train_5, cv=3, scoring='accuracy')"
      ],
      "metadata": {
        "colab": {
          "base_uri": "https://localhost:8080/"
        },
        "id": "uXfXrro2crAB",
        "outputId": "d592b905-3df4-450a-b547-4cd4cfa6d8f8"
      },
      "execution_count": 15,
      "outputs": [
        {
          "output_type": "execute_result",
          "data": {
            "text/plain": [
              "array([0.95035, 0.96035, 0.9604 ])"
            ]
          },
          "metadata": {},
          "execution_count": 15
        }
      ]
    },
    {
      "cell_type": "markdown",
      "source": [
        "# 모든 이미지를 '5 아님' 클래스로 분류하는 더미 분류기를 만들어 비교"
      ],
      "metadata": {
        "id": "P0IBJ36ocrVc"
      }
    },
    {
      "cell_type": "code",
      "source": [
        "from sklearn.base import BaseEstimator\n",
        "\n",
        "class Never5Classifier(BaseEstimator):\n",
        "  def fit(self, X, y=None):\n",
        "    return self\n",
        "  def predict(self, X):\n",
        "    return np.zeros((len(X), 1), dtype=bool)"
      ],
      "metadata": {
        "id": "LR8cQS6-cssA"
      },
      "execution_count": 16,
      "outputs": []
    },
    {
      "cell_type": "markdown",
      "source": [
        "# 모델 정확도 추측\n",
        "\n",
        "# 정확도를 분류기 성능 측정 지표로 선호하지 않는 이유: 불균형 데이터셋"
      ],
      "metadata": {
        "id": "TsbZslrKlc3B"
      }
    },
    {
      "cell_type": "code",
      "source": [
        "never_5_clf=Never5Classifier()\n",
        "cross_val_score(never_5_clf, X_train, y_train_5, cv=3, scoring='accuracy')"
      ],
      "metadata": {
        "colab": {
          "base_uri": "https://localhost:8080/"
        },
        "id": "CpHQKAW0cub1",
        "outputId": "7e4ac8ee-17ab-48c2-9214-b4eca4c31d24"
      },
      "execution_count": 17,
      "outputs": [
        {
          "output_type": "execute_result",
          "data": {
            "text/plain": [
              "array([0.91125, 0.90855, 0.90915])"
            ]
          },
          "metadata": {},
          "execution_count": 17
        }
      ]
    },
    {
      "cell_type": "markdown",
      "source": [
        "- 이미지의 10%만이 5이기 때문에 무조건 5아님으로 예측하면 정확히 맞출 확률이 90%"
      ],
      "metadata": {
        "id": "q1vGkTKJcu6c"
      }
    },
    {
      "cell_type": "markdown",
      "source": [
        "# 3.3.2 오차 행렬\n",
        "- 분류기의 성능 평가 방법\n",
        "- 클래스 A의 샘플이 클래스 B로 분류된 횟수를 세는 것\n",
        "- 오차 행렬을 만들기 위해서는 실제 타깃과 비교할 수 있도록 예측값을 만들어야 함\n",
        "- 테스트 세트로 예측을 만들 수 있지만, 여기서는 안 함\n",
        "- cross_val_predict() 함수 이용"
      ],
      "metadata": {
        "id": "Ki75TovocvKF"
      }
    },
    {
      "cell_type": "code",
      "source": [
        "from sklearn.model_selection import cross_val_predict\n",
        "\n",
        "y_train_pred=cross_val_predict(sgd_clf, X_train, y_train_5, cv=3)"
      ],
      "metadata": {
        "id": "H6Qbs0Hlcv_t"
      },
      "execution_count": 18,
      "outputs": []
    },
    {
      "cell_type": "markdown",
      "source": [
        "- k-fold 교차 검증을 수행하지만 평가 점수를 반환하지 않고, 각 테스트 폴드에서 얻은 예측을 반호나\n",
        "- 즉, 훈련 샘플에 대해 깨끗한 예측을 얻게 됨(모델이 훈련하는 동안 보지 못했던 데이터에 대해 에측)"
      ],
      "metadata": {
        "id": "htQpZDtCcxOt"
      }
    },
    {
      "cell_type": "markdown",
      "source": [
        "# confusion matrix() 함수를 통한 오차 행렬 만들기"
      ],
      "metadata": {
        "id": "_aGfUJu3m92D"
      }
    },
    {
      "cell_type": "code",
      "source": [
        "from sklearn.metrics import confusion_matrix\n",
        "confusion_matrix(y_train_5, y_train_pred)"
      ],
      "metadata": {
        "colab": {
          "base_uri": "https://localhost:8080/"
        },
        "id": "nxhS0_q9cxfF",
        "outputId": "4a47726f-ccfd-441e-9db6-6958d542cc65"
      },
      "execution_count": 19,
      "outputs": [
        {
          "output_type": "execute_result",
          "data": {
            "text/plain": [
              "array([[53892,   687],\n",
              "       [ 1891,  3530]])"
            ]
          },
          "metadata": {},
          "execution_count": 19
        }
      ]
    },
    {
      "cell_type": "markdown",
      "source": [
        "- 행: 실제 클래스 / 열: 예측한 클래스\n",
        "- 모두 제대로 분류 되었다면 오차 행렬의 주 대각성분만이 값을 갖게 됨"
      ],
      "metadata": {
        "id": "JUCZqUyLczn9"
      }
    },
    {
      "cell_type": "code",
      "source": [
        "y_train_perfect_predictions = y_train_5 # 완벽한 분류기의 경우\n",
        "confusion_matrix(y_train_5, y_train_perfect_predictions)"
      ],
      "metadata": {
        "colab": {
          "base_uri": "https://localhost:8080/"
        },
        "id": "Qz85b0Zgcz_N",
        "outputId": "6ebdc30b-a9af-4d26-edc0-87f9072d3b98"
      },
      "execution_count": 20,
      "outputs": [
        {
          "output_type": "execute_result",
          "data": {
            "text/plain": [
              "array([[54579,     0],\n",
              "       [    0,  5421]])"
            ]
          },
          "metadata": {},
          "execution_count": 20
        }
      ]
    },
    {
      "cell_type": "markdown",
      "source": [
        "# 양성 예측의 정확도: 정밀도 (TP/(TP+FP))\n",
        "# 분류기가 정확하게 감지한 양성 샘플의 비율: 진양성 비율, 민감도, 재현율 (TP/(TP+FN))"
      ],
      "metadata": {
        "id": "2uB0CscVc1wV"
      }
    },
    {
      "cell_type": "markdown",
      "source": [
        "# 3.3.3 정밀도와 재현율"
      ],
      "metadata": {
        "id": "bLWshPtJoD26"
      }
    },
    {
      "cell_type": "code",
      "source": [
        "from sklearn.metrics import precision_score, recall_score\n",
        "precision_score(y_train_5, y_train_pred) # == 3530/(3530+687)"
      ],
      "metadata": {
        "colab": {
          "base_uri": "https://localhost:8080/"
        },
        "id": "MwUhjMw8c2CN",
        "outputId": "00389722-300c-4353-a0f1-6773dd1200f9"
      },
      "execution_count": 21,
      "outputs": [
        {
          "output_type": "execute_result",
          "data": {
            "text/plain": [
              "0.8370879772350012"
            ]
          },
          "metadata": {},
          "execution_count": 21
        }
      ]
    },
    {
      "cell_type": "code",
      "source": [
        "recall_score(y_train_5, y_train_pred) # == 3530/(3530+1891)"
      ],
      "metadata": {
        "colab": {
          "base_uri": "https://localhost:8080/"
        },
        "id": "xMyGmHvpc3-2",
        "outputId": "63ded716-ac1c-4b16-b0d6-3068932b01b9"
      },
      "execution_count": 22,
      "outputs": [
        {
          "output_type": "execute_result",
          "data": {
            "text/plain": [
              "0.6511713705958311"
            ]
          },
          "metadata": {},
          "execution_count": 22
        }
      ]
    },
    {
      "cell_type": "markdown",
      "source": [
        "# F1 score: 정밀도와 재현율의 조화평균 (2*(정밀도*재현율)/(정밀도+재현율))"
      ],
      "metadata": {
        "id": "6ACsYwzyc3r-"
      }
    },
    {
      "cell_type": "code",
      "source": [
        "from sklearn.metrics import f1_score\n",
        "f1_score(y_train_5, y_train_pred)"
      ],
      "metadata": {
        "colab": {
          "base_uri": "https://localhost:8080/"
        },
        "id": "r2arVuTMc6Uo",
        "outputId": "dabcbf0b-5034-4b4d-f349-e8f36770904a"
      },
      "execution_count": 23,
      "outputs": [
        {
          "output_type": "execute_result",
          "data": {
            "text/plain": [
              "0.7325171197343846"
            ]
          },
          "metadata": {},
          "execution_count": 23
        }
      ]
    },
    {
      "cell_type": "markdown",
      "source": [
        "- 정밀도와 재현율이 비슷한 분류기는 F1 점수가 높음\n",
        "- 상황에 따라 정밀도나 재현율이 더 중요할 수 있음\n",
        "예) 감시카메라를 통해 좀도둑 잡아내는 분류기 -> 재현율이 높다면 정확도가 매우 작아도 됨.\n",
        "- 위 둘을 모두 얻을 수는 없음. 트레이드 오프 관계"
      ],
      "metadata": {
        "id": "9FGiRPcBc6yF"
      }
    },
    {
      "cell_type": "markdown",
      "source": [
        "# 3.3.4 정밀도/재현율 트레이드 오프\n",
        "- SGD Classifier는 결정 함수를 사용해 각 샘플의 점수를 계산함. \n",
        "- 점수가 임곗값보다 크면, 샘플을 양성, 아니면 음성에 할당함. \n",
        "- 사이킷 런에서는 임곗값을 직접 지정할 수는 없지만, 예측에 사용한 점수는 확인할 수 있다. \n",
        "- decision_function() 메서드를 predict()대신 호출 --> 각 샘플의 점수 얻음 --> 원하는 임계값을 정해 예측 만들기 가능"
      ],
      "metadata": {
        "id": "r7isCQc4o6qi"
      }
    },
    {
      "cell_type": "code",
      "source": [
        "y_scores=sgd_clf.decision_function([some_digit])\n",
        "y_scores"
      ],
      "metadata": {
        "colab": {
          "base_uri": "https://localhost:8080/"
        },
        "id": "uvqGo6fQc7Ol",
        "outputId": "3bc28d1d-0b41-4599-b04e-43188c045294"
      },
      "execution_count": 24,
      "outputs": [
        {
          "output_type": "stream",
          "name": "stderr",
          "text": [
            "/usr/local/lib/python3.9/dist-packages/sklearn/base.py:420: UserWarning: X does not have valid feature names, but SGDClassifier was fitted with feature names\n",
            "  warnings.warn(\n"
          ]
        },
        {
          "output_type": "execute_result",
          "data": {
            "text/plain": [
              "array([2164.22030239])"
            ]
          },
          "metadata": {},
          "execution_count": 24
        }
      ]
    },
    {
      "cell_type": "code",
      "source": [
        "threshold=0\n",
        "y_some_digit_pred=(y_scores>threshold) \n",
        "y_some_digit_pred # True 반환"
      ],
      "metadata": {
        "colab": {
          "base_uri": "https://localhost:8080/"
        },
        "id": "-fqC4vzVc-GL",
        "outputId": "a6545d8f-fce0-423a-f1ef-51826ce754eb"
      },
      "execution_count": 25,
      "outputs": [
        {
          "output_type": "execute_result",
          "data": {
            "text/plain": [
              "array([ True])"
            ]
          },
          "metadata": {},
          "execution_count": 25
        }
      ]
    },
    {
      "cell_type": "code",
      "source": [
        "threshold=8000\n",
        "y_some_digit_pred=(y_scores>threshold)\n",
        "y_some_digit_pred #False 반환"
      ],
      "metadata": {
        "colab": {
          "base_uri": "https://localhost:8080/"
        },
        "id": "2AnPnOLmc_fs",
        "outputId": "c3039ab0-97cd-44d8-e9aa-4ca2936b4ed2"
      },
      "execution_count": 26,
      "outputs": [
        {
          "output_type": "execute_result",
          "data": {
            "text/plain": [
              "array([False])"
            ]
          },
          "metadata": {},
          "execution_count": 26
        }
      ]
    },
    {
      "cell_type": "markdown",
      "source": [
        "- 임계값을 높이면 재현율이 줄어든다는 것을 보여줌. \n",
        "- 적절한 임계값은?"
      ],
      "metadata": {
        "id": "O9djGI_zdAUG"
      }
    },
    {
      "cell_type": "markdown",
      "source": [
        "# 적절한 임계값 정하기: cross_val_predict()\n",
        "- 훈련 세트에 있는 모든 샘플의 점수 구하기 -> 예측 결과가 아닌 점수를 반환 받도록 함 -> 정밀도와 재현율 계산"
      ],
      "metadata": {
        "id": "uuEpTo9-p3N6"
      }
    },
    {
      "cell_type": "code",
      "source": [
        "y_scores=cross_val_predict(sgd_clf, X_train, y_train_5, cv=3, method='decision_function')"
      ],
      "metadata": {
        "id": "aDsfckZPdAkl"
      },
      "execution_count": 27,
      "outputs": []
    },
    {
      "cell_type": "code",
      "source": [
        "from sklearn.metrics import precision_recall_curve\n",
        "\n",
        "precisions, recalls, thresholds = precision_recall_curve(y_train_5, y_scores)"
      ],
      "metadata": {
        "id": "O9DjqpJhdC50"
      },
      "execution_count": 28,
      "outputs": []
    },
    {
      "cell_type": "markdown",
      "source": [
        "# 정밀도와 재현율 함수 그리기"
      ],
      "metadata": {
        "id": "t6HTXHccqIBd"
      }
    },
    {
      "cell_type": "code",
      "source": [
        "def plot_precision_recall_vs_threshold(precision, recalls, thresholds):\n",
        "  plt.plot(thresholds, precisions[:-1], 'b--', label='정밀도')\n",
        "  plt.plot(thresholds, recalls[:-1], 'g--', label='재현율')\n",
        "  plt.legend() # 임계값을 표시하고 범례, 축 이름, 그리드를 추가\n",
        "\n",
        "plot_precision_recall_vs_threshold(precisions, recalls, thresholds)\n",
        "plt.show()"
      ],
      "metadata": {
        "colab": {
          "base_uri": "https://localhost:8080/",
          "height": 485
        },
        "id": "XLMuYWojdF81",
        "outputId": "ff7260c2-77e8-4b83-b1b5-12f8b28acbae"
      },
      "execution_count": 29,
      "outputs": [
        {
          "output_type": "stream",
          "name": "stderr",
          "text": [
            "/usr/local/lib/python3.9/dist-packages/IPython/core/pylabtools.py:128: UserWarning: Glyph 51221 (\\N{HANGUL SYLLABLE JEONG}) missing from current font.\n",
            "  fig.canvas.print_figure(bytes_io, **kw)\n",
            "/usr/local/lib/python3.9/dist-packages/IPython/core/pylabtools.py:128: UserWarning: Glyph 48128 (\\N{HANGUL SYLLABLE MIL}) missing from current font.\n",
            "  fig.canvas.print_figure(bytes_io, **kw)\n",
            "/usr/local/lib/python3.9/dist-packages/IPython/core/pylabtools.py:128: UserWarning: Glyph 46020 (\\N{HANGUL SYLLABLE DO}) missing from current font.\n",
            "  fig.canvas.print_figure(bytes_io, **kw)\n",
            "/usr/local/lib/python3.9/dist-packages/IPython/core/pylabtools.py:128: UserWarning: Glyph 51116 (\\N{HANGUL SYLLABLE JAE}) missing from current font.\n",
            "  fig.canvas.print_figure(bytes_io, **kw)\n",
            "/usr/local/lib/python3.9/dist-packages/IPython/core/pylabtools.py:128: UserWarning: Glyph 54788 (\\N{HANGUL SYLLABLE HYEON}) missing from current font.\n",
            "  fig.canvas.print_figure(bytes_io, **kw)\n",
            "/usr/local/lib/python3.9/dist-packages/IPython/core/pylabtools.py:128: UserWarning: Glyph 50984 (\\N{HANGUL SYLLABLE YUL}) missing from current font.\n",
            "  fig.canvas.print_figure(bytes_io, **kw)\n"
          ]
        },
        {
          "output_type": "display_data",
          "data": {
            "text/plain": [
              "<Figure size 432x288 with 1 Axes>"
            ],
            "image/png": "[encoded data removed]"
          },
          "metadata": {
            "needs_background": "light"
          }
        }
      ]
    },
    {
      "cell_type": "markdown",
      "source": [
        "- 정밀도 곡선이 재현율 곡선보다 울퉁불퉁함 --> 임계값을 올리더라도 정밀도가 낮아질 때가있음.\n",
        "- 파랑: 정밀도 / 초록: 재현율"
      ],
      "metadata": {
        "id": "8-u9vdD4dCcU"
      }
    },
    {
      "cell_type": "markdown",
      "source": [
        "# 좋은 정밀도/재현율 트레이드 오프를 선택하는 방법2: 재현율에 대한 정밀도 곡선을 그리기"
      ],
      "metadata": {
        "id": "WtcDrkZ6qitO"
      }
    },
    {
      "cell_type": "code",
      "source": [
        "threshold_90_precision = thresholds[np.argmax(precisions>=0.90)]\n",
        "threshold_90_precision"
      ],
      "metadata": {
        "colab": {
          "base_uri": "https://localhost:8080/"
        },
        "id": "_T2UcQkZdHcY",
        "outputId": "4e53b316-18c4-4278-9383-0f3c82c97a09"
      },
      "execution_count": 30,
      "outputs": [
        {
          "output_type": "execute_result",
          "data": {
            "text/plain": [
              "3370.019499143958"
            ]
          },
          "metadata": {},
          "execution_count": 30
        }
      ]
    },
    {
      "cell_type": "markdown",
      "source": [
        "- 훈련 세트에 대한 예측을 만들려면 분류기의 predict() 메서드를 호출하는 대신 다음 코드 실행"
      ],
      "metadata": {
        "id": "RFMMzEFYdIwK"
      }
    },
    {
      "cell_type": "code",
      "source": [
        "y_train_pred_90=(y_scores >= threshold_90_precision)"
      ],
      "metadata": {
        "id": "S_PDxtyBdI8M"
      },
      "execution_count": 31,
      "outputs": []
    },
    {
      "cell_type": "markdown",
      "source": [
        "# 이 예측에 대한 정밀도와 재현율을 확인"
      ],
      "metadata": {
        "id": "0EelgxPhq5A5"
      }
    },
    {
      "cell_type": "code",
      "source": [
        "precision_score(y_train_5, y_train_pred_90)"
      ],
      "metadata": {
        "colab": {
          "base_uri": "https://localhost:8080/"
        },
        "id": "k9d-eKlBdKJo",
        "outputId": "f986338c-a371-4baf-f5f8-bcfc7a41622b"
      },
      "execution_count": 32,
      "outputs": [
        {
          "output_type": "execute_result",
          "data": {
            "text/plain": [
              "0.9000345901072293"
            ]
          },
          "metadata": {},
          "execution_count": 32
        }
      ]
    },
    {
      "cell_type": "code",
      "source": [
        "recall_score(y_train_5, y_train_pred_90)"
      ],
      "metadata": {
        "colab": {
          "base_uri": "https://localhost:8080/"
        },
        "id": "Z738fMXTdK8d",
        "outputId": "eeb154e0-ccce-4847-fe28-5dac66a3851c"
      },
      "execution_count": 33,
      "outputs": [
        {
          "output_type": "execute_result",
          "data": {
            "text/plain": [
              "0.4799852425751706"
            ]
          },
          "metadata": {},
          "execution_count": 33
        }
      ]
    },
    {
      "cell_type": "markdown",
      "source": [
        "# 3.3.5 ROC 곡선(수신기 조작 특성)\n",
        "- FPR에 대한 TPR의 곡선 = 민감도(재현율)에 대한 1-특이도 그래프\n",
        "- 먼저 roc_curve() 함수를 이용해 여러 임계값에서 값을 계산해야 함"
      ],
      "metadata": {
        "id": "nv5BGccydMOd"
      }
    },
    {
      "cell_type": "code",
      "source": [
        "from sklearn.metrics import roc_curve\n",
        "\n",
        "fpr, tpr, thresholds = roc_curve(y_train_5, y_scores)"
      ],
      "metadata": {
        "id": "qMqpU2BhdMqk"
      },
      "execution_count": 34,
      "outputs": []
    },
    {
      "cell_type": "markdown",
      "source": [
        "# 곡선을 나타내기"
      ],
      "metadata": {
        "id": "fRJ2JkQjrYaa"
      }
    },
    {
      "cell_type": "code",
      "source": [
        "def plot_roc_curve(fpr, tpr, label=None):\n",
        "  plt.plot(fpr, tpr, linewidth=2, label=label)\n",
        "  plt.plot([0,1], [0,1], 'k--') #대각 점선\n",
        "  \n",
        "plot_roc_curve(fpr, tpr)\n",
        "plt.show()"
      ],
      "metadata": {
        "colab": {
          "base_uri": "https://localhost:8080/",
          "height": 265
        },
        "id": "nuVrHIQfdPQl",
        "outputId": "31a70d3e-c1d8-4f15-c8fb-3f45102c45d3"
      },
      "execution_count": 35,
      "outputs": [
        {
          "output_type": "display_data",
          "data": {
            "text/plain": [
              "<Figure size 432x288 with 1 Axes>"
            ],
            "image/png": "[encoded data removed]"
          },
          "metadata": {
            "needs_background": "light"
          }
        }
      ]
    },
    {
      "cell_type": "markdown",
      "source": [
        "- 트레이드 오프: 재현율이 높을수록 분류기가 만드는 거짓 양성(FPR)이 늘어남\n",
        "- 점선은 완전한 랜덤 분류기의 ROC 곡선을 뜻함\n",
        "- 좋은 분류기는 이 점선에서 최대한 멀리 떨어져 있어야 함\n"
      ],
      "metadata": {
        "id": "Rz7Dx5MWrbx2"
      }
    },
    {
      "cell_type": "markdown",
      "source": [
        "# 곡선 아래 면적(AUC) 측정: 분류기 비교 (완벽할수록 1에 가까움, 랜덤할수록 0.5에 가까움)"
      ],
      "metadata": {
        "id": "dPXJAmopdPw9"
      }
    },
    {
      "cell_type": "code",
      "source": [
        "from sklearn.metrics import roc_auc_score\n",
        "roc_auc_score(y_train_5, y_scores)"
      ],
      "metadata": {
        "colab": {
          "base_uri": "https://localhost:8080/"
        },
        "id": "0GC8l6N2dRJ_",
        "outputId": "7120ae15-3302-43ff-87bb-0247d195adc0"
      },
      "execution_count": 36,
      "outputs": [
        {
          "output_type": "execute_result",
          "data": {
            "text/plain": [
              "0.9604938554008616"
            ]
          },
          "metadata": {},
          "execution_count": 36
        }
      ]
    },
    {
      "cell_type": "markdown",
      "source": [
        "# Randomforest를 훈련시켜 SGD의 ROC 곡선과 ROC AUC 점수를 비교하기\n",
        "- Randomforestclassifier에는 decision_function() 메서드가 없는 대신 predict_proba() 메서드가 있음\n",
        "- 사이킷런 분류기는 일반적으로 두 메서드 모두 있음\n",
        "- predict_proba(): 샘플이 행, 클래스가 열, 샘플이 주어진 클래스에 속할 확률을 담은 배열 반환"
      ],
      "metadata": {
        "id": "EpU0Me7IdSYk"
      }
    },
    {
      "cell_type": "code",
      "source": [
        "from sklearn.ensemble import RandomForestClassifier\n",
        "\n",
        "forest_clf=RandomForestClassifier(random_state=42)\n",
        "y_probas_forest=cross_val_predict(forest_clf, X_train, y_train_5, cv=3, method='predict_proba')"
      ],
      "metadata": {
        "id": "2A4c2dlsdSn_"
      },
      "execution_count": 37,
      "outputs": []
    },
    {
      "cell_type": "markdown",
      "source": [
        "# 확률을 점수로 사용해 roc_curve 곡선 그리기"
      ],
      "metadata": {
        "id": "fCj-DPSsdTvN"
      }
    },
    {
      "cell_type": "code",
      "source": [
        "y_scores_forest=y_probas_forest[:,1] \n",
        "fpr_forest, tpr_forest, thresholds_forest=roc_curve(y_train_5, y_scores_forest)"
      ],
      "metadata": {
        "id": "cdeqIDTpdT-N"
      },
      "execution_count": 38,
      "outputs": []
    },
    {
      "cell_type": "code",
      "source": [
        "#이제 ROC 그려보자. 비교를 위해 첫번째 ROC도 그리자.\n",
        "plt.plot(fpr, tpr, 'b:', label='SGD')\n",
        "plot_roc_curve(fpr_forest, tpr_forest, 'RF')\n",
        "plt.legend(loc='lower right')\n",
        "plt.show()"
      ],
      "metadata": {
        "id": "xtkvkL04dWLt",
        "colab": {
          "base_uri": "https://localhost:8080/",
          "height": 265
        },
        "outputId": "47892c70-06af-474d-b785-e01946130163"
      },
      "execution_count": 39,
      "outputs": [
        {
          "output_type": "display_data",
          "data": {
            "text/plain": [
              "<Figure size 432x288 with 1 Axes>"
            ],
            "image/png": "[encoded data removed]"
          },
          "metadata": {
            "needs_background": "light"
          }
        }
      ]
    },
    {
      "cell_type": "markdown",
      "source": [
        "- Randomforestclassifier의 ROC 곡선이 왼쪽 위 모서리에 더 가까워 SGD보다 훨씬 좋아 보임"
      ],
      "metadata": {
        "id": "dErIQwkMdXPZ"
      }
    },
    {
      "cell_type": "code",
      "source": [
        "roc_auc_score(y_train_5, y_scores_forest)"
      ],
      "metadata": {
        "id": "daSx3cgOdX5H",
        "colab": {
          "base_uri": "https://localhost:8080/"
        },
        "outputId": "4770a3cb-9073-4c34-86bb-63f238902614"
      },
      "execution_count": 40,
      "outputs": [
        {
          "output_type": "execute_result",
          "data": {
            "text/plain": [
              "0.9983436731328145"
            ]
          },
          "metadata": {},
          "execution_count": 40
        }
      ]
    },
    {
      "cell_type": "markdown",
      "source": [
        "- 정밀도와 재현율 점수를 계산"
      ],
      "metadata": {
        "id": "MyEZ5n1vdXr_"
      }
    },
    {
      "cell_type": "markdown",
      "source": [
        "# 3.4 다중 분류 (다항 분류기)\n",
        "- SDG, 랜덤 포레스트, 나이브 베이즈 등: 여러 개의 클래스를 직접 처리 가능\n",
        "- 로지스틱, 서포트 벡터 등: 이진 분류만 가능\n",
        "- 이진 분류기를 여러 개 사용해 다중 클래스를 분류하는 기법도 존재함\n",
        "- OvR(A): 각 분류기의 결정 점수 중 가장 높은 것을 클래스로 선택 -> 이진 분류 알고리즘이 선호\n",
        "- OvO: 각 숫자의 조합마다 이진 분류기를 훈련 -> N개 클래스가 있다면, N*(N-1)/2 개의 분류기가 필요 --> MINIST 문제에서는 45개의 분류기를 훈련시켜야 함 "
      ],
      "metadata": {
        "id": "f4gfksQfe6Mc"
      }
    },
    {
      "cell_type": "markdown",
      "source": [
        "# 서포트 백터 머신 분류기 테스트"
      ],
      "metadata": {
        "id": "6xljnt2hgDI-"
      }
    },
    {
      "cell_type": "code",
      "source": [
        "from sklearn.svm import SVC\n",
        "svm_clf=SVC()\n",
        "svm_clf.fit(X_train, y_train) # 이제 y_train_5가 아니고, y_train 사용\n",
        "svm_clf.predict([some_digit])"
      ],
      "metadata": {
        "id": "OYWJQAaadaaH",
        "colab": {
          "base_uri": "https://localhost:8080/"
        },
        "outputId": "849f51f5-ef5b-4054-ee47-a649863387e6"
      },
      "execution_count": 41,
      "outputs": [
        {
          "output_type": "stream",
          "name": "stderr",
          "text": [
            "/usr/local/lib/python3.9/dist-packages/sklearn/base.py:420: UserWarning: X does not have valid feature names, but SVC was fitted with feature names\n",
            "  warnings.warn(\n"
          ]
        },
        {
          "output_type": "execute_result",
          "data": {
            "text/plain": [
              "array([5], dtype=uint8)"
            ]
          },
          "metadata": {},
          "execution_count": 41
        }
      ]
    },
    {
      "cell_type": "markdown",
      "source": [
        "- 원래 타깃 클래스(0~9) 를 사용해 훈련\n",
        "- 예측을 하나 만들었음 (정확!)\n",
        "- 내부에서는 사이킷런이 OvO 전략을 사용해 10개의 이진 분류기를 훈련시키고 각각의 결정 점수를 얻어 점수가 가장 높은 클래스를 선택"
      ],
      "metadata": {
        "id": "7N_XgVAbdb5n"
      }
    },
    {
      "cell_type": "markdown",
      "source": [
        "# OvO 전략을 사용하고 있는지 확인\n",
        "- decision_functino() 메서드 : 샘플 당 10개의 점수를 반환(클래스마다 하나씩의 점수)"
      ],
      "metadata": {
        "id": "DaOnwf6zglns"
      }
    },
    {
      "cell_type": "code",
      "source": [
        "some_digit_scores=svm_clf.decision_function([some_digit])\n",
        "some_digit_scores"
      ],
      "metadata": {
        "id": "bIBP6P7HdcKo",
        "colab": {
          "base_uri": "https://localhost:8080/"
        },
        "outputId": "45340fa5-56e6-4e58-c03a-beac2a16fe0c"
      },
      "execution_count": 42,
      "outputs": [
        {
          "output_type": "stream",
          "name": "stderr",
          "text": [
            "/usr/local/lib/python3.9/dist-packages/sklearn/base.py:420: UserWarning: X does not have valid feature names, but SVC was fitted with feature names\n",
            "  warnings.warn(\n"
          ]
        },
        {
          "output_type": "execute_result",
          "data": {
            "text/plain": [
              "array([[ 1.72501977,  2.72809088,  7.2510018 ,  8.3076379 , -0.31087254,\n",
              "         9.3132482 ,  1.70975103,  2.76765202,  6.23049537,  4.84771048]])"
            ]
          },
          "metadata": {},
          "execution_count": 42
        }
      ]
    },
    {
      "cell_type": "markdown",
      "source": [
        "- 가장 높은 점수인 9.3이 클래스 5에 해당하는 값"
      ],
      "metadata": {
        "id": "77Oga_Y-ddgv"
      }
    },
    {
      "cell_type": "code",
      "source": [
        "np.argmax(some_digit_scores)"
      ],
      "metadata": {
        "id": "312KDtlAdd09",
        "colab": {
          "base_uri": "https://localhost:8080/"
        },
        "outputId": "b4603fe6-1630-4a77-c519-a543fd067768"
      },
      "execution_count": 43,
      "outputs": [
        {
          "output_type": "execute_result",
          "data": {
            "text/plain": [
              "5"
            ]
          },
          "metadata": {},
          "execution_count": 43
        }
      ]
    },
    {
      "cell_type": "code",
      "source": [
        "svm_clf.classes_"
      ],
      "metadata": {
        "id": "3lAEECAXde5v",
        "colab": {
          "base_uri": "https://localhost:8080/"
        },
        "outputId": "b0d38d1e-80cc-4947-a240-6efb1ba82875"
      },
      "execution_count": 44,
      "outputs": [
        {
          "output_type": "execute_result",
          "data": {
            "text/plain": [
              "array([0, 1, 2, 3, 4, 5, 6, 7, 8, 9], dtype=uint8)"
            ]
          },
          "metadata": {},
          "execution_count": 44
        }
      ]
    },
    {
      "cell_type": "code",
      "source": [
        "svm_clf.classes_[5]"
      ],
      "metadata": {
        "id": "0wlsNwtfdfdV",
        "colab": {
          "base_uri": "https://localhost:8080/"
        },
        "outputId": "9d76902b-2dab-4b1d-d07b-fb660fbb10bc"
      },
      "execution_count": 45,
      "outputs": [
        {
          "output_type": "execute_result",
          "data": {
            "text/plain": [
              "5"
            ]
          },
          "metadata": {},
          "execution_count": 45
        }
      ]
    },
    {
      "cell_type": "markdown",
      "source": [
        "# 사이킷 런에서 OvO나 OvR을 사용하도록 강제: OneVsOneClassifier나 OneVsRestCllassifier 사용\n",
        "- 이진 분류기 인스턴스를 만들어 객체를 생성할 때 전달함"
      ],
      "metadata": {
        "id": "3_qD6JHYddbr"
      }
    },
    {
      "cell_type": "markdown",
      "source": [
        "# SVC 기반으로 OvR 전략을 사용하는 다중 분류기"
      ],
      "metadata": {
        "id": "bp5I3FqNdgku"
      }
    },
    {
      "cell_type": "code",
      "source": [
        "from sklearn.multiclass import OneVsRestClassifier\n",
        "ovr_clf=OneVsRestClassifier(SVC())\n",
        "ovr_clf.fit(X_train, y_train)\n",
        "ovr_clf.predict([some_digit])"
      ],
      "metadata": {
        "id": "LIclox5UdgzZ",
        "colab": {
          "base_uri": "https://localhost:8080/"
        },
        "outputId": "8b196472-e8ca-43e3-f5fb-c33c5d51c708"
      },
      "execution_count": 46,
      "outputs": [
        {
          "output_type": "stream",
          "name": "stderr",
          "text": [
            "/usr/local/lib/python3.9/dist-packages/sklearn/base.py:420: UserWarning: X does not have valid feature names, but SVC was fitted with feature names\n",
            "  warnings.warn(\n",
            "/usr/local/lib/python3.9/dist-packages/sklearn/base.py:420: UserWarning: X does not have valid feature names, but SVC was fitted with feature names\n",
            "  warnings.warn(\n",
            "/usr/local/lib/python3.9/dist-packages/sklearn/base.py:420: UserWarning: X does not have valid feature names, but SVC was fitted with feature names\n",
            "  warnings.warn(\n",
            "/usr/local/lib/python3.9/dist-packages/sklearn/base.py:420: UserWarning: X does not have valid feature names, but SVC was fitted with feature names\n",
            "  warnings.warn(\n",
            "/usr/local/lib/python3.9/dist-packages/sklearn/base.py:420: UserWarning: X does not have valid feature names, but SVC was fitted with feature names\n",
            "  warnings.warn(\n",
            "/usr/local/lib/python3.9/dist-packages/sklearn/base.py:420: UserWarning: X does not have valid feature names, but SVC was fitted with feature names\n",
            "  warnings.warn(\n",
            "/usr/local/lib/python3.9/dist-packages/sklearn/base.py:420: UserWarning: X does not have valid feature names, but SVC was fitted with feature names\n",
            "  warnings.warn(\n",
            "/usr/local/lib/python3.9/dist-packages/sklearn/base.py:420: UserWarning: X does not have valid feature names, but SVC was fitted with feature names\n",
            "  warnings.warn(\n",
            "/usr/local/lib/python3.9/dist-packages/sklearn/base.py:420: UserWarning: X does not have valid feature names, but SVC was fitted with feature names\n",
            "  warnings.warn(\n",
            "/usr/local/lib/python3.9/dist-packages/sklearn/base.py:420: UserWarning: X does not have valid feature names, but SVC was fitted with feature names\n",
            "  warnings.warn(\n"
          ]
        },
        {
          "output_type": "execute_result",
          "data": {
            "text/plain": [
              "array([5], dtype=uint8)"
            ]
          },
          "metadata": {},
          "execution_count": 46
        }
      ]
    },
    {
      "cell_type": "code",
      "source": [
        "len(ovr_clf.estimators_)"
      ],
      "metadata": {
        "id": "ioBtKbk6dkC_",
        "colab": {
          "base_uri": "https://localhost:8080/"
        },
        "outputId": "82d8e097-6148-4e13-949d-d10bc96d7f25"
      },
      "execution_count": 47,
      "outputs": [
        {
          "output_type": "execute_result",
          "data": {
            "text/plain": [
              "10"
            ]
          },
          "metadata": {},
          "execution_count": 47
        }
      ]
    },
    {
      "cell_type": "markdown",
      "source": [
        "# SGD 훈련시키기"
      ],
      "metadata": {
        "id": "R3up856Vjegw"
      }
    },
    {
      "cell_type": "code",
      "source": [
        "sgd_clf.fit(X_train, y_train)\n",
        "sgd_clf.predict([some_digit])"
      ],
      "metadata": {
        "id": "WnzRrwgLdkgP",
        "colab": {
          "base_uri": "https://localhost:8080/"
        },
        "outputId": "8a471713-59c1-4a88-9254-1f9c05ed38c6"
      },
      "execution_count": 48,
      "outputs": [
        {
          "output_type": "stream",
          "name": "stderr",
          "text": [
            "/usr/local/lib/python3.9/dist-packages/sklearn/base.py:420: UserWarning: X does not have valid feature names, but SGDClassifier was fitted with feature names\n",
            "  warnings.warn(\n"
          ]
        },
        {
          "output_type": "execute_result",
          "data": {
            "text/plain": [
              "array([3], dtype=uint8)"
            ]
          },
          "metadata": {},
          "execution_count": 48
        }
      ]
    },
    {
      "cell_type": "markdown",
      "source": [
        "- SGD는 직접 샘플을 다중 클래스로 분류할 수 있기 때문에, 별도로 사이킷런의 OvR이나 OvO를 적용할 필요가 없다.\n",
        "- decision_function() 메서드는 클래스마다 하나의 값을 반환 "
      ],
      "metadata": {
        "id": "Fmn8xncwdmqu"
      }
    },
    {
      "cell_type": "markdown",
      "source": [
        "# SGD 분류기가 클래스마다 부여한 점수를 확인"
      ],
      "metadata": {
        "id": "3OrnudeOnZtX"
      }
    },
    {
      "cell_type": "code",
      "source": [
        "sgd_clf.decision_function([some_digit])"
      ],
      "metadata": {
        "id": "LsdZX9N8dm42",
        "colab": {
          "base_uri": "https://localhost:8080/"
        },
        "outputId": "9b9211c0-9106-4248-aa4f-0bfb079d2d61"
      },
      "execution_count": 49,
      "outputs": [
        {
          "output_type": "stream",
          "name": "stderr",
          "text": [
            "/usr/local/lib/python3.9/dist-packages/sklearn/base.py:420: UserWarning: X does not have valid feature names, but SGDClassifier was fitted with feature names\n",
            "  warnings.warn(\n"
          ]
        },
        {
          "output_type": "execute_result",
          "data": {
            "text/plain": [
              "array([[-31893.03095419, -34419.69069632,  -9530.63950739,\n",
              "          1823.73154031, -22320.14822878,  -1385.80478895,\n",
              "        -26188.91070951, -16147.51323997,  -4604.35491274,\n",
              "        -12050.767298  ]])"
            ]
          },
          "metadata": {},
          "execution_count": 49
        }
      ]
    },
    {
      "cell_type": "markdown",
      "source": [
        "- 이 분류기가 예측 결과에 강한 확신을 보임\n",
        "- 대부분의 점수가 큰 음수, 클래스 5의 점수는 2412.5 --> 이 모델은 클래스 3을 조금 의심하고 있음"
      ],
      "metadata": {
        "id": "0AzFEfLDdoTd"
      }
    },
    {
      "cell_type": "markdown",
      "source": [
        "# 분류기 평가: 교차검증\n",
        "- SGD의 정확도 평가"
      ],
      "metadata": {
        "id": "Hau_FrM0n1fA"
      }
    },
    {
      "cell_type": "code",
      "source": [
        "cross_val_score(sgd_clf, X_train, y_train, cv=3, scoring='accuracy')"
      ],
      "metadata": {
        "id": "zQ-M3beIdohF",
        "colab": {
          "base_uri": "https://localhost:8080/"
        },
        "outputId": "86428482-ecd6-4082-a8ac-2ea5395be156"
      },
      "execution_count": 50,
      "outputs": [
        {
          "output_type": "execute_result",
          "data": {
            "text/plain": [
              "array([0.87365, 0.85835, 0.8689 ])"
            ]
          },
          "metadata": {},
          "execution_count": 50
        }
      ]
    },
    {
      "cell_type": "markdown",
      "source": [
        "- 랜덤 분류기의 경우 10% 정확도를 얻었을 것이므로, 이 점수가 나쁘지 않지만, 더 높일 여지가 있음 --> 스케일 조정"
      ],
      "metadata": {
        "id": "x_8tZYAMdqTu"
      }
    },
    {
      "cell_type": "code",
      "source": [
        "from sklearn.preprocessing import StandardScaler\n",
        "scaler=StandardScaler()\n",
        "X_train_scaled=scaler.fit_transform(X_train.astype(np.float64))\n",
        "cross_val_score(sgd_clf, X_train_scaled, y_train, cv=3, scoring='accuracy')"
      ],
      "metadata": {
        "id": "IXxrKLepdqlN",
        "colab": {
          "base_uri": "https://localhost:8080/"
        },
        "outputId": "f890c9f0-ea6a-4661-a3e4-ea5d6f3d822e"
      },
      "execution_count": 51,
      "outputs": [
        {
          "output_type": "execute_result",
          "data": {
            "text/plain": [
              "array([0.8983, 0.891 , 0.9018])"
            ]
          },
          "metadata": {},
          "execution_count": 51
        }
      ]
    },
    {
      "cell_type": "markdown",
      "source": [
        "# 3.5 에러 분석"
      ],
      "metadata": {
        "id": "cJHClFqEdrV8"
      }
    },
    {
      "cell_type": "markdown",
      "source": [
        "- 실제 프로젝트\n",
        "1) 데이터 준비 단계에서 가능한 선택 사항 탐색\n",
        "2) 여러 모델 시도\n",
        "3) 가장 좋은 몇 개를 골라 그리드서치를 이용해 하이퍼 파라미터를 튜닝\n",
        "4) 자동화\n",
        "\n",
        "- 가장 높은 모델을 찾았다는 가정하에 모델의 성능을 향상 시킬 방법을 찾기: 에러의 종류를 분석"
      ],
      "metadata": {
        "id": "fNhQTAtoohTw"
      }
    },
    {
      "cell_type": "markdown",
      "source": [
        "# 오차 행렬 살펴보기: cross_val_predict(), confusion_matrix() 함수 호출"
      ],
      "metadata": {
        "id": "0l5-jfB8pUXV"
      }
    },
    {
      "cell_type": "code",
      "source": [
        "y_train_pred=cross_val_predict(sgd_clf, X_train_scaled, y_train, cv=3)\n",
        "conf_mx=confusion_matrix(y_train, y_train_pred)\n",
        "conf_mx"
      ],
      "metadata": {
        "id": "JIV4cxUedr5t",
        "colab": {
          "base_uri": "https://localhost:8080/"
        },
        "outputId": "e5110c1b-3ab6-4a1e-a688-063839da8252"
      },
      "execution_count": 52,
      "outputs": [
        {
          "output_type": "execute_result",
          "data": {
            "text/plain": [
              "array([[5577,    0,   22,    5,    8,   43,   36,    6,  225,    1],\n",
              "       [   0, 6400,   37,   24,    4,   44,    4,    7,  212,   10],\n",
              "       [  27,   27, 5220,   92,   73,   27,   67,   36,  378,   11],\n",
              "       [  22,   17,  117, 5227,    2,  203,   27,   40,  403,   73],\n",
              "       [  12,   14,   41,    9, 5182,   12,   34,   27,  347,  164],\n",
              "       [  27,   15,   30,  168,   53, 4444,   75,   14,  535,   60],\n",
              "       [  30,   15,   42,    3,   44,   97, 5552,    3,  131,    1],\n",
              "       [  21,   10,   51,   30,   49,   12,    3, 5684,  195,  210],\n",
              "       [  17,   63,   48,   86,    3,  126,   25,   10, 5429,   44],\n",
              "       [  25,   18,   30,   64,  118,   36,    1,  179,  371, 5107]])"
            ]
          },
          "metadata": {},
          "execution_count": 52
        }
      ]
    },
    {
      "cell_type": "markdown",
      "source": [
        "- matplotlib 의 matshow() 함수를 사용해 이미지로 표현"
      ],
      "metadata": {
        "id": "pQAGeNtXph20"
      }
    },
    {
      "cell_type": "code",
      "source": [
        "plt.matshow(conf_mx, cmap=plt.cm.gray)\n",
        "plt.show()"
      ],
      "metadata": {
        "id": "V7NtQ4bfds_d",
        "colab": {
          "base_uri": "https://localhost:8080/",
          "height": 275
        },
        "outputId": "515a1df8-b02d-487f-da83-2d0ddaea03f3"
      },
      "execution_count": 53,
      "outputs": [
        {
          "output_type": "display_data",
          "data": {
            "text/plain": [
              "<Figure size 288x288 with 1 Axes>"
            ],
            "image/png": "[encoded data removed]"
          },
          "metadata": {
            "needs_background": "light"
          }
        }
      ]
    },
    {
      "cell_type": "markdown",
      "source": [
        "- 이 오차행렬은 대부분 이미지가 올바르게 분류되었음을 나타내는 주대각선에 있으므로 좋아보임\n",
        "- 숫자 5는 흐릿해 보임: 이미지가 적거나 분류기가 숫자 5를 다른 숫자만큼 잘 분류하지 못한다는 의미"
      ],
      "metadata": {
        "id": "fl_SQ1R4duHF"
      }
    },
    {
      "cell_type": "markdown",
      "source": [
        "# 에러 비율 비교\n",
        "- 오차 행렬의 각 값을 대응되는 클래스의 이미지 개수로 나눠(에러의 절대 개수가 아니라) 에러 비율을 비교한다(개수로 비교하면 이미지가 많은 클래스가 상대적으로 나쁘게 보임)"
      ],
      "metadata": {
        "id": "vpBvKacuqbnb"
      }
    },
    {
      "cell_type": "code",
      "source": [
        "row_sums=conf_mx.sum(axis=1, keepdims=True)\n",
        "norm_conf_mx=conf_mx/row_sums"
      ],
      "metadata": {
        "id": "cvR_-p-Bduk9"
      },
      "execution_count": 54,
      "outputs": []
    },
    {
      "cell_type": "markdown",
      "source": [
        "# 다른 항목은 그대로 유지하고 주대각선만 0으로 채워서 그래프 그리기"
      ],
      "metadata": {
        "id": "bCLNLl8uqurQ"
      }
    },
    {
      "cell_type": "code",
      "source": [
        "np.fill_diagonal(norm_conf_mx, 0)\n",
        "plt.matshow(norm_conf_mx, cmap=plt.cm.gray)\n",
        "plt.show()"
      ],
      "metadata": {
        "id": "qKKCzYyJdwlG",
        "colab": {
          "base_uri": "https://localhost:8080/",
          "height": 275
        },
        "outputId": "a3720389-7b05-4f54-f9a9-a19bb9fca99c"
      },
      "execution_count": 55,
      "outputs": [
        {
          "output_type": "display_data",
          "data": {
            "text/plain": [
              "<Figure size 288x288 with 1 Axes>"
            ],
            "image/png": "[encoded data removed]"
          },
          "metadata": {
            "needs_background": "light"
          }
        }
      ]
    },
    {
      "cell_type": "markdown",
      "source": [
        "- 행은 실제 클래스, 열은 예측한 클래스\n",
        "- 클래스 8의 열이 상당히 밝으므로 많은 이미지가 8로 잘못 분류 되었음을 암시\n",
        "- 하지만 클래스 8의 행은 괜찮음 = 실제 8은 적절히 8로 분류됨\n",
        "- 오차 행렬은 반드시 대칭인 것은 아님\n",
        "- 3,5가 많이 혼동되고 있는 것을 볼 수 있음\n",
        "- 8을 잘못 분류되는 것을 줄이도록 개선할 필요가 있다 --> 8이 아닌 8처럼 보이는 숫자 훈련 데이터를 더 많이 모아서 실제 8과 구분하도록 분류기를 학습시킬 수 있다.(예. 동심원의 수를 세는 알고리즘)\n",
        "- 개개의 에러를 분석해보면 분류기가 무슨 일을 하고, 왜 잘못되었는지 알 수 있다.\n",
        "- plot_digits()는 단순히 맷플롯립의 inshow() 함수를 사용하는 함수"
      ],
      "metadata": {
        "id": "lBqNwqpEdy5N"
      }
    },
    {
      "cell_type": "code",
      "source": [
        "# 숫자 그림을 위한 함수\n",
        "def plot_digits(instances, images_per_row=10, **options):\n",
        "    size = 28\n",
        "    images_per_row = min(len(instances), images_per_row)\n",
        "    # n_rows = ceil(len(instances) / images_per_row) 와 동일\n",
        "    n_rows = (len(instances) - 1) // images_per_row + 1\n",
        "\n",
        "    # 필요하면 그리드 끝을 채우기 위해 빈 이미지를 추가\n",
        "    n_empty = n_rows * images_per_row - len(instances)\n",
        "    padded_instances = np.concatenate([instances, np.zeros((n_empty, size * size))], axis=0)\n",
        "\n",
        "    # 배열의 크기를 바꾸어 28×28 이미지를 담은 그리드로 구성\n",
        "    image_grid = padded_instances.reshape((n_rows, images_per_row, size, size))\n",
        "\n",
        "    # 축 0(이미지 그리드의 수직축)과 2(이미지의 수직축)를 합치고 축 1과 3(두 수평축)을 합침\n",
        "    # 먼저 transpose()를 사용해 결합하려는 축을 옆으로 이동한 다음 합침\n",
        "    big_image = image_grid.transpose(0, 2, 1, 3).reshape(n_rows * size,\n",
        "                                                         images_per_row * size)\n",
        "    # 하나의 큰 이미지를 얻었으므로 출력\n",
        "    plt.imshow(big_image, cmap = mpl.cm.binary, **options)\n",
        "    plt.axis(\"off\")"
      ],
      "metadata": {
        "id": "30fiMHunGwL6"
      },
      "execution_count": 62,
      "outputs": []
    },
    {
      "cell_type": "code",
      "source": [
        "cl_a, cl_b=3,5\n",
        "X_aa=X_train[(y_train==cl_a)&(y_train_pred==cl_a)]\n",
        "X_ab=X_train[(y_train==cl_a)&(y_train_pred==cl_b)]\n",
        "X_ba=X_train[(y_train==cl_b)&(y_train_pred==cl_a)]\n",
        "X_bb=X_train[(y_train==cl_b)&(y_train_pred==cl_b)]\n",
        "\n",
        "plt.figure(figsize=(8,8))\n",
        "plt.subplot(221); plot_digits(X_aa.iloc[:25], images_per_row=5)\n",
        "plt.subplot(222); plot_digits(X_ab.iloc[:25], images_per_row=5)\n",
        "plt.subplot(223); plot_digits(X_ba.iloc[:25], images_per_row=5)\n",
        "plt.subplot(224); plot_digits(X_bb.iloc[:25], images_per_row=5)\n",
        "plt.show()"
      ],
      "metadata": {
        "id": "LzQ6e5sSd0ye",
        "colab": {
          "base_uri": "https://localhost:8080/",
          "height": 466
        },
        "outputId": "2a542bf0-80ee-4b65-c3a2-3b16a32f1ed6"
      },
      "execution_count": 63,
      "outputs": [
        {
          "output_type": "display_data",
          "data": {
            "text/plain": [
              "<Figure size 576x576 with 4 Axes>"
            ],
            "image/png": "[encoded data removed]"
          },
          "metadata": {
            "needs_background": "light"
          }
        }
      ]
    },
    {
      "cell_type": "markdown",
      "source": [
        "- 왼쪽의 두 개는 3으로 분류된 이미지, 오른쪽 두 개는 5로 분류된 이미지\n",
        "- 분류기가 잘못 분류한 숫자 일ㄹ부는 정말 잘못 쓰인 부분이 있기도 함\n",
        "- 대부분은 분류기가 실수한 이유를 알기 어렵다 --> 원인: 선형모델인 SGD 사용했기 때문에, 선형 분류기는 클래스마다 픽셀에 가중치를 할당하고 새로운 이미지에 대해 단순히 픽셀 강도의 가중치 합을 클래스의 점수로 계산하므로, 3과 5는 몇 개의 픽셀만 다르기 때문에 모델이 쉽게 혼동함\n",
        "- 이미지를 중앙에 위치시키고 회전되어 있지 않도록 전처리 하면 에러가 줄어들 것"
      ],
      "metadata": {
        "id": "kbIORELXd2v3"
      }
    },
    {
      "cell_type": "markdown",
      "source": [
        "# 3.6 다중 레이블 분류\n",
        "- 지금까지 각 샘플이 하나의 클래스에만 할당됨\n",
        "- 하지만 분류기가 샘플마다 여러 개의 클래스를 출력해야 할 때도 있음\n",
        "- 예를 들어 두 사람이 함께 있는 사진을 본다면 [1,1]: [있음, 있음] 출력을 해야 함\n",
        "- 다중 레이블 분류 시스템: 여러 개의 이진 꼬리표를 출력하는 분류 시스템"
      ],
      "metadata": {
        "id": "2aGhan9ktSf5"
      }
    },
    {
      "cell_type": "code",
      "source": [
        "from sklearn.neighbors import KNeighborsClassifier\n",
        "\n",
        "y_train_large=(y_train>=7)\n",
        "y_train_odd=(y_train%2==1)\n",
        "y_multilabel=np.c_[y_train_large, y_train_odd]\n",
        "\n",
        "knn_clf=KNeighborsClassifier()\n",
        "knn_clf.fit(X_train, y_multilabel)"
      ],
      "metadata": {
        "id": "IBPeE1mYd3El",
        "colab": {
          "base_uri": "https://localhost:8080/",
          "height": 75
        },
        "outputId": "19555c51-4176-4358-8b20-1ae33f317d6a"
      },
      "execution_count": 64,
      "outputs": [
        {
          "output_type": "execute_result",
          "data": {
            "text/plain": [
              "KNeighborsClassifier()"
            ],
            "text/html": [
              "<style>#sk-container-id-3 {color: black;background-color: white;}#sk-container-id-3 pre{padding: 0;}#sk-container-id-3 div.sk-toggleable {background-color: white;}#sk-container-id-3 label.sk-toggleable__label {cursor: pointer;display: block;width: 100%;margin-bottom: 0;padding: 0.3em;box-sizing: border-box;text-align: center;}#sk-container-id-3 label.sk-toggleable__label-arrow:before {content: \"▸\";float: left;margin-right: 0.25em;color: #696969;}#sk-container-id-3 label.sk-toggleable__label-arrow:hover:before {color: black;}#sk-container-id-3 div.sk-estimator:hover label.sk-toggleable__label-arrow:before {color: black;}#sk-container-id-3 div.sk-toggleable__content {max-height: 0;max-width: 0;overflow: hidden;text-align: left;background-color: #f0f8ff;}#sk-container-id-3 div.sk-toggleable__content pre {margin: 0.2em;color: black;border-radius: 0.25em;background-color: #f0f8ff;}#sk-container-id-3 input.sk-toggleable__control:checked~div.sk-toggleable__content {max-height: 200px;max-width: 100%;overflow: auto;}#sk-container-id-3 input.sk-toggleable__control:checked~label.sk-toggleable__label-arrow:before {content: \"▾\";}#sk-container-id-3 div.sk-estimator input.sk-toggleable__control:checked~label.sk-toggleable__label {background-color: #d4ebff;}#sk-container-id-3 div.sk-label input.sk-toggleable__control:checked~label.sk-toggleable__label {background-color: #d4ebff;}#sk-container-id-3 input.sk-hidden--visually {border: 0;clip: rect(1px 1px 1px 1px);clip: rect(1px, 1px, 1px, 1px);height: 1px;margin: -1px;overflow: hidden;padding: 0;position: absolute;width: 1px;}#sk-container-id-3 div.sk-estimator {font-family: monospace;background-color: #f0f8ff;border: 1px dotted black;border-radius: 0.25em;box-sizing: border-box;margin-bottom: 0.5em;}#sk-container-id-3 div.sk-estimator:hover {background-color: #d4ebff;}#sk-container-id-3 div.sk-parallel-item::after {content: \"\";width: 100%;border-bottom: 1px solid gray;flex-grow: 1;}#sk-container-id-3 div.sk-label:hover label.sk-toggleable__label {background-color: #d4ebff;}#sk-container-id-3 div.sk-serial::before {content: \"\";position: absolute;border-left: 1px solid gray;box-sizing: border-box;top: 0;bottom: 0;left: 50%;z-index: 0;}#sk-container-id-3 div.sk-serial {display: flex;flex-direction: column;align-items: center;background-color: white;padding-right: 0.2em;padding-left: 0.2em;position: relative;}#sk-container-id-3 div.sk-item {position: relative;z-index: 1;}#sk-container-id-3 div.sk-parallel {display: flex;align-items: stretch;justify-content: center;background-color: white;position: relative;}#sk-container-id-3 div.sk-item::before, #sk-container-id-3 div.sk-parallel-item::before {content: \"\";position: absolute;border-left: 1px solid gray;box-sizing: border-box;top: 0;bottom: 0;left: 50%;z-index: -1;}#sk-container-id-3 div.sk-parallel-item {display: flex;flex-direction: column;z-index: 1;position: relative;background-color: white;}#sk-container-id-3 div.sk-parallel-item:first-child::after {align-self: flex-end;width: 50%;}#sk-container-id-3 div.sk-parallel-item:last-child::after {align-self: flex-start;width: 50%;}#sk-container-id-3 div.sk-parallel-item:only-child::after {width: 0;}#sk-container-id-3 div.sk-dashed-wrapped {border: 1px dashed gray;margin: 0 0.4em 0.5em 0.4em;box-sizing: border-box;padding-bottom: 0.4em;background-color: white;}#sk-container-id-3 div.sk-label label {font-family: monospace;font-weight: bold;display: inline-block;line-height: 1.2em;}#sk-container-id-3 div.sk-label-container {text-align: center;}#sk-container-id-3 div.sk-container {/* jupyter's `normalize.less` sets `[hidden] { display: none; }` but bootstrap.min.css set `[hidden] { display: none !important; }` so we also need the `!important` here to be able to override the default hidden behavior on the sphinx rendered scikit-learn.org. See: https://github.com/scikit-learn/scikit-learn/issues/21755 */display: inline-block !important;position: relative;}#sk-container-id-3 div.sk-text-repr-fallback {display: none;}</style><div id=\"sk-container-id-3\" class=\"sk-top-container\"><div class=\"sk-text-repr-fallback\"><pre>KNeighborsClassifier()</pre><b>In a Jupyter environment, please rerun this cell to show the HTML representation or trust the notebook. <br />On GitHub, the HTML representation is unable to render, please try loading this page with nbviewer.org.</b></div><div class=\"sk-container\" hidden><div class=\"sk-item\"><div class=\"sk-estimator sk-toggleable\"><input class=\"sk-toggleable__control sk-hidden--visually\" id=\"sk-estimator-id-3\" type=\"checkbox\" checked><label for=\"sk-estimator-id-3\" class=\"sk-toggleable__label sk-toggleable__label-arrow\">KNeighborsClassifier</label><div class=\"sk-toggleable__content\"><pre>KNeighborsClassifier()</pre></div></div></div></div></div>"
            ]
          },
          "metadata": {},
          "execution_count": 64
        }
      ]
    },
    {
      "cell_type": "markdown",
      "source": [
        "- 위 코드는 각 숫자 이미지에 두 개의 타깃 레이블이 담긴 y_multilabel 배열을 만든다.\n",
        "- 큰 값(7,8,9) / 홀수인지 / KNN 인스턴스 만들고 다중 타깃 배열을 사용해 훈련"
      ],
      "metadata": {
        "id": "Sk8gYwTVua-S"
      }
    },
    {
      "cell_type": "markdown",
      "source": [
        "# 예측 만들기"
      ],
      "metadata": {
        "id": "_cpqBLJiu20U"
      }
    },
    {
      "cell_type": "code",
      "source": [
        "knn_clf.predict([some_digit])"
      ],
      "metadata": {
        "id": "lGlMrsNrd4xu",
        "colab": {
          "base_uri": "https://localhost:8080/"
        },
        "outputId": "333bef5f-5041-4fdf-c694-a155646315cd"
      },
      "execution_count": 65,
      "outputs": [
        {
          "output_type": "stream",
          "name": "stderr",
          "text": [
            "/usr/local/lib/python3.9/dist-packages/sklearn/base.py:420: UserWarning: X does not have valid feature names, but KNeighborsClassifier was fitted with feature names\n",
            "  warnings.warn(\n"
          ]
        },
        {
          "output_type": "execute_result",
          "data": {
            "text/plain": [
              "array([[False,  True]])"
            ]
          },
          "metadata": {},
          "execution_count": 65
        }
      ]
    },
    {
      "cell_type": "markdown",
      "source": [
        "- 5는 7보다 작고, 홀수라는 것을 함께 보여줌을 알 수 있다\n",
        "- 다중 레이블 분류기의 평가 방법은 프로젝트에 따라 다르다."
      ],
      "metadata": {
        "id": "TmB5YHPeu-ED"
      }
    },
    {
      "cell_type": "markdown",
      "source": [
        "# F1 점수를 구하기\n",
        "- F1 점수를 구하고, 간단하게 평균 점수를 계산, 다음 코드는 모든 레이블에 대한 F1 점수의 평균을 계산"
      ],
      "metadata": {
        "id": "gN1ng3mSd6H4"
      }
    },
    {
      "cell_type": "code",
      "source": [
        "y_train_knn_pred=cross_val_predict(knn_clf, X_train, y_multilabel, cv=3)\n",
        "f1_score(y_multilabel, y_train_knn_pred, average='macro')"
      ],
      "metadata": {
        "id": "oBL_w63yd6WV",
        "colab": {
          "base_uri": "https://localhost:8080/"
        },
        "outputId": "aa728ffb-f95a-4b8f-dd8c-8b1235b28ca9"
      },
      "execution_count": 66,
      "outputs": [
        {
          "output_type": "execute_result",
          "data": {
            "text/plain": [
              "0.976410265560605"
            ]
          },
          "metadata": {},
          "execution_count": 66
        }
      ]
    },
    {
      "cell_type": "markdown",
      "source": [
        "- 이 코드는 모든 레이블의 가중치가 같다고 가정한 것\n",
        "- 가중치를 주기 위해서는 average = \"weight\""
      ],
      "metadata": {
        "id": "PdSkIUDdd6oA"
      }
    },
    {
      "cell_type": "markdown",
      "source": [
        "# 3.7 다중 출력 분류\n",
        "- 다중 레이블 분류에서 한 레이블이 다중 클래스가 될 수 있도록 일반화한 것(즉, 값을 두 개 이상 가질 수 있다)\n"
      ],
      "metadata": {
        "id": "8iVbgOBtwPTa"
      }
    },
    {
      "cell_type": "markdown",
      "source": [
        "#MNIST에 잡음 추가"
      ],
      "metadata": {
        "id": "FSlNyKoowzZd"
      }
    },
    {
      "cell_type": "code",
      "source": [
        "noise=np.random.randint(0,100,(len(X_train), 784))\n",
        "X_train_mod=X_train+noise\n",
        "noise=np.random.randint(0,100,(len(X_test), 784))\n",
        "X_test_mod=X_test+noise\n",
        "y_train_mod=X_train\n",
        "y_test_mod=X_test"
      ],
      "metadata": {
        "id": "7X2xZUWzd6--"
      },
      "execution_count": 67,
      "outputs": []
    },
    {
      "cell_type": "markdown",
      "source": [
        "# 분류기 훈련으로 이미지를 깨끗하게 만들기"
      ],
      "metadata": {
        "id": "Fm8bnQBFd9D7"
      }
    },
    {
      "cell_type": "code",
      "source": [
        "knn_clf.fit(X_train_mod, y_train_mod)\n",
        "clean_digit=knn_clf.predict([X_test_mod.iloc[30]])\n",
        "plot_digits(clean_digit)"
      ],
      "metadata": {
        "id": "UcMv3BsNd9Pt",
        "colab": {
          "base_uri": "https://localhost:8080/",
          "height": 285
        },
        "outputId": "e2e68d55-df53-4461-8265-56cd864092b8"
      },
      "execution_count": 69,
      "outputs": [
        {
          "output_type": "stream",
          "name": "stderr",
          "text": [
            "/usr/local/lib/python3.9/dist-packages/sklearn/base.py:420: UserWarning: X does not have valid feature names, but KNeighborsClassifier was fitted with feature names\n",
            "  warnings.warn(\n"
          ]
        },
        {
          "output_type": "display_data",
          "data": {
            "text/plain": [
              "<Figure size 432x288 with 1 Axes>"
            ],
            "image/png": "[encoded data removed]"
          },
          "metadata": {
            "needs_background": "light"
          }
        }
      ]
    }
  ]
}