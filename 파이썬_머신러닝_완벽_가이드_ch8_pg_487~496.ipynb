{
  "nbformat": 4,
  "nbformat_minor": 0,
  "metadata": {
    "colab": {
      "provenance": [],
      "authorship_tag": "ABX9TyMNydp7nYS4j/F1y+o77+ZM",
      "include_colab_link": true
    },
    "kernelspec": {
      "name": "python3",
      "display_name": "Python 3"
    },
    "language_info": {
      "name": "python"
    }
  },
  "cells": [
    {
      "cell_type": "markdown",
      "metadata": {
        "id": "view-in-github",
        "colab_type": "text"
      },
      "source": [
        "<a href=\"https://colab.research.google.com/github/codyub/ESAA/blob/main/%ED%8C%8C%EC%9D%B4%EC%8D%AC_%EB%A8%B8%EC%8B%A0%EB%9F%AC%EB%8B%9D_%EC%99%84%EB%B2%BD_%EA%B0%80%EC%9D%B4%EB%93%9C_ch8_pg_487~496.ipynb\" target=\"_parent\"><img src=\"https://colab.research.google.com/assets/colab-badge.svg\" alt=\"Open In Colab\"/></a>"
      ]
    },
    {
      "cell_type": "markdown",
      "source": [
        "# 04 텍스트 분류 실습 - 20 뉴스 그룹 분류\n"
      ],
      "metadata": {
        "id": "AG-irXEu483F"
      }
    },
    {
      "cell_type": "markdown",
      "source": [
        "- 사이킷런의 예제 데이터\n",
        "- 텍스트 피처 벡터화로 변환하면 일반적으로 희소 행렬 형태가 됨\n",
        "- 희소 행렬에 분류를 효과적으로 잘 처리할 수 있는 알고리즘은 로지스틱 회귀, 선형 서포트 벡터 머신, 나이브 베이즈 등임\n",
        "- 로지스틱 회귀를 이용해 분류 수행\n",
        "- 텍스트 기반의 분류는 먼저, 텍스트를 정규화한 뒤 피처 벡터화를 적용, 이후에 적합한 머신러닝 알고리즘을 적용해 분류를 학습/예측/평가"
      ],
      "metadata": {
        "id": "f6EmAP4z5e_W"
      }
    },
    {
      "cell_type": "markdown",
      "source": [
        "# 텍스트 정규화\n"
      ],
      "metadata": {
        "id": "A4r1a1z99GR1"
      }
    },
    {
      "cell_type": "code",
      "execution_count": 1,
      "metadata": {
        "id": "2cOEEfXgulGv"
      },
      "outputs": [],
      "source": [
        "from sklearn.datasets import fetch_20newsgroups\n",
        "\n",
        "news_data=fetch_20newsgroups(subset='all', random_state=156)"
      ]
    },
    {
      "cell_type": "markdown",
      "source": [
        "- 어떤 키 값을 갖고 있는지 확인해보자"
      ],
      "metadata": {
        "id": "QSyEAqEN_seJ"
      }
    },
    {
      "cell_type": "code",
      "source": [
        "print(news_data.keys())"
      ],
      "metadata": {
        "id": "hTCRaSYS_vuJ",
        "colab": {
          "base_uri": "https://localhost:8080/"
        },
        "outputId": "3aa5199e-e8be-4a66-ea18-d76c4aac09e8"
      },
      "execution_count": 2,
      "outputs": [
        {
          "output_type": "stream",
          "name": "stdout",
          "text": [
            "dict_keys(['data', 'filenames', 'target_names', 'target', 'DESCR'])\n"
          ]
        }
      ]
    },
    {
      "cell_type": "markdown",
      "source": [
        "-filenames: API가 인터넷에서 내려받아 로컬 컴퓨터에 저장하는 디렉터리와 파일명을 지칭함"
      ],
      "metadata": {
        "id": "7KsCngqG_wH5"
      }
    },
    {
      "cell_type": "markdown",
      "source": [
        "- target class 구성 확인"
      ],
      "metadata": {
        "id": "I4fsZCPA_5tx"
      }
    },
    {
      "cell_type": "code",
      "source": [
        "import pandas as pd\n",
        "\n",
        "print('target 클래스의 값과 분포도 \\n', pd.Series(news_data.target).value_counts().sort_index())\n",
        "print('target 클래스의 이름들 \\n', news_data.target_names)"
      ],
      "metadata": {
        "id": "c08qq9OI_7wp",
        "colab": {
          "base_uri": "https://localhost:8080/"
        },
        "outputId": "cf591b10-e064-40d4-d1d4-96e91356a3f6"
      },
      "execution_count": 3,
      "outputs": [
        {
          "output_type": "stream",
          "name": "stdout",
          "text": [
            "target 클래스의 값과 분포도 \n",
            " 0     799\n",
            "1     973\n",
            "2     985\n",
            "3     982\n",
            "4     963\n",
            "5     988\n",
            "6     975\n",
            "7     990\n",
            "8     996\n",
            "9     994\n",
            "10    999\n",
            "11    991\n",
            "12    984\n",
            "13    990\n",
            "14    987\n",
            "15    997\n",
            "16    910\n",
            "17    940\n",
            "18    775\n",
            "19    628\n",
            "dtype: int64\n",
            "target 클래스의 이름들 \n",
            " ['alt.atheism', 'comp.graphics', 'comp.os.ms-windows.misc', 'comp.sys.ibm.pc.hardware', 'comp.sys.mac.hardware', 'comp.windows.x', 'misc.forsale', 'rec.autos', 'rec.motorcycles', 'rec.sport.baseball', 'rec.sport.hockey', 'sci.crypt', 'sci.electronics', 'sci.med', 'sci.space', 'soc.religion.christian', 'talk.politics.guns', 'talk.politics.mideast', 'talk.politics.misc', 'talk.religion.misc']\n"
          ]
        }
      ]
    },
    {
      "cell_type": "markdown",
      "source": [
        "- target 클래스의 값: 0~19까지 20개로 구성"
      ],
      "metadata": {
        "id": "R1R54ICG_9p8"
      }
    },
    {
      "cell_type": "markdown",
      "source": [
        "- 개별 데이터가 텍스트로 어떻게 구성되어 있는지 데이터를 한 개만 추출해 값을 확인"
      ],
      "metadata": {
        "id": "FGiLvsKjACjB"
      }
    },
    {
      "cell_type": "code",
      "source": [
        "print(news_data.data[0])"
      ],
      "metadata": {
        "id": "-Sgh0R76AHNL",
        "colab": {
          "base_uri": "https://localhost:8080/"
        },
        "outputId": "a84b3bf3-c083-44aa-9f80-b65a9d5d30e0"
      },
      "execution_count": 4,
      "outputs": [
        {
          "output_type": "stream",
          "name": "stdout",
          "text": [
            "From: egreen@east.sun.com (Ed Green - Pixel Cruncher)\n",
            "Subject: Re: Observation re: helmets\n",
            "Organization: Sun Microsystems, RTP, NC\n",
            "Lines: 21\n",
            "Distribution: world\n",
            "Reply-To: egreen@east.sun.com\n",
            "NNTP-Posting-Host: laser.east.sun.com\n",
            "\n",
            "In article 211353@mavenry.altcit.eskimo.com, maven@mavenry.altcit.eskimo.com (Norman Hamer) writes:\n",
            "> \n",
            "> The question for the day is re: passenger helmets, if you don't know for \n",
            ">certain who's gonna ride with you (like say you meet them at a .... church \n",
            ">meeting, yeah, that's the ticket)... What are some guidelines? Should I just \n",
            ">pick up another shoei in my size to have a backup helmet (XL), or should I \n",
            ">maybe get an inexpensive one of a smaller size to accomodate my likely \n",
            ">passenger? \n",
            "\n",
            "If your primary concern is protecting the passenger in the event of a\n",
            "crash, have him or her fitted for a helmet that is their size.  If your\n",
            "primary concern is complying with stupid helmet laws, carry a real big\n",
            "spare (you can put a big or small head in a big helmet, but not in a\n",
            "small one).\n",
            "\n",
            "---\n",
            "Ed Green, former Ninjaite |I was drinking last night with a biker,\n",
            "  Ed.Green@East.Sun.COM   |and I showed him a picture of you.  I said,\n",
            "DoD #0111  (919)460-8302  |\"Go on, get to know her, you'll like her!\"\n",
            " (The Grateful Dead) -->  |It seemed like the least I could do...\n",
            "\n",
            "\n"
          ]
        }
      ]
    },
    {
      "cell_type": "markdown",
      "source": [
        "- 텍스트 데이터에는 뉴스 그룹 기사의 내용만이 아닌, 뉴스그룹 제목, 작성자, 소속, 이메일 등 다양한 정보를 갖고 있음\n",
        "- 이 중 내용을 제외하고 제목 등의 다른 정보는 제거 -> target 클래스의 값과 유사한 데이터를 갖고 있는 경우가 많기 때문\n",
        "- 이 피처들을 포함하게 되면 왠만한 ML 알고리즘을 적용해도 상당히 높은 예측 성능을 보이므로, 이들 헤더와 푸터 정보를 포함하는 것은 이 장에서 수행하려는 텍스트 분석의 의도를 벗어남\n",
        "- remove: 뉴스그룹 기사와 헤더, 푸터 등을 제거 가능\n",
        "- subset: 학습 데이터와 테스트 데이터를 분리해 내려받음\n"
      ],
      "metadata": {
        "id": "SApnW5eSAIEx"
      }
    },
    {
      "cell_type": "code",
      "source": [
        "from sklearn.datasets import fetch_20newsgroups\n",
        "\n",
        "# subset='train'으로 학습용 데이터만 추출, remove=('headers', 'footers', 'quotes')로 내용만 추출\n",
        "train_news=fetch_20newsgroups(subset='train', remove=('headers', 'footers', 'quotes'), random_state=156)\n",
        "X_train=train_news.data\n",
        "y_train=train_news.target\n",
        "\n",
        "# subset='test'로 테스트용 데이터만 추출, remove=('headers', 'footers', 'quotes')로 내용만 추출\n",
        "test_news=fetch_20newsgroups(subset='test', remove=('headers', 'footers', 'quotes'), random_state=156)\n",
        "X_test=test_news.data\n",
        "y_test=test_news.target\n",
        "\n",
        "print('학습 데이터 크기 {0}, 테스트 데이터 크기 {1}'.format(len(train_news.data), len(test_news.data)))\n",
        "     "
      ],
      "metadata": {
        "id": "JBcsluHPDg7q",
        "colab": {
          "base_uri": "https://localhost:8080/"
        },
        "outputId": "2848f281-2af7-4d48-83c8-c3de7e393dbd"
      },
      "execution_count": 5,
      "outputs": [
        {
          "output_type": "stream",
          "name": "stdout",
          "text": [
            "학습 데이터 크기 11314, 테스트 데이터 크기 7532\n"
          ]
        }
      ]
    },
    {
      "cell_type": "markdown",
      "source": [
        "# 피처 벡터화 변환과 머신러닝 모델 학습/예측/평가\n",
        "- 학습 데이터는 11314개의 뉴스그룹 문서가 리스트 형태로 주어지고, 테스트 데이터는 7532개의 문서가 역시 리스트 형태로 주어짐 \n",
        "- CountVectorizer를 이용해 학습 데이터와 테스트 데이터의 텍스트를 피처 벡터화\n",
        "- 유의점: 테스트 데이터에서 CountVectorizer를 적용할 때는 반드시 학습 데이터를 이용해 fit()이 수행된 CountVectorizer 객체를 이용해 데이터를 변환해야 함 --> 그래야 학습 시 설정된 CountVectorizer의 피처 개수와 테스트 데이터를 CountVectorizer로 변환할 피처 개수가 같아짐\n",
        "\n",
        "- 테스트 데이터의 피처 벡터화 시 fit_transform()을 사용하면 안됨 \n",
        "- CountVectorizer.fit_transform(테스트 데이터)를 테스트 데이터 세트에 적용하면 테스트 데이터 기반으로 다시 수행하고 변환해서 학습 시 사용된 피처 개수와 예측 시 사용할 피처 개수가 달라짐"
      ],
      "metadata": {
        "id": "tidksBU5UwEB"
      }
    },
    {
      "cell_type": "code",
      "source": [
        "from sklearn.feature_extraction.text import CountVectorizer\n",
        "\n",
        "# Count Vectorization으로 피처 벡터화 변환 수행.\n",
        "cnt_vect=CountVectorizer()\n",
        "cnt_vect.fit(X_train)\n",
        "X_train_cnt_vect=cnt_vect.transform(X_train)\n",
        "\n",
        "# 학습 데이터로 fit된 CountVectorizer를 이용해 테스트 데이터를 피처 벡터화 변환 수행\n",
        "X_test_cnt_vect=cnt_vect.transform(X_test)\n",
        "\n",
        "print('학습 데이터 테스트의 CountVectorizer Shape:', X_train_cnt_vect.shape)"
      ],
      "metadata": {
        "colab": {
          "base_uri": "https://localhost:8080/"
        },
        "id": "7sRp55ZlUwc5",
        "outputId": "a9333603-e9fe-4553-ec1b-358d016cef3c"
      },
      "execution_count": 6,
      "outputs": [
        {
          "output_type": "stream",
          "name": "stdout",
          "text": [
            "학습 데이터 테스트의 CountVectorizer Shape: (11314, 101631)\n"
          ]
        }
      ]
    },
    {
      "cell_type": "markdown",
      "source": [
        "- 학습 데이터를 CountVectorizer로 피처를 추출한 결과 11314개 문서에서 피처(단어)가 101631개로 만들어짐\n",
        "\n",
        "- 이렇게 피처 벡터화된 데이터에 로지스틱 회귀를 적용해 뉴스그룹에 대한 분류를 예측"
      ],
      "metadata": {
        "id": "nXR_a6I0Ux5I"
      }
    },
    {
      "cell_type": "code",
      "source": [
        "from sklearn.linear_model import LogisticRegression\n",
        "from sklearn.metrics import accuracy_score\n",
        "\n",
        "# LogisticRegression을 이용해 학습/예측/평가 수행\n",
        "lr_clf=LogisticRegression()\n",
        "lr_clf.fit(X_train_cnt_vect, y_train)\n",
        "pred=lr_clf.predict(X_test_cnt_vect)\n",
        "print('CountVectorized Logistic Regression의 예측 정확도는 {0:.3f}'.format(accuracy_score(y_test, pred)))"
      ],
      "metadata": {
        "colab": {
          "base_uri": "https://localhost:8080/"
        },
        "id": "sZRrKsZxUyI3",
        "outputId": "8ceec5c7-911b-43dd-c543-cee3323bf61e"
      },
      "execution_count": 7,
      "outputs": [
        {
          "output_type": "stream",
          "name": "stdout",
          "text": [
            "CountVectorized Logistic Regression의 예측 정확도는 0.606\n"
          ]
        },
        {
          "output_type": "stream",
          "name": "stderr",
          "text": [
            "/usr/local/lib/python3.9/dist-packages/sklearn/linear_model/_logistic.py:458: ConvergenceWarning: lbfgs failed to converge (status=1):\n",
            "STOP: TOTAL NO. of ITERATIONS REACHED LIMIT.\n",
            "\n",
            "Increase the number of iterations (max_iter) or scale the data as shown in:\n",
            "    https://scikit-learn.org/stable/modules/preprocessing.html\n",
            "Please also refer to the documentation for alternative solver options:\n",
            "    https://scikit-learn.org/stable/modules/linear_model.html#logistic-regression\n",
            "  n_iter_i = _check_optimize_result(\n"
          ]
        }
      ]
    },
    {
      "cell_type": "markdown",
      "source": [
        "- Count 기반으로 피처 벡터화가 적용된 데이터 세트에 대한 로지스틱 회귀의 예측 정확도는 약 0.606\n",
        "\n",
        "\n",
        "\n"
      ],
      "metadata": {
        "id": "tgE3P_ZiU0xY"
      }
    },
    {
      "cell_type": "markdown",
      "source": [
        "- Count 기반 말고 TF-IDF 기반으로 벡터화를 변경해 수행"
      ],
      "metadata": {
        "id": "DN3gILuLXmEg"
      }
    },
    {
      "cell_type": "code",
      "source": [
        "from sklearn.feature_extraction.text import TfidfVectorizer\n",
        "\n",
        "# TF-IDF 벡터화로 학습 데이터 세트와 테스트 데이터 세트 변환.\n",
        "tfidf_vect=TfidfVectorizer()\n",
        "tfidf_vect.fit(X_train)\n",
        "X_train_tfidf_vect=tfidf_vect.transform(X_train)\n",
        "X_test_tfidf_vect=tfidf_vect.transform(X_test)\n",
        "\n",
        "# LogisticRegression을 이용해 학습/예측/평가 수행\n",
        "lr_clf=LogisticRegression()\n",
        "lr_clf.fit(X_train_tfidf_vect, y_train)\n",
        "pred=lr_clf.predict(X_test_tfidf_vect)\n",
        "print('TF-IDF Logistic Regression의 예측 정확도는 {0:.3f}'.format(accuracy_score(y_test, pred)))"
      ],
      "metadata": {
        "colab": {
          "base_uri": "https://localhost:8080/"
        },
        "id": "SAOl5Vl4U09_",
        "outputId": "0e355a30-ee94-402d-99cb-7bf08fb5b29b"
      },
      "execution_count": 8,
      "outputs": [
        {
          "output_type": "stream",
          "name": "stdout",
          "text": [
            "TF-IDF Logistic Regression의 예측 정확도는 0.674\n"
          ]
        }
      ]
    },
    {
      "cell_type": "markdown",
      "source": [
        "- TF-IDF가 단순 카운트보다는 높은 정확도 제공. \n",
        "- 일반적으로 문서 내에 텍스트가 많고 많은 문서를 가지는 텍스트 분석에서 카운트 벡터화보다는 TF-IDF가 좋은 예측 결과를 도출\n",
        "\n",
        "- 텍스트 분석에서 머신러닝 모델의 성능을 향상시키는 중요한 2가지 방법은 최적의 ML 알고리즘을 선택하는 것과 최상의 피처 전처리를 수행하는 것. \n",
        "- 텍스트 정규화나 count/tf-idf 기반 피처 벡터화를 어떻게 효과적으로 적용했는지가 텍스트 기반의 머신러닝 성능에 큰 영향을 미칠 수 있음. \n"
      ],
      "metadata": {
        "id": "7eYNmrFEU2QK"
      }
    },
    {
      "cell_type": "markdown",
      "source": [
        "- 앞의 TF-IDF 벡터화는 기본 파라미터만 적용했지만, 좀 더 다양한 파라미터를 적용하기\n",
        "- 텍스트 분석에서 머신러닝 모델의 성능을 향상시키는 중요한 2가지방법\n",
        "1) 최적의 ML 알고리즘을 선택\n",
        "2) 최상의 피처 전처리를 수행하는 것"
      ],
      "metadata": {
        "id": "JM9BEJkbX9Pv"
      }
    },
    {
      "cell_type": "code",
      "source": [
        "# stop words 필터링을 추가하고 ngram을 기본 (1,1)에서 (1,2)로 변경해 피처 벡터화 적용.\n",
        "tfidf_vect=TfidfVectorizer(stop_words='english', ngram_range=(1,2), max_df=300)\n",
        "tfidf_vect.fit(X_train)\n",
        "X_train_tfidf_vect=tfidf_vect.transform(X_train)\n",
        "X_test_tfidf_vect=tfidf_vect.transform(X_test)\n",
        "\n",
        "# LogisticRegression을 이용해 학습/예측/평가 수행\n",
        "lr_clf=LogisticRegression()\n",
        "lr_clf.fit(X_train_tfidf_vect, y_train)\n",
        "pred=lr_clf.predict(X_test_tfidf_vect)\n",
        "print('TF-IDF Vectorized Logistic Regression의 예측 정확도는 {0:.3f}'.format(accuracy_score(y_test, pred)))"
      ],
      "metadata": {
        "colab": {
          "base_uri": "https://localhost:8080/"
        },
        "id": "YMZFRUgiU2kX",
        "outputId": "3c8ca8e3-f1d8-4291-d45f-d9c20b5575d3"
      },
      "execution_count": 9,
      "outputs": [
        {
          "output_type": "stream",
          "name": "stdout",
          "text": [
            "TF-IDF Vectorized Logistic Regression의 예측 정확도는 0.692\n"
          ]
        }
      ]
    },
    {
      "cell_type": "markdown",
      "source": [
        "- 이번에는 GridSearchCV를 이용해 로지스틱 회귀의 하이퍼 파라미터 최적화를 수행. \n",
        "- 로지스틱 회귀의 C 파라미터만 변경하며 최적의 C값을 찾고 이 C값으로 학습된 모델에서 테스트 데이터로 예측해 성능을 평가.\n",
        "\n"
      ],
      "metadata": {
        "id": "gXKfePltU400"
      }
    },
    {
      "cell_type": "code",
      "source": [
        "from sklearn.model_selection import GridSearchCV\n",
        "\n",
        "# 최적 C 값 도출 튜닝 수행. CV는 3 폴드 세트로 설정.\n",
        "params={'C':[5, 10]} #시간 문제로 0.01, 0.1, 1, 5, 10 중 5, 10만 모델링링\n",
        "grid_cv_lr=GridSearchCV(lr_clf, param_grid=params, cv=3, scoring='accuracy', verbose=1)\n",
        "grid_cv_lr.fit(X_train_tfidf_vect, y_train)\n",
        "print('Logistic Regression best C parameter:', grid_cv_lr.best_params_)\n",
        "\n",
        "# 최적 C 값으로 학습된 grid_cv로 예측 및 정확도 평가\n",
        "pred=grid_cv_lr.predict(X_test_tfidf_vect)\n",
        "print('TF-IDF Vectorized Logistic Regression 의 예측 정확도는 {0:.3f}'.format(accuracy_score(y_test, pred)))"
      ],
      "metadata": {
        "colab": {
          "base_uri": "https://localhost:8080/"
        },
        "id": "tCTldq7fU5FP",
        "outputId": "83918220-a0f1-49a4-8185-a5d3afc73ff3"
      },
      "execution_count": null,
      "outputs": [
        {
          "output_type": "stream",
          "name": "stdout",
          "text": [
            "Fitting 3 folds for each of 2 candidates, totalling 6 fits\n"
          ]
        },
        {
          "output_type": "stream",
          "name": "stderr",
          "text": [
            "/usr/local/lib/python3.9/dist-packages/sklearn/linear_model/_logistic.py:458: ConvergenceWarning: lbfgs failed to converge (status=1):\n",
            "STOP: TOTAL NO. of ITERATIONS REACHED LIMIT.\n",
            "\n",
            "Increase the number of iterations (max_iter) or scale the data as shown in:\n",
            "    https://scikit-learn.org/stable/modules/preprocessing.html\n",
            "Please also refer to the documentation for alternative solver options:\n",
            "    https://scikit-learn.org/stable/modules/linear_model.html#logistic-regression\n",
            "  n_iter_i = _check_optimize_result(\n",
            "/usr/local/lib/python3.9/dist-packages/sklearn/linear_model/_logistic.py:458: ConvergenceWarning: lbfgs failed to converge (status=1):\n",
            "STOP: TOTAL NO. of ITERATIONS REACHED LIMIT.\n",
            "\n",
            "Increase the number of iterations (max_iter) or scale the data as shown in:\n",
            "    https://scikit-learn.org/stable/modules/preprocessing.html\n",
            "Please also refer to the documentation for alternative solver options:\n",
            "    https://scikit-learn.org/stable/modules/linear_model.html#logistic-regression\n",
            "  n_iter_i = _check_optimize_result(\n",
            "/usr/local/lib/python3.9/dist-packages/sklearn/linear_model/_logistic.py:458: ConvergenceWarning: lbfgs failed to converge (status=1):\n",
            "STOP: TOTAL NO. of ITERATIONS REACHED LIMIT.\n",
            "\n",
            "Increase the number of iterations (max_iter) or scale the data as shown in:\n",
            "    https://scikit-learn.org/stable/modules/preprocessing.html\n",
            "Please also refer to the documentation for alternative solver options:\n",
            "    https://scikit-learn.org/stable/modules/linear_model.html#logistic-regression\n",
            "  n_iter_i = _check_optimize_result(\n"
          ]
        }
      ]
    },
    {
      "cell_type": "markdown",
      "source": [
        "\n",
        "-  C가 10일 때 가장 좋은 예측 성능을 나타냄\n",
        "\n"
      ],
      "metadata": {
        "id": "FjRA9fWKU6Fw"
      }
    },
    {
      "cell_type": "markdown",
      "source": [
        "# 사이킷런 파이프라인(Pipeline) 사용 및 GridSearchCV와의 결합\n",
        "- 사이킷런의 파이프라인 클래스 이용하면 피처 벡터화와 ML 알고리즘 학습/예측을 위한 코드 작성을 한 번에 진행 가능\n",
        "- 일반적인 머신러닝에서 파이프라인이란 데이터의 가공, 변환 등의 전처리와 알고리즘 적용을 한꺼번에 스트림 기반으로 처리한다는 의미. -> 더 직관적인 코드 작성 가능. 또한 수행 시간 절약 가능.\n",
        "- 일반적으로 사이킷런 파이프라인은 텍스트 기반의 피처 벡터화뿐만 아니라 모든 데이터 전처리 작업과 Estimator를 결합 가능: 예를 들어 스케일링 또는 벡터 정규화, PCA 등의 변환 작업과 분류, 회귀 등의 Estimator를 한 번에 결합하는 것."
      ],
      "metadata": {
        "id": "gkj68wO9U6XJ"
      }
    },
    {
      "cell_type": "markdown",
      "source": [
        "- 위의 텍스트 분류 예제 코드를 Pipeline을 이용해 다시 작성해보면 다음과 같이 선언."
      ],
      "metadata": {
        "id": "5knGpegWYtE4"
      }
    },
    {
      "cell_type": "code",
      "source": [
        "pipeline=Pipeline([('tfidf_vect', TfidfVectorizer(stop_words='english')),('lr_clf', LogisticRegression(random_state=156))])"
      ],
      "metadata": {
        "id": "Jd96i9cjU7QX"
      },
      "execution_count": null,
      "outputs": []
    },
    {
      "cell_type": "markdown",
      "source": [
        "- TfidfVectorizer 객체를 tfidf_vect 라는 객체 변수 명으로, LogisticRegression 객체를 lr_clf 라는 객체 변수 명으로 생성한 뒤 이 두 개의 객체를 파이프라인으로 연결하는 파이프라인을 생성한다는 의미.\n",
        "\n",
        "- 다음 코드를 보면 기존 TfidfVectorizer의 학습 데이터와 테스트 데이터에 대한 fit()과 transform() 수행을 통한 피처 벡터화와 LogisticRegressor의 fit과 predict 수행을 통한 머신러닝 모델의 학습과 예측이 파이프라인의 fit과 predict로 통일돼 수행됨을 알 수 있음\n",
        "-> 머신러닝 코드 더 직관적이고 쉽게 작성"
      ],
      "metadata": {
        "id": "AUgQK3KLU8QX"
      }
    },
    {
      "cell_type": "code",
      "source": [
        "from sklearn.pipeline import Pipeline\n",
        "\n",
        "# TfidfVectorizer 객체를 tfidf_vect로, LogisticRegression 객체를 lr_clf로 생성하는 pipeline 생성\n",
        "pipeline=Pipeline([('tfidf_vect', TfidfVectorizer(stop_words='english', ngram_range=(1,2), max_df=300)),\n",
        "                   ('lr_clf', LogisticRegression(C=10))])\n",
        "\n",
        "# 별도의 TfidfVectorizer 객체의 fit, transform과 LogisticRegression의 fit, predict가 필요없음\n",
        "# Pipeline의 fit()과 predict()만으로 한꺼번에 피처 벡터화와 ML 학습/예측이 가능\n",
        "pipeline.fit(X_train, y_train)\n",
        "pred=pipeline.predict(X_test)\n",
        "print('Pipeline을 통한 LogisticRegression의 예측 정확도는 {0:.3f}'.format(accuracy_score(y_test, pred)))\n",
        "     "
      ],
      "metadata": {
        "id": "Rg7wBTDyU8dA"
      },
      "execution_count": null,
      "outputs": []
    },
    {
      "cell_type": "markdown",
      "source": [
        "- 사이킷런은 gridsearchcv 클래스의 생성 파라미터로 pipeline을 입력해 pipeline 기반에서도 하이퍼 파라미터 튜닝을 gridsearchcv 방식으로 진행할 수 있게 지원\n",
        "\n",
        "- 다음 예제는 GridSearchCV에 파이프라인을 입력하면서 tfidfVectorizer의 파라미터와 logisticregression의 하이퍼 파라미터를 함께 최적화\n",
        "\n",
        "- 문제점은 pipeline+gridsearchcv를 적용해서 모두의 파라미터를 최적화하려면 시간이 너무 오래 걸린다는 것."
      ],
      "metadata": {
        "id": "-Gry1BCgU9nb"
      }
    },
    {
      "cell_type": "code",
      "source": [
        "from sklearn.pipeline import Pipeline\n",
        "\n",
        "pipeline=Pipeline([('tfidf_vect', TfidfVectorizer(stop_words='english')),\n",
        "                   ('lr_clf', LogisticRegression())])\n",
        "\n",
        "# Pipeline에 기술된 각각의 객체 변수에 언더바 2개를 붙여 GridSearchCV에 사용될 파라미터/하이퍼 파라미터 이름과 값을 설정\n",
        "#이 때 param_grid의 입력 값 설정이 기존과 약간 다르다. 딕셔너리 키 값이 하이퍼 파라미터명이 객체 변수명과 결합돼 제공.\n",
        "#피처 벡터화 객체의 파라미터와 estimator 객체의 하이퍼 파라미터를 각각 구별할 수 있어야 하는데, 이때 개별 객체 명과 파라미터명/하이퍼 파라미터명을 결합해 키 값으로 할당하는 것.\n",
        "params={'tfidf_vect__ngram_range':[(1,1), (1,2), (1,3)],\n",
        "        'tfidf_vect__max_df':[100, 300,700],\n",
        "        'lr_clf__C':[1,5,10]}\n",
        "\n",
        "# GridSearchCV 생성자에 Estimator가 아닌 Pipeline 객체 입력\n",
        "grid_cv_pipe=GridSearchCV(pipeline, param_grid=params, cv=3, scoring='accuracy', verbose=1)\n",
        "grid_cv_pipe.fit(X_train, y_train)\n",
        "print(grid_cv_pipe.best_params_, grid_cv_pipe.best_score_)\n",
        "\n",
        "pred=grid_cv_pipe.predict(X_test)\n",
        "print('Pipeline을 통한 Logistic Regression의 예측 정확도는 {0:.3f}'.format(accuracy_score(y_test, pred)))"
      ],
      "metadata": {
        "id": "70Tm8CGLU96a"
      },
      "execution_count": null,
      "outputs": []
    },
    {
      "cell_type": "markdown",
      "source": [
        "- 교재: max_df=700, ngram_ragne=(1,2), C=10일 때 가장 좋은 검증 세트 성능 수치가 도출되며, 하이퍼 파라미터 튜닝 결과를 적용해도 크게 개선되지는 않음\n",
        "- 램 문제로 돌아가지 않음"
      ],
      "metadata": {
        "id": "KEeRwmSgZQG1"
      }
    }
  ]
}